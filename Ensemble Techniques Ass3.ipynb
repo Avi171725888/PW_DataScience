{
 "cells": [
  {
   "cell_type": "markdown",
   "id": "1a85eb82-0457-44cd-af1e-71dbcde1f886",
   "metadata": {},
   "source": [
    "Q1. What is Random Forest Regressor?"
   ]
  },
  {
   "cell_type": "markdown",
   "id": "695d5b2f-a593-48b9-97d7-857de915e922",
   "metadata": {},
   "source": [
    "Random forest regression is a supervised learning algorithm that uses an ensemble learning method for regression.\n",
    "\n",
    "Random forest is a bagging technique and not a boosting technique. The trees in random forests run in parallel, meaning there is no interaction between these trees while building the trees."
   ]
  },
  {
   "cell_type": "markdown",
   "id": "f920ac04-e3d8-4be0-8497-37248af9fd9e",
   "metadata": {},
   "source": [
    "Q2. How does Random Forest Regressor reduce the risk of overfitting?"
   ]
  },
  {
   "cell_type": "markdown",
   "id": "40417b2a-f356-4bb8-8f18-b0b0e70ca74d",
   "metadata": {},
   "source": [
    "Instead of relying on one decision tree, the random forest takes the prediction from each tree and based on the majority votes of predictions, and it predicts the final output. The greater number of trees in the forest leads to higher accuracy and prevents the problem of overfitting."
   ]
  },
  {
   "cell_type": "markdown",
   "id": "dc846f60-b2c2-42fb-8722-765ebe37ce2b",
   "metadata": {},
   "source": [
    "Q3. How does Random Forest Regressor aggregate the predictions of multiple decision trees?"
   ]
  },
  {
   "cell_type": "markdown",
   "id": "ee370dac-03fb-4412-a0e3-c6340ab02cee",
   "metadata": {},
   "source": [
    "A random forest is a meta-estimator (i.e. it combines the result of multiple predictions), which aggregates many decision trees with some helpful modifications: The number of features that can be split at each node is limited to some percentage of the total (which is known as the hyper-parameter)."
   ]
  },
  {
   "cell_type": "markdown",
   "id": "8181d8aa-5592-41ab-98d0-b0f05710364e",
   "metadata": {},
   "source": [
    "Q4. What are the hyperparameters of Random Forest Regressor?"
   ]
  },
  {
   "cell_type": "markdown",
   "id": "c790261f-8483-4019-b4d9-af2f40c49542",
   "metadata": {},
   "source": [
    "n_estimators = number of trees in the foreset\n",
    "max_features = max number of features considered for splitting a node\n",
    "max_depth = max number of levels in each decision tree\n",
    "min_samples_split = min number of data points placed in a node before the node is split\n",
    "min_samples_leaf = min number of data points allowed in a leaf node\n",
    "bootstrap = method for sampling data points (with or without replacement)"
   ]
  },
  {
   "cell_type": "markdown",
   "id": "29556b8a-5a91-4041-a5d5-694d18b9a968",
   "metadata": {},
   "source": [
    "Q5. What is the difference between Random Forest Regressor and Decision Tree Regressor?"
   ]
  },
  {
   "cell_type": "markdown",
   "id": "30552ce6-fa45-4472-b5e1-6f1db1f447cb",
   "metadata": {},
   "source": [
    "Decision Tree:-\n",
    "1.A decision tree is a tree-like model of decisions along with possible outcomes in a diagram.\n",
    "2.There is always a scope for overfitting, caused due to the presence of variance.\n",
    "3.The results are not accurate.\n",
    "4.Decision trees require low computation, thus reducing time to implement and carrying low accuracy.\n",
    "5.It is easy to visualize. The only task is to fit the decision tree model."
   ]
  },
  {
   "cell_type": "markdown",
   "id": "7e1f37e9-b805-47f1-8c05-4a9a6009ab0e",
   "metadata": {},
   "source": [
    "Tree Regressor:\n",
    "1.A classification algorithm consisting of many decision trees combined to get a more accurate result as compared to a single tree.\n",
    "2.Random forest algorithm avoids and prevents overfitting by using multiple trees.\n",
    "3.This gives accurate and precise results.\n",
    "4.This consumes more computation. The process of generation and analyzing is time-consuming. \n",
    "5.This has complex visualization as it determines the pattern behind the data."
   ]
  },
  {
   "cell_type": "markdown",
   "id": "a975b68a-934a-48ee-9c67-7c81a68d4920",
   "metadata": {},
   "source": [
    "Q6. What are the advantages and disadvantages of Random Forest Regressor?"
   ]
  },
  {
   "cell_type": "markdown",
   "id": "3eddec96-0e6a-4d43-ad64-50f17e0ae56e",
   "metadata": {},
   "source": [
    "Advantages:-\n",
    "1.High Predictive Accuracy: Random Forest is known for its high predictive accuracy. By combining multiple decision trees, it reduces overfitting and minimizes the variance of the predictions, leading to more accurate regression results.\n",
    "\n",
    "2.Robust to Outliers: Random Forest is robust to outliers and noisy data. The averaging of predictions from multiple trees helps mitigate the impact of extreme values in the dataset.\n",
    "\n",
    "3.Handles Nonlinearity: It can model complex nonlinear relationships between input features and the target variable, making it suitable for a wide range of regression problems.\n",
    "\n",
    "4.Feature Importance: Random Forest provides a feature importance score, which can help in feature selection and understanding which features have the most impact on the target variable.\n",
    "\n",
    "5.Implicit Feature Scaling: Random Forest does not require explicit feature scaling (e.g., standardization or normalization) as some other algorithms do. This can simplify the preprocessing of the data.\n",
    "\n",
    "6.Resistant to Overfitting: While individual decision trees can overfit the data, the ensemble nature of Random Forest mitigates this risk, making it a more reliable choice for complex datasets.\n",
    "\n",
    "7.Parallel Processing: Random Forest can be easily parallelized, making it suitable for handling large datasets and speeding up the training process.\n",
    "\n",
    "8.Handling Missing Data: It can handle missing data well, either by imputing missing values or by using the out-of-bag samples to make predictions."
   ]
  },
  {
   "cell_type": "markdown",
   "id": "26777063-2f68-40fe-985b-6c8de3e2bf24",
   "metadata": {},
   "source": [
    "Dis-advantages:-\n",
    "1.Black Box Model: Random Forests are often considered as black box models, meaning it can be challenging to interpret the specific decision-making process of the model, especially when there are a large number of trees in the ensemble.\n",
    "\n",
    "2.Resource Intensive: Training a Random Forest with a large number of trees can be computationally expensive and memory-intensive, especially for very large datasets.\n",
    "\n",
    "3.Lack of Smoothness: The piecewise constant nature of decision trees can lead to step-like predictions, which may not be appropriate for some regression tasks requiring smooth outputs.\n",
    "\n",
    "4.Limited Extrapolation: Random Forests are not well-suited for extrapolation beyond the range of the training data. They may not perform well when making predictions far outside the range of the observed data.\n",
    "\n",
    "5.Parameter Tuning: While Random Forests are less sensitive to hyperparameters compared to some other algorithms, they still require tuning of parameters such as the number of trees, tree depth, and minimum samples per leaf for optimal performance.\n",
    "\n",
    "6.Storage of Many Trees: If you have a very large number of trees in the ensemble, it may require substantial storage space."
   ]
  },
  {
   "cell_type": "markdown",
   "id": "c529791e-ae71-4880-b3d8-c2479238131b",
   "metadata": {},
   "source": [
    "Q7. What is the output of Random Forest Regressor?"
   ]
  },
  {
   "cell_type": "markdown",
   "id": "0fb6b30a-a2cc-4599-8558-5085659428f6",
   "metadata": {},
   "source": [
    "Average of all the models output is the output of Random forest Regressor"
   ]
  },
  {
   "cell_type": "markdown",
   "id": "24087105-5d15-44d4-b1a8-bea4e788bf7b",
   "metadata": {},
   "source": [
    "Q8. Can Random Forest Regressor be used for classification tasks?"
   ]
  },
  {
   "cell_type": "markdown",
   "id": "0c7a04d3-1c81-4eaa-895d-e5db9e12bc9d",
   "metadata": {},
   "source": [
    "It can be used for Classificaton tasks when we  use OneHotEncoder to change all the categorical features to numerical and use labelEncoder to change dependent feature."
   ]
  }
 ],
 "metadata": {
  "kernelspec": {
   "display_name": "Python 3 (ipykernel)",
   "language": "python",
   "name": "python3"
  },
  "language_info": {
   "codemirror_mode": {
    "name": "ipython",
    "version": 3
   },
   "file_extension": ".py",
   "mimetype": "text/x-python",
   "name": "python",
   "nbconvert_exporter": "python",
   "pygments_lexer": "ipython3",
   "version": "3.10.8"
  }
 },
 "nbformat": 4,
 "nbformat_minor": 5
}
