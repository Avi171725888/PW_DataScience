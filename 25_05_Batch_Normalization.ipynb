{
  "nbformat": 4,
  "nbformat_minor": 0,
  "metadata": {
    "colab": {
      "provenance": [],
      "gpuType": "T4"
    },
    "kernelspec": {
      "name": "python3",
      "display_name": "Python 3"
    },
    "language_info": {
      "name": "python"
    },
    "accelerator": "GPU"
  },
  "cells": [
    {
      "cell_type": "markdown",
      "source": [
        "Q1)Explain the concept of batch normalization in the context of Artificial Neural Networks?"
      ],
      "metadata": {
        "id": "fW1WiQTDlA5Z"
      }
    },
    {
      "cell_type": "markdown",
      "source": [
        "Batch Normalization (BN) is a technique used in the training of artificial neural networks to improve the convergence speed and stability. It was introduced by Sergey Ioffe and Christian Szegedy in their 2015 paper titled \"Batch Normalization: Accelerating Deep Network Training by Reducing Internal Covariate Shift.\"\n",
        "\n",
        "The main idea behind Batch Normalization is to normalize the input of each layer in a neural network by adjusting and scaling the activations. This is done within mini-batches during training. The normalization process helps address the issue of internal covariate shift, which is the change in the distribution of network activations due to the changing parameters during training. By stabilizing and normalizing the inputs to each layer, BN has several benefits:\n",
        "\n",
        "1. **Improved Training Speed:**\n",
        "   - Normalizing the inputs helps maintain a stable distribution of values throughout the training process, which accelerates convergence. Networks tend to converge faster, and as a result, fewer training epochs are needed.\n",
        "\n",
        "2. **Enhanced Generalization:**\n",
        "   - Batch Normalization acts as a form of regularization by adding a small amount of noise to the activations. This can reduce the reliance on dropout or other regularization techniques, improving the model's generalization to unseen data.\n",
        "\n",
        "3. **Increased Learning Rates:**\n",
        "   - Batch Normalization allows for the use of higher learning rates during training without the risk of divergence. This can further speed up the convergence process and potentially lead to better solutions.\n",
        "\n",
        "The Batch Normalization process involves the following steps for each mini-batch during training:\n",
        "\n",
        "1. **Calculate Batch Mean and Variance:**\n",
        "   - Compute the mean and variance of the activations in the mini-batch.\n",
        "\n",
        "2. **Normalize Activations:**\n",
        "   - Subtract the mean and divide by the standard deviation to normalize the activations.\n",
        "\n",
        "3. **Scale and Shift:**\n",
        "   - Introduce learnable parameters (gamma and beta) to scale and shift the normalized activations. These parameters are adjusted during the training process through backpropagation.\n",
        "\n",
        "4. **Update Running Statistics:**\n",
        "   - Maintain running averages of the mean and variance over the entire training dataset to use during inference.\n",
        "\n",
        "The batch normalization layer is typically inserted before the activation function in a neural network layer. This helps ensure that the inputs to the activation function remain centered and within a stable range.\n",
        "\n",
        "In summary, Batch Normalization is a valuable technique in neural network training that normalizes and stabilizes the activations, leading to faster convergence, improved generalization, and the ability to use higher learning rates."
      ],
      "metadata": {
        "id": "WGQa2NBjlLLa"
      }
    },
    {
      "cell_type": "markdown",
      "source": [
        " Q2)Describe the benefits of using batch normalization during training?\n"
      ],
      "metadata": {
        "id": "5FPzKI9plgo9"
      }
    },
    {
      "cell_type": "markdown",
      "source": [
        "Improved Convergence:\n",
        "\n",
        "One of the primary advantages of Batch Normalization is its ability to accelerate the convergence of neural networks. By normalizing the input to each layer, BN helps to maintain a stable distribution of values throughout the training process. This stability allows for faster convergence, meaning that the network reaches a solution or optimal weights more quickly.\n",
        "\n",
        "Stability Across Batches:\n",
        "\n",
        "BN reduces the impact of internal covariate shift by normalizing the inputs within mini-batches. This means that the distribution of activations remains more consistent across different batches during training. This stability can help the model generalize better to unseen data.\n",
        "\n",
        "Higher Learning Rates:\n",
        "\n",
        "Batch Normalization enables the use of higher learning rates during training without the risk of divergence. The stable normalization provided by BN allows for faster weight updates, which can speed up the learning process. Faster learning is particularly beneficial when training deep neural networks.\n",
        "\n",
        "Reduced Sensitivity to Weight Initialization:\n",
        "\n",
        "BN reduces the dependence on careful weight initialization. Neural networks are often sensitive to the initial values of their weights, but BN mitigates this issue by normalizing the inputs, making the training process less sensitive to the choice of initial weights.\n",
        "\n",
        "Regularization Effect:\n",
        "\n",
        "Batch Normalization introduces a slight noise during training by adding the learnable parameters (gamma and beta) to the normalized activations. This acts as a form of regularization, reducing the reliance on other regularization techniques, such as dropout. The regularization effect can help prevent overfitting.\n",
        "\n",
        "Easier Hyperparameter Tuning:\n",
        "\n",
        "BN reduces the sensitivity of neural networks to hyperparameter choices. For example, it can make the choice of learning rates less critical, allowing practitioners to experiment with a broader range of hyperparameters without as much risk of divergent behavior."
      ],
      "metadata": {
        "id": "c7pQH-Ndl08D"
      }
    },
    {
      "cell_type": "markdown",
      "source": [
        "Q3)Discuss the working principle of batch normalization, including the normalization step and the learnable\n",
        "parameters."
      ],
      "metadata": {
        "id": "3l4a_ZZVl8qd"
      }
    },
    {
      "cell_type": "markdown",
      "source": [
        "The working principle of Batch Normalization (BN) involves normalizing the inputs of each layer within a neural network during training. The process includes normalization steps and the introduction of learnable parameters to scale and shift the normalized values. Here's a detailed breakdown of the working principle:\n",
        "\n",
        "### 1. Normalization Step:\n",
        "\n",
        "**a. Calculate Batch Mean and Variance:**\n",
        "   - For each mini-batch during training, calculate the mean (\\(\\mu\\)) and variance (\\(\\sigma^2\\)) of the activations across all the examples in the batch.\n",
        "\n",
        "**b. Normalize Activations:**\n",
        "   - Normalize the activations (\\(x\\)) of the layer within the mini-batch using the calculated mean and variance:\n",
        "     \\[ \\hat{x} = \\frac{x - \\mu}{\\sqrt{\\sigma^2 + \\epsilon}} \\]\n",
        "   - Here, \\(\\epsilon\\) is a small constant added to the denominator for numerical stability.\n",
        "\n",
        "### 2. Learnable Parameters:\n",
        "\n",
        "**a. Scale and Shift:**\n",
        "   - Introduce two learnable parameters per channel or feature (\\(\\gamma\\) and \\(\\beta\\)):\n",
        "     \\[ y = \\gamma \\hat{x} + \\beta \\]\n",
        "   - \\(\\gamma\\) (scale) and \\(\\beta\\) (shift) are parameters that are learned during training through backpropagation. They allow the model to adapt and choose the most suitable scaling and shifting for the normalized activations.\n",
        "\n",
        "### 3. Update Running Statistics:\n",
        "\n",
        "While training, running averages are maintained for the mean and variance across all mini-batches to be used during inference. These running averages are updated using a moving average:\n",
        "\n",
        "\\[ \\text{Running Mean} = (1 - \\text{momentum}) \\times \\text{Running Mean} + \\text{momentum} \\times \\text{Batch Mean} \\]\n",
        "\n",
        "\\[ \\text{Running Variance} = (1 - \\text{momentum}) \\times \\text{Running Variance} + \\text{momentum} \\times \\text{Batch Variance} \\]\n",
        "\n",
        "Here, \"momentum\" is a hyperparameter (usually close to 1) that controls the weight given to the new batch statistics compared to the running averages.\n",
        "\n",
        "### Working Principle Summary:\n",
        "\n",
        "1. **Normalization:**\n",
        "   - Calculate mean and variance for each mini-batch.\n",
        "   - Normalize the activations using the mean and variance.\n",
        "\n",
        "2. **Scaling and Shifting:**\n",
        "   - Introduce learnable parameters (\\(\\gamma\\) and \\(\\beta\\)) to scale and shift the normalized activations.\n",
        "\n",
        "3. **Learnable Parameters during Training:**\n",
        "   - \\(\\gamma\\) and \\(\\beta\\) are learned during training through backpropagation.\n",
        "\n",
        "4. **Running Statistics for Inference:**\n",
        "   - Maintain running averages of mean and variance for use during inference.\n",
        "\n",
        "The normalization step ensures that the activations have a mean close to zero and a standard deviation close to one, which helps mitigate issues like internal covariate shift. The learnable parameters (\\(\\gamma\\) and \\(\\beta\\)) give the model flexibility to choose the optimal scaling and shifting for each channel, enabling faster training and improved generalization. The use of running statistics during inference ensures consistent normalization when the model is making predictions on new, unseen data."
      ],
      "metadata": {
        "id": "VbE9bSkwmAD1"
      }
    },
    {
      "cell_type": "markdown",
      "source": [
        "**Q2)Implementation**\n",
        "\n",
        "Q1.Choose a dataset of your choice (e.g., MNIST, CIAR-0) and preprocess it"
      ],
      "metadata": {
        "id": "Orynd-MQmo72"
      }
    },
    {
      "cell_type": "code",
      "source": [
        "#import all library\n",
        "import tensorflow as tf\n",
        "import pandas as pd\n",
        "import numpy as np\n",
        "import matplotlib.pyplot as plt\n",
        "import seaborn as sns\n",
        "import os\n",
        "import torch"
      ],
      "metadata": {
        "id": "WFqQ3Om3lZW_"
      },
      "execution_count": 27,
      "outputs": []
    },
    {
      "cell_type": "code",
      "source": [
        "#load the datasets\n",
        "(X_train_full,y_train_full),(X_test,y_test)=tf.keras.datasets.mnist.load_data()"
      ],
      "metadata": {
        "id": "OgbbNO0FnS62"
      },
      "execution_count": 28,
      "outputs": []
    },
    {
      "cell_type": "code",
      "source": [
        "#check shapes\n",
        "X_train_full.shape,y_train_full.shape"
      ],
      "metadata": {
        "colab": {
          "base_uri": "https://localhost:8080/"
        },
        "id": "tb9T8a9Rnq6N",
        "outputId": "f6e07108-98a1-44b6-9ab0-3b4c7722f624"
      },
      "execution_count": 29,
      "outputs": [
        {
          "output_type": "execute_result",
          "data": {
            "text/plain": [
              "((60000, 28, 28), (60000,))"
            ]
          },
          "metadata": {},
          "execution_count": 29
        }
      ]
    },
    {
      "cell_type": "code",
      "source": [
        "#check dimensions of each element\n",
        "X_train_full[0].shape\n"
      ],
      "metadata": {
        "colab": {
          "base_uri": "https://localhost:8080/"
        },
        "id": "a1Z9hXLPnwTU",
        "outputId": "da558cac-3eaa-4007-f25b-76676e7afaca"
      },
      "execution_count": 30,
      "outputs": [
        {
          "output_type": "execute_result",
          "data": {
            "text/plain": [
              "(28, 28)"
            ]
          },
          "metadata": {},
          "execution_count": 30
        }
      ]
    },
    {
      "cell_type": "markdown",
      "source": [
        "Q2)Implement a simple feedforward neural network using any deep learning framework/library (e.g.,Tensorlow, xyTorch)r"
      ],
      "metadata": {
        "id": "C_IE6yf4s5_E"
      }
    },
    {
      "cell_type": "code",
      "source": [
        "#split train and test data from full data\n",
        "X_valid,X_train=X_train_full[:5000]/255.0,X_train_full[5000:]/255.0\n",
        "y_valid,y_train=y_train_full[:5000],y_train_full[5000:]\n",
        "X_test=X_test/255.0"
      ],
      "metadata": {
        "id": "xSrpnfP3onxN"
      },
      "execution_count": 31,
      "outputs": []
    },
    {
      "cell_type": "code",
      "source": [
        "#plot the img\n",
        "plt.imshow(X_train[0],cmap=\"binary\")"
      ],
      "metadata": {
        "colab": {
          "base_uri": "https://localhost:8080/",
          "height": 447
        },
        "id": "cj5V3wjhqRs-",
        "outputId": "90cde9ea-77da-40cf-ad43-137faa0eb230"
      },
      "execution_count": 32,
      "outputs": [
        {
          "output_type": "execute_result",
          "data": {
            "text/plain": [
              "<matplotlib.image.AxesImage at 0x79b154a00370>"
            ]
          },
          "metadata": {},
          "execution_count": 32
        },
        {
          "output_type": "display_data",
          "data": {
            "text/plain": [
              "<Figure size 640x480 with 1 Axes>"
            ],
            "image/png": "[encoded data removed]"
          },
          "metadata": {}
        }
      ]
    },
    {
      "cell_type": "code",
      "source": [
        "plt.figure(figsize=(15,15))\n",
        "sns.heatmap(X_train[0],annot=True,cmap=\"binary\")"
      ],
      "metadata": {
        "colab": {
          "base_uri": "https://localhost:8080/",
          "height": 1000
        },
        "id": "B2pitTzSsR2N",
        "outputId": "7248c427-2eec-49da-97d4-e4f55ae909e1"
      },
      "execution_count": 33,
      "outputs": [
        {
          "output_type": "execute_result",
          "data": {
            "text/plain": [
              "<Axes: >"
            ]
          },
          "metadata": {},
          "execution_count": 33
        },
        {
          "output_type": "display_data",
          "data": {
            "text/plain": [
              "<Figure size 1500x1500 with 2 Axes>"
            ],
            "image/png": "[encoded data removed]"
          },
          "metadata": {}
        }
      ]
    },
    {
      "cell_type": "code",
      "source": [
        "#define layers and build the model\n",
        "layers=[\n",
        "    tf.keras.layers.Flatten(name=\"inputLayer\",input_shape=[28,28]),\n",
        "    tf.keras.layers.Dense(300,activation=\"relu\",name=\"hiddenLayer1\"),\n",
        "    tf.keras.layers.Dense(100,activation=\"relu\",name=\"hiddenLayer2\"),\n",
        "    tf.keras.layers.Dense(10,activation=\"softmax\",name=\"outputlayer\"),\n",
        "]\n",
        "\n",
        "model=tf.keras.models.Sequential(layers)"
      ],
      "metadata": {
        "id": "GcbNDMLutK9F"
      },
      "execution_count": 34,
      "outputs": []
    },
    {
      "cell_type": "code",
      "source": [
        "#compile model with optimizer,loss_fn nad metric\n",
        "model.compile(optimizer=\"SGD\",loss=\"sparse_categorical_crossentropy\",metrics=['accuracy'])"
      ],
      "metadata": {
        "id": "1Rl9bLPTtpTt"
      },
      "execution_count": 35,
      "outputs": []
    },
    {
      "cell_type": "code",
      "source": [
        "model.summary()"
      ],
      "metadata": {
        "colab": {
          "base_uri": "https://localhost:8080/"
        },
        "id": "EBVSArnR0EwS",
        "outputId": "938a6080-8891-4274-dd87-2e53e1c654b9"
      },
      "execution_count": 36,
      "outputs": [
        {
          "output_type": "stream",
          "name": "stdout",
          "text": [
            "Model: \"sequential_2\"\n",
            "_________________________________________________________________\n",
            " Layer (type)                Output Shape              Param #   \n",
            "=================================================================\n",
            " inputLayer (Flatten)        (None, 784)               0         \n",
            "                                                                 \n",
            " hiddenLayer1 (Dense)        (None, 300)               235500    \n",
            "                                                                 \n",
            " hiddenLayer2 (Dense)        (None, 100)               30100     \n",
            "                                                                 \n",
            " outputlayer (Dense)         (None, 10)                1010      \n",
            "                                                                 \n",
            "=================================================================\n",
            "Total params: 266610 (1.02 MB)\n",
            "Trainable params: 266610 (1.02 MB)\n",
            "Non-trainable params: 0 (0.00 Byte)\n",
            "_________________________________________________________________\n"
          ]
        }
      ]
    },
    {
      "cell_type": "markdown",
      "source": [
        "Q3)Train the neural network on the chosen dataset without using batch normalization"
      ],
      "metadata": {
        "id": "wI4FyoPSwiIu"
      }
    },
    {
      "cell_type": "code",
      "source": [
        "#fit model without batch normalization\n",
        "history=model.fit(X_train,y_train,epochs=10,validation_data=(X_valid,y_valid),batch_size=32,verbose=2)"
      ],
      "metadata": {
        "colab": {
          "base_uri": "https://localhost:8080/"
        },
        "id": "skva3DrfweUL",
        "outputId": "7648d00d-d932-445f-a629-e80eda7a56a4"
      },
      "execution_count": 37,
      "outputs": [
        {
          "output_type": "stream",
          "name": "stdout",
          "text": [
            "Epoch 1/10\n",
            "1719/1719 - 5s - loss: 0.6235 - accuracy: 0.8373 - val_loss: 0.3081 - val_accuracy: 0.9136 - 5s/epoch - 3ms/step\n",
            "Epoch 2/10\n",
            "1719/1719 - 5s - loss: 0.2928 - accuracy: 0.9175 - val_loss: 0.2422 - val_accuracy: 0.9318 - 5s/epoch - 3ms/step\n",
            "Epoch 3/10\n",
            "1719/1719 - 7s - loss: 0.2392 - accuracy: 0.9325 - val_loss: 0.2061 - val_accuracy: 0.9434 - 7s/epoch - 4ms/step\n",
            "Epoch 4/10\n",
            "1719/1719 - 6s - loss: 0.2046 - accuracy: 0.9420 - val_loss: 0.1792 - val_accuracy: 0.9506 - 6s/epoch - 3ms/step\n",
            "Epoch 5/10\n",
            "1719/1719 - 5s - loss: 0.1786 - accuracy: 0.9499 - val_loss: 0.1652 - val_accuracy: 0.9550 - 5s/epoch - 3ms/step\n",
            "Epoch 6/10\n",
            "1719/1719 - 7s - loss: 0.1588 - accuracy: 0.9556 - val_loss: 0.1475 - val_accuracy: 0.9612 - 7s/epoch - 4ms/step\n",
            "Epoch 7/10\n",
            "1719/1719 - 6s - loss: 0.1422 - accuracy: 0.9598 - val_loss: 0.1395 - val_accuracy: 0.9616 - 6s/epoch - 3ms/step\n",
            "Epoch 8/10\n",
            "1719/1719 - 6s - loss: 0.1292 - accuracy: 0.9637 - val_loss: 0.1268 - val_accuracy: 0.9674 - 6s/epoch - 4ms/step\n",
            "Epoch 9/10\n",
            "1719/1719 - 4s - loss: 0.1173 - accuracy: 0.9670 - val_loss: 0.1208 - val_accuracy: 0.9676 - 4s/epoch - 2ms/step\n",
            "Epoch 10/10\n",
            "1719/1719 - 5s - loss: 0.1078 - accuracy: 0.9696 - val_loss: 0.1110 - val_accuracy: 0.9716 - 5s/epoch - 3ms/step\n"
          ]
        }
      ]
    },
    {
      "cell_type": "code",
      "source": [
        "pd.DataFrame(history.history)"
      ],
      "metadata": {
        "colab": {
          "base_uri": "https://localhost:8080/",
          "height": 363
        },
        "id": "DBHsgxg8w9LT",
        "outputId": "a6c4711e-60b2-49dc-bb46-e0208be383ee"
      },
      "execution_count": 38,
      "outputs": [
        {
          "output_type": "execute_result",
          "data": {
            "text/plain": [
              "       loss  accuracy  val_loss  val_accuracy\n",
              "0  0.623518  0.837291  0.308066        0.9136\n",
              "1  0.292818  0.917455  0.242170        0.9318\n",
              "2  0.239208  0.932473  0.206125        0.9434\n",
              "3  0.204623  0.941964  0.179156        0.9506\n",
              "4  0.178617  0.949927  0.165193        0.9550\n",
              "5  0.158767  0.955636  0.147456        0.9612\n",
              "6  0.142197  0.959800  0.139463        0.9616\n",
              "7  0.129229  0.963691  0.126775        0.9674\n",
              "8  0.117313  0.967018  0.120802        0.9676\n",
              "9  0.107755  0.969564  0.110973        0.9716"
            ],
            "text/html": [
              "\n",
              "  <div id=\"df-5da6086a-791b-4d31-a1b9-9b3a73a84095\" class=\"colab-df-container\">\n",
              "    <div>\n",
              "<style scoped>\n",
              "    .dataframe tbody tr th:only-of-type {\n",
              "        vertical-align: middle;\n",
              "    }\n",
              "\n",
              "    .dataframe tbody tr th {\n",
              "        vertical-align: top;\n",
              "    }\n",
              "\n",
              "    .dataframe thead th {\n",
              "        text-align: right;\n",
              "    }\n",
              "</style>\n",
              "<table border=\"1\" class=\"dataframe\">\n",
              "  <thead>\n",
              "    <tr style=\"text-align: right;\">\n",
              "      <th></th>\n",
              "      <th>loss</th>\n",
              "      <th>accuracy</th>\n",
              "      <th>val_loss</th>\n",
              "      <th>val_accuracy</th>\n",
              "    </tr>\n",
              "  </thead>\n",
              "  <tbody>\n",
              "    <tr>\n",
              "      <th>0</th>\n",
              "      <td>0.623518</td>\n",
              "      <td>0.837291</td>\n",
              "      <td>0.308066</td>\n",
              "      <td>0.9136</td>\n",
              "    </tr>\n",
              "    <tr>\n",
              "      <th>1</th>\n",
              "      <td>0.292818</td>\n",
              "      <td>0.917455</td>\n",
              "      <td>0.242170</td>\n",
              "      <td>0.9318</td>\n",
              "    </tr>\n",
              "    <tr>\n",
              "      <th>2</th>\n",
              "      <td>0.239208</td>\n",
              "      <td>0.932473</td>\n",
              "      <td>0.206125</td>\n",
              "      <td>0.9434</td>\n",
              "    </tr>\n",
              "    <tr>\n",
              "      <th>3</th>\n",
              "      <td>0.204623</td>\n",
              "      <td>0.941964</td>\n",
              "      <td>0.179156</td>\n",
              "      <td>0.9506</td>\n",
              "    </tr>\n",
              "    <tr>\n",
              "      <th>4</th>\n",
              "      <td>0.178617</td>\n",
              "      <td>0.949927</td>\n",
              "      <td>0.165193</td>\n",
              "      <td>0.9550</td>\n",
              "    </tr>\n",
              "    <tr>\n",
              "      <th>5</th>\n",
              "      <td>0.158767</td>\n",
              "      <td>0.955636</td>\n",
              "      <td>0.147456</td>\n",
              "      <td>0.9612</td>\n",
              "    </tr>\n",
              "    <tr>\n",
              "      <th>6</th>\n",
              "      <td>0.142197</td>\n",
              "      <td>0.959800</td>\n",
              "      <td>0.139463</td>\n",
              "      <td>0.9616</td>\n",
              "    </tr>\n",
              "    <tr>\n",
              "      <th>7</th>\n",
              "      <td>0.129229</td>\n",
              "      <td>0.963691</td>\n",
              "      <td>0.126775</td>\n",
              "      <td>0.9674</td>\n",
              "    </tr>\n",
              "    <tr>\n",
              "      <th>8</th>\n",
              "      <td>0.117313</td>\n",
              "      <td>0.967018</td>\n",
              "      <td>0.120802</td>\n",
              "      <td>0.9676</td>\n",
              "    </tr>\n",
              "    <tr>\n",
              "      <th>9</th>\n",
              "      <td>0.107755</td>\n",
              "      <td>0.969564</td>\n",
              "      <td>0.110973</td>\n",
              "      <td>0.9716</td>\n",
              "    </tr>\n",
              "  </tbody>\n",
              "</table>\n",
              "</div>\n",
              "    <div class=\"colab-df-buttons\">\n",
              "\n",
              "  <div class=\"colab-df-container\">\n",
              "    <button class=\"colab-df-convert\" onclick=\"convertToInteractive('df-5da6086a-791b-4d31-a1b9-9b3a73a84095')\"\n",
              "            title=\"Convert this dataframe to an interactive table.\"\n",
              "            style=\"display:none;\">\n",
              "\n",
              "  <svg xmlns=\"http://www.w3.org/2000/svg\" height=\"24px\" viewBox=\"0 -960 960 960\">\n",
              "    <path d=\"M120-120v-720h720v720H120Zm60-500h600v-160H180v160Zm220 220h160v-160H400v160Zm0 220h160v-160H400v160ZM180-400h160v-160H180v160Zm440 0h160v-160H620v160ZM180-180h160v-160H180v160Zm440 0h160v-160H620v160Z\"/>\n",
              "  </svg>\n",
              "    </button>\n",
              "\n",
              "  <style>\n",
              "    .colab-df-container {\n",
              "      display:flex;\n",
              "      gap: 12px;\n",
              "    }\n",
              "\n",
              "    .colab-df-convert {\n",
              "      background-color: #E8F0FE;\n",
              "      border: none;\n",
              "      border-radius: 50%;\n",
              "      cursor: pointer;\n",
              "      display: none;\n",
              "      fill: #1967D2;\n",
              "      height: 32px;\n",
              "      padding: 0 0 0 0;\n",
              "      width: 32px;\n",
              "    }\n",
              "\n",
              "    .colab-df-convert:hover {\n",
              "      background-color: #E2EBFA;\n",
              "      box-shadow: 0px 1px 2px rgba(60, 64, 67, 0.3), 0px 1px 3px 1px rgba(60, 64, 67, 0.15);\n",
              "      fill: #174EA6;\n",
              "    }\n",
              "\n",
              "    .colab-df-buttons div {\n",
              "      margin-bottom: 4px;\n",
              "    }\n",
              "\n",
              "    [theme=dark] .colab-df-convert {\n",
              "      background-color: #3B4455;\n",
              "      fill: #D2E3FC;\n",
              "    }\n",
              "\n",
              "    [theme=dark] .colab-df-convert:hover {\n",
              "      background-color: #434B5C;\n",
              "      box-shadow: 0px 1px 3px 1px rgba(0, 0, 0, 0.15);\n",
              "      filter: drop-shadow(0px 1px 2px rgba(0, 0, 0, 0.3));\n",
              "      fill: #FFFFFF;\n",
              "    }\n",
              "  </style>\n",
              "\n",
              "    <script>\n",
              "      const buttonEl =\n",
              "        document.querySelector('#df-5da6086a-791b-4d31-a1b9-9b3a73a84095 button.colab-df-convert');\n",
              "      buttonEl.style.display =\n",
              "        google.colab.kernel.accessAllowed ? 'block' : 'none';\n",
              "\n",
              "      async function convertToInteractive(key) {\n",
              "        const element = document.querySelector('#df-5da6086a-791b-4d31-a1b9-9b3a73a84095');\n",
              "        const dataTable =\n",
              "          await google.colab.kernel.invokeFunction('convertToInteractive',\n",
              "                                                    [key], {});\n",
              "        if (!dataTable) return;\n",
              "\n",
              "        const docLinkHtml = 'Like what you see? Visit the ' +\n",
              "          '<a target=\"_blank\" href=https://colab.research.google.com/notebooks/data_table.ipynb>data table notebook</a>'\n",
              "          + ' to learn more about interactive tables.';\n",
              "        element.innerHTML = '';\n",
              "        dataTable['output_type'] = 'display_data';\n",
              "        await google.colab.output.renderOutput(dataTable, element);\n",
              "        const docLink = document.createElement('div');\n",
              "        docLink.innerHTML = docLinkHtml;\n",
              "        element.appendChild(docLink);\n",
              "      }\n",
              "    </script>\n",
              "  </div>\n",
              "\n",
              "\n",
              "<div id=\"df-d2797454-bf05-4306-a0d2-5ceba8390bd0\">\n",
              "  <button class=\"colab-df-quickchart\" onclick=\"quickchart('df-d2797454-bf05-4306-a0d2-5ceba8390bd0')\"\n",
              "            title=\"Suggest charts\"\n",
              "            style=\"display:none;\">\n",
              "\n",
              "<svg xmlns=\"http://www.w3.org/2000/svg\" height=\"24px\"viewBox=\"0 0 24 24\"\n",
              "     width=\"24px\">\n",
              "    <g>\n",
              "        <path d=\"M19 3H5c-1.1 0-2 .9-2 2v14c0 1.1.9 2 2 2h14c1.1 0 2-.9 2-2V5c0-1.1-.9-2-2-2zM9 17H7v-7h2v7zm4 0h-2V7h2v10zm4 0h-2v-4h2v4z\"/>\n",
              "    </g>\n",
              "</svg>\n",
              "  </button>\n",
              "\n",
              "<style>\n",
              "  .colab-df-quickchart {\n",
              "      --bg-color: #E8F0FE;\n",
              "      --fill-color: #1967D2;\n",
              "      --hover-bg-color: #E2EBFA;\n",
              "      --hover-fill-color: #174EA6;\n",
              "      --disabled-fill-color: #AAA;\n",
              "      --disabled-bg-color: #DDD;\n",
              "  }\n",
              "\n",
              "  [theme=dark] .colab-df-quickchart {\n",
              "      --bg-color: #3B4455;\n",
              "      --fill-color: #D2E3FC;\n",
              "      --hover-bg-color: #434B5C;\n",
              "      --hover-fill-color: #FFFFFF;\n",
              "      --disabled-bg-color: #3B4455;\n",
              "      --disabled-fill-color: #666;\n",
              "  }\n",
              "\n",
              "  .colab-df-quickchart {\n",
              "    background-color: var(--bg-color);\n",
              "    border: none;\n",
              "    border-radius: 50%;\n",
              "    cursor: pointer;\n",
              "    display: none;\n",
              "    fill: var(--fill-color);\n",
              "    height: 32px;\n",
              "    padding: 0;\n",
              "    width: 32px;\n",
              "  }\n",
              "\n",
              "  .colab-df-quickchart:hover {\n",
              "    background-color: var(--hover-bg-color);\n",
              "    box-shadow: 0 1px 2px rgba(60, 64, 67, 0.3), 0 1px 3px 1px rgba(60, 64, 67, 0.15);\n",
              "    fill: var(--button-hover-fill-color);\n",
              "  }\n",
              "\n",
              "  .colab-df-quickchart-complete:disabled,\n",
              "  .colab-df-quickchart-complete:disabled:hover {\n",
              "    background-color: var(--disabled-bg-color);\n",
              "    fill: var(--disabled-fill-color);\n",
              "    box-shadow: none;\n",
              "  }\n",
              "\n",
              "  .colab-df-spinner {\n",
              "    border: 2px solid var(--fill-color);\n",
              "    border-color: transparent;\n",
              "    border-bottom-color: var(--fill-color);\n",
              "    animation:\n",
              "      spin 1s steps(1) infinite;\n",
              "  }\n",
              "\n",
              "  @keyframes spin {\n",
              "    0% {\n",
              "      border-color: transparent;\n",
              "      border-bottom-color: var(--fill-color);\n",
              "      border-left-color: var(--fill-color);\n",
              "    }\n",
              "    20% {\n",
              "      border-color: transparent;\n",
              "      border-left-color: var(--fill-color);\n",
              "      border-top-color: var(--fill-color);\n",
              "    }\n",
              "    30% {\n",
              "      border-color: transparent;\n",
              "      border-left-color: var(--fill-color);\n",
              "      border-top-color: var(--fill-color);\n",
              "      border-right-color: var(--fill-color);\n",
              "    }\n",
              "    40% {\n",
              "      border-color: transparent;\n",
              "      border-right-color: var(--fill-color);\n",
              "      border-top-color: var(--fill-color);\n",
              "    }\n",
              "    60% {\n",
              "      border-color: transparent;\n",
              "      border-right-color: var(--fill-color);\n",
              "    }\n",
              "    80% {\n",
              "      border-color: transparent;\n",
              "      border-right-color: var(--fill-color);\n",
              "      border-bottom-color: var(--fill-color);\n",
              "    }\n",
              "    90% {\n",
              "      border-color: transparent;\n",
              "      border-bottom-color: var(--fill-color);\n",
              "    }\n",
              "  }\n",
              "</style>\n",
              "\n",
              "  <script>\n",
              "    async function quickchart(key) {\n",
              "      const quickchartButtonEl =\n",
              "        document.querySelector('#' + key + ' button');\n",
              "      quickchartButtonEl.disabled = true;  // To prevent multiple clicks.\n",
              "      quickchartButtonEl.classList.add('colab-df-spinner');\n",
              "      try {\n",
              "        const charts = await google.colab.kernel.invokeFunction(\n",
              "            'suggestCharts', [key], {});\n",
              "      } catch (error) {\n",
              "        console.error('Error during call to suggestCharts:', error);\n",
              "      }\n",
              "      quickchartButtonEl.classList.remove('colab-df-spinner');\n",
              "      quickchartButtonEl.classList.add('colab-df-quickchart-complete');\n",
              "    }\n",
              "    (() => {\n",
              "      let quickchartButtonEl =\n",
              "        document.querySelector('#df-d2797454-bf05-4306-a0d2-5ceba8390bd0 button');\n",
              "      quickchartButtonEl.style.display =\n",
              "        google.colab.kernel.accessAllowed ? 'block' : 'none';\n",
              "    })();\n",
              "  </script>\n",
              "</div>\n",
              "\n",
              "    </div>\n",
              "  </div>\n"
            ]
          },
          "metadata": {},
          "execution_count": 38
        }
      ]
    },
    {
      "cell_type": "code",
      "source": [
        "#plot accuracy\n",
        "pd.DataFrame(history.history).plot()"
      ],
      "metadata": {
        "colab": {
          "base_uri": "https://localhost:8080/",
          "height": 447
        },
        "id": "Rzs5DM9lzD7N",
        "outputId": "b5d3def5-dfad-427e-9056-b6a867b95ca9"
      },
      "execution_count": 39,
      "outputs": [
        {
          "output_type": "execute_result",
          "data": {
            "text/plain": [
              "<Axes: >"
            ]
          },
          "metadata": {},
          "execution_count": 39
        },
        {
          "output_type": "display_data",
          "data": {
            "text/plain": [
              "<Figure size 640x480 with 1 Axes>"
            ],
            "image/png": "[encoded data removed]"
          },
          "metadata": {}
        }
      ]
    },
    {
      "cell_type": "markdown",
      "source": [
        "Q4.Implement batch normalization layers in the neural network and train the model again"
      ],
      "metadata": {
        "id": "zINwXBdX1LL6"
      }
    },
    {
      "cell_type": "code",
      "source": [
        "#make model with batch normalization\n",
        "layers=[\n",
        "    tf.keras.layers.Flatten(name=\"inputLayer\",input_shape=[28,28]),\n",
        "    tf.keras.layers.Dense(300,activation=\"relu\",name=\"hiddenLayer1\"),\n",
        "    tf.keras.layers.BatchNormalization(),\n",
        "    tf.keras.layers.Dense(100,activation=\"relu\",name=\"hiddenLayer2\"),\n",
        "    tf.keras.layers.BatchNormalization(),\n",
        "    tf.keras.layers.Dense(10,activation=\"softmax\",name=\"outputlayer\"),\n",
        "]\n",
        "\n",
        "model=tf.keras.models.Sequential(layers)"
      ],
      "metadata": {
        "id": "FQUvWUPf1KOk"
      },
      "execution_count": 40,
      "outputs": []
    },
    {
      "cell_type": "code",
      "source": [
        "#compile model with optimizer,loss_fn nad metric\n",
        "model.compile(optimizer=\"SGD\",loss=\"sparse_categorical_crossentropy\",metrics=['accuracy'])"
      ],
      "metadata": {
        "id": "sehiDEoizQ6n"
      },
      "execution_count": 41,
      "outputs": []
    },
    {
      "cell_type": "code",
      "source": [
        "#fit model with batch normalization\n",
        "history=model.fit(X_train,y_train,epochs=10,validation_data=(X_valid,y_valid),batch_size=32,verbose=2)"
      ],
      "metadata": {
        "colab": {
          "base_uri": "https://localhost:8080/"
        },
        "id": "OaEvc6jl1kF9",
        "outputId": "cc74840d-f72d-47d4-db48-368755d1994a"
      },
      "execution_count": 42,
      "outputs": [
        {
          "output_type": "stream",
          "name": "stdout",
          "text": [
            "Epoch 1/10\n",
            "1719/1719 - 8s - loss: 0.3307 - accuracy: 0.9036 - val_loss: 0.1488 - val_accuracy: 0.9586 - 8s/epoch - 5ms/step\n",
            "Epoch 2/10\n",
            "1719/1719 - 6s - loss: 0.1614 - accuracy: 0.9529 - val_loss: 0.1137 - val_accuracy: 0.9678 - 6s/epoch - 4ms/step\n",
            "Epoch 3/10\n",
            "1719/1719 - 6s - loss: 0.1203 - accuracy: 0.9651 - val_loss: 0.0983 - val_accuracy: 0.9722 - 6s/epoch - 3ms/step\n",
            "Epoch 4/10\n",
            "1719/1719 - 9s - loss: 0.0942 - accuracy: 0.9727 - val_loss: 0.0888 - val_accuracy: 0.9740 - 9s/epoch - 5ms/step\n",
            "Epoch 5/10\n",
            "1719/1719 - 8s - loss: 0.0777 - accuracy: 0.9774 - val_loss: 0.0841 - val_accuracy: 0.9764 - 8s/epoch - 5ms/step\n",
            "Epoch 6/10\n",
            "1719/1719 - 7s - loss: 0.0638 - accuracy: 0.9814 - val_loss: 0.0797 - val_accuracy: 0.9774 - 7s/epoch - 4ms/step\n",
            "Epoch 7/10\n",
            "1719/1719 - 8s - loss: 0.0555 - accuracy: 0.9838 - val_loss: 0.0777 - val_accuracy: 0.9798 - 8s/epoch - 5ms/step\n",
            "Epoch 8/10\n",
            "1719/1719 - 7s - loss: 0.0472 - accuracy: 0.9867 - val_loss: 0.0735 - val_accuracy: 0.9784 - 7s/epoch - 4ms/step\n",
            "Epoch 9/10\n",
            "1719/1719 - 8s - loss: 0.0403 - accuracy: 0.9887 - val_loss: 0.0733 - val_accuracy: 0.9786 - 8s/epoch - 4ms/step\n",
            "Epoch 10/10\n",
            "1719/1719 - 8s - loss: 0.0359 - accuracy: 0.9905 - val_loss: 0.0747 - val_accuracy: 0.9780 - 8s/epoch - 5ms/step\n"
          ]
        }
      ]
    },
    {
      "cell_type": "code",
      "source": [
        "#make table\n",
        "pd.DataFrame(history.history)"
      ],
      "metadata": {
        "colab": {
          "base_uri": "https://localhost:8080/",
          "height": 363
        },
        "id": "TOHsqU6w1-pt",
        "outputId": "8d4aad2b-5274-451c-b714-eebbf00240ca"
      },
      "execution_count": 43,
      "outputs": [
        {
          "output_type": "execute_result",
          "data": {
            "text/plain": [
              "       loss  accuracy  val_loss  val_accuracy\n",
              "0  0.330652  0.903582  0.148773        0.9586\n",
              "1  0.161376  0.952891  0.113706        0.9678\n",
              "2  0.120314  0.965109  0.098320        0.9722\n",
              "3  0.094219  0.972745  0.088827        0.9740\n",
              "4  0.077664  0.977382  0.084077        0.9764\n",
              "5  0.063782  0.981400  0.079705        0.9774\n",
              "6  0.055548  0.983836  0.077739        0.9798\n",
              "7  0.047235  0.986745  0.073462        0.9784\n",
              "8  0.040294  0.988727  0.073307        0.9786\n",
              "9  0.035938  0.990509  0.074745        0.9780"
            ],
            "text/html": [
              "\n",
              "  <div id=\"df-b053115c-c296-4757-ba76-1496661222dd\" class=\"colab-df-container\">\n",
              "    <div>\n",
              "<style scoped>\n",
              "    .dataframe tbody tr th:only-of-type {\n",
              "        vertical-align: middle;\n",
              "    }\n",
              "\n",
              "    .dataframe tbody tr th {\n",
              "        vertical-align: top;\n",
              "    }\n",
              "\n",
              "    .dataframe thead th {\n",
              "        text-align: right;\n",
              "    }\n",
              "</style>\n",
              "<table border=\"1\" class=\"dataframe\">\n",
              "  <thead>\n",
              "    <tr style=\"text-align: right;\">\n",
              "      <th></th>\n",
              "      <th>loss</th>\n",
              "      <th>accuracy</th>\n",
              "      <th>val_loss</th>\n",
              "      <th>val_accuracy</th>\n",
              "    </tr>\n",
              "  </thead>\n",
              "  <tbody>\n",
              "    <tr>\n",
              "      <th>0</th>\n",
              "      <td>0.330652</td>\n",
              "      <td>0.903582</td>\n",
              "      <td>0.148773</td>\n",
              "      <td>0.9586</td>\n",
              "    </tr>\n",
              "    <tr>\n",
              "      <th>1</th>\n",
              "      <td>0.161376</td>\n",
              "      <td>0.952891</td>\n",
              "      <td>0.113706</td>\n",
              "      <td>0.9678</td>\n",
              "    </tr>\n",
              "    <tr>\n",
              "      <th>2</th>\n",
              "      <td>0.120314</td>\n",
              "      <td>0.965109</td>\n",
              "      <td>0.098320</td>\n",
              "      <td>0.9722</td>\n",
              "    </tr>\n",
              "    <tr>\n",
              "      <th>3</th>\n",
              "      <td>0.094219</td>\n",
              "      <td>0.972745</td>\n",
              "      <td>0.088827</td>\n",
              "      <td>0.9740</td>\n",
              "    </tr>\n",
              "    <tr>\n",
              "      <th>4</th>\n",
              "      <td>0.077664</td>\n",
              "      <td>0.977382</td>\n",
              "      <td>0.084077</td>\n",
              "      <td>0.9764</td>\n",
              "    </tr>\n",
              "    <tr>\n",
              "      <th>5</th>\n",
              "      <td>0.063782</td>\n",
              "      <td>0.981400</td>\n",
              "      <td>0.079705</td>\n",
              "      <td>0.9774</td>\n",
              "    </tr>\n",
              "    <tr>\n",
              "      <th>6</th>\n",
              "      <td>0.055548</td>\n",
              "      <td>0.983836</td>\n",
              "      <td>0.077739</td>\n",
              "      <td>0.9798</td>\n",
              "    </tr>\n",
              "    <tr>\n",
              "      <th>7</th>\n",
              "      <td>0.047235</td>\n",
              "      <td>0.986745</td>\n",
              "      <td>0.073462</td>\n",
              "      <td>0.9784</td>\n",
              "    </tr>\n",
              "    <tr>\n",
              "      <th>8</th>\n",
              "      <td>0.040294</td>\n",
              "      <td>0.988727</td>\n",
              "      <td>0.073307</td>\n",
              "      <td>0.9786</td>\n",
              "    </tr>\n",
              "    <tr>\n",
              "      <th>9</th>\n",
              "      <td>0.035938</td>\n",
              "      <td>0.990509</td>\n",
              "      <td>0.074745</td>\n",
              "      <td>0.9780</td>\n",
              "    </tr>\n",
              "  </tbody>\n",
              "</table>\n",
              "</div>\n",
              "    <div class=\"colab-df-buttons\">\n",
              "\n",
              "  <div class=\"colab-df-container\">\n",
              "    <button class=\"colab-df-convert\" onclick=\"convertToInteractive('df-b053115c-c296-4757-ba76-1496661222dd')\"\n",
              "            title=\"Convert this dataframe to an interactive table.\"\n",
              "            style=\"display:none;\">\n",
              "\n",
              "  <svg xmlns=\"http://www.w3.org/2000/svg\" height=\"24px\" viewBox=\"0 -960 960 960\">\n",
              "    <path d=\"M120-120v-720h720v720H120Zm60-500h600v-160H180v160Zm220 220h160v-160H400v160Zm0 220h160v-160H400v160ZM180-400h160v-160H180v160Zm440 0h160v-160H620v160ZM180-180h160v-160H180v160Zm440 0h160v-160H620v160Z\"/>\n",
              "  </svg>\n",
              "    </button>\n",
              "\n",
              "  <style>\n",
              "    .colab-df-container {\n",
              "      display:flex;\n",
              "      gap: 12px;\n",
              "    }\n",
              "\n",
              "    .colab-df-convert {\n",
              "      background-color: #E8F0FE;\n",
              "      border: none;\n",
              "      border-radius: 50%;\n",
              "      cursor: pointer;\n",
              "      display: none;\n",
              "      fill: #1967D2;\n",
              "      height: 32px;\n",
              "      padding: 0 0 0 0;\n",
              "      width: 32px;\n",
              "    }\n",
              "\n",
              "    .colab-df-convert:hover {\n",
              "      background-color: #E2EBFA;\n",
              "      box-shadow: 0px 1px 2px rgba(60, 64, 67, 0.3), 0px 1px 3px 1px rgba(60, 64, 67, 0.15);\n",
              "      fill: #174EA6;\n",
              "    }\n",
              "\n",
              "    .colab-df-buttons div {\n",
              "      margin-bottom: 4px;\n",
              "    }\n",
              "\n",
              "    [theme=dark] .colab-df-convert {\n",
              "      background-color: #3B4455;\n",
              "      fill: #D2E3FC;\n",
              "    }\n",
              "\n",
              "    [theme=dark] .colab-df-convert:hover {\n",
              "      background-color: #434B5C;\n",
              "      box-shadow: 0px 1px 3px 1px rgba(0, 0, 0, 0.15);\n",
              "      filter: drop-shadow(0px 1px 2px rgba(0, 0, 0, 0.3));\n",
              "      fill: #FFFFFF;\n",
              "    }\n",
              "  </style>\n",
              "\n",
              "    <script>\n",
              "      const buttonEl =\n",
              "        document.querySelector('#df-b053115c-c296-4757-ba76-1496661222dd button.colab-df-convert');\n",
              "      buttonEl.style.display =\n",
              "        google.colab.kernel.accessAllowed ? 'block' : 'none';\n",
              "\n",
              "      async function convertToInteractive(key) {\n",
              "        const element = document.querySelector('#df-b053115c-c296-4757-ba76-1496661222dd');\n",
              "        const dataTable =\n",
              "          await google.colab.kernel.invokeFunction('convertToInteractive',\n",
              "                                                    [key], {});\n",
              "        if (!dataTable) return;\n",
              "\n",
              "        const docLinkHtml = 'Like what you see? Visit the ' +\n",
              "          '<a target=\"_blank\" href=https://colab.research.google.com/notebooks/data_table.ipynb>data table notebook</a>'\n",
              "          + ' to learn more about interactive tables.';\n",
              "        element.innerHTML = '';\n",
              "        dataTable['output_type'] = 'display_data';\n",
              "        await google.colab.output.renderOutput(dataTable, element);\n",
              "        const docLink = document.createElement('div');\n",
              "        docLink.innerHTML = docLinkHtml;\n",
              "        element.appendChild(docLink);\n",
              "      }\n",
              "    </script>\n",
              "  </div>\n",
              "\n",
              "\n",
              "<div id=\"df-4d226319-8480-4748-abe4-204cdfa54aff\">\n",
              "  <button class=\"colab-df-quickchart\" onclick=\"quickchart('df-4d226319-8480-4748-abe4-204cdfa54aff')\"\n",
              "            title=\"Suggest charts\"\n",
              "            style=\"display:none;\">\n",
              "\n",
              "<svg xmlns=\"http://www.w3.org/2000/svg\" height=\"24px\"viewBox=\"0 0 24 24\"\n",
              "     width=\"24px\">\n",
              "    <g>\n",
              "        <path d=\"M19 3H5c-1.1 0-2 .9-2 2v14c0 1.1.9 2 2 2h14c1.1 0 2-.9 2-2V5c0-1.1-.9-2-2-2zM9 17H7v-7h2v7zm4 0h-2V7h2v10zm4 0h-2v-4h2v4z\"/>\n",
              "    </g>\n",
              "</svg>\n",
              "  </button>\n",
              "\n",
              "<style>\n",
              "  .colab-df-quickchart {\n",
              "      --bg-color: #E8F0FE;\n",
              "      --fill-color: #1967D2;\n",
              "      --hover-bg-color: #E2EBFA;\n",
              "      --hover-fill-color: #174EA6;\n",
              "      --disabled-fill-color: #AAA;\n",
              "      --disabled-bg-color: #DDD;\n",
              "  }\n",
              "\n",
              "  [theme=dark] .colab-df-quickchart {\n",
              "      --bg-color: #3B4455;\n",
              "      --fill-color: #D2E3FC;\n",
              "      --hover-bg-color: #434B5C;\n",
              "      --hover-fill-color: #FFFFFF;\n",
              "      --disabled-bg-color: #3B4455;\n",
              "      --disabled-fill-color: #666;\n",
              "  }\n",
              "\n",
              "  .colab-df-quickchart {\n",
              "    background-color: var(--bg-color);\n",
              "    border: none;\n",
              "    border-radius: 50%;\n",
              "    cursor: pointer;\n",
              "    display: none;\n",
              "    fill: var(--fill-color);\n",
              "    height: 32px;\n",
              "    padding: 0;\n",
              "    width: 32px;\n",
              "  }\n",
              "\n",
              "  .colab-df-quickchart:hover {\n",
              "    background-color: var(--hover-bg-color);\n",
              "    box-shadow: 0 1px 2px rgba(60, 64, 67, 0.3), 0 1px 3px 1px rgba(60, 64, 67, 0.15);\n",
              "    fill: var(--button-hover-fill-color);\n",
              "  }\n",
              "\n",
              "  .colab-df-quickchart-complete:disabled,\n",
              "  .colab-df-quickchart-complete:disabled:hover {\n",
              "    background-color: var(--disabled-bg-color);\n",
              "    fill: var(--disabled-fill-color);\n",
              "    box-shadow: none;\n",
              "  }\n",
              "\n",
              "  .colab-df-spinner {\n",
              "    border: 2px solid var(--fill-color);\n",
              "    border-color: transparent;\n",
              "    border-bottom-color: var(--fill-color);\n",
              "    animation:\n",
              "      spin 1s steps(1) infinite;\n",
              "  }\n",
              "\n",
              "  @keyframes spin {\n",
              "    0% {\n",
              "      border-color: transparent;\n",
              "      border-bottom-color: var(--fill-color);\n",
              "      border-left-color: var(--fill-color);\n",
              "    }\n",
              "    20% {\n",
              "      border-color: transparent;\n",
              "      border-left-color: var(--fill-color);\n",
              "      border-top-color: var(--fill-color);\n",
              "    }\n",
              "    30% {\n",
              "      border-color: transparent;\n",
              "      border-left-color: var(--fill-color);\n",
              "      border-top-color: var(--fill-color);\n",
              "      border-right-color: var(--fill-color);\n",
              "    }\n",
              "    40% {\n",
              "      border-color: transparent;\n",
              "      border-right-color: var(--fill-color);\n",
              "      border-top-color: var(--fill-color);\n",
              "    }\n",
              "    60% {\n",
              "      border-color: transparent;\n",
              "      border-right-color: var(--fill-color);\n",
              "    }\n",
              "    80% {\n",
              "      border-color: transparent;\n",
              "      border-right-color: var(--fill-color);\n",
              "      border-bottom-color: var(--fill-color);\n",
              "    }\n",
              "    90% {\n",
              "      border-color: transparent;\n",
              "      border-bottom-color: var(--fill-color);\n",
              "    }\n",
              "  }\n",
              "</style>\n",
              "\n",
              "  <script>\n",
              "    async function quickchart(key) {\n",
              "      const quickchartButtonEl =\n",
              "        document.querySelector('#' + key + ' button');\n",
              "      quickchartButtonEl.disabled = true;  // To prevent multiple clicks.\n",
              "      quickchartButtonEl.classList.add('colab-df-spinner');\n",
              "      try {\n",
              "        const charts = await google.colab.kernel.invokeFunction(\n",
              "            'suggestCharts', [key], {});\n",
              "      } catch (error) {\n",
              "        console.error('Error during call to suggestCharts:', error);\n",
              "      }\n",
              "      quickchartButtonEl.classList.remove('colab-df-spinner');\n",
              "      quickchartButtonEl.classList.add('colab-df-quickchart-complete');\n",
              "    }\n",
              "    (() => {\n",
              "      let quickchartButtonEl =\n",
              "        document.querySelector('#df-4d226319-8480-4748-abe4-204cdfa54aff button');\n",
              "      quickchartButtonEl.style.display =\n",
              "        google.colab.kernel.accessAllowed ? 'block' : 'none';\n",
              "    })();\n",
              "  </script>\n",
              "</div>\n",
              "\n",
              "    </div>\n",
              "  </div>\n"
            ]
          },
          "metadata": {},
          "execution_count": 43
        }
      ]
    },
    {
      "cell_type": "markdown",
      "source": [
        "Q5)Compare the training and validation performance (e.g., accuracy, loss) between the models with and without batch normalization?\n"
      ],
      "metadata": {
        "id": "xJJ0GHLI1xNz"
      }
    },
    {
      "cell_type": "markdown",
      "source": [
        "Model gives accuracy without Batch Normalization:-96.70%\n",
        "Model gives accuracy with Batch Normalization:-99.05%"
      ],
      "metadata": {
        "id": "HE7GYG9V13jt"
      }
    },
    {
      "cell_type": "code",
      "source": [
        "#plot accuracy\n",
        "pd.DataFrame(history.history).plot()"
      ],
      "metadata": {
        "colab": {
          "base_uri": "https://localhost:8080/",
          "height": 447
        },
        "id": "vzFiRHIY1wfN",
        "outputId": "1f41d4f6-6237-4724-ff2a-116c3b769872"
      },
      "execution_count": 44,
      "outputs": [
        {
          "output_type": "execute_result",
          "data": {
            "text/plain": [
              "<Axes: >"
            ]
          },
          "metadata": {},
          "execution_count": 44
        },
        {
          "output_type": "display_data",
          "data": {
            "text/plain": [
              "<Figure size 640x480 with 1 Axes>"
            ],
            "image/png": "[encoded data removed]"
          },
          "metadata": {}
        }
      ]
    },
    {
      "cell_type": "markdown",
      "source": [
        "Q6)Discuss the impact of batch normalization on the training process and the performance of the neural network."
      ],
      "metadata": {
        "id": "LNbaAzQO2mAR"
      }
    },
    {
      "cell_type": "markdown",
      "source": [
        "Improved Convergence Speed:\n",
        "\n",
        "Batch Normalization normalizes the inputs of each layer to have zero mean and unit variance. This helps in stabilizing the learning process and reduces the vanishing/exploding gradient problems.\n",
        "The normalization of inputs across mini-batches allows for smoother and faster convergence during training. Neural networks with Batch Normalization tend to require fewer epochs to achieve similar or better performance compared to networks without it.\n",
        "\n",
        "Increased Learning Rates:\n",
        "\n",
        "Batch Normalization allows for the use of higher learning rates without the risk of divergence. The normalization process mitigates the impact of large weight updates, enabling more aggressive optimization.\n",
        "\n",
        "Reduced Sensitivity to Initialization:\n",
        "\n",
        "Neural networks are sensitive to weight initialization. Batch Normalization reduces this sensitivity by normalizing inputs, making the network less dependent on the choice of initial weights.\n",
        "\n",
        "Regularization Effect:\n",
        "\n",
        "Batch Normalization has an intrinsic regularization effect, acting as a form of noise during training. This can help prevent overfitting to the training data, leading to improved generalization to unseen data.\n",
        "\n",
        "Addressing Internal Covariate Shift:\n",
        "\n",
        "Internal covariate shift occurs when the distribution of the inputs to a layer changes during training, making it harder for the network to learn. Batch Normalization mitigates this by normalizing the inputs, maintaining a more stable distribution throughout training.\n",
        "\n",
        "Facilitates Deeper Networks:\n",
        "\n",
        "Batch Normalization allows for the training of deeper neural networks. It helps in mitigating issues related to vanishing or exploding gradients, which are common challenges in deep networks."
      ],
      "metadata": {
        "id": "lUUrOuPG3BS5"
      }
    },
    {
      "cell_type": "markdown",
      "source": [
        "Q3. Experimentation and Analysis.\n"
      ],
      "metadata": {
        "id": "fBkVbS4I3Lju"
      }
    },
    {
      "cell_type": "markdown",
      "source": [
        "Q1.Experiment with different batch sizes and observe the effect on the training dynamics and model performance"
      ],
      "metadata": {
        "id": "_j4aEtYL3Vy5"
      }
    },
    {
      "cell_type": "code",
      "source": [
        "#fit model with different batch size\n",
        "history=model.fit(X_train,y_train,epochs=10,validation_data=(X_valid,y_valid),batch_size=10,verbose=2)"
      ],
      "metadata": {
        "colab": {
          "base_uri": "https://localhost:8080/"
        },
        "id": "pHghdiDJ2peE",
        "outputId": "178dd65d-3599-4f5f-d021-5ae082ed019f"
      },
      "execution_count": 45,
      "outputs": [
        {
          "output_type": "stream",
          "name": "stdout",
          "text": [
            "Epoch 1/10\n",
            "5500/5500 - 20s - loss: 0.1810 - accuracy: 0.9425 - val_loss: 0.1008 - val_accuracy: 0.9714 - 20s/epoch - 4ms/step\n",
            "Epoch 2/10\n",
            "5500/5500 - 20s - loss: 0.1504 - accuracy: 0.9529 - val_loss: 0.0847 - val_accuracy: 0.9764 - 20s/epoch - 4ms/step\n",
            "Epoch 3/10\n",
            "5500/5500 - 25s - loss: 0.1297 - accuracy: 0.9592 - val_loss: 0.0901 - val_accuracy: 0.9756 - 25s/epoch - 5ms/step\n",
            "Epoch 4/10\n",
            "5500/5500 - 21s - loss: 0.1128 - accuracy: 0.9648 - val_loss: 0.0767 - val_accuracy: 0.9794 - 21s/epoch - 4ms/step\n",
            "Epoch 5/10\n",
            "5500/5500 - 20s - loss: 0.1002 - accuracy: 0.9684 - val_loss: 0.0843 - val_accuracy: 0.9768 - 20s/epoch - 4ms/step\n",
            "Epoch 6/10\n",
            "5500/5500 - 20s - loss: 0.0941 - accuracy: 0.9699 - val_loss: 0.0807 - val_accuracy: 0.9788 - 20s/epoch - 4ms/step\n",
            "Epoch 7/10\n",
            "5500/5500 - 20s - loss: 0.0882 - accuracy: 0.9727 - val_loss: 0.0779 - val_accuracy: 0.9784 - 20s/epoch - 4ms/step\n",
            "Epoch 8/10\n",
            "5500/5500 - 20s - loss: 0.0845 - accuracy: 0.9733 - val_loss: 0.0780 - val_accuracy: 0.9780 - 20s/epoch - 4ms/step\n",
            "Epoch 9/10\n",
            "5500/5500 - 22s - loss: 0.0768 - accuracy: 0.9754 - val_loss: 0.0812 - val_accuracy: 0.9804 - 22s/epoch - 4ms/step\n",
            "Epoch 10/10\n",
            "5500/5500 - 22s - loss: 0.0730 - accuracy: 0.9762 - val_loss: 0.0783 - val_accuracy: 0.9806 - 22s/epoch - 4ms/step\n"
          ]
        }
      ]
    },
    {
      "cell_type": "markdown",
      "source": [
        "When you fit model with different batch_size the model accuracy will change based on batch_size.batch_size can act as a hyper paramter for defining neural\n",
        "network model."
      ],
      "metadata": {
        "id": "O_vGFB_I5hdL"
      }
    },
    {
      "cell_type": "markdown",
      "source": [
        "Q2)Discuss the advantages and potential limitations of batch normalization in improving the training of neural networks."
      ],
      "metadata": {
        "id": "ktyko8xJ3qr3"
      }
    },
    {
      "cell_type": "markdown",
      "source": [
        "**Advantages of Batch Normalization:**\n",
        "\n",
        "1. **Stabilized Learning:**\n",
        "   - Batch Normalization helps stabilize and accelerate the training process by normalizing the inputs, mitigating issues like vanishing or exploding gradients.\n",
        "\n",
        "2. **Faster Convergence:**\n",
        "   - Neural networks with Batch Normalization often converge faster, requiring fewer training epochs to reach similar or better performance compared to networks without it.\n",
        "\n",
        "3. **Higher Learning Rates:**\n",
        "   - Batch Normalization enables the use of higher learning rates without the risk of divergence. This can speed up the optimization process and lead to better generalization.\n",
        "\n",
        "4. **Reduced Sensitivity to Initialization:**\n",
        "   - The technique reduces sensitivity to weight initialization, making it less critical to choose optimal initial weights.\n",
        "\n",
        "5. **Regularization Effect:**\n",
        "   - Batch Normalization acts as a form of regularization by adding noise to the training process, helping prevent overfitting and improving the generalization of the model.\n",
        "\n",
        "6. **Mitigation of Internal Covariate Shift:**\n",
        "   - By normalizing the inputs of each layer, Batch Normalization mitigates the effects of internal covariate shift, improving the overall stability of the training process.\n",
        "\n",
        "7. **Compatibility with Various Architectures:**\n",
        "   - Batch Normalization is applicable to different types of neural network architectures, including feedforward networks, convolutional neural networks (CNNs), and recurrent neural networks (RNNs).\n",
        "\n",
        "8. **Facilitation of Deeper Networks:**\n",
        "   - Batch Normalization allows for the training of deeper neural networks by addressing challenges associated with deep architectures, such as vanishing gradients.\n",
        "\n",
        "9. **Robustness to Hyperparameter Choices:**\n",
        "   - Batch Normalization makes neural networks less sensitive to the choice of hyperparameters like learning rate and weight initialization, making it easier to train models with good performance.\n",
        "\n",
        "**Potential Limitations and Considerations:**\n",
        "\n",
        "1. **Computational Overhead:**\n",
        "   - Batch Normalization introduces additional computational overhead during training, as it requires calculating mean and standard deviation statistics for each mini-batch.\n",
        "\n",
        "2. **Batch Size Sensitivity:**\n",
        "   - The effectiveness of Batch Normalization can be sensitive to the choice of batch size. Small batch sizes may lead to inaccurate statistics estimation, affecting the normalization process.\n",
        "\n",
        "3. **Incompatibility with Certain Architectures:**\n",
        "   - While Batch Normalization is effective in many scenarios, it may not be as beneficial for certain architectures, such as some types of recurrent neural networks (RNNs), and can even hinder performance in specific cases.\n",
        "\n",
        "4. **Test-time Variability:**\n",
        "   - During inference (test time), the mean and standard deviation of the entire dataset may differ from those of individual mini-batches used during training. Techniques like running averages are often employed to address this, but they may not capture the exact statistics of the test data distribution.\n",
        "\n",
        "5. **Dependency on Batch Order:**\n",
        "   - The order of data in a mini-batch can affect the training process. Shuffling the data can introduce variability, potentially impacting the effectiveness of Batch Normalization.\n",
        "\n",
        "6. **Not Always Necessary for Shallower Networks:**\n",
        "   - For small or shallow networks, the benefits of Batch Normalization may be limited, and the computational cost may outweigh the advantages.\n",
        "\n",
        "7. **Alternatives and Generalization:**\n",
        "   - While Batch Normalization is widely used, alternative normalization techniques like Layer Normalization and Group Normalization have been proposed, and their effectiveness can depend on the specific characteristics of the data and the network.\n",
        "\n",
        "In summary, Batch Normalization is a powerful technique that has demonstrated significant benefits in the training of neural networks, especially in deep architectures. However, practitioners should be aware of its potential limitations and consider alternative normalization methods based on the specific requirements of their models and datasets."
      ],
      "metadata": {
        "id": "FNDN1JZq4Hgt"
      }
    },
    {
      "cell_type": "code",
      "source": [],
      "metadata": {
        "id": "7Tjn9Xyr3dQ1"
      },
      "execution_count": null,
      "outputs": []
    }
  ]
}