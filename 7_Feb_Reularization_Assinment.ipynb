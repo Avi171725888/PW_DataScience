{
  "nbformat": 4,
  "nbformat_minor": 0,
  "metadata": {
    "colab": {
      "provenance": [],
      "gpuType": "T4"
    },
    "kernelspec": {
      "name": "python3",
      "display_name": "Python 3"
    },
    "language_info": {
      "name": "python"
    },
    "accelerator": "GPU"
  },
  "cells": [
    {
      "cell_type": "markdown",
      "source": [
        "Q1)What is regularization in the context of deep learning? Why is it important?"
      ],
      "metadata": {
        "id": "kc9oDrXo2kdi"
      }
    },
    {
      "cell_type": "markdown",
      "source": [
        "In the context of deep learning, regularization refers to a set of techniques used to prevent overfitting and improve the generalization ability of a neural network model. Overfitting occurs when a model learns the training data too well, capturing noise and specific details of the training set that may not be relevant to new, unseen data. As a result, the model may perform poorly on new data.\n",
        "\n",
        "Regularization methods are important in deep learning for the following reasons:\n",
        "\n",
        "1. **Preventing Overfitting:** The primary goal of regularization is to prevent overfitting by discouraging the model from fitting the training data too closely. Regularization techniques introduce constraints or penalties on the model parameters, discouraging complex or overly flexible models that can capture noise in the training data.\n",
        "\n",
        "2. **Improving Generalization:** By preventing overfitting, regularization helps the model generalize better to new, unseen data. This is crucial for the model's performance on real-world applications where the goal is to make accurate predictions on data that the model has not encountered during training.\n",
        "\n",
        "3. **Handling Noisy Data:** Real-world data often contains noise and irrelevant features. Regularization helps the model focus on the most important features and reduces its sensitivity to noise, making it more robust.\n",
        "\n",
        "Common regularization techniques in deep learning include:\n",
        "\n",
        "- **L1 and L2 Regularization:** These methods add a penalty term to the loss function based on either the absolute values of the weights (L1 regularization) or the squared values of the weights (L2 regularization). This discourages large weights and helps prevent overfitting.\n",
        "\n",
        "- **Dropout:** Dropout randomly \"drops out\" (sets to zero) a fraction of neurons during training, preventing co-adaptation of hidden units and improving generalization.\n",
        "\n",
        "- **Early Stopping:** Monitoring the performance on a validation set and stopping the training process when the performance starts to degrade can also be considered a form of regularization.\n",
        "\n",
        "Regularization is a crucial component of training deep neural networks, as it contributes to building more robust and generalizable models. The choice of regularization technique and its hyperparameters depends on the specific characteristics of the data and the model architecture."
      ],
      "metadata": {
        "id": "k73zkVce2lfg"
      }
    },
    {
      "cell_type": "markdown",
      "source": [
        "Q2)Explain the bias-variance tradeoff and how regularization helps in addressing this tradeoff?\n"
      ],
      "metadata": {
        "id": "Lmk6HcqN2llm"
      }
    },
    {
      "cell_type": "markdown",
      "source": [
        "The bias-variance tradeoff is a fundamental concept in machine learning that relates to the model's ability to generalize to new, unseen data. It involves balancing two sources of error: bias and variance.\n",
        "\n",
        "1. **Bias:** Bias refers to the error introduced by approximating a real-world problem, which may be complex, by a simpler model. High bias can lead to underfitting, where the model is too simplistic and fails to capture the underlying patterns in the data. A high-bias model tends to be less flexible and may overlook important relationships in the data.\n",
        "\n",
        "2. **Variance:** Variance is the error introduced by the model's sensitivity to small fluctuations or noise in the training data. High variance can lead to overfitting, where the model captures the noise in the training set rather than the underlying patterns. A high-variance model is too complex and adapts too closely to the training data, performing poorly on new, unseen data.\n",
        "\n",
        "The bias-variance tradeoff states that there is a tradeoff between bias and variance – as you reduce bias, you typically increase variance, and vice versa. The goal is to find the right balance that minimizes the total error on unseen data.\n",
        "\n",
        "Regularization helps address the bias-variance tradeoff by introducing a penalty term to the model's training process, which discourages overly complex models with large weights. This regularization term is added to the loss function during training. Here's how regularization helps:\n",
        "\n",
        "1. **Controls Model Complexity:** Regularization techniques, such as L1 or L2 regularization, penalize large weights in the model. By penalizing large weights, regularization discourages the model from fitting the training data too closely, thus controlling its complexity.\n",
        "\n",
        "2. **Prevents Overfitting (Reduces Variance):** Overfitting is often characterized by high variance. Regularization helps prevent overfitting by imposing constraints on the model parameters, reducing its sensitivity to noise and preventing it from capturing irrelevant details in the training data.\n",
        "\n",
        "3. **Improves Generalization (Reduces Bias):** While regularization primarily addresses variance, it can indirectly improve bias as well. By preventing the model from becoming too complex, regularization helps ensure that the model generalizes well to new data, reducing the risk of underfitting and high bias.\n",
        "\n",
        "In summary, regularization is a key tool in managing the bias-variance tradeoff by controlling the complexity of the model. It helps strike a balance between underfitting and overfitting, leading to better generalization performance on new, unseen data."
      ],
      "metadata": {
        "id": "DO6l07O13hhO"
      }
    },
    {
      "cell_type": "markdown",
      "source": [
        "Q3)Describe the concept of L1 and L2 regularization. How do they differ in terms of penalty calculation and\n",
        "their effects on the model?"
      ],
      "metadata": {
        "id": "4ACZK16v3hnL"
      }
    },
    {
      "cell_type": "markdown",
      "source": [
        "L1 and L2 regularization are techniques used to add penalty terms to the loss function during the training of a machine learning model, particularly in the context of linear models and neural networks.\n",
        "\n",
        "**L1 Regularization:**\n",
        "\n",
        "1. **Penalty Calculation:** L1 regularization adds a penalty to the loss function based on the absolute values of the model parameters (weights). The L1 penalty term is proportional to the sum of the absolute values of the weights.\n",
        "\n",
        "2. **Effect on the Model:** The L1 penalty encourages sparsity in the model, meaning it tends to drive some of the weights to exactly zero. This makes L1 regularization useful for feature selection, as it effectively eliminates less important features by setting their corresponding weights to zero.\n",
        "\n",
        "3. **Mathematical Representation:** The L1 regularization term is typically represented as the L1 norm of the weight vector, denoted as ||w||₁. The L1-regularized loss function is the sum of the standard loss function (e.g., mean squared error) and the product of the regularization strength (λ) and the L1 norm of the weight vector.\n",
        "\n",
        "   Regularized Loss = Standard Loss + λ * ||w||₁\n",
        "\n",
        "**L2 Regularization:**\n",
        "\n",
        "1. **Penalty Calculation:** L2 regularization adds a penalty to the loss function based on the squared values of the model parameters (weights). The L2 penalty term is proportional to the sum of the squared values of the weights.\n",
        "\n",
        "2. **Effect on the Model:** The L2 penalty discourages large weights but does not typically force them to exactly zero. Instead, it tends to distribute the weight values more evenly and helps prevent individual weights from becoming extremely large. This can lead to a smoother and more stable model.\n",
        "\n",
        "3. **Mathematical Representation:** The L2 regularization term is represented as the squared L2 norm of the weight vector, denoted as ||w||₂². The L2-regularized loss function is the sum of the standard loss function and the product of the regularization strength (λ) and the squared L2 norm of the weight vector.\n",
        "\n",
        "   Regularized Loss = Standard Loss + λ * ||w||₂²\n",
        "\n",
        "In summary, L1 regularization encourages sparsity and feature selection by driving some weights to exactly zero, while L2 regularization penalizes large weights and promotes a more even distribution of weight values. The choice between L1 and L2 regularization (or a combination of both, known as Elastic Net) depends on the specific characteristics of the data and the desired properties of the model."
      ],
      "metadata": {
        "id": "KY1bwAEQ3wwg"
      }
    },
    {
      "cell_type": "markdown",
      "source": [
        "Q4)Discuss the role of regularization in preventing overfitting and improving the generalization of deep\n",
        "learning models?"
      ],
      "metadata": {
        "id": "MNaYgG9j2lo5"
      }
    },
    {
      "cell_type": "markdown",
      "source": [
        "Regularization plays a crucial role in preventing overfitting and improving the generalization of deep learning models. Overfitting occurs when a model learns the training data too well, capturing noise and specific details that may not be relevant to new, unseen data. Regularization techniques introduce constraints on the model parameters during training, helping to address overfitting in the following ways:\n",
        "\n",
        "1. **Preventing Overly Complex Models:** Regularization, particularly techniques like L1 and L2 regularization, adds penalty terms to the loss function based on the complexity of the model. This discourages the model from becoming overly complex and fitting the training data too closely. By penalizing large weights, regularization prevents the model from capturing noise and irrelevant details in the data.\n",
        "\n",
        "2. **Controlling Model Complexity:** Deep learning models, especially neural networks, have a large number of parameters that can lead to high model complexity. Regularization helps control this complexity by adding penalties that favor simpler models. This is particularly important in situations where the amount of available training data is limited.\n",
        "\n",
        "3. **Encouraging Generalization:** Regularization encourages the model to learn patterns and relationships in the data that are more likely to generalize to new, unseen examples. By avoiding the memorization of the training set and focusing on capturing the underlying structure of the data, regularization helps improve the model's ability to make accurate predictions on new, unseen data.\n",
        "\n",
        "4. **Reducing Sensitivity to Noise:** Real-world data often contains noise and outliers. Regularization techniques, such as dropout and L2 regularization, help make the model more robust by reducing its sensitivity to noise. Dropout, for example, randomly drops out neurons during training, preventing the model from relying too heavily on specific neurons and features.\n",
        "\n",
        "5. **Balancing Bias and Variance:** The bias-variance tradeoff is a key consideration in machine learning. Regularization helps strike a balance between bias and variance by preventing the model from being too simplistic (high bias) or too complex (high variance). This balance contributes to better generalization performance.\n",
        "\n",
        "6. **Early Stopping:** While not a traditional regularization technique, early stopping is often considered as a form of regularization. It involves monitoring the model's performance on a validation set during training and stopping the training process when the performance on the validation set starts to degrade. This helps prevent the model from overfitting the training data.\n",
        "\n",
        "In summary, regularization is essential in the context of deep learning models to prevent overfitting, control model complexity, and improve generalization. By incorporating regularization techniques during training, deep learning models become more robust and better equipped to handle new, unseen data, leading to more reliable and effective predictions."
      ],
      "metadata": {
        "id": "PNN5jUO32lyX"
      }
    },
    {
      "cell_type": "markdown",
      "source": [
        "Q5)Explain Dropout regularization and how it works to reduce overfitting. Discuss the impact of Dropout on\n",
        "model training and inference?"
      ],
      "metadata": {
        "id": "zKAVvhC339D-"
      }
    },
    {
      "cell_type": "markdown",
      "source": [
        "Dropout is a regularization technique used in neural networks to reduce overfitting. It involves randomly \"dropping out\" (setting to zero) a fraction of neurons during each training iteration. This means that, for a given training iteration, some neurons are deactivated, and their corresponding connections are temporarily removed from the network. The dropout process is applied independently to each neuron with a specified probability, often referred to as the dropout rate.\n",
        "\n",
        "**How Dropout Works:**\n",
        "\n",
        "1. **Training Phase:** During training, for each iteration, a random subset of neurons is dropped out by setting their outputs to zero. The dropout rate determines the probability of a neuron being dropped out. The idea is that, with dropout, the network is exposed to a different configuration of neurons in each iteration, forcing it to learn more robust features and preventing co-adaptation of neurons.\n",
        "\n",
        "2. **Testing/Inference Phase:** During testing or inference, dropout is typically turned off, and the entire network is used for making predictions. However, to account for the fact that more neurons were active during training, the weights of the neurons are usually scaled by the dropout rate. This scaling helps maintain the expected output of the network during testing.\n",
        "\n",
        "**Impact of Dropout on Model Training:**\n",
        "\n",
        "1. **Reduction of Overfitting:** Dropout acts as a form of regularization by preventing the model from relying too much on specific neurons or features. It introduces noise and variability during training, making the model more robust and less prone to overfitting.\n",
        "\n",
        "2. **Ensemble Effect:** Dropout can be interpreted as training an ensemble of multiple models, as different subsets of neurons are dropped out in each iteration. This ensemble effect contributes to improved generalization, similar to training multiple models and averaging their predictions.\n",
        "\n",
        "3. **Implicit Weight Averaging:** During training, dropout essentially performs implicit weight averaging, as the contribution of each neuron is scaled by the probability of its presence. This can lead to a more stable model.\n",
        "\n",
        "**Impact of Dropout on Model Inference:**\n",
        "\n",
        "1. **Scaling Weights:** During inference, the weights of the neurons are typically scaled by the dropout rate to account for the fact that more neurons were active during training. This scaling helps maintain the expected output and ensures a smoother transition from training to testing.\n",
        "\n",
        "2. **No Dropout Applied:** Dropout is turned off during inference, and the entire network is used for making predictions. This means that the model architecture used for testing is the same as the one trained during training, but with the weights adjusted for the dropout rate.\n",
        "\n",
        "3. **Reduced Sensitivity to Noise:** The dropout mechanism, when turned off during testing, helps the model generalize better to new, unseen data by reducing sensitivity to noise and specific training examples.\n",
        "\n",
        "In summary, dropout regularization is an effective technique for reducing overfitting in neural networks by introducing stochasticity during training. It promotes the learning of more robust features, prevents co-adaptation of neurons, and improves the generalization of the model. During inference, the dropout mechanism is turned off, and the model is used without dropout, with appropriate weight scaling to maintain consistency."
      ],
      "metadata": {
        "id": "EDegNdjv4Ggv"
      }
    },
    {
      "cell_type": "markdown",
      "source": [
        "Q6)Describe the concept of Early ztopping as a form of regularization. How does it help prevent overfitting\n",
        "during the training process?\n"
      ],
      "metadata": {
        "id": "xOlhL6ME4HAf"
      }
    },
    {
      "cell_type": "markdown",
      "source": [
        "Early stopping is a regularization technique used to prevent overfitting during the training process of machine learning models, including neural networks. The basic idea behind early stopping is to monitor the model's performance on a separate validation dataset during training and halt the training process when the performance on the validation set starts to degrade.\n",
        "\n",
        "Here's how early stopping works and how it helps prevent overfitting:\n",
        "\n",
        "1. **Training and Validation Sets:**\n",
        "   - The dataset is typically divided into three sets: a training set, a validation set, and a test set.\n",
        "   - The training set is used to train the model, and the validation set is used to monitor the model's performance during training.\n",
        "   - The test set is reserved for evaluating the final model's performance after training.\n",
        "\n",
        "2. **Monitoring Performance:**\n",
        "   - During training, the model's performance is evaluated on the validation set at regular intervals (epochs).\n",
        "   - The performance metric could be accuracy, loss, or any other relevant metric depending on the problem (e.g., mean squared error for regression tasks, accuracy for classification tasks).\n",
        "\n",
        "3. **Early Stopping Criteria:**\n",
        "   - A criterion is defined to determine when to stop the training process. This criterion is typically based on the performance on the validation set.\n",
        "   - Common criteria include observing when the validation loss stops improving or when it starts to degrade.\n",
        "\n",
        "4. **Halting Training:**\n",
        "   - If the validation performance does not improve for a predefined number of consecutive epochs or starts to degrade, the training process is stopped early.\n",
        "   - The model parameters at the point of early stopping are then used as the final model.\n",
        "\n",
        "**How Early Stopping Prevents Overfitting:**\n",
        "\n",
        "1. **Identifying the Point of Overfitting:**\n",
        "   - As the model continues to train, it may start to overfit the training data, capturing noise and becoming too specialized.\n",
        "   - The validation performance often plateaus or begins to degrade as the model's ability to generalize diminishes.\n",
        "\n",
        "2. **Preventing Overfitting:**\n",
        "   - Early stopping acts as a regularizer by preventing the model from training for too many epochs, where it might overfit the training data.\n",
        "   - The model is halted at the point where it performs well on the validation set, indicating a good balance between fitting the training data and generalizing to new, unseen data.\n",
        "\n",
        "3. **Avoiding Training Set Memorization:**\n",
        "   - By stopping the training process before the model has fully memorized the training set, early stopping helps ensure that the model generalizes well to new data.\n",
        "   - It prevents the model from becoming too complex and capturing noise and specific details of the training set.\n",
        "\n",
        "4. **Efficiency and Resource Savings:**\n",
        "   - Early stopping can also save computational resources and time by avoiding unnecessary training epochs.\n",
        "   - It allows practitioners to obtain a good model without running the training process to its full extent.\n",
        "\n",
        "In summary, early stopping is a simple yet effective regularization technique that helps prevent overfitting by monitoring the model's performance on a validation set during training and stopping the process when the model's generalization ability starts to degrade. It is particularly useful when the training process is computationally expensive or time-consuming."
      ],
      "metadata": {
        "id": "lYAFj1V54N47"
      }
    },
    {
      "cell_type": "markdown",
      "source": [
        "Q7)Explain the concept of Batch Normalization and its role as a form of regularization. How does Batch\n",
        "Normalization help in preventing overfitting?"
      ],
      "metadata": {
        "id": "uF_83elu4SY9"
      }
    },
    {
      "cell_type": "markdown",
      "source": [
        "Batch Normalization (BatchNorm) is a technique used in deep neural networks to normalize the inputs of each layer in a mini-batch during training. The normalization is applied to the inputs before they are passed through the activation function. BatchNorm was initially introduced as a method to address issues like internal covariate shift, but it also plays a role as a form of regularization. Here's how Batch Normalization works and its impact on preventing overfitting:\n",
        "\n",
        "**How Batch Normalization Works:**\n",
        "\n",
        "1. **Normalization:** For each mini-batch during training, BatchNorm normalizes the inputs of each layer to have zero mean and unit variance. This is done by subtracting the mini-batch mean and dividing by the mini-batch standard deviation.\n",
        "\n",
        "2. **Scaling and Shifting:** After normalization, the inputs are scaled by a learnable parameter (gamma) and shifted by another learnable parameter (beta). These parameters are updated during the training process.\n",
        "\n",
        "3. **Benefits:**\n",
        "   - **Stabilizes Training:** Normalizing the inputs helps stabilize and speed up the training process. It mitigates the vanishing or exploding gradient problem by keeping the activations within a certain range.\n",
        "\n",
        "   - **Reduced Sensitivity to Weight Initialization:** BatchNorm reduces the sensitivity of the model to the choice of weight initialization, allowing for more flexibility in choosing initialization strategies.\n",
        "\n",
        "**Role of Batch Normalization as Regularization:**\n",
        "\n",
        "1. **Noise Injection:** BatchNorm introduces a form of noise during training by normalizing each mini-batch independently. This noise can act as a form of regularization, similar to dropout, by preventing the model from relying too heavily on specific activations.\n",
        "\n",
        "2. **Reducing Internal Covariate Shift:** Internal covariate shift refers to the change in the distribution of layer inputs during training. By normalizing the inputs within each mini-batch, BatchNorm helps reduce internal covariate shift, making it easier for the model to learn and generalize.\n",
        "\n",
        "3. **Implicit Regularization Effect:** BatchNorm has been observed to have a slight regularization effect, likely due to the combination of noise injection and reducing internal covariate shift. This regularization effect contributes to preventing overfitting.\n",
        "\n",
        "4. **Enabling Higher Learning Rates:** BatchNorm allows the use of higher learning rates during training, as it helps maintain stability and avoids issues like exploding or vanishing gradients.\n",
        "\n",
        "5. **Reduction of Dependency on Dropout:** In some cases, the regularization effect of BatchNorm may reduce the need for additional regularization techniques like dropout.\n",
        "\n",
        "In summary, Batch Normalization acts as a form of regularization by introducing noise, reducing internal covariate shift, and stabilizing the training process. These regularization effects contribute to preventing overfitting and improving the generalization ability of deep neural networks. BatchNorm is widely used in modern neural network architectures and has become a standard component for training deep models."
      ],
      "metadata": {
        "id": "nRzVH8nv4Z7L"
      }
    },
    {
      "cell_type": "markdown",
      "source": [
        "Q8)Implement Dropout regularization in a deep learning model using a framework of your choice. Evaluate\n",
        "its impact on model performance and compare it with a model without Dropout?"
      ],
      "metadata": {
        "id": "ZcFCdR5j4aig"
      }
    },
    {
      "cell_type": "code",
      "source": [
        "#import all library\n",
        "import tensorflow as tf\n",
        "import pandas as pd\n",
        "import numpy as np\n",
        "import matplotlib.pyplot as plt\n",
        "import seaborn as sns\n",
        "import os\n",
        "import torch"
      ],
      "metadata": {
        "id": "ykuOquLa4LZ-"
      },
      "execution_count": 1,
      "outputs": []
    },
    {
      "cell_type": "code",
      "source": [
        "#load the datasets\n",
        "(X_train_full,y_train_full),(X_test,y_test)=tf.keras.datasets.mnist.load_data()"
      ],
      "metadata": {
        "colab": {
          "base_uri": "https://localhost:8080/"
        },
        "id": "x1hevr7v4lsQ",
        "outputId": "c2bd8af2-8f84-4c49-eb8e-da77d2531940"
      },
      "execution_count": 2,
      "outputs": [
        {
          "output_type": "stream",
          "name": "stdout",
          "text": [
            "Downloading data from https://storage.googleapis.com/tensorflow/tf-keras-datasets/mnist.npz\n",
            "11490434/11490434 [==============================] - 2s 0us/step\n"
          ]
        }
      ]
    },
    {
      "cell_type": "code",
      "source": [
        "#check shapes\n",
        "X_train_full.shape,y_train_full.shape"
      ],
      "metadata": {
        "colab": {
          "base_uri": "https://localhost:8080/"
        },
        "id": "2G9107Mt4nKO",
        "outputId": "c84633eb-270c-4f2f-fbbe-7a2707531af1"
      },
      "execution_count": 3,
      "outputs": [
        {
          "output_type": "execute_result",
          "data": {
            "text/plain": [
              "((60000, 28, 28), (60000,))"
            ]
          },
          "metadata": {},
          "execution_count": 3
        }
      ]
    },
    {
      "cell_type": "code",
      "source": [
        "#check dimensions of each element\n",
        "X_train_full[0].shape\n"
      ],
      "metadata": {
        "colab": {
          "base_uri": "https://localhost:8080/"
        },
        "id": "TI7jQV4Y4sJm",
        "outputId": "c4c3ace9-0998-47e3-e911-c27acc78beea"
      },
      "execution_count": 4,
      "outputs": [
        {
          "output_type": "execute_result",
          "data": {
            "text/plain": [
              "(28, 28)"
            ]
          },
          "metadata": {},
          "execution_count": 4
        }
      ]
    },
    {
      "cell_type": "code",
      "source": [
        "#split train and test data from full data\n",
        "X_valid,X_train=X_train_full[:5000]/255.0,X_train_full[5000:]/255.0\n",
        "y_valid,y_train=y_train_full[:5000],y_train_full[5000:]\n",
        "X_test=X_test/255.0"
      ],
      "metadata": {
        "id": "F8EY3onW4uUK"
      },
      "execution_count": 5,
      "outputs": []
    },
    {
      "cell_type": "code",
      "source": [
        "#plot the img\n",
        "plt.imshow(X_train[0],cmap=\"binary\")"
      ],
      "metadata": {
        "colab": {
          "base_uri": "https://localhost:8080/",
          "height": 447
        },
        "id": "5Xw-yTQT4wJ0",
        "outputId": "fae129a7-379c-41fd-c2a2-efabb7f17d1e"
      },
      "execution_count": 6,
      "outputs": [
        {
          "output_type": "execute_result",
          "data": {
            "text/plain": [
              "<matplotlib.image.AxesImage at 0x7be8007a6590>"
            ]
          },
          "metadata": {},
          "execution_count": 6
        },
        {
          "output_type": "display_data",
          "data": {
            "text/plain": [
              "<Figure size 640x480 with 1 Axes>"
            ],
            "image/png": "[encoded data removed]"
          },
          "metadata": {}
        }
      ]
    },
    {
      "cell_type": "code",
      "source": [
        "#define layers and build the model\n",
        "layers=[\n",
        "    tf.keras.layers.Flatten(name=\"inputLayer\",input_shape=[28,28]),\n",
        "    tf.keras.layers.Dense(300,activation=\"relu\",name=\"hiddenLayer1\"),\n",
        "    tf.keras.layers.Dense(100,activation=\"relu\",name=\"hiddenLayer2\"),\n",
        "    tf.keras.layers.Dense(10,activation=\"softmax\",name=\"outputlayer\"),\n",
        "]\n",
        "\n",
        "model=tf.keras.models.Sequential(layers)"
      ],
      "metadata": {
        "id": "9Fpkv7JB4xSe"
      },
      "execution_count": 7,
      "outputs": []
    },
    {
      "cell_type": "code",
      "source": [
        "#compile model with optimizer,loss_fn nad metric\n",
        "model.compile(optimizer=\"SGD\",loss=\"sparse_categorical_crossentropy\",metrics=['accuracy'])"
      ],
      "metadata": {
        "id": "1Q_UzVgT43au"
      },
      "execution_count": 8,
      "outputs": []
    },
    {
      "cell_type": "code",
      "source": [
        "model.summary()"
      ],
      "metadata": {
        "colab": {
          "base_uri": "https://localhost:8080/"
        },
        "id": "M2YJYLDs45YG",
        "outputId": "e08abb84-fde1-4393-e245-c821749c9c0f"
      },
      "execution_count": 9,
      "outputs": [
        {
          "output_type": "stream",
          "name": "stdout",
          "text": [
            "Model: \"sequential\"\n",
            "_________________________________________________________________\n",
            " Layer (type)                Output Shape              Param #   \n",
            "=================================================================\n",
            " inputLayer (Flatten)        (None, 784)               0         \n",
            "                                                                 \n",
            " hiddenLayer1 (Dense)        (None, 300)               235500    \n",
            "                                                                 \n",
            " hiddenLayer2 (Dense)        (None, 100)               30100     \n",
            "                                                                 \n",
            " outputlayer (Dense)         (None, 10)                1010      \n",
            "                                                                 \n",
            "=================================================================\n",
            "Total params: 266610 (1.02 MB)\n",
            "Trainable params: 266610 (1.02 MB)\n",
            "Non-trainable params: 0 (0.00 Byte)\n",
            "_________________________________________________________________\n"
          ]
        }
      ]
    },
    {
      "cell_type": "code",
      "source": [
        "#fit model without Dropout\n",
        "history=model.fit(X_train,y_train,epochs=10,validation_data=(X_valid,y_valid),batch_size=32,verbose=2)"
      ],
      "metadata": {
        "colab": {
          "base_uri": "https://localhost:8080/"
        },
        "id": "qOI-nEzv49Tu",
        "outputId": "cd0b64db-84b4-4a6c-f84e-c4e963a7fe0c"
      },
      "execution_count": 11,
      "outputs": [
        {
          "output_type": "stream",
          "name": "stdout",
          "text": [
            "Epoch 1/10\n",
            "1719/1719 - 4s - loss: 0.0969 - accuracy: 0.9726 - val_loss: 0.1036 - val_accuracy: 0.9712 - 4s/epoch - 3ms/step\n",
            "Epoch 2/10\n",
            "1719/1719 - 5s - loss: 0.0899 - accuracy: 0.9745 - val_loss: 0.0979 - val_accuracy: 0.9726 - 5s/epoch - 3ms/step\n",
            "Epoch 3/10\n",
            "1719/1719 - 4s - loss: 0.0831 - accuracy: 0.9770 - val_loss: 0.0957 - val_accuracy: 0.9728 - 4s/epoch - 2ms/step\n",
            "Epoch 4/10\n",
            "1719/1719 - 5s - loss: 0.0774 - accuracy: 0.9786 - val_loss: 0.0906 - val_accuracy: 0.9746 - 5s/epoch - 3ms/step\n",
            "Epoch 5/10\n",
            "1719/1719 - 4s - loss: 0.0723 - accuracy: 0.9796 - val_loss: 0.0860 - val_accuracy: 0.9768 - 4s/epoch - 3ms/step\n",
            "Epoch 6/10\n",
            "1719/1719 - 5s - loss: 0.0677 - accuracy: 0.9813 - val_loss: 0.0870 - val_accuracy: 0.9734 - 5s/epoch - 3ms/step\n",
            "Epoch 7/10\n",
            "1719/1719 - 5s - loss: 0.0632 - accuracy: 0.9829 - val_loss: 0.0830 - val_accuracy: 0.9750 - 5s/epoch - 3ms/step\n",
            "Epoch 8/10\n",
            "1719/1719 - 5s - loss: 0.0593 - accuracy: 0.9840 - val_loss: 0.0813 - val_accuracy: 0.9764 - 5s/epoch - 3ms/step\n",
            "Epoch 9/10\n",
            "1719/1719 - 5s - loss: 0.0558 - accuracy: 0.9848 - val_loss: 0.0789 - val_accuracy: 0.9754 - 5s/epoch - 3ms/step\n",
            "Epoch 10/10\n",
            "1719/1719 - 6s - loss: 0.0522 - accuracy: 0.9860 - val_loss: 0.0770 - val_accuracy: 0.9772 - 6s/epoch - 4ms/step\n"
          ]
        }
      ]
    },
    {
      "cell_type": "code",
      "source": [
        "pd.DataFrame(history.history)"
      ],
      "metadata": {
        "colab": {
          "base_uri": "https://localhost:8080/",
          "height": 363
        },
        "id": "__j71NKy5BIN",
        "outputId": "1cbae214-6782-4a65-847c-e60cdbdd9c00"
      },
      "execution_count": 12,
      "outputs": [
        {
          "output_type": "execute_result",
          "data": {
            "text/plain": [
              "       loss  accuracy  val_loss  val_accuracy\n",
              "0  0.096914  0.972636  0.103635        0.9712\n",
              "1  0.089912  0.974455  0.097885        0.9726\n",
              "2  0.083057  0.976982  0.095660        0.9728\n",
              "3  0.077417  0.978618  0.090565        0.9746\n",
              "4  0.072301  0.979564  0.086040        0.9768\n",
              "5  0.067713  0.981327  0.087040        0.9734\n",
              "6  0.063195  0.982945  0.083011        0.9750\n",
              "7  0.059280  0.983982  0.081252        0.9764\n",
              "8  0.055815  0.984800  0.078894        0.9754\n",
              "9  0.052231  0.985964  0.077043        0.9772"
            ],
            "text/html": [
              "\n",
              "  <div id=\"df-cb60cd28-95e7-4e66-b40a-d536be1c16c6\" class=\"colab-df-container\">\n",
              "    <div>\n",
              "<style scoped>\n",
              "    .dataframe tbody tr th:only-of-type {\n",
              "        vertical-align: middle;\n",
              "    }\n",
              "\n",
              "    .dataframe tbody tr th {\n",
              "        vertical-align: top;\n",
              "    }\n",
              "\n",
              "    .dataframe thead th {\n",
              "        text-align: right;\n",
              "    }\n",
              "</style>\n",
              "<table border=\"1\" class=\"dataframe\">\n",
              "  <thead>\n",
              "    <tr style=\"text-align: right;\">\n",
              "      <th></th>\n",
              "      <th>loss</th>\n",
              "      <th>accuracy</th>\n",
              "      <th>val_loss</th>\n",
              "      <th>val_accuracy</th>\n",
              "    </tr>\n",
              "  </thead>\n",
              "  <tbody>\n",
              "    <tr>\n",
              "      <th>0</th>\n",
              "      <td>0.096914</td>\n",
              "      <td>0.972636</td>\n",
              "      <td>0.103635</td>\n",
              "      <td>0.9712</td>\n",
              "    </tr>\n",
              "    <tr>\n",
              "      <th>1</th>\n",
              "      <td>0.089912</td>\n",
              "      <td>0.974455</td>\n",
              "      <td>0.097885</td>\n",
              "      <td>0.9726</td>\n",
              "    </tr>\n",
              "    <tr>\n",
              "      <th>2</th>\n",
              "      <td>0.083057</td>\n",
              "      <td>0.976982</td>\n",
              "      <td>0.095660</td>\n",
              "      <td>0.9728</td>\n",
              "    </tr>\n",
              "    <tr>\n",
              "      <th>3</th>\n",
              "      <td>0.077417</td>\n",
              "      <td>0.978618</td>\n",
              "      <td>0.090565</td>\n",
              "      <td>0.9746</td>\n",
              "    </tr>\n",
              "    <tr>\n",
              "      <th>4</th>\n",
              "      <td>0.072301</td>\n",
              "      <td>0.979564</td>\n",
              "      <td>0.086040</td>\n",
              "      <td>0.9768</td>\n",
              "    </tr>\n",
              "    <tr>\n",
              "      <th>5</th>\n",
              "      <td>0.067713</td>\n",
              "      <td>0.981327</td>\n",
              "      <td>0.087040</td>\n",
              "      <td>0.9734</td>\n",
              "    </tr>\n",
              "    <tr>\n",
              "      <th>6</th>\n",
              "      <td>0.063195</td>\n",
              "      <td>0.982945</td>\n",
              "      <td>0.083011</td>\n",
              "      <td>0.9750</td>\n",
              "    </tr>\n",
              "    <tr>\n",
              "      <th>7</th>\n",
              "      <td>0.059280</td>\n",
              "      <td>0.983982</td>\n",
              "      <td>0.081252</td>\n",
              "      <td>0.9764</td>\n",
              "    </tr>\n",
              "    <tr>\n",
              "      <th>8</th>\n",
              "      <td>0.055815</td>\n",
              "      <td>0.984800</td>\n",
              "      <td>0.078894</td>\n",
              "      <td>0.9754</td>\n",
              "    </tr>\n",
              "    <tr>\n",
              "      <th>9</th>\n",
              "      <td>0.052231</td>\n",
              "      <td>0.985964</td>\n",
              "      <td>0.077043</td>\n",
              "      <td>0.9772</td>\n",
              "    </tr>\n",
              "  </tbody>\n",
              "</table>\n",
              "</div>\n",
              "    <div class=\"colab-df-buttons\">\n",
              "\n",
              "  <div class=\"colab-df-container\">\n",
              "    <button class=\"colab-df-convert\" onclick=\"convertToInteractive('df-cb60cd28-95e7-4e66-b40a-d536be1c16c6')\"\n",
              "            title=\"Convert this dataframe to an interactive table.\"\n",
              "            style=\"display:none;\">\n",
              "\n",
              "  <svg xmlns=\"http://www.w3.org/2000/svg\" height=\"24px\" viewBox=\"0 -960 960 960\">\n",
              "    <path d=\"M120-120v-720h720v720H120Zm60-500h600v-160H180v160Zm220 220h160v-160H400v160Zm0 220h160v-160H400v160ZM180-400h160v-160H180v160Zm440 0h160v-160H620v160ZM180-180h160v-160H180v160Zm440 0h160v-160H620v160Z\"/>\n",
              "  </svg>\n",
              "    </button>\n",
              "\n",
              "  <style>\n",
              "    .colab-df-container {\n",
              "      display:flex;\n",
              "      gap: 12px;\n",
              "    }\n",
              "\n",
              "    .colab-df-convert {\n",
              "      background-color: #E8F0FE;\n",
              "      border: none;\n",
              "      border-radius: 50%;\n",
              "      cursor: pointer;\n",
              "      display: none;\n",
              "      fill: #1967D2;\n",
              "      height: 32px;\n",
              "      padding: 0 0 0 0;\n",
              "      width: 32px;\n",
              "    }\n",
              "\n",
              "    .colab-df-convert:hover {\n",
              "      background-color: #E2EBFA;\n",
              "      box-shadow: 0px 1px 2px rgba(60, 64, 67, 0.3), 0px 1px 3px 1px rgba(60, 64, 67, 0.15);\n",
              "      fill: #174EA6;\n",
              "    }\n",
              "\n",
              "    .colab-df-buttons div {\n",
              "      margin-bottom: 4px;\n",
              "    }\n",
              "\n",
              "    [theme=dark] .colab-df-convert {\n",
              "      background-color: #3B4455;\n",
              "      fill: #D2E3FC;\n",
              "    }\n",
              "\n",
              "    [theme=dark] .colab-df-convert:hover {\n",
              "      background-color: #434B5C;\n",
              "      box-shadow: 0px 1px 3px 1px rgba(0, 0, 0, 0.15);\n",
              "      filter: drop-shadow(0px 1px 2px rgba(0, 0, 0, 0.3));\n",
              "      fill: #FFFFFF;\n",
              "    }\n",
              "  </style>\n",
              "\n",
              "    <script>\n",
              "      const buttonEl =\n",
              "        document.querySelector('#df-cb60cd28-95e7-4e66-b40a-d536be1c16c6 button.colab-df-convert');\n",
              "      buttonEl.style.display =\n",
              "        google.colab.kernel.accessAllowed ? 'block' : 'none';\n",
              "\n",
              "      async function convertToInteractive(key) {\n",
              "        const element = document.querySelector('#df-cb60cd28-95e7-4e66-b40a-d536be1c16c6');\n",
              "        const dataTable =\n",
              "          await google.colab.kernel.invokeFunction('convertToInteractive',\n",
              "                                                    [key], {});\n",
              "        if (!dataTable) return;\n",
              "\n",
              "        const docLinkHtml = 'Like what you see? Visit the ' +\n",
              "          '<a target=\"_blank\" href=https://colab.research.google.com/notebooks/data_table.ipynb>data table notebook</a>'\n",
              "          + ' to learn more about interactive tables.';\n",
              "        element.innerHTML = '';\n",
              "        dataTable['output_type'] = 'display_data';\n",
              "        await google.colab.output.renderOutput(dataTable, element);\n",
              "        const docLink = document.createElement('div');\n",
              "        docLink.innerHTML = docLinkHtml;\n",
              "        element.appendChild(docLink);\n",
              "      }\n",
              "    </script>\n",
              "  </div>\n",
              "\n",
              "\n",
              "<div id=\"df-336be3ae-2736-49ef-bbe3-2c305597cf20\">\n",
              "  <button class=\"colab-df-quickchart\" onclick=\"quickchart('df-336be3ae-2736-49ef-bbe3-2c305597cf20')\"\n",
              "            title=\"Suggest charts\"\n",
              "            style=\"display:none;\">\n",
              "\n",
              "<svg xmlns=\"http://www.w3.org/2000/svg\" height=\"24px\"viewBox=\"0 0 24 24\"\n",
              "     width=\"24px\">\n",
              "    <g>\n",
              "        <path d=\"M19 3H5c-1.1 0-2 .9-2 2v14c0 1.1.9 2 2 2h14c1.1 0 2-.9 2-2V5c0-1.1-.9-2-2-2zM9 17H7v-7h2v7zm4 0h-2V7h2v10zm4 0h-2v-4h2v4z\"/>\n",
              "    </g>\n",
              "</svg>\n",
              "  </button>\n",
              "\n",
              "<style>\n",
              "  .colab-df-quickchart {\n",
              "      --bg-color: #E8F0FE;\n",
              "      --fill-color: #1967D2;\n",
              "      --hover-bg-color: #E2EBFA;\n",
              "      --hover-fill-color: #174EA6;\n",
              "      --disabled-fill-color: #AAA;\n",
              "      --disabled-bg-color: #DDD;\n",
              "  }\n",
              "\n",
              "  [theme=dark] .colab-df-quickchart {\n",
              "      --bg-color: #3B4455;\n",
              "      --fill-color: #D2E3FC;\n",
              "      --hover-bg-color: #434B5C;\n",
              "      --hover-fill-color: #FFFFFF;\n",
              "      --disabled-bg-color: #3B4455;\n",
              "      --disabled-fill-color: #666;\n",
              "  }\n",
              "\n",
              "  .colab-df-quickchart {\n",
              "    background-color: var(--bg-color);\n",
              "    border: none;\n",
              "    border-radius: 50%;\n",
              "    cursor: pointer;\n",
              "    display: none;\n",
              "    fill: var(--fill-color);\n",
              "    height: 32px;\n",
              "    padding: 0;\n",
              "    width: 32px;\n",
              "  }\n",
              "\n",
              "  .colab-df-quickchart:hover {\n",
              "    background-color: var(--hover-bg-color);\n",
              "    box-shadow: 0 1px 2px rgba(60, 64, 67, 0.3), 0 1px 3px 1px rgba(60, 64, 67, 0.15);\n",
              "    fill: var(--button-hover-fill-color);\n",
              "  }\n",
              "\n",
              "  .colab-df-quickchart-complete:disabled,\n",
              "  .colab-df-quickchart-complete:disabled:hover {\n",
              "    background-color: var(--disabled-bg-color);\n",
              "    fill: var(--disabled-fill-color);\n",
              "    box-shadow: none;\n",
              "  }\n",
              "\n",
              "  .colab-df-spinner {\n",
              "    border: 2px solid var(--fill-color);\n",
              "    border-color: transparent;\n",
              "    border-bottom-color: var(--fill-color);\n",
              "    animation:\n",
              "      spin 1s steps(1) infinite;\n",
              "  }\n",
              "\n",
              "  @keyframes spin {\n",
              "    0% {\n",
              "      border-color: transparent;\n",
              "      border-bottom-color: var(--fill-color);\n",
              "      border-left-color: var(--fill-color);\n",
              "    }\n",
              "    20% {\n",
              "      border-color: transparent;\n",
              "      border-left-color: var(--fill-color);\n",
              "      border-top-color: var(--fill-color);\n",
              "    }\n",
              "    30% {\n",
              "      border-color: transparent;\n",
              "      border-left-color: var(--fill-color);\n",
              "      border-top-color: var(--fill-color);\n",
              "      border-right-color: var(--fill-color);\n",
              "    }\n",
              "    40% {\n",
              "      border-color: transparent;\n",
              "      border-right-color: var(--fill-color);\n",
              "      border-top-color: var(--fill-color);\n",
              "    }\n",
              "    60% {\n",
              "      border-color: transparent;\n",
              "      border-right-color: var(--fill-color);\n",
              "    }\n",
              "    80% {\n",
              "      border-color: transparent;\n",
              "      border-right-color: var(--fill-color);\n",
              "      border-bottom-color: var(--fill-color);\n",
              "    }\n",
              "    90% {\n",
              "      border-color: transparent;\n",
              "      border-bottom-color: var(--fill-color);\n",
              "    }\n",
              "  }\n",
              "</style>\n",
              "\n",
              "  <script>\n",
              "    async function quickchart(key) {\n",
              "      const quickchartButtonEl =\n",
              "        document.querySelector('#' + key + ' button');\n",
              "      quickchartButtonEl.disabled = true;  // To prevent multiple clicks.\n",
              "      quickchartButtonEl.classList.add('colab-df-spinner');\n",
              "      try {\n",
              "        const charts = await google.colab.kernel.invokeFunction(\n",
              "            'suggestCharts', [key], {});\n",
              "      } catch (error) {\n",
              "        console.error('Error during call to suggestCharts:', error);\n",
              "      }\n",
              "      quickchartButtonEl.classList.remove('colab-df-spinner');\n",
              "      quickchartButtonEl.classList.add('colab-df-quickchart-complete');\n",
              "    }\n",
              "    (() => {\n",
              "      let quickchartButtonEl =\n",
              "        document.querySelector('#df-336be3ae-2736-49ef-bbe3-2c305597cf20 button');\n",
              "      quickchartButtonEl.style.display =\n",
              "        google.colab.kernel.accessAllowed ? 'block' : 'none';\n",
              "    })();\n",
              "  </script>\n",
              "</div>\n",
              "\n",
              "    </div>\n",
              "  </div>\n"
            ]
          },
          "metadata": {},
          "execution_count": 12
        }
      ]
    },
    {
      "cell_type": "code",
      "source": [
        "#plot accuracy\n",
        "pd.DataFrame(history.history).plot()"
      ],
      "metadata": {
        "colab": {
          "base_uri": "https://localhost:8080/",
          "height": 447
        },
        "id": "gQKL0NW55Dbt",
        "outputId": "a888e8d7-db0d-4289-ade1-d2648f02f147"
      },
      "execution_count": 13,
      "outputs": [
        {
          "output_type": "execute_result",
          "data": {
            "text/plain": [
              "<Axes: >"
            ]
          },
          "metadata": {},
          "execution_count": 13
        },
        {
          "output_type": "display_data",
          "data": {
            "text/plain": [
              "<Figure size 640x480 with 1 Axes>"
            ],
            "image/png": "[encoded data removed]"
          },
          "metadata": {}
        }
      ]
    },
    {
      "cell_type": "code",
      "source": [
        "#make model with Dropout\n",
        "layers=[\n",
        "    tf.keras.layers.Flatten(name=\"inputLayer\",input_shape=[28,28]),\n",
        "    tf.keras.layers.Dense(300,activation=\"relu\",name=\"hiddenLayer1\"),\n",
        "    tf.keras.layers.Dropout(0.5),\n",
        "    tf.keras.layers.Dense(100,activation=\"relu\",name=\"hiddenLayer2\"),\n",
        "    tf.keras.layers.Dropout(0.5),\n",
        "    tf.keras.layers.Dense(10,activation=\"softmax\",name=\"outputlayer\"),\n",
        "]\n",
        "\n",
        "model=tf.keras.models.Sequential(layers)"
      ],
      "metadata": {
        "id": "dKkWvBlm5FW7"
      },
      "execution_count": 14,
      "outputs": []
    },
    {
      "cell_type": "code",
      "source": [
        "#compile model with optimizer,loss_fn nad metric\n",
        "model.compile(optimizer=\"SGD\",loss=\"sparse_categorical_crossentropy\",metrics=['accuracy'])"
      ],
      "metadata": {
        "id": "CEo7fVAA5SH-"
      },
      "execution_count": 15,
      "outputs": []
    },
    {
      "cell_type": "code",
      "source": [
        "#fit model with Dropout\n",
        "history=model.fit(X_train,y_train,epochs=10,validation_data=(X_valid,y_valid),batch_size=32,verbose=2)"
      ],
      "metadata": {
        "colab": {
          "base_uri": "https://localhost:8080/"
        },
        "id": "eZ81HfAT5W7P",
        "outputId": "b7d9a51a-4f1f-46ff-a888-93e8f0bc37d8"
      },
      "execution_count": 16,
      "outputs": [
        {
          "output_type": "stream",
          "name": "stdout",
          "text": [
            "Epoch 1/10\n",
            "1719/1719 - 7s - loss: 1.0740 - accuracy: 0.6534 - val_loss: 0.3949 - val_accuracy: 0.8930 - 7s/epoch - 4ms/step\n",
            "Epoch 2/10\n",
            "1719/1719 - 5s - loss: 0.5395 - accuracy: 0.8381 - val_loss: 0.2819 - val_accuracy: 0.9216 - 5s/epoch - 3ms/step\n",
            "Epoch 3/10\n",
            "1719/1719 - 4s - loss: 0.4333 - accuracy: 0.8747 - val_loss: 0.2319 - val_accuracy: 0.9330 - 4s/epoch - 3ms/step\n",
            "Epoch 4/10\n",
            "1719/1719 - 5s - loss: 0.3726 - accuracy: 0.8916 - val_loss: 0.2044 - val_accuracy: 0.9414 - 5s/epoch - 3ms/step\n",
            "Epoch 5/10\n",
            "1719/1719 - 5s - loss: 0.3340 - accuracy: 0.9031 - val_loss: 0.1845 - val_accuracy: 0.9468 - 5s/epoch - 3ms/step\n",
            "Epoch 6/10\n",
            "1719/1719 - 4s - loss: 0.3054 - accuracy: 0.9106 - val_loss: 0.1689 - val_accuracy: 0.9522 - 4s/epoch - 3ms/step\n",
            "Epoch 7/10\n",
            "1719/1719 - 5s - loss: 0.2821 - accuracy: 0.9185 - val_loss: 0.1544 - val_accuracy: 0.9562 - 5s/epoch - 3ms/step\n",
            "Epoch 8/10\n",
            "1719/1719 - 6s - loss: 0.2635 - accuracy: 0.9250 - val_loss: 0.1450 - val_accuracy: 0.9602 - 6s/epoch - 3ms/step\n",
            "Epoch 9/10\n",
            "1719/1719 - 7s - loss: 0.2482 - accuracy: 0.9295 - val_loss: 0.1371 - val_accuracy: 0.9604 - 7s/epoch - 4ms/step\n",
            "Epoch 10/10\n",
            "1719/1719 - 5s - loss: 0.2351 - accuracy: 0.9326 - val_loss: 0.1306 - val_accuracy: 0.9638 - 5s/epoch - 3ms/step\n"
          ]
        }
      ]
    },
    {
      "cell_type": "code",
      "source": [
        "#make table\n",
        "pd.DataFrame(history.history)"
      ],
      "metadata": {
        "colab": {
          "base_uri": "https://localhost:8080/",
          "height": 363
        },
        "id": "Myy_fya_5bho",
        "outputId": "b611c90d-96a5-4685-93aa-14f89b96091b"
      },
      "execution_count": 17,
      "outputs": [
        {
          "output_type": "execute_result",
          "data": {
            "text/plain": [
              "       loss  accuracy  val_loss  val_accuracy\n",
              "0  1.074005  0.653400  0.394870        0.8930\n",
              "1  0.539468  0.838073  0.281883        0.9216\n",
              "2  0.433325  0.874655  0.231854        0.9330\n",
              "3  0.372612  0.891600  0.204370        0.9414\n",
              "4  0.333962  0.903145  0.184496        0.9468\n",
              "5  0.305400  0.910618  0.168919        0.9522\n",
              "6  0.282124  0.918509  0.154390        0.9562\n",
              "7  0.263513  0.924982  0.144967        0.9602\n",
              "8  0.248193  0.929527  0.137051        0.9604\n",
              "9  0.235081  0.932582  0.130627        0.9638"
            ],
            "text/html": [
              "\n",
              "  <div id=\"df-8271faa9-3334-4c68-a07f-083315cd746d\" class=\"colab-df-container\">\n",
              "    <div>\n",
              "<style scoped>\n",
              "    .dataframe tbody tr th:only-of-type {\n",
              "        vertical-align: middle;\n",
              "    }\n",
              "\n",
              "    .dataframe tbody tr th {\n",
              "        vertical-align: top;\n",
              "    }\n",
              "\n",
              "    .dataframe thead th {\n",
              "        text-align: right;\n",
              "    }\n",
              "</style>\n",
              "<table border=\"1\" class=\"dataframe\">\n",
              "  <thead>\n",
              "    <tr style=\"text-align: right;\">\n",
              "      <th></th>\n",
              "      <th>loss</th>\n",
              "      <th>accuracy</th>\n",
              "      <th>val_loss</th>\n",
              "      <th>val_accuracy</th>\n",
              "    </tr>\n",
              "  </thead>\n",
              "  <tbody>\n",
              "    <tr>\n",
              "      <th>0</th>\n",
              "      <td>1.074005</td>\n",
              "      <td>0.653400</td>\n",
              "      <td>0.394870</td>\n",
              "      <td>0.8930</td>\n",
              "    </tr>\n",
              "    <tr>\n",
              "      <th>1</th>\n",
              "      <td>0.539468</td>\n",
              "      <td>0.838073</td>\n",
              "      <td>0.281883</td>\n",
              "      <td>0.9216</td>\n",
              "    </tr>\n",
              "    <tr>\n",
              "      <th>2</th>\n",
              "      <td>0.433325</td>\n",
              "      <td>0.874655</td>\n",
              "      <td>0.231854</td>\n",
              "      <td>0.9330</td>\n",
              "    </tr>\n",
              "    <tr>\n",
              "      <th>3</th>\n",
              "      <td>0.372612</td>\n",
              "      <td>0.891600</td>\n",
              "      <td>0.204370</td>\n",
              "      <td>0.9414</td>\n",
              "    </tr>\n",
              "    <tr>\n",
              "      <th>4</th>\n",
              "      <td>0.333962</td>\n",
              "      <td>0.903145</td>\n",
              "      <td>0.184496</td>\n",
              "      <td>0.9468</td>\n",
              "    </tr>\n",
              "    <tr>\n",
              "      <th>5</th>\n",
              "      <td>0.305400</td>\n",
              "      <td>0.910618</td>\n",
              "      <td>0.168919</td>\n",
              "      <td>0.9522</td>\n",
              "    </tr>\n",
              "    <tr>\n",
              "      <th>6</th>\n",
              "      <td>0.282124</td>\n",
              "      <td>0.918509</td>\n",
              "      <td>0.154390</td>\n",
              "      <td>0.9562</td>\n",
              "    </tr>\n",
              "    <tr>\n",
              "      <th>7</th>\n",
              "      <td>0.263513</td>\n",
              "      <td>0.924982</td>\n",
              "      <td>0.144967</td>\n",
              "      <td>0.9602</td>\n",
              "    </tr>\n",
              "    <tr>\n",
              "      <th>8</th>\n",
              "      <td>0.248193</td>\n",
              "      <td>0.929527</td>\n",
              "      <td>0.137051</td>\n",
              "      <td>0.9604</td>\n",
              "    </tr>\n",
              "    <tr>\n",
              "      <th>9</th>\n",
              "      <td>0.235081</td>\n",
              "      <td>0.932582</td>\n",
              "      <td>0.130627</td>\n",
              "      <td>0.9638</td>\n",
              "    </tr>\n",
              "  </tbody>\n",
              "</table>\n",
              "</div>\n",
              "    <div class=\"colab-df-buttons\">\n",
              "\n",
              "  <div class=\"colab-df-container\">\n",
              "    <button class=\"colab-df-convert\" onclick=\"convertToInteractive('df-8271faa9-3334-4c68-a07f-083315cd746d')\"\n",
              "            title=\"Convert this dataframe to an interactive table.\"\n",
              "            style=\"display:none;\">\n",
              "\n",
              "  <svg xmlns=\"http://www.w3.org/2000/svg\" height=\"24px\" viewBox=\"0 -960 960 960\">\n",
              "    <path d=\"M120-120v-720h720v720H120Zm60-500h600v-160H180v160Zm220 220h160v-160H400v160Zm0 220h160v-160H400v160ZM180-400h160v-160H180v160Zm440 0h160v-160H620v160ZM180-180h160v-160H180v160Zm440 0h160v-160H620v160Z\"/>\n",
              "  </svg>\n",
              "    </button>\n",
              "\n",
              "  <style>\n",
              "    .colab-df-container {\n",
              "      display:flex;\n",
              "      gap: 12px;\n",
              "    }\n",
              "\n",
              "    .colab-df-convert {\n",
              "      background-color: #E8F0FE;\n",
              "      border: none;\n",
              "      border-radius: 50%;\n",
              "      cursor: pointer;\n",
              "      display: none;\n",
              "      fill: #1967D2;\n",
              "      height: 32px;\n",
              "      padding: 0 0 0 0;\n",
              "      width: 32px;\n",
              "    }\n",
              "\n",
              "    .colab-df-convert:hover {\n",
              "      background-color: #E2EBFA;\n",
              "      box-shadow: 0px 1px 2px rgba(60, 64, 67, 0.3), 0px 1px 3px 1px rgba(60, 64, 67, 0.15);\n",
              "      fill: #174EA6;\n",
              "    }\n",
              "\n",
              "    .colab-df-buttons div {\n",
              "      margin-bottom: 4px;\n",
              "    }\n",
              "\n",
              "    [theme=dark] .colab-df-convert {\n",
              "      background-color: #3B4455;\n",
              "      fill: #D2E3FC;\n",
              "    }\n",
              "\n",
              "    [theme=dark] .colab-df-convert:hover {\n",
              "      background-color: #434B5C;\n",
              "      box-shadow: 0px 1px 3px 1px rgba(0, 0, 0, 0.15);\n",
              "      filter: drop-shadow(0px 1px 2px rgba(0, 0, 0, 0.3));\n",
              "      fill: #FFFFFF;\n",
              "    }\n",
              "  </style>\n",
              "\n",
              "    <script>\n",
              "      const buttonEl =\n",
              "        document.querySelector('#df-8271faa9-3334-4c68-a07f-083315cd746d button.colab-df-convert');\n",
              "      buttonEl.style.display =\n",
              "        google.colab.kernel.accessAllowed ? 'block' : 'none';\n",
              "\n",
              "      async function convertToInteractive(key) {\n",
              "        const element = document.querySelector('#df-8271faa9-3334-4c68-a07f-083315cd746d');\n",
              "        const dataTable =\n",
              "          await google.colab.kernel.invokeFunction('convertToInteractive',\n",
              "                                                    [key], {});\n",
              "        if (!dataTable) return;\n",
              "\n",
              "        const docLinkHtml = 'Like what you see? Visit the ' +\n",
              "          '<a target=\"_blank\" href=https://colab.research.google.com/notebooks/data_table.ipynb>data table notebook</a>'\n",
              "          + ' to learn more about interactive tables.';\n",
              "        element.innerHTML = '';\n",
              "        dataTable['output_type'] = 'display_data';\n",
              "        await google.colab.output.renderOutput(dataTable, element);\n",
              "        const docLink = document.createElement('div');\n",
              "        docLink.innerHTML = docLinkHtml;\n",
              "        element.appendChild(docLink);\n",
              "      }\n",
              "    </script>\n",
              "  </div>\n",
              "\n",
              "\n",
              "<div id=\"df-fea64607-bf46-4216-9489-a178e30c5c81\">\n",
              "  <button class=\"colab-df-quickchart\" onclick=\"quickchart('df-fea64607-bf46-4216-9489-a178e30c5c81')\"\n",
              "            title=\"Suggest charts\"\n",
              "            style=\"display:none;\">\n",
              "\n",
              "<svg xmlns=\"http://www.w3.org/2000/svg\" height=\"24px\"viewBox=\"0 0 24 24\"\n",
              "     width=\"24px\">\n",
              "    <g>\n",
              "        <path d=\"M19 3H5c-1.1 0-2 .9-2 2v14c0 1.1.9 2 2 2h14c1.1 0 2-.9 2-2V5c0-1.1-.9-2-2-2zM9 17H7v-7h2v7zm4 0h-2V7h2v10zm4 0h-2v-4h2v4z\"/>\n",
              "    </g>\n",
              "</svg>\n",
              "  </button>\n",
              "\n",
              "<style>\n",
              "  .colab-df-quickchart {\n",
              "      --bg-color: #E8F0FE;\n",
              "      --fill-color: #1967D2;\n",
              "      --hover-bg-color: #E2EBFA;\n",
              "      --hover-fill-color: #174EA6;\n",
              "      --disabled-fill-color: #AAA;\n",
              "      --disabled-bg-color: #DDD;\n",
              "  }\n",
              "\n",
              "  [theme=dark] .colab-df-quickchart {\n",
              "      --bg-color: #3B4455;\n",
              "      --fill-color: #D2E3FC;\n",
              "      --hover-bg-color: #434B5C;\n",
              "      --hover-fill-color: #FFFFFF;\n",
              "      --disabled-bg-color: #3B4455;\n",
              "      --disabled-fill-color: #666;\n",
              "  }\n",
              "\n",
              "  .colab-df-quickchart {\n",
              "    background-color: var(--bg-color);\n",
              "    border: none;\n",
              "    border-radius: 50%;\n",
              "    cursor: pointer;\n",
              "    display: none;\n",
              "    fill: var(--fill-color);\n",
              "    height: 32px;\n",
              "    padding: 0;\n",
              "    width: 32px;\n",
              "  }\n",
              "\n",
              "  .colab-df-quickchart:hover {\n",
              "    background-color: var(--hover-bg-color);\n",
              "    box-shadow: 0 1px 2px rgba(60, 64, 67, 0.3), 0 1px 3px 1px rgba(60, 64, 67, 0.15);\n",
              "    fill: var(--button-hover-fill-color);\n",
              "  }\n",
              "\n",
              "  .colab-df-quickchart-complete:disabled,\n",
              "  .colab-df-quickchart-complete:disabled:hover {\n",
              "    background-color: var(--disabled-bg-color);\n",
              "    fill: var(--disabled-fill-color);\n",
              "    box-shadow: none;\n",
              "  }\n",
              "\n",
              "  .colab-df-spinner {\n",
              "    border: 2px solid var(--fill-color);\n",
              "    border-color: transparent;\n",
              "    border-bottom-color: var(--fill-color);\n",
              "    animation:\n",
              "      spin 1s steps(1) infinite;\n",
              "  }\n",
              "\n",
              "  @keyframes spin {\n",
              "    0% {\n",
              "      border-color: transparent;\n",
              "      border-bottom-color: var(--fill-color);\n",
              "      border-left-color: var(--fill-color);\n",
              "    }\n",
              "    20% {\n",
              "      border-color: transparent;\n",
              "      border-left-color: var(--fill-color);\n",
              "      border-top-color: var(--fill-color);\n",
              "    }\n",
              "    30% {\n",
              "      border-color: transparent;\n",
              "      border-left-color: var(--fill-color);\n",
              "      border-top-color: var(--fill-color);\n",
              "      border-right-color: var(--fill-color);\n",
              "    }\n",
              "    40% {\n",
              "      border-color: transparent;\n",
              "      border-right-color: var(--fill-color);\n",
              "      border-top-color: var(--fill-color);\n",
              "    }\n",
              "    60% {\n",
              "      border-color: transparent;\n",
              "      border-right-color: var(--fill-color);\n",
              "    }\n",
              "    80% {\n",
              "      border-color: transparent;\n",
              "      border-right-color: var(--fill-color);\n",
              "      border-bottom-color: var(--fill-color);\n",
              "    }\n",
              "    90% {\n",
              "      border-color: transparent;\n",
              "      border-bottom-color: var(--fill-color);\n",
              "    }\n",
              "  }\n",
              "</style>\n",
              "\n",
              "  <script>\n",
              "    async function quickchart(key) {\n",
              "      const quickchartButtonEl =\n",
              "        document.querySelector('#' + key + ' button');\n",
              "      quickchartButtonEl.disabled = true;  // To prevent multiple clicks.\n",
              "      quickchartButtonEl.classList.add('colab-df-spinner');\n",
              "      try {\n",
              "        const charts = await google.colab.kernel.invokeFunction(\n",
              "            'suggestCharts', [key], {});\n",
              "      } catch (error) {\n",
              "        console.error('Error during call to suggestCharts:', error);\n",
              "      }\n",
              "      quickchartButtonEl.classList.remove('colab-df-spinner');\n",
              "      quickchartButtonEl.classList.add('colab-df-quickchart-complete');\n",
              "    }\n",
              "    (() => {\n",
              "      let quickchartButtonEl =\n",
              "        document.querySelector('#df-fea64607-bf46-4216-9489-a178e30c5c81 button');\n",
              "      quickchartButtonEl.style.display =\n",
              "        google.colab.kernel.accessAllowed ? 'block' : 'none';\n",
              "    })();\n",
              "  </script>\n",
              "</div>\n",
              "\n",
              "    </div>\n",
              "  </div>\n"
            ]
          },
          "metadata": {},
          "execution_count": 17
        }
      ]
    },
    {
      "cell_type": "code",
      "source": [
        "#plot accuracy\n",
        "pd.DataFrame(history.history).plot()"
      ],
      "metadata": {
        "colab": {
          "base_uri": "https://localhost:8080/",
          "height": 447
        },
        "id": "RIo8rARh5dR9",
        "outputId": "15401700-4b09-4a92-8dd6-3b8a85220d15"
      },
      "execution_count": 18,
      "outputs": [
        {
          "output_type": "execute_result",
          "data": {
            "text/plain": [
              "<Axes: >"
            ]
          },
          "metadata": {},
          "execution_count": 18
        },
        {
          "output_type": "display_data",
          "data": {
            "text/plain": [
              "<Figure size 640x480 with 1 Axes>"
            ],
            "image/png": "[encoded data removed]"
          },
          "metadata": {}
        }
      ]
    },
    {
      "cell_type": "markdown",
      "source": [
        "Q9)Discuss the considerations and tradeoffs when choosing the appropriate regularization technique for a\n",
        "given deep learning task?"
      ],
      "metadata": {
        "id": "RsI24--j5viI"
      }
    },
    {
      "cell_type": "markdown",
      "source": [
        "Choosing the appropriate regularization technique for a deep learning task involves considering various factors and trade-offs. Here are key considerations and trade-offs when selecting a regularization technique:\n",
        "\n",
        "1. **Type of Regularization:**\n",
        "   - **L1 and L2 Regularization:** These techniques penalize large weights. L1 regularization tends to drive some weights to exactly zero, promoting sparsity, while L2 regularization discourages large weights but usually does not lead to sparsity.\n",
        "   - **Dropout:** Involves randomly dropping out neurons during training, preventing co-adaptation of neurons and acting as a form of ensemble learning.\n",
        "   - **Batch Normalization:** Normalizes layer inputs within mini-batches, introducing noise and reducing internal covariate shift.\n",
        "\n",
        "2. **Effect on Model Complexity:**\n",
        "   - **L1 and L2 Regularization:** Control model complexity by penalizing large weights. L1 regularization may lead to sparsity, simplifying the model.\n",
        "   - **Dropout:** Acts as a regularizer by preventing reliance on specific neurons, introducing noise, and promoting more robust features.\n",
        "   - **Batch Normalization:** Reduces internal covariate shift, stabilizing training, and introducing noise.\n",
        "\n",
        "3. **Interpretability:**\n",
        "   - **L1 and L2 Regularization:** Can be more interpretable as they directly penalize certain weight magnitudes.\n",
        "   - **Dropout and Batch Normalization:** May be less interpretable, as their effects are more implicit and involve stochastic processes.\n",
        "\n",
        "4. **Computational Complexity:**\n",
        "   - **L1 and L2 Regularization:** Often have lower computational overhead compared to techniques like dropout.\n",
        "   - **Dropout:** Involves additional computations during training due to the random dropout process.\n",
        "   - **Batch Normalization:** Requires additional computations for normalization and learnable scaling and shifting.\n",
        "\n",
        "5. **Data Characteristics:**\n",
        "   - **Small Datasets:** Regularization techniques are particularly important for small datasets where overfitting is a greater concern.\n",
        "   - **Large Datasets:** With sufficient data, the need for regularization may be reduced, and simpler models might suffice.\n",
        "\n",
        "6. **Training Time:**\n",
        "   - **Early Stopping:** Can be computationally efficient and may save training time by halting the process when validation performance degrades.\n",
        "   - **Other Techniques:** May introduce additional computational overhead, potentially extending training time.\n",
        "\n",
        "7. **Hyperparameter Tuning:**\n",
        "   - **Lambda (Regularization Strength):** The strength of regularization (λ) needs to be tuned for L1 and L2 regularization.\n",
        "   - **Dropout Rate:** The dropout rate needs to be chosen for dropout regularization.\n",
        "   - **Batch Normalization Parameters:** Gamma and beta parameters in batch normalization may require tuning.\n",
        "\n",
        "8. **Model Architecture:**\n",
        "   - **Compatibility:** Certain regularization techniques may be more suitable for specific architectures. For example, batch normalization is commonly used in deep neural networks.\n",
        "\n",
        "9. **Task-Specific Considerations:**\n",
        "   - **Nature of Task:** Consider the specifics of the task (e.g., image classification, natural language processing) and the characteristics of the data.\n",
        "   - **Performance Requirements:** Consider the trade-offs between model complexity and performance requirements.\n",
        "\n",
        "10. **Empirical Testing:**\n",
        "    - **Experimentation:** It is often beneficial to empirically test multiple regularization techniques on the specific task and data to determine the most effective approach.\n",
        "\n",
        "In summary, choosing the appropriate regularization technique involves a careful consideration of the task, data, model architecture, computational constraints, and other factors. It often requires empirical testing and tuning of hyperparameters to find the right balance between preventing overfitting and maintaining model performance on new, unseen data."
      ],
      "metadata": {
        "id": "JRk6kQfm52h5"
      }
    },
    {
      "cell_type": "code",
      "source": [],
      "metadata": {
        "id": "RtCgH24h52EG"
      },
      "execution_count": null,
      "outputs": []
    }
  ]
}