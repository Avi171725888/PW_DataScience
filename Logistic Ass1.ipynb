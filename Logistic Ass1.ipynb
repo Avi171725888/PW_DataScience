{
 "cells": [
  {
   "cell_type": "markdown",
   "id": "ca4b6b94-2729-4e06-b0f8-7a08533819b4",
   "metadata": {},
   "source": [
    "Q1. Explain the difference between linear regression and logistic regression models. Provide an example of\n",
    "a scenario where logistic regression would be more appropriate."
   ]
  },
  {
   "cell_type": "markdown",
   "id": "a679dc29-3381-4eb4-925f-18fe5353df12",
   "metadata": {},
   "source": [
    "1.Linear Regression is used to handle regression problems whereas Logistic regression is used to handle the classification problems.\n",
    "2.Linear regression provides a continuous output but Logistic regression provides discreet output.\n",
    "3.The purpose of Linear Regression is to find the best-fitted line while Logistic regression is one step ahead and fitting the line values to the sigmoid curve.\n",
    "4.The method for calculating loss function in linear regression is the mean squared error whereas for logistic regression it is maximum likelihood estimation.\n",
    "5.linear regression, the coefficient interpretation of independent variables are quite straightforward (i.e.while holding all the other variables constant, when a unit increases in this variable, the dependent variable is also expected to increase/decrease).In logistic regression, depends on the family and link you use, the interpretation is different. \n",
    "6.Linear RegressionLogistic RegressionUsed to predict the continuous dependent variable using a given set of independent variables.Used to predict the categorical dependent variable using a given set of independent variables.The outputs produced must be a continuous value, such as price and age.The outputs produced must be Categorical values such as 0 or 1, Yes or No."
   ]
  },
  {
   "cell_type": "markdown",
   "id": "48ce794c-e888-4419-a62b-a090759feb82",
   "metadata": {},
   "source": [
    "Q2. What is the cost function used in logistic regression, and how is it optimized?"
   ]
  },
  {
   "cell_type": "markdown",
   "id": "973c79f2-998e-494c-a153-60b8f5c6231c",
   "metadata": {},
   "source": [
    "In the case of Linear Regression, the Cost function is:\n",
    "Case 1: If y = 1, that is the true label of the class is 1. Cost = 0 if the predicted value of the label is 1 as well. But as hθ(x) deviates from 1 and approaches 0 cost function increases exponentially and tends to infinity which can be appreciated.\n",
    "Case 2: If y = 0, that is the true label of the class is 0. Cost = 0 if the predicted value of the label is 0 as well. But as hθ(x) deviates from 0 and approaches 1 cost function increases exponentially and tends to infinity which can be appreciated."
   ]
  },
  {
   "attachments": {
    "36e8971e-8dbd-41f6-95e8-3e9dc005f8fa.png": {
     "image/png": "[encoded data removed]"
    }
   },
   "cell_type": "markdown",
   "id": "ff61d992-dc0e-4b0c-98c3-bebd52991e3d",
   "metadata": {},
   "source": [
    "![image.png](attachment:36e8971e-8dbd-41f6-95e8-3e9dc005f8fa.png)!"
   ]
  },
  {
   "cell_type": "markdown",
   "id": "85a8e2ed-b734-45dc-87a9-7dc260558b19",
   "metadata": {},
   "source": [
    "If we try to use the cost function of the linear regression in ‘Logistic Regression’ then it would be of no use as it would end up being a non-convex function with many local minimums, in which it would be very difficult to minimize the cost value and find the global minimum."
   ]
  },
  {
   "cell_type": "markdown",
   "id": "76014ae6-c324-4108-b5ab-387a98061712",
   "metadata": {},
   "source": [
    "Q3. Explain the concept of regularization in logistic regression and how it helps prevent overfitting."
   ]
  },
  {
   "cell_type": "markdown",
   "id": "617470d1-916f-49ce-a6a7-da6791118c1b",
   "metadata": {},
   "source": [
    "Regularization is a technique used to avoid overfitting in machine learning models. It does this by adding a penalty term to the objective function (also called the loss function or error function) that the model is trying to minimize.\n",
    "\n",
    "The objective function measures the error or difference between the predicted output of the model and the true output. In logistic regression, the objective function is typically the cross-entropy loss, which measures the difference between the predicted probability of the positive class and the true label (1 or 0).\n",
    "\n",
    "By adding a penalty term to the objective function, regularization helps to reduce the complexity of the model and prevent it from fitting the training data too closely. The penalty term is a hyperparameter that controls the strength of the regularization. A higher value for the penalty term leads to stronger regularization and a simpler model, while a lower value allows the model to be more complex."
   ]
  },
  {
   "cell_type": "markdown",
   "id": "a3eaebd7-c72b-49b5-b31b-7f80a1c725d8",
   "metadata": {},
   "source": [
    "Q4. What is the ROC curve, and how is it used to evaluate the performance of the logistic regression\n",
    "model?"
   ]
  },
  {
   "cell_type": "markdown",
   "id": "63a9795b-9498-4ce4-b773-afb73e0143ee",
   "metadata": {},
   "source": [
    "An ROC curve (receiver operating characteristic curve) is a graph showing the performance of a classification model at all classification thresholds. This curve plots two parameters:\n",
    "True Positive Rate\n",
    "False Positive Rate\n",
    "True Positive Rate (TPR) is a synonym for recall and is therefore defined as follows:\n",
    "TP=TP/TP+FN\n",
    "False Positive Rate (FPR) is defined as follows:\n",
    "FP=FP/FP+TN\n",
    "An ROC curve plots TPR vs. FPR at different classification thresholds. Lowering the classification threshold classifies more items as positive, thus increasing both False Positives and True Positives. The following figure shows a typical ROC curve."
   ]
  },
  {
   "cell_type": "markdown",
   "id": "d4bb4ee1-e960-4c3c-ac84-3853c578db3f",
   "metadata": {},
   "source": [
    "Q5. What are some common techniques for feature selection in logistic regression? How do these\n",
    "techniques help improve the model's performance?"
   ]
  },
  {
   "cell_type": "markdown",
   "id": "bf5daae1-ddbb-43b4-b882-d74d3758de53",
   "metadata": {},
   "source": [
    "There are several techniques that can be used to select the best features for a logistic regression model. One common method is to use a method called “RFE”.\n",
    "\n",
    "1.Recursive Feature Elimination (RFE) is a feature selection technique that involves training a model on a subset of the features, and then iteratively removing the least important features one by one until we are left with the desired number of features.\n",
    "2.Wrapper approach to feature selection involves using a search algorithm to find the best combination of features for a predictive model. The goal is to find the combination of features that results in the best model performance, as measured by a metric such as accuracy or F1 score.\n",
    "There are several types of search algorithms that can be used for wrapper feature selection, including forward selection, backward elimination, and genetic algorithms.\n",
    "3.Filter approach to feature selection involves using statistical tests or heuristics to select the most relevant features for a predictive model. The goal is to select features that are highly correlated with the target variable, as these are likely to be the most useful for prediction."
   ]
  },
  {
   "cell_type": "markdown",
   "id": "22e7e7b5-f6fa-44c7-88d4-6d7977667ad0",
   "metadata": {},
   "source": [
    "Q6. How can you handle imbalanced datasets in logistic regression? What are some strategies for dealing\n",
    "with class imbalance?"
   ]
  },
  {
   "cell_type": "markdown",
   "id": "47825edf-b3ad-46da-8e83-8542f670cb29",
   "metadata": {},
   "source": [
    "1.Choose Proper Evaluation Metric\n",
    "The accuracy of a classifier is the total number of correct predictions by the classifier divided by the total number of predictions. This may be good enough for a well-balanced class but not ideal for the imbalanced class problem. The other metrics such as precision is the measure of how accurate the classifier’s prediction of a specific class and recall is the measure of the classifier’s ability to identify a class.\n",
    "2.Resampling (Oversampling and Undersampling)\n",
    "This technique is used to upsample or downsample the minority or majority class. When we are using an imbalanced dataset, we can oversample the minority class using replacement. This technique is called oversampling. Similarly, we can randomly delete rows from the majority class to match them with the minority class which is called undersampling. After sampling the data we can get a balanced dataset for both majority and minority classes. So, when both classes have a similar number of records present in the dataset, we can assume that the classifier will give equal importance to both classes.\n",
    "3.SMOTE\n",
    "Synthetic Minority Oversampling Technique or SMOTE is another technique to oversample the minority class. Simply adding duplicate records of minority class often don’t add any new information to the model. In SMOTE new instances are synthesized from the existing data. If we explain it in simple words, SMOTE looks into minority class instances and use k nearest neighbor to select a random nearest neighbor, and a synthetic instance is created randomly in feature space.\n",
    "4.BalancedBaggingClassifier\n",
    "When we try to use a usual classifier to classify an imbalanced dataset, the model favors the majority class due to its larger volume presence. A BalancedBaggingClassifier is the same as a sklearn classifier but with additional balancing. It includes an additional step to balance the training set at the time of fit for a given sampler. This classifier takes two special parameters “sampling_strategy” and “replacement”. The sampling_strategy decides the type of resampling required (e.g. ‘majority’ – resample only the majority class, ‘all’ – resample all classes, etc) and replacement decides whether it is going to be a sample with replacement or not."
   ]
  },
  {
   "cell_type": "markdown",
   "id": "92c5c10f-fbad-4e3f-b050-8fe8969ff014",
   "metadata": {},
   "source": [
    "Q7. Can you discuss some common issues and challenges that may arise when implementing logistic\n",
    "regression, and how they can be addressed? For example, what can be done if there is multicollinearity\n",
    "among the independent variables?"
   ]
  },
  {
   "cell_type": "markdown",
   "id": "4b240e56-d922-4b91-b28c-3d84ba49416b",
   "metadata": {},
   "source": [
    "There are several potential challenges when implementing logistic regression in a real-world situation. Some of the most common include:\n",
    "\n",
    "Data quality: Logistic regression requires a large amount of high-quality data to train and validate the model. If the data is incomplete, inaccurate, or biased, the model's predictions may be unreliable.\n",
    "\n",
    "Data preprocessing: Logistic regression typically requires preprocessing of the data, such as scaling or normalization, to ensure that the model can properly interpret the inputs.\n",
    "\n",
    "Overfitting: Logistic regression is prone to overfitting, especially if the model is too complex or if there is a small amount of data. Overfitting occurs when the model becomes too good at fitting the training data and performs poorly on new, unseen data.\n",
    "\n",
    "Multicollinearity: Logistic regression assumes that the input variables are independent of each other. However, in practice, it is often the case that input variables are correlated, which can lead to multicollinearity and unstable model coefficients.\n",
    "\n",
    "Interpreting the results: Interpreting the results of a logistic regression model can be challenging, especially if the model is complex and there are many input variables. It is important to carefully evaluate the model's performance and to interpret the coefficients in the context of the problem"
   ]
  },
  {
   "cell_type": "markdown",
   "id": "325d45c0-46e2-406e-9868-1a54bd0743a7",
   "metadata": {},
   "source": [
    "The potential solutions include the following:\n",
    "1.Remove some of the highly correlated independent variables.\n",
    "2.Linearly combine the independent variables, such as adding them together.\n",
    "3.Partial least squares regression uses principal component analysis to create a set of uncorrelated components to include in the model.\n",
    "4.LASSO and Ridge regression are advanced forms of regression analysis that can handle multicollinearity. If you know how to perform linear least squares regression, you’ll be able to handle these analyses with just a little additional study."
   ]
  }
 ],
 "metadata": {
  "kernelspec": {
   "display_name": "Python 3 (ipykernel)",
   "language": "python",
   "name": "python3"
  },
  "language_info": {
   "codemirror_mode": {
    "name": "ipython",
    "version": 3
   },
   "file_extension": ".py",
   "mimetype": "text/x-python",
   "name": "python",
   "nbconvert_exporter": "python",
   "pygments_lexer": "ipython3",
   "version": "3.10.8"
  }
 },
 "nbformat": 4,
 "nbformat_minor": 5
}
