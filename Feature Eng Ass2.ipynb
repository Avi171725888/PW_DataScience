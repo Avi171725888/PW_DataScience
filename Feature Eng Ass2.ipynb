{
 "cells": [
  {
   "cell_type": "markdown",
   "id": "da2c3ca3-1a30-407b-b43e-97dd99af750c",
   "metadata": {},
   "source": [
    "Q1. What is Min-Max scaling, and how is it used in data preprocessing? Provide an example to illustrate its\n",
    "application."
   ]
  },
  {
   "cell_type": "markdown",
   "id": "92fe5d48-4b17-403d-9ebb-adeb63067776",
   "metadata": {},
   "source": [
    "Data Scaling is a data preprocessing step for numerical features. Many machine learning algorithms like Gradient descent methods, KNN algorithm, linear and logistic regression, etc. require data scaling to produce good results. Various scalers are defined for this purpose. This article concentrates on Standard Scaler and Min-Max scaler. The task here is to discuss what they mean and how they are implemented using in-built functions that come with this package.\n",
    "\n",
    "Apart from supporting library functions other functions that will be used to achieve the functionality are:\n",
    "\n",
    "The fit(data) method is used to compute the mean and std dev for a given feature so that it can be used further for scaling.\n",
    "The transform(data) method is used to perform scaling using mean and std dev calculated using the .fit() method.\n",
    "The fit_transform() method does both fit and transform."
   ]
  },
  {
   "cell_type": "code",
   "execution_count": 2,
   "id": "68d54410-f95f-4e37-aa22-82f484bd4a6c",
   "metadata": {},
   "outputs": [
    {
     "name": "stdout",
     "output_type": "stream",
     "text": [
      "[[ 0.97596444 -1.61155897]\n",
      " [-0.66776515  0.08481889]\n",
      " [-1.28416374  1.10264561]\n",
      " [ 0.97596444  0.42409446]]\n"
     ]
    }
   ],
   "source": [
    "from sklearn.preprocessing import StandardScaler\n",
    " \n",
    "\n",
    "data = [[11, 2], [3, 7], [0, 10], [11, 8]]\n",
    "\n",
    "scaler = StandardScaler()\n",
    "model = scaler.fit(data)\n",
    "scaled_data = model.transform(data)\n",
    " \n",
    "\n",
    "print(scaled_data)"
   ]
  },
  {
   "cell_type": "markdown",
   "id": "87bfd7db-336d-4130-93ed-e23e8d5a6bc8",
   "metadata": {},
   "source": [
    "Q2. What is the Unit Vector technique in feature scaling, and how does it differ from Min-Max scaling?\n",
    "Provide an example to illustrate its application."
   ]
  },
  {
   "cell_type": "markdown",
   "id": "7b96125e-7d14-4e79-ae35-f17a7c42b015",
   "metadata": {},
   "source": [
    "Scaling is done considering the whole feature vector to be of unit length. This usually means dividing each component by the Euclidean length of the vector (L2 Norm). In some applications (e.g., histogram features), it can be more practical to use the L1 norm of the feature vector.\n",
    "\n",
    "Like Min-Max Scaling, the Unit Vector technique produces values of range [0,1]. When dealing with features with hard boundaries, this is quite useful. For example, when dealing with image data, the colors can range from only 0 to 255."
   ]
  },
  {
   "cell_type": "code",
   "execution_count": 7,
   "id": "13211928-b3ba-420c-95ba-e098e2dfcca8",
   "metadata": {},
   "outputs": [],
   "source": [
    "import seaborn as sns\n",
    "from sklearn.preprocessing import normalize"
   ]
  },
  {
   "cell_type": "code",
   "execution_count": 8,
   "id": "3b963f75-5084-4da3-a683-a38f95b2fe07",
   "metadata": {},
   "outputs": [],
   "source": [
    "df=sns.load_dataset('iris')"
   ]
  },
  {
   "cell_type": "code",
   "execution_count": 11,
   "id": "4723c7f6-3b82-49aa-8b48-b4c4d67847be",
   "metadata": {},
   "outputs": [],
   "source": [
    "normal=normalize(df[['sepal_width']])"
   ]
  },
  {
   "cell_type": "code",
   "execution_count": 12,
   "id": "5ed30d55-49f3-4799-8262-fe51ce645947",
   "metadata": {},
   "outputs": [
    {
     "data": {
      "text/plain": [
       "array([[1.],\n",
       "       [1.],\n",
       "       [1.],\n",
       "       [1.],\n",
       "       [1.],\n",
       "       [1.],\n",
       "       [1.],\n",
       "       [1.],\n",
       "       [1.],\n",
       "       [1.],\n",
       "       [1.],\n",
       "       [1.],\n",
       "       [1.],\n",
       "       [1.],\n",
       "       [1.],\n",
       "       [1.],\n",
       "       [1.],\n",
       "       [1.],\n",
       "       [1.],\n",
       "       [1.],\n",
       "       [1.],\n",
       "       [1.],\n",
       "       [1.],\n",
       "       [1.],\n",
       "       [1.],\n",
       "       [1.],\n",
       "       [1.],\n",
       "       [1.],\n",
       "       [1.],\n",
       "       [1.],\n",
       "       [1.],\n",
       "       [1.],\n",
       "       [1.],\n",
       "       [1.],\n",
       "       [1.],\n",
       "       [1.],\n",
       "       [1.],\n",
       "       [1.],\n",
       "       [1.],\n",
       "       [1.],\n",
       "       [1.],\n",
       "       [1.],\n",
       "       [1.],\n",
       "       [1.],\n",
       "       [1.],\n",
       "       [1.],\n",
       "       [1.],\n",
       "       [1.],\n",
       "       [1.],\n",
       "       [1.],\n",
       "       [1.],\n",
       "       [1.],\n",
       "       [1.],\n",
       "       [1.],\n",
       "       [1.],\n",
       "       [1.],\n",
       "       [1.],\n",
       "       [1.],\n",
       "       [1.],\n",
       "       [1.],\n",
       "       [1.],\n",
       "       [1.],\n",
       "       [1.],\n",
       "       [1.],\n",
       "       [1.],\n",
       "       [1.],\n",
       "       [1.],\n",
       "       [1.],\n",
       "       [1.],\n",
       "       [1.],\n",
       "       [1.],\n",
       "       [1.],\n",
       "       [1.],\n",
       "       [1.],\n",
       "       [1.],\n",
       "       [1.],\n",
       "       [1.],\n",
       "       [1.],\n",
       "       [1.],\n",
       "       [1.],\n",
       "       [1.],\n",
       "       [1.],\n",
       "       [1.],\n",
       "       [1.],\n",
       "       [1.],\n",
       "       [1.],\n",
       "       [1.],\n",
       "       [1.],\n",
       "       [1.],\n",
       "       [1.],\n",
       "       [1.],\n",
       "       [1.],\n",
       "       [1.],\n",
       "       [1.],\n",
       "       [1.],\n",
       "       [1.],\n",
       "       [1.],\n",
       "       [1.],\n",
       "       [1.],\n",
       "       [1.],\n",
       "       [1.],\n",
       "       [1.],\n",
       "       [1.],\n",
       "       [1.],\n",
       "       [1.],\n",
       "       [1.],\n",
       "       [1.],\n",
       "       [1.],\n",
       "       [1.],\n",
       "       [1.],\n",
       "       [1.],\n",
       "       [1.],\n",
       "       [1.],\n",
       "       [1.],\n",
       "       [1.],\n",
       "       [1.],\n",
       "       [1.],\n",
       "       [1.],\n",
       "       [1.],\n",
       "       [1.],\n",
       "       [1.],\n",
       "       [1.],\n",
       "       [1.],\n",
       "       [1.],\n",
       "       [1.],\n",
       "       [1.],\n",
       "       [1.],\n",
       "       [1.],\n",
       "       [1.],\n",
       "       [1.],\n",
       "       [1.],\n",
       "       [1.],\n",
       "       [1.],\n",
       "       [1.],\n",
       "       [1.],\n",
       "       [1.],\n",
       "       [1.],\n",
       "       [1.],\n",
       "       [1.],\n",
       "       [1.],\n",
       "       [1.],\n",
       "       [1.],\n",
       "       [1.],\n",
       "       [1.],\n",
       "       [1.],\n",
       "       [1.],\n",
       "       [1.],\n",
       "       [1.],\n",
       "       [1.],\n",
       "       [1.]])"
      ]
     },
     "execution_count": 12,
     "metadata": {},
     "output_type": "execute_result"
    }
   ],
   "source": [
    "normal"
   ]
  },
  {
   "cell_type": "markdown",
   "id": "e087b59f-a893-4ebb-ba84-cbf293dd5689",
   "metadata": {},
   "source": [
    "Q3. What is PCA (Principle Component Analysis), and how is it used in dimensionality reduction? Provide an\n",
    "example to illustrate its application."
   ]
  },
  {
   "cell_type": "markdown",
   "id": "40c6df7b-9d8b-4fc1-8cd6-47b4ecb1ea13",
   "metadata": {},
   "source": [
    "Principal Component Analysis(PCA) technique was introduced by the mathematician Karl Pearson in 1901. It works on the condition that while the data in a higher dimensional space is mapped to data in a lower dimension space, the variance of the data in the lower dimensional space should be maximum. \n",
    "Principal Component Analysis (PCA) is a statistical procedure that uses an orthogonal transformation that converts a set of correlated variables to a set of uncorrelated variables.PCA is the most widely used tool in exploratory data analysis and in machine learning for predictive models. Moreover, \n",
    "Principal Component Analysis (PCA) is an unsupervised learning algorithm technique used to examine the interrelations among a set of variables. It is also known as a general factor analysis where regression determines a line of best fit. \n",
    "The main goal of Principal Component Analysis (PCA) is to reduce the dimensionality of a dataset while preserving the most important patterns or relationships between the variables without any prior knowledge of the target variables. \n",
    "Principal Component Analysis (PCA) is used to reduce the dimensionality of a data set by finding a new set of variables, smaller than the original set of variables, retaining most of the sample’s information, and useful for the regression and classification of data."
   ]
  },
  {
   "cell_type": "code",
   "execution_count": 13,
   "id": "7f1ecd94-4b71-4119-97d6-3c0b002b103e",
   "metadata": {},
   "outputs": [],
   "source": [
    "from sklearn.decomposition import PCA"
   ]
  },
  {
   "cell_type": "code",
   "execution_count": 14,
   "id": "6cd589eb-23f4-4114-9a80-fcd6e94e3202",
   "metadata": {},
   "outputs": [],
   "source": [
    "df1=df[['sepal_width','sepal_length']]"
   ]
  },
  {
   "cell_type": "code",
   "execution_count": 16,
   "id": "e6d00b55-9e1f-4ca1-87c6-c15dffcc6b3b",
   "metadata": {},
   "outputs": [],
   "source": [
    "pca = PCA(n_components=2)"
   ]
  },
  {
   "cell_type": "code",
   "execution_count": 17,
   "id": "ca5294d2-2386-47f3-9084-318af63de52c",
   "metadata": {},
   "outputs": [],
   "source": [
    "pca.fit(df1)\n",
    "x_pca = pca.transform(df1)"
   ]
  },
  {
   "cell_type": "code",
   "execution_count": 18,
   "id": "fc9e5921-0fb0-4b52-84df-47a23b8c8861",
   "metadata": {},
   "outputs": [
    {
     "data": {
      "text/plain": [
       "array([[-7.78147798e-01,  3.78132552e-01],\n",
       "       [-9.35090313e-01, -1.37007280e-01],\n",
       "       [-1.15130764e+00,  4.53387267e-02],\n",
       "       [-1.24248065e+00, -6.27699381e-02],\n",
       "       [-8.86256463e-01,  4.69305555e-01],\n",
       "       [-5.13096618e-01,  8.02099381e-01],\n",
       "       [-1.26788414e+00,  2.36152565e-01],\n",
       "       [-8.69320802e-01,  2.70023887e-01],\n",
       "       [-1.42482665e+00, -2.78987268e-01],\n",
       "       [-9.43558144e-01, -3.73664462e-02],\n",
       "       [-4.96160957e-01,  6.02817712e-01],\n",
       "       [-1.06860247e+00,  2.53088226e-01],\n",
       "       [-1.03473115e+00, -1.45475111e-01],\n",
       "       [-1.53293532e+00, -1.87814264e-01],\n",
       "       [-1.23001111e-01,  9.35611537e-01],\n",
       "       [-2.56513268e-01,  1.32570704e+00],\n",
       "       [-5.13096618e-01,  8.02099381e-01],\n",
       "       [-7.78147798e-01,  3.78132552e-01],\n",
       "       [-2.05706284e-01,  7.27862038e-01],\n",
       "       [-8.03551290e-01,  6.77055055e-01],\n",
       "       [-4.70757465e-01,  3.03895210e-01],\n",
       "       [-7.95083459e-01,  5.77414220e-01],\n",
       "       [-1.28481980e+00,  4.35434233e-01],\n",
       "       [-7.61212137e-01,  1.78850883e-01],\n",
       "       [-1.06860247e+00,  2.53088226e-01],\n",
       "       [-8.35449479e-01, -1.28539450e-01],\n",
       "       [-8.69320802e-01,  2.70023887e-01],\n",
       "       [-6.78506964e-01,  3.86600383e-01],\n",
       "       [-6.70039133e-01,  2.86959548e-01],\n",
       "       [-1.15130764e+00,  4.53387267e-02],\n",
       "       [-1.04319898e+00, -4.58342769e-02],\n",
       "       [-4.70757465e-01,  3.03895210e-01],\n",
       "       [-7.29313947e-01,  9.84445388e-01],\n",
       "       [-4.38859275e-01,  1.10948971e+00],\n",
       "       [-9.43558144e-01, -3.73664462e-02],\n",
       "       [-8.52385140e-01,  7.07422186e-02],\n",
       "       [-3.79584461e-01,  4.12003874e-01],\n",
       "       [-9.85897297e-01,  4.60837725e-01],\n",
       "       [-1.43329448e+00, -1.79346434e-01],\n",
       "       [-7.69679967e-01,  2.78491718e-01],\n",
       "       [-8.77788632e-01,  3.69664721e-01],\n",
       "       [-1.27437884e+00, -8.68364443e-01],\n",
       "       [-1.45023015e+00,  1.99352349e-02],\n",
       "       [-8.77788632e-01,  3.69664721e-01],\n",
       "       [-8.03551290e-01,  6.77055055e-01],\n",
       "       [-1.03473115e+00, -1.45475111e-01],\n",
       "       [-8.03551290e-01,  6.77055055e-01],\n",
       "       [-1.25094848e+00,  3.68708961e-02],\n",
       "       [-5.95801791e-01,  5.94349882e-01],\n",
       "       [-8.60852971e-01,  1.70383053e-01],\n",
       "       [ 1.14043154e+00,  2.40098831e-01],\n",
       "       [ 5.42586539e-01,  1.89291847e-01],\n",
       "       [ 1.04925854e+00,  1.31990166e-01],\n",
       "       [-2.77970494e-01, -7.83686136e-01],\n",
       "       [ 6.76098696e-01, -2.00803659e-01],\n",
       "       [-1.21027978e-01, -2.68546304e-01],\n",
       "       [ 4.34477874e-01,  2.80464851e-01],\n",
       "       [-8.84283330e-01, -7.34852286e-01],\n",
       "       [ 7.67271699e-01, -9.26949942e-02],\n",
       "       [-6.10764319e-01, -4.10526291e-01],\n",
       "       [-7.50771173e-01, -1.12494779e+00],\n",
       "       [ 6.13180289e-02, -5.23289743e-02],\n",
       "       [ 2.28701508e-01, -8.40987817e-01],\n",
       "       [ 2.69067528e-01, -1.35034147e-01],\n",
       "       [-2.29136643e-01, -1.77373300e-01],\n",
       "       [ 8.49976872e-01,  1.15054505e-01],\n",
       "       [-2.37604474e-01, -7.77324661e-02],\n",
       "       [-1.29193134e-02, -3.59719308e-01],\n",
       "       [ 4.27983177e-01, -8.24052156e-01],\n",
       "       [-1.95265321e-01, -5.75936637e-01],\n",
       "       [ 4.43823677e-02,  1.46952694e-01],\n",
       "       [ 2.77535359e-01, -2.34674981e-01],\n",
       "       [ 5.02220519e-01, -5.16661823e-01],\n",
       "       [ 2.77535359e-01, -2.34674981e-01],\n",
       "       [ 5.67990031e-01, -1.09630655e-01],\n",
       "       [ 7.58803869e-01,  6.94584007e-03],\n",
       "       [ 9.75021198e-01, -1.75400167e-01],\n",
       "       [ 8.58444703e-01,  1.54136707e-02],\n",
       "       [ 1.69426694e-01, -1.43501978e-01],\n",
       "       [-1.04092317e-01, -4.67827972e-01],\n",
       "       [-2.86438324e-01, -6.84045302e-01],\n",
       "       [-2.86438324e-01, -6.84045302e-01],\n",
       "       [-1.29193134e-02, -3.59719308e-01],\n",
       "       [ 1.86362355e-01, -3.42783646e-01],\n",
       "       [-4.36886142e-01, -9.46681274e-02],\n",
       "       [ 1.27087541e-01,  3.54702193e-01],\n",
       "       [ 8.49976872e-01,  1.15054505e-01],\n",
       "       [ 5.19156180e-01, -7.15943491e-01],\n",
       "       [-2.37604474e-01, -7.77324661e-02],\n",
       "       [-2.94906155e-01, -5.84404468e-01],\n",
       "       [-3.03373985e-01, -4.84763634e-01],\n",
       "       [ 2.60599697e-01, -3.53933130e-02],\n",
       "       [-4.45148279e-03, -4.59360142e-01],\n",
       "       [-7.76174665e-01, -8.26025289e-01],\n",
       "       [-2.12200982e-01, -3.76654969e-01],\n",
       "       [-1.37963639e-01, -6.92646355e-02],\n",
       "       [-1.29495809e-01, -1.68905470e-01],\n",
       "       [ 3.68708362e-01, -1.26566317e-01],\n",
       "       [-6.93469492e-01, -6.18275790e-01],\n",
       "       [-1.21027978e-01, -2.68546304e-01],\n",
       "       [ 4.34477874e-01,  2.80464851e-01],\n",
       "       [-1.29193134e-02, -3.59719308e-01],\n",
       "       [ 1.25700804e+00,  4.92849932e-02],\n",
       "       [ 4.68349196e-01, -1.18098486e-01],\n",
       "       [ 6.59163034e-01, -1.52199055e-03],\n",
       "       [ 1.75521221e+00,  9.16241463e-02],\n",
       "       [-8.92751160e-01, -6.35211452e-01],\n",
       "       [ 1.46475754e+00, -3.34201798e-02],\n",
       "       [ 9.00783856e-01, -4.82790500e-01],\n",
       "       [ 1.30584189e+00,  6.55597829e-01],\n",
       "       [ 6.42227373e-01,  1.97759678e-01],\n",
       "       [ 5.84925692e-01, -3.08912324e-01],\n",
       "       [ 9.58085537e-01,  2.38815013e-02],\n",
       "       [-9.56244864e-02, -5.67468807e-01],\n",
       "       [-2.13871440e-02, -2.60078473e-01],\n",
       "       [ 5.42586539e-01,  1.89291847e-01],\n",
       "       [ 6.59163034e-01, -1.52199055e-03],\n",
       "       [ 1.78711040e+00,  8.97218651e-01],\n",
       "       [ 1.88872437e+00, -2.98471360e-01],\n",
       "       [ 2.28701508e-01, -8.40987817e-01],\n",
       "       [ 1.04079071e+00,  2.31631000e-01],\n",
       "       [-2.20668812e-01, -2.77014135e-01],\n",
       "       [ 1.87178871e+00, -9.91896916e-02],\n",
       "       [ 4.85284858e-01, -3.17380154e-01],\n",
       "       [ 8.33041211e-01,  3.14336173e-01],\n",
       "       [ 1.33971321e+00,  2.57034492e-01],\n",
       "       [ 3.77176193e-01, -2.26207151e-01],\n",
       "       [ 2.60599697e-01, -3.53933130e-02],\n",
       "       [ 5.76457861e-01, -2.09271490e-01],\n",
       "       [ 1.35664887e+00,  5.77528238e-02],\n",
       "       [ 1.57286620e+00, -1.24593183e-01],\n",
       "       [ 1.98639207e+00,  9.14154312e-01],\n",
       "       [ 5.76457861e-01, -2.09271490e-01],\n",
       "       [ 4.76817027e-01, -2.17739320e-01],\n",
       "       [ 2.94471020e-01, -4.33956650e-01],\n",
       "       [ 1.85485304e+00,  1.00091977e-01],\n",
       "       [ 4.26010043e-01,  3.80105685e-01],\n",
       "       [ 5.51054369e-01,  8.96510131e-02],\n",
       "       [ 1.60958863e-01, -4.38611436e-02],\n",
       "       [ 1.04925854e+00,  1.31990166e-01],\n",
       "       [ 8.49976872e-01,  1.15054505e-01],\n",
       "       [ 1.04925854e+00,  1.31990166e-01],\n",
       "       [-1.29193134e-02, -3.59719308e-01],\n",
       "       [ 9.41149876e-01,  2.23163170e-01],\n",
       "       [ 8.33041211e-01,  3.14336173e-01],\n",
       "       [ 8.58444703e-01,  1.54136707e-02],\n",
       "       [ 5.02220519e-01, -5.16661823e-01],\n",
       "       [ 6.59163034e-01, -1.52199055e-03],\n",
       "       [ 3.26369209e-01,  3.71637854e-01],\n",
       "       [ 6.13180289e-02, -5.23289743e-02]])"
      ]
     },
     "execution_count": 18,
     "metadata": {},
     "output_type": "execute_result"
    }
   ],
   "source": [
    "x_pca"
   ]
  },
  {
   "cell_type": "markdown",
   "id": "9ea8c1ef-b489-4637-98d6-1388a468ad07",
   "metadata": {},
   "source": [
    "Q4. What is the relationship between PCA and Feature Extraction, and how can PCA be used for Feature\n",
    "Extraction? Provide an example to illustrate this concept."
   ]
  },
  {
   "cell_type": "markdown",
   "id": "1a2826b2-76aa-426f-8a70-45e65174fb3e",
   "metadata": {},
   "source": [
    "Principal component analysis (PCA) is an unsupervised linear transformation technique which is primarily used for feature extraction and dimensionality reduction. It aims to find the directions of maximum variance in high-dimensional data and projects the data onto a new subspace with equal or fewer dimensions than the original one. In the diagram given below, note the directions of maximum variance of data. This is represented using PCA1 (first maximum variance) and PC2 (2nd maximum variance).\n",
    "How is PCA different than other feature selection techniques?\n",
    "The way PCA is different from other feature selection techniques such as random forest, regularization techniques, forward/backward selection techniques etc is that it does not require class labels to be present (thus called as unsupervised). More details along with Python code example will be shared in future posts."
   ]
  },
  {
   "cell_type": "code",
   "execution_count": 19,
   "id": "4159b523-6ea9-495f-be17-3044776e2810",
   "metadata": {},
   "outputs": [],
   "source": [
    "from sklearn.decomposition import PCA\n",
    "df1=df[['sepal_width','sepal_length']]\n",
    "pca = PCA(n_components=2)\n",
    "pca.fit(df1)\n",
    "x_pca = pca.transform(df1)"
   ]
  },
  {
   "cell_type": "code",
   "execution_count": 20,
   "id": "31fca75d-2ee5-48b8-b78b-134bcc8cfdd7",
   "metadata": {},
   "outputs": [
    {
     "data": {
      "text/plain": [
       "array([[-7.78147798e-01,  3.78132552e-01],\n",
       "       [-9.35090313e-01, -1.37007280e-01],\n",
       "       [-1.15130764e+00,  4.53387267e-02],\n",
       "       [-1.24248065e+00, -6.27699381e-02],\n",
       "       [-8.86256463e-01,  4.69305555e-01],\n",
       "       [-5.13096618e-01,  8.02099381e-01],\n",
       "       [-1.26788414e+00,  2.36152565e-01],\n",
       "       [-8.69320802e-01,  2.70023887e-01],\n",
       "       [-1.42482665e+00, -2.78987268e-01],\n",
       "       [-9.43558144e-01, -3.73664462e-02],\n",
       "       [-4.96160957e-01,  6.02817712e-01],\n",
       "       [-1.06860247e+00,  2.53088226e-01],\n",
       "       [-1.03473115e+00, -1.45475111e-01],\n",
       "       [-1.53293532e+00, -1.87814264e-01],\n",
       "       [-1.23001111e-01,  9.35611537e-01],\n",
       "       [-2.56513268e-01,  1.32570704e+00],\n",
       "       [-5.13096618e-01,  8.02099381e-01],\n",
       "       [-7.78147798e-01,  3.78132552e-01],\n",
       "       [-2.05706284e-01,  7.27862038e-01],\n",
       "       [-8.03551290e-01,  6.77055055e-01],\n",
       "       [-4.70757465e-01,  3.03895210e-01],\n",
       "       [-7.95083459e-01,  5.77414220e-01],\n",
       "       [-1.28481980e+00,  4.35434233e-01],\n",
       "       [-7.61212137e-01,  1.78850883e-01],\n",
       "       [-1.06860247e+00,  2.53088226e-01],\n",
       "       [-8.35449479e-01, -1.28539450e-01],\n",
       "       [-8.69320802e-01,  2.70023887e-01],\n",
       "       [-6.78506964e-01,  3.86600383e-01],\n",
       "       [-6.70039133e-01,  2.86959548e-01],\n",
       "       [-1.15130764e+00,  4.53387267e-02],\n",
       "       [-1.04319898e+00, -4.58342769e-02],\n",
       "       [-4.70757465e-01,  3.03895210e-01],\n",
       "       [-7.29313947e-01,  9.84445388e-01],\n",
       "       [-4.38859275e-01,  1.10948971e+00],\n",
       "       [-9.43558144e-01, -3.73664462e-02],\n",
       "       [-8.52385140e-01,  7.07422186e-02],\n",
       "       [-3.79584461e-01,  4.12003874e-01],\n",
       "       [-9.85897297e-01,  4.60837725e-01],\n",
       "       [-1.43329448e+00, -1.79346434e-01],\n",
       "       [-7.69679967e-01,  2.78491718e-01],\n",
       "       [-8.77788632e-01,  3.69664721e-01],\n",
       "       [-1.27437884e+00, -8.68364443e-01],\n",
       "       [-1.45023015e+00,  1.99352349e-02],\n",
       "       [-8.77788632e-01,  3.69664721e-01],\n",
       "       [-8.03551290e-01,  6.77055055e-01],\n",
       "       [-1.03473115e+00, -1.45475111e-01],\n",
       "       [-8.03551290e-01,  6.77055055e-01],\n",
       "       [-1.25094848e+00,  3.68708961e-02],\n",
       "       [-5.95801791e-01,  5.94349882e-01],\n",
       "       [-8.60852971e-01,  1.70383053e-01],\n",
       "       [ 1.14043154e+00,  2.40098831e-01],\n",
       "       [ 5.42586539e-01,  1.89291847e-01],\n",
       "       [ 1.04925854e+00,  1.31990166e-01],\n",
       "       [-2.77970494e-01, -7.83686136e-01],\n",
       "       [ 6.76098696e-01, -2.00803659e-01],\n",
       "       [-1.21027978e-01, -2.68546304e-01],\n",
       "       [ 4.34477874e-01,  2.80464851e-01],\n",
       "       [-8.84283330e-01, -7.34852286e-01],\n",
       "       [ 7.67271699e-01, -9.26949942e-02],\n",
       "       [-6.10764319e-01, -4.10526291e-01],\n",
       "       [-7.50771173e-01, -1.12494779e+00],\n",
       "       [ 6.13180289e-02, -5.23289743e-02],\n",
       "       [ 2.28701508e-01, -8.40987817e-01],\n",
       "       [ 2.69067528e-01, -1.35034147e-01],\n",
       "       [-2.29136643e-01, -1.77373300e-01],\n",
       "       [ 8.49976872e-01,  1.15054505e-01],\n",
       "       [-2.37604474e-01, -7.77324661e-02],\n",
       "       [-1.29193134e-02, -3.59719308e-01],\n",
       "       [ 4.27983177e-01, -8.24052156e-01],\n",
       "       [-1.95265321e-01, -5.75936637e-01],\n",
       "       [ 4.43823677e-02,  1.46952694e-01],\n",
       "       [ 2.77535359e-01, -2.34674981e-01],\n",
       "       [ 5.02220519e-01, -5.16661823e-01],\n",
       "       [ 2.77535359e-01, -2.34674981e-01],\n",
       "       [ 5.67990031e-01, -1.09630655e-01],\n",
       "       [ 7.58803869e-01,  6.94584007e-03],\n",
       "       [ 9.75021198e-01, -1.75400167e-01],\n",
       "       [ 8.58444703e-01,  1.54136707e-02],\n",
       "       [ 1.69426694e-01, -1.43501978e-01],\n",
       "       [-1.04092317e-01, -4.67827972e-01],\n",
       "       [-2.86438324e-01, -6.84045302e-01],\n",
       "       [-2.86438324e-01, -6.84045302e-01],\n",
       "       [-1.29193134e-02, -3.59719308e-01],\n",
       "       [ 1.86362355e-01, -3.42783646e-01],\n",
       "       [-4.36886142e-01, -9.46681274e-02],\n",
       "       [ 1.27087541e-01,  3.54702193e-01],\n",
       "       [ 8.49976872e-01,  1.15054505e-01],\n",
       "       [ 5.19156180e-01, -7.15943491e-01],\n",
       "       [-2.37604474e-01, -7.77324661e-02],\n",
       "       [-2.94906155e-01, -5.84404468e-01],\n",
       "       [-3.03373985e-01, -4.84763634e-01],\n",
       "       [ 2.60599697e-01, -3.53933130e-02],\n",
       "       [-4.45148279e-03, -4.59360142e-01],\n",
       "       [-7.76174665e-01, -8.26025289e-01],\n",
       "       [-2.12200982e-01, -3.76654969e-01],\n",
       "       [-1.37963639e-01, -6.92646355e-02],\n",
       "       [-1.29495809e-01, -1.68905470e-01],\n",
       "       [ 3.68708362e-01, -1.26566317e-01],\n",
       "       [-6.93469492e-01, -6.18275790e-01],\n",
       "       [-1.21027978e-01, -2.68546304e-01],\n",
       "       [ 4.34477874e-01,  2.80464851e-01],\n",
       "       [-1.29193134e-02, -3.59719308e-01],\n",
       "       [ 1.25700804e+00,  4.92849932e-02],\n",
       "       [ 4.68349196e-01, -1.18098486e-01],\n",
       "       [ 6.59163034e-01, -1.52199055e-03],\n",
       "       [ 1.75521221e+00,  9.16241463e-02],\n",
       "       [-8.92751160e-01, -6.35211452e-01],\n",
       "       [ 1.46475754e+00, -3.34201798e-02],\n",
       "       [ 9.00783856e-01, -4.82790500e-01],\n",
       "       [ 1.30584189e+00,  6.55597829e-01],\n",
       "       [ 6.42227373e-01,  1.97759678e-01],\n",
       "       [ 5.84925692e-01, -3.08912324e-01],\n",
       "       [ 9.58085537e-01,  2.38815013e-02],\n",
       "       [-9.56244864e-02, -5.67468807e-01],\n",
       "       [-2.13871440e-02, -2.60078473e-01],\n",
       "       [ 5.42586539e-01,  1.89291847e-01],\n",
       "       [ 6.59163034e-01, -1.52199055e-03],\n",
       "       [ 1.78711040e+00,  8.97218651e-01],\n",
       "       [ 1.88872437e+00, -2.98471360e-01],\n",
       "       [ 2.28701508e-01, -8.40987817e-01],\n",
       "       [ 1.04079071e+00,  2.31631000e-01],\n",
       "       [-2.20668812e-01, -2.77014135e-01],\n",
       "       [ 1.87178871e+00, -9.91896916e-02],\n",
       "       [ 4.85284858e-01, -3.17380154e-01],\n",
       "       [ 8.33041211e-01,  3.14336173e-01],\n",
       "       [ 1.33971321e+00,  2.57034492e-01],\n",
       "       [ 3.77176193e-01, -2.26207151e-01],\n",
       "       [ 2.60599697e-01, -3.53933130e-02],\n",
       "       [ 5.76457861e-01, -2.09271490e-01],\n",
       "       [ 1.35664887e+00,  5.77528238e-02],\n",
       "       [ 1.57286620e+00, -1.24593183e-01],\n",
       "       [ 1.98639207e+00,  9.14154312e-01],\n",
       "       [ 5.76457861e-01, -2.09271490e-01],\n",
       "       [ 4.76817027e-01, -2.17739320e-01],\n",
       "       [ 2.94471020e-01, -4.33956650e-01],\n",
       "       [ 1.85485304e+00,  1.00091977e-01],\n",
       "       [ 4.26010043e-01,  3.80105685e-01],\n",
       "       [ 5.51054369e-01,  8.96510131e-02],\n",
       "       [ 1.60958863e-01, -4.38611436e-02],\n",
       "       [ 1.04925854e+00,  1.31990166e-01],\n",
       "       [ 8.49976872e-01,  1.15054505e-01],\n",
       "       [ 1.04925854e+00,  1.31990166e-01],\n",
       "       [-1.29193134e-02, -3.59719308e-01],\n",
       "       [ 9.41149876e-01,  2.23163170e-01],\n",
       "       [ 8.33041211e-01,  3.14336173e-01],\n",
       "       [ 8.58444703e-01,  1.54136707e-02],\n",
       "       [ 5.02220519e-01, -5.16661823e-01],\n",
       "       [ 6.59163034e-01, -1.52199055e-03],\n",
       "       [ 3.26369209e-01,  3.71637854e-01],\n",
       "       [ 6.13180289e-02, -5.23289743e-02]])"
      ]
     },
     "execution_count": 20,
     "metadata": {},
     "output_type": "execute_result"
    }
   ],
   "source": [
    "x_pca"
   ]
  },
  {
   "cell_type": "markdown",
   "id": "212598b3-1191-47e1-9bb8-cac03b5dd27c",
   "metadata": {},
   "source": [
    "Q5. You are working on a project to build a recommendation system for a food delivery service. The dataset\n",
    "contains features such as price, rating, and delivery time. Explain how you would use Min-Max scaling to\n",
    "preprocess the data."
   ]
  },
  {
   "cell_type": "code",
   "execution_count": 21,
   "id": "c012dda9-4e80-4503-b680-cef854ab64d9",
   "metadata": {},
   "outputs": [],
   "source": [
    "food={\n",
    "    \"price\":[20,30,40,50,60],\n",
    "    \"rating\":[1,2,3,4,5],\n",
    "    \"delivery\":[30,45,32,56,42]\n",
    "}"
   ]
  },
  {
   "cell_type": "code",
   "execution_count": 25,
   "id": "1edbef40-800d-4ffe-a1ea-a487edef278e",
   "metadata": {},
   "outputs": [],
   "source": [
    "import pandas as pd\n",
    "df1=pd.DataFrame(food)"
   ]
  },
  {
   "cell_type": "code",
   "execution_count": 26,
   "id": "3e368293-bd47-4b86-8df9-34377d3e0bfb",
   "metadata": {},
   "outputs": [
    {
     "data": {
      "text/html": [
       "<div>\n",
       "<style scoped>\n",
       "    .dataframe tbody tr th:only-of-type {\n",
       "        vertical-align: middle;\n",
       "    }\n",
       "\n",
       "    .dataframe tbody tr th {\n",
       "        vertical-align: top;\n",
       "    }\n",
       "\n",
       "    .dataframe thead th {\n",
       "        text-align: right;\n",
       "    }\n",
       "</style>\n",
       "<table border=\"1\" class=\"dataframe\">\n",
       "  <thead>\n",
       "    <tr style=\"text-align: right;\">\n",
       "      <th></th>\n",
       "      <th>price</th>\n",
       "      <th>rating</th>\n",
       "      <th>delivery</th>\n",
       "    </tr>\n",
       "  </thead>\n",
       "  <tbody>\n",
       "    <tr>\n",
       "      <th>0</th>\n",
       "      <td>20</td>\n",
       "      <td>1</td>\n",
       "      <td>30</td>\n",
       "    </tr>\n",
       "    <tr>\n",
       "      <th>1</th>\n",
       "      <td>30</td>\n",
       "      <td>2</td>\n",
       "      <td>45</td>\n",
       "    </tr>\n",
       "    <tr>\n",
       "      <th>2</th>\n",
       "      <td>40</td>\n",
       "      <td>3</td>\n",
       "      <td>32</td>\n",
       "    </tr>\n",
       "    <tr>\n",
       "      <th>3</th>\n",
       "      <td>50</td>\n",
       "      <td>4</td>\n",
       "      <td>56</td>\n",
       "    </tr>\n",
       "    <tr>\n",
       "      <th>4</th>\n",
       "      <td>60</td>\n",
       "      <td>5</td>\n",
       "      <td>42</td>\n",
       "    </tr>\n",
       "  </tbody>\n",
       "</table>\n",
       "</div>"
      ],
      "text/plain": [
       "   price  rating  delivery\n",
       "0     20       1        30\n",
       "1     30       2        45\n",
       "2     40       3        32\n",
       "3     50       4        56\n",
       "4     60       5        42"
      ]
     },
     "execution_count": 26,
     "metadata": {},
     "output_type": "execute_result"
    }
   ],
   "source": [
    "df1"
   ]
  },
  {
   "cell_type": "code",
   "execution_count": 27,
   "id": "ad4494ec-9f4b-4c4f-bfa5-1070b8c5e010",
   "metadata": {},
   "outputs": [],
   "source": [
    "from sklearn.preprocessing import MinMaxScaler"
   ]
  },
  {
   "cell_type": "code",
   "execution_count": 28,
   "id": "b5dc0dfd-db6f-4038-871e-201dbcdcabcd",
   "metadata": {},
   "outputs": [],
   "source": [
    "min_max=MinMaxScaler()"
   ]
  },
  {
   "cell_type": "code",
   "execution_count": 29,
   "id": "7b4a6a9b-de9d-46c7-96e4-8210ef0f01b2",
   "metadata": {},
   "outputs": [
    {
     "data": {
      "text/plain": [
       "array([[0.        , 0.        , 0.        ],\n",
       "       [0.25      , 0.25      , 0.57692308],\n",
       "       [0.5       , 0.5       , 0.07692308],\n",
       "       [0.75      , 0.75      , 1.        ],\n",
       "       [1.        , 1.        , 0.46153846]])"
      ]
     },
     "execution_count": 29,
     "metadata": {},
     "output_type": "execute_result"
    }
   ],
   "source": [
    "min_max.fit_transform(df1[[\"price\",\"rating\",\"delivery\"]])"
   ]
  },
  {
   "cell_type": "markdown",
   "id": "08deae2f-cd89-4501-9f65-3d6cf8b2c12c",
   "metadata": {},
   "source": [
    "Q6. You are working on a project to build a model to predict stock prices. The dataset contains many\n",
    "features, such as company financial data and market trends. Explain how you would use PCA to reduce the\n",
    "dimensionality of the dataset."
   ]
  },
  {
   "cell_type": "markdown",
   "id": "976c73a0-f906-4880-9de7-18c8bff78185",
   "metadata": {},
   "source": [
    "We can you pca to convert many features into 1d or 2d feature using the pca to reduce the dimensionality of the data."
   ]
  },
  {
   "cell_type": "markdown",
   "id": "2e5b0ea2-1e84-49ff-9712-781c86625139",
   "metadata": {},
   "source": [
    "Q7. For a dataset containing the following values: [1, 5, 10, 15, 20], perform Min-Max scaling to transform the\n",
    "values to a range of -1 to 1."
   ]
  },
  {
   "cell_type": "code",
   "execution_count": 49,
   "id": "0a021e7a-c112-4ab4-a281-d63424217a48",
   "metadata": {},
   "outputs": [],
   "source": [
    "data_sets=[-23, -2, 10, 15, 20]"
   ]
  },
  {
   "cell_type": "code",
   "execution_count": 50,
   "id": "ce691fba-dbe8-441c-9b3a-db3b4834af6b",
   "metadata": {},
   "outputs": [],
   "source": [
    "import numpy as np\n",
    "np_array=np.array(data_sets)"
   ]
  },
  {
   "cell_type": "code",
   "execution_count": 51,
   "id": "7cd6f1e6-a30b-4b22-9cfc-8ba9a24b85b0",
   "metadata": {},
   "outputs": [],
   "source": [
    "np_array=np_array.reshape((-1,1))"
   ]
  },
  {
   "cell_type": "code",
   "execution_count": 52,
   "id": "525c80a3-2b6d-426f-92c6-594ef6b6f73a",
   "metadata": {},
   "outputs": [],
   "source": [
    "min_max=MinMaxScaler()"
   ]
  },
  {
   "cell_type": "code",
   "execution_count": 53,
   "id": "05a5a04d-54d3-4c53-b63f-d8cc5f170793",
   "metadata": {},
   "outputs": [
    {
     "data": {
      "text/plain": [
       "array([[0.        ],\n",
       "       [0.48837209],\n",
       "       [0.76744186],\n",
       "       [0.88372093],\n",
       "       [1.        ]])"
      ]
     },
     "execution_count": 53,
     "metadata": {},
     "output_type": "execute_result"
    }
   ],
   "source": [
    "min_max.fit_transform(np_array)"
   ]
  },
  {
   "cell_type": "markdown",
   "id": "730f5855-e342-4419-9f85-d56566e549dd",
   "metadata": {},
   "source": [
    "Q8. For a dataset containing the following features: [height, weight, age, gender, blood pressure], perform\n",
    "Feature Extraction using PCA. How many principal components would you choose to retain, and why?"
   ]
  },
  {
   "cell_type": "code",
   "execution_count": 56,
   "id": "673fb35f-7e5f-45b8-83b6-19c729b7168b",
   "metadata": {},
   "outputs": [],
   "source": [
    "df2={\n",
    "    \"height\":[162,167,175,178,182],\n",
    "    \"weight\":[56,62,68,72,78],\n",
    "    \"age\":[20,23,24,26,30],\n",
    "    \"gender\":[\"male\",\"female\",\"male\",\"female\",\"male\"],\n",
    "    \"blood pressure\":[66,77,76,84,104]\n",
    "}\n"
   ]
  },
  {
   "cell_type": "code",
   "execution_count": 57,
   "id": "21ecc9b0-c2e6-4c1f-a0f7-75a3de012366",
   "metadata": {},
   "outputs": [],
   "source": [
    "df3=pd.DataFrame(df2)"
   ]
  },
  {
   "cell_type": "code",
   "execution_count": 63,
   "id": "7825765e-e8e2-4af9-97e1-33184dede187",
   "metadata": {},
   "outputs": [],
   "source": [
    "df4=df3[[\"height\",\"weight\",\"age\",\"blood pressure\"]]"
   ]
  },
  {
   "cell_type": "code",
   "execution_count": 64,
   "id": "7122bd1f-1cee-4059-9283-47d11bb1fed7",
   "metadata": {},
   "outputs": [],
   "source": [
    "pca = PCA()\n"
   ]
  },
  {
   "cell_type": "code",
   "execution_count": 65,
   "id": "645e6882-73cd-43ab-af2a-994df3fbff57",
   "metadata": {},
   "outputs": [],
   "source": [
    "pca.fit(df4)\n",
    "x_pca = pca.transform(df4)"
   ]
  },
  {
   "cell_type": "code",
   "execution_count": 66,
   "id": "c2e2c233-1960-4b14-9c96-3887cb06f1b0",
   "metadata": {},
   "outputs": [
    {
     "data": {
      "text/plain": [
       "array([[-2.22465819e+01, -2.33967723e+00, -1.19647111e-01,\n",
       "         3.44922091e-02],\n",
       "       [-8.46356627e+00, -3.30687548e+00,  1.76451931e-01,\n",
       "        -3.85395569e-02],\n",
       "       [-2.93112772e+00,  5.13746519e+00, -1.15493565e-01,\n",
       "        -4.00367893e-02],\n",
       "       [ 6.62352557e+00,  3.86058380e+00,  1.51635618e-01,\n",
       "         4.25245630e-02],\n",
       "       [ 2.70177503e+01, -3.35149628e+00, -9.29468735e-02,\n",
       "         1.55957419e-03]])"
      ]
     },
     "execution_count": 66,
     "metadata": {},
     "output_type": "execute_result"
    }
   ],
   "source": [
    "x_pca"
   ]
  },
  {
   "cell_type": "code",
   "execution_count": null,
   "id": "024b6bfc-9874-4b35-8ed2-7dec251efaa6",
   "metadata": {},
   "outputs": [],
   "source": []
  }
 ],
 "metadata": {
  "kernelspec": {
   "display_name": "Python 3 (ipykernel)",
   "language": "python",
   "name": "python3"
  },
  "language_info": {
   "codemirror_mode": {
    "name": "ipython",
    "version": 3
   },
   "file_extension": ".py",
   "mimetype": "text/x-python",
   "name": "python",
   "nbconvert_exporter": "python",
   "pygments_lexer": "ipython3",
   "version": "3.10.8"
  }
 },
 "nbformat": 4,
 "nbformat_minor": 5
}
