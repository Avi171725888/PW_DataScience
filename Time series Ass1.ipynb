{
 "cells": [
  {
   "cell_type": "markdown",
   "id": "48e0f6f9-7d20-4756-9c6d-cc43a1362b3b",
   "metadata": {},
   "source": [
    "Q1. What is a time series, and what are some common applications of time series analysis?"
   ]
  },
  {
   "cell_type": "markdown",
   "id": "ce3f5839-614c-4ac9-a8ac-1f4429b3e92a",
   "metadata": {},
   "source": [
    "A time series is a sequence of data points that occur in successive order over some period of time. This can be contrasted with cross-sectional data, which captures a point in time.\n",
    "\n",
    "In investing, a time series tracks the movement of the chosen data points, such as a security’s price, over a specified period of time with data points recorded at regular intervals. There is no minimum or maximum amount of time that must be included, allowing the data to be gathered in a way that provides the information being sought by the investor or analyst examining the activity.\n",
    "\n",
    "As financial analysts, we often use time-series data to make investment decisions. A time series is a set of observations on a variable's outcomes in different time periods: the quarterly sales for a particular company during the past five years, for example, or the daily returns on a traded security."
   ]
  },
  {
   "cell_type": "markdown",
   "id": "cf65bd81-fe46-494a-b0f8-8ce040b8ba4b",
   "metadata": {},
   "source": [
    "Q2. What are some common time series patterns, and how can they be identified and interpreted?"
   ]
  },
  {
   "cell_type": "markdown",
   "id": "6ca8a675-ffcf-45d4-b6b7-d76ff2be3a0c",
   "metadata": {},
   "source": [
    "In describing these time series, we have used words such as “trend” and “seasonal” which need to be defined more carefully.\n",
    "1.Trend:-\n",
    "A trend exists when there is a long-term increase or decrease in the data. It does not have to be linear. Sometimes we will refer to a trend as “changing direction”, when it might go from an increasing trend to a decreasing trend. There is a trend in the antidiabetic drug sales data shown in Figure 2.2.\n",
    "2.Seasonal:-\n",
    "A seasonal pattern occurs when a time series is affected by seasonal factors such as the time of the year or the day of the week. Seasonality is always of a fixed and known frequency. The monthly sales of antidiabetic drugs above shows seasonality which is induced partly by the change in the cost of the drugs at the end of the calendar year.\n",
    "3.Cyclic:-\n",
    "A cycle occurs when the data exhibit rises and falls that are not of a fixed frequency. These fluctuations are usually due to economic conditions, and are often related to the “business cycle”. The duration of these fluctuations is usually at least 2 years.\n",
    "4.Irregularity:-\n",
    "Unexpected situations/events/scenarios and spikes in a short time span."
   ]
  },
  {
   "cell_type": "markdown",
   "id": "85cb9f30-e9c0-4383-973a-6468feff5db2",
   "metadata": {},
   "source": [
    "Q3. How can time series data be preprocessed before applying analysis techniques?"
   ]
  },
  {
   "cell_type": "markdown",
   "id": "f94180f9-c823-4527-a102-c80fc2938745",
   "metadata": {},
   "source": [
    "Time Series data holds a lot of information, but generally, it is not visible. The common problems associated with time series are un-ordered timestamps, missing values (or timestamps), outliers, and noise in the data. Of all the mentioned problems, handling the missing values is the most difficult one. Since the conventional imputation (A technique used to take care of the missing data by replacing the missing values to retain most of the information) methods are not applicable while working with the time series data."
   ]
  },
  {
   "cell_type": "markdown",
   "id": "a483c672-e354-4fe6-b201-a6a5332a6abf",
   "metadata": {},
   "source": [
    "Q4. How can time series forecasting be used in business decision-making, and what are some common\n",
    "challenges and limitations?"
   ]
  },
  {
   "cell_type": "markdown",
   "id": "c27ae4ee-afcd-4238-ae73-5a7705bddab3",
   "metadata": {},
   "source": [
    "Time series has the below-mentioned limitations; we have to take care of those during our data analysis.\n",
    "1.Similar to other models, the missing values are not supported by TSA\n",
    "2.The data points must be linear in their relationship.\n",
    "3.Data transformations are mandatory, so they are a little expensive.\n",
    "4.Models mostly work on Uni-variate data."
   ]
  },
  {
   "cell_type": "markdown",
   "id": "cd12a040-190c-4728-9103-049208359a25",
   "metadata": {},
   "source": [
    "Challenges in time series forecasting be used in business decision-making:-\n",
    "1.Missing Data: In actuality, data is riddled with missing values, and depending on how these missing values are spread throughout the dataset, the complexity of dealing with the issues increases. For example, if the missing values in the data are single data points spread throughout a dense signal, they can be resolved relatively easily using well-known imputation techniques (techniques that help you fill in the missing data point based on the points and signals around it). However, this becomes a more challenging problem if the missing data occur in a large chunk (missing period) in an otherwise sparse and volatile dataset. Additionally, the complexity of managing missing data increases when these lost data points are contained at the starting and/or the ending points of signals.\n",
    "Multiple Time Series: In real-world data, most of the time we are not forecasting for a single isolated time series. Often, we need to forecast for a bundle of signals that may or may not have an impact on each other.\n",
    "2.Time Series Length and Period Overlap: In the real world, the length of the time series might vary for different reasons:\n",
    "Newly introduced signals: for example, in the pharma industry, this could represent new doctors who have just started their career/prescribing under their own license.\n",
    "Discontinued: an example of this in the pharma industry could be those HCPs who are retiring.\n",
    "Sparse Data / Not Enough Data: Generally sparse time series are much harder to deal with when attempting to create models and provide meaningful forecasts.\n",
    "3.Volatility: It is common, especially in data pertaining to human behavior, that a large portion of the dataset is volatile and has lots of noise. The stronger the noise is, the weaker the ability to extract useful patterns from the data.\n",
    "External Drivers / Special Events: The patterns in the real-world time series data are sometimes driven by external factors. For example, in an e-commerce setting, multiple factors could change the behavior of the sales signal for a particular product such as special dates (Black Friday-Cyber Monday, etc.), promotions, marketing costs, etc. When this happens, the biggest challenge lies in the fact that we know the external drivers exist but, we either don’t have access to the driver’s information or, it is very complex to add them to the system (for example the impact of news on the sales forecast/stock market).\n",
    "4.Multiple seasonality: Time series that have multiple repeating patterns that occur at different frequencies and/or timescales are more challenging to address using predictive models. For example, a time series of daily sales data may exhibit both a weekly pattern (with higher sales during the weekends) and an annual pattern (with higher sales during holiday seasons or cold seasons like the fall and winter). These different patterns can interact with each other, making it difficult to model the series accurately. In particular, the seasonal patterns may not be orthogonal, meaning that they can overlap and interfere with each other, leading to complex interactions and dependencies that are difficult to accurately capture."
   ]
  },
  {
   "cell_type": "markdown",
   "id": "07a13640-7c4f-4035-9db8-2a31e37f53f0",
   "metadata": {},
   "source": [
    "Q5. What is ARIMA modelling, and how can it be used to forecast time series data?"
   ]
  },
  {
   "cell_type": "markdown",
   "id": "edc081ad-cd4f-4d32-864f-179b959f7cc1",
   "metadata": {},
   "source": [
    "An autoregressive integrated moving average, or ARIMA, is a statistical analysis model that uses time series data to either better understand the data set or to predict future trends. \n",
    "A statistical model is autoregressive if it predicts future values based on past values. For example, an ARIMA model might seek to predict a stock's future prices based on its past performance or forecast a company's earnings based on past periods.\n",
    "An autoregressive integrated moving average model is a form of regression analysis that gauges the strength of one dependent variable relative to other changing variables. The model's goal is to predict future securities or financial market moves by examining the differences between values in the series instead of through actual values.\n",
    "\n",
    "An ARIMA model can be understood by outlining each of its components as follows:\n",
    "\n",
    "Autoregression (AR): refers to a model that shows a changing variable that regresses on its own lagged, or prior, values.\n",
    "Integrated (I): represents the differencing of raw observations to allow the time series to become stationary (i.e., data values are replaced by the difference between the data values and the previous values).\n",
    "Moving average (MA):  incorporates the dependency between an observation and a residual error from a moving average model applied to lagged observations."
   ]
  },
  {
   "cell_type": "markdown",
   "id": "3ee5bb41-4696-4958-b86e-4a9198c295df",
   "metadata": {},
   "source": [
    "Q6. How do Autocorrelation Function (ACF) and Partial Autocorrelation Function (PACF) plots help in\n",
    "identifying the order of ARIMA models?"
   ]
  },
  {
   "cell_type": "markdown",
   "id": "eaa53120-b17b-4b53-84ca-2f486e5d11a9",
   "metadata": {},
   "source": [
    "ACF and PACF plots: After a time series has been stationarized by differencing, the next step in fitting an ARIMA model is to determine whether AR or MA terms are needed to correct any autocorrelation that remains in the differenced series. Of course, with software like Statgraphics, you could just try some different combinations of terms and see what works best. But there is a more systematic way to do this. By looking at the autocorrelation function (ACF) and partial autocorrelation (PACF) plots of the differenced series, you can tentatively identify the numbers of AR and/or MA terms that are needed. You are already familiar with the ACF plot: it is merely a bar chart of the coefficients of correlation between a time series and lags of itself. The PACF plot is a plot of the partial correlation coefficients between the series and lags of itself.\n",
    "\n",
    "In general, the \"partial\" correlation between two variables is the amount of correlation between them which is not explained by their mutual correlations with a specified set of other variables. For example, if we are regressing a variable Y on other variables X1, X2, and X3, the partial correlation between Y and X3 is the amount of correlation between Y and X3 that is not explained by their common correlations with X1 and X2. This partial correlation can be computed as the square root of the reduction in variance that is achieved by adding X3 to the regression of Y on X1 and X2.\n",
    "\n",
    "A partial autocorrelation is the amount of correlation between a variable and a lag of itself that is not explained by correlations at all lower-order-lags. The autocorrelation of a time series Y at lag 1 is the coefficient of correlation between Yt and Yt-1, which is presumably also the correlation between Yt-1 and Yt-2. But if Yt is correlated with Yt-1, and Yt-1 is equally correlated with Yt-2, then we should also expect to find correlation between Yt and Yt-2. In fact, the amount of correlation we should expect at lag 2 is precisely the square of the lag-1 correlation. Thus, the correlation at lag 1 \"propagates\" to lag 2 and presumably to higher-order lags. The partial autocorrelation at lag 2 is therefore the difference between the actual correlation at lag 2 and the expected correlation due to the propagation of correlation at lag 1."
   ]
  },
  {
   "cell_type": "markdown",
   "id": "e9edf804-787c-46c1-b462-a5634672dc85",
   "metadata": {},
   "source": [
    "Q7. What are the assumptions of ARIMA models, and how can they be tested for in practice?"
   ]
  },
  {
   "cell_type": "markdown",
   "id": "0450577b-6a15-4dc4-9fb0-b65093f331e6",
   "metadata": {},
   "source": [
    "1.There are no known/suspected predictor variables\n",
    "2.There are no level shifts\n",
    "3.There are no deterministic time trends of the form 1,2,3,...,t\n",
    "4.There are no seasonal dummies\n",
    "5.There are no one time anomalies\n",
    "6.The model parameters are constant over time\n",
    "7.The error process is homoscedastic (constant) over time"
   ]
  },
  {
   "cell_type": "markdown",
   "id": "95fecc47-477f-42b0-ade5-6ef1383d40f4",
   "metadata": {},
   "source": [
    "Q8. Suppose you have monthly sales data for a retail store for the past three years. Which type of time\n",
    "series model would you recommend for forecasting future sales, and why?"
   ]
  },
  {
   "cell_type": "markdown",
   "id": "fab439ab-76ae-4e80-acf4-c9fef04493b8",
   "metadata": {},
   "source": [
    "The choice of a time series model depends on various factors, including the characteristics of the data and the goals of the forecasting task. Here are a few common time series models that could be considered for forecasting future sales based on monthly data for a retail store:\n",
    "\n",
    "ARIMA (AutoRegressive Integrated Moving Average):\n",
    "\n",
    "ARIMA is a widely used model for time series forecasting. It combines autoregressive (AR) and moving average (MA) components and includes differencing to make the time series stationary. ARIMA models are effective when there is evidence of seasonality and trend in the data.\n",
    "Seasonal Decomposition of Time Series (STL):\n",
    "\n",
    "STL is a model that decomposes time series data into three components: seasonal, trend, and remainder. This model is useful when there is a clear seasonal pattern in the data. It allows for separate modeling of these components and can be combined with other forecasting methods.\n",
    "Exponential Smoothing State Space Models (ETS):\n",
    "\n",
    "ETS models are a class of state space models that capture error, trend, and seasonality components. They are particularly useful when there is an observable seasonality in the data. ETS models provide flexibility in handling different combinations of these components.\n",
    "Prophet:\n",
    "\n",
    "Prophet is a forecasting tool developed by Facebook that is designed for forecasting time series data that exhibit patterns on different time scales, including daily and yearly seasonality. It can handle missing data and outliers well.\n",
    "Long Short-Term Memory (LSTM) Networks (for Neural Network-based Models):\n",
    "\n",
    "If the data is complex and has long-term dependencies, neural network-based models like LSTMs, which are a type of recurrent neural network (RNN), can be considered. LSTMs are capable of capturing intricate patterns in sequential data.\n",
    "Recommendation:\n",
    "Given that you have monthly sales data for the past three years, I would recommend starting with the following approach:\n",
    "\n",
    "Exploratory Data Analysis (EDA):\n",
    "\n",
    "Conduct a thorough exploratory data analysis to understand the underlying patterns, seasonality, and trends in the sales data.\n",
    "Seasonal Decomposition:\n",
    "\n",
    "Apply seasonal decomposition techniques (such as STL) to separate the data into its seasonal, trend, and remainder components. This will help in understanding the structure of the data.\n",
    "Model Selection:\n",
    "\n",
    "Based on the insights gained from EDA and decomposition, choose a model that can effectively capture the observed patterns. ARIMA, STL, or ETS models could be suitable, depending on the characteristics of the data.\n",
    "Parameter Tuning:\n",
    "\n",
    "If you choose ARIMA or ETS, perform parameter tuning to optimize the model's performance. This may involve selecting the appropriate order of differencing, autoregressive, and moving average parameters.\n",
    "Validation and Testing:\n",
    "\n",
    "Split the data into training and testing sets to validate the model's performance on unseen data. Use metrics such as Mean Absolute Error (MAE) or Root Mean Squared Error (RMSE) to evaluate forecasting accuracy.\n",
    "Consideration of External Factors:\n",
    "\n",
    "If there are external factors (e.g., promotions, economic conditions) influencing sales, consider incorporating them into the model to improve forecasting accuracy.\n",
    "Always keep in mind that the choice of the model may need to be refined based on the specific characteristics of the data and the performance of the chosen model during the validation phase. It's often a good practice to start with simpler models and then explore more complex ones if needed."
   ]
  },
  {
   "cell_type": "markdown",
   "id": "18e38015-9bc9-4c8c-998d-80ab97fc08ec",
   "metadata": {},
   "source": [
    "Q9. What are some of the limitations of time series analysis? Provide an example of a scenario where the\n",
    "limitations of time series analysis may be particularly relevant."
   ]
  },
  {
   "cell_type": "markdown",
   "id": "e0848fee-833a-4d4a-8d9a-75c62c962a00",
   "metadata": {},
   "source": [
    "Time series analysis is a powerful tool for understanding and forecasting temporal patterns in data, but it has its limitations. Here are some common limitations, along with an example scenario where these limitations may be particularly relevant:\n",
    "\n",
    "Limitations of Time Series Analysis:\n",
    "Assumption of Stationarity:\n",
    "\n",
    "Many time series models assume stationarity (constant mean and variance over time), but real-world data often exhibits trends and seasonality, violating this assumption.\n",
    "Sensitive to Outliers:\n",
    "\n",
    "Outliers can disproportionately influence time series models, leading to inaccurate predictions. Identifying and handling outliers can be challenging.\n",
    "Limited by Historical Data:\n",
    "\n",
    "Time series models rely on historical data, and they may not perform well when faced with structural changes or sudden shifts in the underlying patterns.\n",
    "Inability to Causation:\n",
    "\n",
    "Time series analysis can reveal correlations but does not imply causation. Understanding the cause-and-effect relationship often requires additional contextual information.\n",
    "Limited Prediction Horizon:\n",
    "\n",
    "Some time series models are better suited for short-term predictions and may lose accuracy when forecasting over a longer time horizon.\n",
    "Difficulty Handling Nonlinear Relationships:\n",
    "\n",
    "Linear models may struggle to capture complex nonlinear relationships present in certain time series data.\n",
    "Uncertainty in Future Events:\n",
    "\n",
    "Time series analysis may not account well for unforeseen events or external factors that could significantly impact the data.\n",
    "Example Scenario: Economic Recession and Sales Forecasting:\n",
    "Consider a scenario where a retail business is using time series analysis to forecast monthly sales. The historical data includes several years of sales information, and the business has been using this data to predict future sales trends. However, the limitations become apparent in the face of an economic recession:\n",
    "\n",
    "Structural Change:\n",
    "\n",
    "An economic recession represents a structural change in the business environment. Consumer behavior, spending patterns, and overall economic conditions can undergo significant shifts during a recession.\n",
    "Outliers and Unforeseen Events:\n",
    "\n",
    "The recession may lead to outlier events, such as drastic declines in consumer spending or sudden changes in market dynamics, which were not present in the historical data.\n",
    "Nonlinear Relationships:\n",
    "\n",
    "The relationship between economic indicators and retail sales may not be linear during a recession. Traditional linear time series models may struggle to capture the nonlinear impact of economic downturns.\n",
    "Limited Prediction Horizon:\n",
    "\n",
    "Economic recessions can have long-lasting effects, and accurately forecasting sales during such periods may be challenging, especially if the time series models were primarily trained on data from more stable economic conditions.\n",
    "Causation vs. Correlation:\n",
    "\n",
    "While the time series analysis may identify correlations between economic indicators and sales, understanding the causal relationships and adapting the business strategy accordingly requires a more comprehensive analysis that incorporates economic theories and external contextual information."
   ]
  },
  {
   "cell_type": "markdown",
   "id": "d7248cb1-9858-4f98-adc7-05d637b1f1a8",
   "metadata": {},
   "source": [
    "Q10. Explain the difference between a stationary and non-stationary time series. How does the stationarity\n",
    "of a time series affect the choice of forecasting model?"
   ]
  },
  {
   "cell_type": "markdown",
   "id": "b6576a42-6b44-48a2-a293-1320111e23aa",
   "metadata": {},
   "source": [
    "A stationary time series is one whose statistical properties, such as mean and variance, remain constant over time. In a stationary time series:\n",
    "\n",
    "1.Constant Mean: The average value of the series remains the same for all time points.\n",
    "2.Constant Variance: The spread or variability of the series does not change over time.\n",
    "3.Constant Autocorrelation Structure: The relationship between observations at different time points remains consistent.\n",
    "4.Stationary time series are easier to analyze and model because their behavior is relatively predictable and does not undergo significant changes.\n",
    "\n",
    "Non-Stationary Time Series:\n",
    "A non-stationary time series is one where the statistical properties change over time. Non-stationary time series often exhibit trends, seasonality, or other patterns that make it challenging to apply traditional time series models.\n",
    "\n",
    "1.Changing Mean: The average value of the series may increase or decrease over time.\n",
    "2.Changing Variance: The variability of the series may change over time.\n",
    "3.Changing Autocorrelation Structure: The relationship between observations may vary across different time points.\n",
    "4.Non-stationarity can arise due to external factors, trends, or seasonality in the data.\n",
    "\n",
    "Impact on Forecasting Models:\n",
    "The stationarity of a time series significantly affects the choice of forecasting models:\n",
    "\n",
    "Stationary Time Series:\n",
    "\n",
    "Traditional time series models like ARIMA (AutoRegressive Integrated Moving Average) are well-suited for stationary data. ARIMA models assume that the time series can be made stationary through differencing (i.e., removing trends and seasonality).\n",
    "Non-Stationary Time Series:\n",
    "\n",
    "For non-stationary time series, transformations may be necessary to make the data stationary before applying traditional models. Common transformations include differencing, logarithmic transformations, or seasonal adjustments.\n",
    "\n",
    "If a time series exhibits a clear trend, a simple differencing operation (removing the trend) can be performed. If there is seasonality, seasonal differencing or seasonal adjustment may be required."
   ]
  }
 ],
 "metadata": {
  "kernelspec": {
   "display_name": "Python 3 (ipykernel)",
   "language": "python",
   "name": "python3"
  },
  "language_info": {
   "codemirror_mode": {
    "name": "ipython",
    "version": 3
   },
   "file_extension": ".py",
   "mimetype": "text/x-python",
   "name": "python",
   "nbconvert_exporter": "python",
   "pygments_lexer": "ipython3",
   "version": "3.10.8"
  }
 },
 "nbformat": 4,
 "nbformat_minor": 5
}
