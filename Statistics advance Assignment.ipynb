{
 "cells": [
  {
   "cell_type": "markdown",
   "id": "91fea9cf-bb1d-4110-9bda-3ea5505092da",
   "metadata": {},
   "source": [
    "Q1. What is the Probability density function?"
   ]
  },
  {
   "cell_type": "markdown",
   "id": "92eae56c-f03b-4e0d-b528-a52c8ceb3003",
   "metadata": {},
   "source": [
    "The Probability Density Function(PDF) defines the probability function representing the density of a continuous random variable lying between a specific range of values. In other words, the probability density function produces the likelihood of values of the continuous random variable. Sometimes it is also called a probability distribution function or just a probability function. However, this function is stated in many other sources as the function over a broad set of values. Often it is referred to as cumulative distribution function or sometimes as probability mass function(PMF). However, the actual truth is PDF (probability density function ) is defined for continuous random variables, whereas PMF (probability mass function) is defined for discrete random variables."
   ]
  },
  {
   "cell_type": "markdown",
   "id": "49986ca1-044a-424e-ada3-f49829e2d541",
   "metadata": {},
   "source": [
    "Q2. What are the types of Probability distribution?"
   ]
  },
  {
   "cell_type": "markdown",
   "id": "adc75ef3-277e-4056-b7a8-2efc6bc9d96f",
   "metadata": {},
   "source": [
    "A probability distribution is a statistical function that describes all the possible values and probabilities for a random variable within a given range. This range will be bound by the minimum and maximum possible values, but where the possible value would be plotted on the probability distribution will be determined by a number of factors. The mean (average), standard deviation, skewness, and kurtosis of the distribution are among these factors.\n",
    "Types of Probability Distribution\n",
    "The probability distribution is divided into two parts:\n",
    "1.Discrete Probability Distributions\n",
    "2.Continuous Probability Distributions"
   ]
  },
  {
   "cell_type": "markdown",
   "id": "f5ba61ef-cc24-450e-9e34-daa648aa9f32",
   "metadata": {},
   "source": [
    "Q3. Write a Python function to calculate the probability density function of a normal distribution with\n",
    "given mean and standard deviation at a given point."
   ]
  },
  {
   "cell_type": "code",
   "execution_count": 7,
   "id": "cf690a3e-6c57-455a-93ed-2eb6e22bf7a4",
   "metadata": {},
   "outputs": [],
   "source": [
    "import numpy as np\n",
    "from scipy.stats import norm\n",
    "import numpy as np"
   ]
  },
  {
   "cell_type": "code",
   "execution_count": 9,
   "id": "c9e28edb-2821-4764-9eed-8e839a9be6f9",
   "metadata": {},
   "outputs": [],
   "source": [
    "x = np.linspace(-5,5,11)"
   ]
  },
  {
   "cell_type": "code",
   "execution_count": 11,
   "id": "d55c6afe-f81c-44d9-9137-ccf421334425",
   "metadata": {},
   "outputs": [],
   "source": [
    "mean = np.mean(x)\n",
    "std = np.std(x)"
   ]
  },
  {
   "cell_type": "code",
   "execution_count": 12,
   "id": "3535e15d-a329-4444-999a-20fb7c8969a9",
   "metadata": {},
   "outputs": [
    {
     "name": "stdout",
     "output_type": "stream",
     "text": [
      "0.0804410163156249\n"
     ]
    }
   ],
   "source": [
    "probability_pdf = norm.pdf(3, loc=mean, scale=std)\n",
    "print(probability_pdf)"
   ]
  },
  {
   "cell_type": "markdown",
   "id": "1892a8cb-b43c-4063-a468-4734aa352b75",
   "metadata": {},
   "source": [
    "Q4. What are the properties of Binomial distribution? Give two examples of events where binomial\n",
    "distribution can be applied."
   ]
  },
  {
   "cell_type": "markdown",
   "id": "3fce3a5c-2a28-4239-a921-8f209f944565",
   "metadata": {},
   "source": [
    "The properties of the binomial distribution are:\n",
    "1.There are two possible outcomes: true or false, success or failure, yes or no.\n",
    "2.There is ‘n’ number of independent trials or a fixed number of n times repeated trials.\n",
    "3.The probability of success or failure remains the same for each trial.\n",
    "4.Only the number of success is calculated out of n independent trials.\n",
    "5.Every trial is an independent trial, which means the outcome of one trial does not affect the outcome of another trial.\n",
    "\n",
    "Examples are:-\n",
    "1.Finding the quantity of raw and used materials while making a product.\n",
    "2.Taking a survey of positive and negative reviews from the public for any specific product or place."
   ]
  },
  {
   "cell_type": "markdown",
   "id": "a6d7c2ca-c76f-4220-9171-1d1e1877406d",
   "metadata": {},
   "source": [
    "Q5. Generate a random sample of size 1000 from a binomial distribution with probability of success 0.4\n",
    "and plot a histogram of the results using matplotlib."
   ]
  },
  {
   "cell_type": "code",
   "execution_count": 19,
   "id": "42dce946-8c5d-4719-be53-f71ff4717243",
   "metadata": {},
   "outputs": [
    {
     "data": {
      "image/png": "[encoded data removed]",
      "text/plain": [
       "<Figure size 640x480 with 1 Axes>"
      ]
     },
     "metadata": {},
     "output_type": "display_data"
    }
   ],
   "source": [
    "from scipy.stats import binom\n",
    "import matplotlib.pyplot as plt\n",
    "n = 1000\n",
    "p = 0.4\n",
    "r_values = list(range(n + 1))\n",
    "dist = [binom.pmf(r, n, p) for r in r_values ]\n",
    "\n",
    "plt.hist(dist)\n",
    "plt.show()"
   ]
  },
  {
   "cell_type": "markdown",
   "id": "db7d53ff-d368-473b-acfa-5516a22cc932",
   "metadata": {},
   "source": [
    "Q6. Write a Python function to calculate the cumulative distribution function of a Poisson distribution\n",
    "with given mean at a given point."
   ]
  },
  {
   "cell_type": "code",
   "execution_count": 22,
   "id": "6efd5716-60fe-436b-b234-f071d1a6db1f",
   "metadata": {},
   "outputs": [
    {
     "data": {
      "text/plain": [
       "array([5, 2, 3, 6, 0, 3, 2, 4, 2, 1])"
      ]
     },
     "execution_count": 22,
     "metadata": {},
     "output_type": "execute_result"
    }
   ],
   "source": [
    "from scipy.stats import poisson\n",
    "poisson.rvs(mu=3, size=10)"
   ]
  },
  {
   "cell_type": "markdown",
   "id": "131ec597-b89f-49d8-97a1-3a5aaee38574",
   "metadata": {},
   "source": [
    "Q7. How Binomial distribution different from Poisson distribution?"
   ]
  },
  {
   "cell_type": "markdown",
   "id": "60e65792-fc0a-4f28-897c-6c7e4b08ba40",
   "metadata": {},
   "source": [
    "1.In a Binomial distribution, there is a fixed number of trials (e.g. flip a coin 3 times)\n",
    "2.In a Poisson distribution, there could be any number of events that occur during a certain time interval (e.g. how many customers will arrive at a store in a given hour?)"
   ]
  },
  {
   "cell_type": "markdown",
   "id": "987a9ae8-7428-4269-853c-b637f0ba80af",
   "metadata": {},
   "source": [
    "Q8. Generate a random sample of size 1000 from a Poisson distribution with mean 5 and calculate the\n",
    "sample mean and variance."
   ]
  },
  {
   "cell_type": "code",
   "execution_count": 34,
   "id": "df53241d-c161-4a60-ac87-bc9f4338a31c",
   "metadata": {},
   "outputs": [],
   "source": [
    "import numpy as np\n",
    "s = np.random.poisson(5, 10000)"
   ]
  },
  {
   "cell_type": "code",
   "execution_count": 35,
   "id": "19f98bd9-ea05-49a1-ad73-6a6849e55cbf",
   "metadata": {},
   "outputs": [
    {
     "data": {
      "text/plain": [
       "array([5, 4, 6, ..., 3, 3, 6])"
      ]
     },
     "execution_count": 35,
     "metadata": {},
     "output_type": "execute_result"
    }
   ],
   "source": [
    "s"
   ]
  },
  {
   "cell_type": "code",
   "execution_count": 37,
   "id": "eee8f8fb-27dc-415f-8c67-5acd39d91545",
   "metadata": {},
   "outputs": [],
   "source": [
    "arr1=s[1:10]"
   ]
  },
  {
   "cell_type": "code",
   "execution_count": 39,
   "id": "8a9a4a88-b00f-45a6-a3e1-00de39359612",
   "metadata": {},
   "outputs": [
    {
     "data": {
      "text/plain": [
       "5.111111111111111"
      ]
     },
     "execution_count": 39,
     "metadata": {},
     "output_type": "execute_result"
    }
   ],
   "source": [
    "np.mean(arr1)"
   ]
  },
  {
   "cell_type": "code",
   "execution_count": 40,
   "id": "f7da31a5-0f6c-467a-846c-d8a6b107878f",
   "metadata": {},
   "outputs": [
    {
     "data": {
      "text/plain": [
       "2.3209876543209877"
      ]
     },
     "execution_count": 40,
     "metadata": {},
     "output_type": "execute_result"
    }
   ],
   "source": [
    "np.var(arr1)"
   ]
  },
  {
   "cell_type": "markdown",
   "id": "a9c26938-b857-4352-b066-df8007aaa1a1",
   "metadata": {},
   "source": [
    "Q9. How mean and variance are related in Binomial distribution and Poisson distribution?"
   ]
  },
  {
   "cell_type": "markdown",
   "id": "fa1dcf12-81a6-4574-b3ff-2fa9680deb09",
   "metadata": {},
   "source": [
    "BINOMIAL DISTRIBUTION:-Mean > Variance\n",
    "POISSON DISTRIBUTION:-Mean = Variance"
   ]
  },
  {
   "cell_type": "markdown",
   "id": "1fef27a8-e11a-4ae0-8bb0-f701475f2ed1",
   "metadata": {},
   "source": [
    "Q10. In normal distribution with respect to mean position, where does the least frequent data appear?"
   ]
  },
  {
   "cell_type": "markdown",
   "id": "97315377-320a-4792-a4a1-308757638490",
   "metadata": {},
   "source": [
    "Least frequent data appear in thge right most side and the left most side of the mean location"
   ]
  },
  {
   "cell_type": "markdown",
   "id": "2323662a-1caa-404f-89d6-f8d714dcfb41",
   "metadata": {},
   "source": []
  }
 ],
 "metadata": {
  "kernelspec": {
   "display_name": "Python 3 (ipykernel)",
   "language": "python",
   "name": "python3"
  },
  "language_info": {
   "codemirror_mode": {
    "name": "ipython",
    "version": 3
   },
   "file_extension": ".py",
   "mimetype": "text/x-python",
   "name": "python",
   "nbconvert_exporter": "python",
   "pygments_lexer": "ipython3",
   "version": "3.10.8"
  }
 },
 "nbformat": 4,
 "nbformat_minor": 5
}
