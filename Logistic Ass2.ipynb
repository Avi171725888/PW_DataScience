{
 "cells": [
  {
   "cell_type": "markdown",
   "id": "ab9045c0-34cd-418c-b74e-78c7866a8fc2",
   "metadata": {},
   "source": [
    "Q1. What is the purpose of grid search cv in machine learning, and how does it work?"
   ]
  },
  {
   "cell_type": "markdown",
   "id": "a0817a1f-176c-4b66-9601-0176b9fbf78f",
   "metadata": {},
   "source": [
    "GridSearchCV is the process of performing hyperparameter tuning in order to determine the optimal values for a given model. As mentioned above, the performance of a model significantly depends on the value of hyperparameters. Note that there is no way to know in advance the best values for hyperparameters so ideally, we need to try all possible values to know the optimal values. Doing this manually could take a considerable amount of time and resources and thus we use GridSearchCV to automate the tuning of hyperparameters.\n",
    "\n",
    "GridSearchCV is a function that comes in Scikit-learn’s(or SK-learn) model_selection package.So an important point here to note is that we need to have the Scikit learn library installed on the computer. This function helps to loop through predefined hyperparameters and fit your estimator (model) on your training set. So, in the end, we can select the best parameters from the listed hyperparameters."
   ]
  },
  {
   "cell_type": "markdown",
   "id": "03440b1d-8772-496e-b15f-09f149830849",
   "metadata": {},
   "source": [
    "Q2. Describe the difference between grid search cv and randomize search cv, and when might you choose\n",
    "one over the other?"
   ]
  },
  {
   "cell_type": "markdown",
   "id": "7a4b834e-db91-47c4-80a8-48ba096a073f",
   "metadata": {},
   "source": [
    "In Grid Search, we try every combination of a preset list of values of the hyper-parameters and choose the best combination based on the cross-validation score.\n",
    "\n",
    "Random search tries random combinations of a range of values (we have to define the number iterations). It is good at testing a wide range of values and normally it reaches a very good combination very fast, but the problem that it doesn’t guarantee to give the best parameter combination.\n",
    "\n",
    "On the other hand, Grid search will give the best combination but it can take a lot of time."
   ]
  },
  {
   "cell_type": "markdown",
   "id": "771021dc-f1d9-4e7b-bc84-c369c679ddd2",
   "metadata": {},
   "source": [
    "Q3. What is data leakage, and why is it a problem in machine learning? Provide an example."
   ]
  },
  {
   "cell_type": "markdown",
   "id": "9cb68d83-0b37-4931-b027-79469b82107e",
   "metadata": {},
   "source": [
    "Right from the start of the project, you must ensure that part of the data is set aside. If this is not done properly, data not intended for training could leak out and be used to train the model. This would then bias the results of the model when evaluated. This is what is known as data leakage in Machine Learning.\n",
    "EX:-\n",
    "One typical example is when future information is incorporated in the training data that would not be legally available in real use. Assume you’re working on a retail website and need to create a classifier to forecast whether a user would stay and read another page or leave. If the classifier predicts that they are going to leave, the website may display something that encourages them to stay and shop. The user’s overall session length or the total number of pages seen during their visit to the site are examples of features that contain leaked information. During the post-processing phase of the visit log data, for example, this total is frequently added as a new column. This feature contains information on the user’s future visits, such as how many more trips the user will make. In a real-world deployment, it’s impossible to determine. The total session length feature might be replaced with a page visit in-session feature, which only knows how many pages have been visited so far in the session, not how many are left."
   ]
  },
  {
   "cell_type": "markdown",
   "id": "a38fd4c3-1c33-44cf-9ed3-297c364f6c44",
   "metadata": {},
   "source": [
    "Q4. How can you prevent data leakage when building a machine learning model?"
   ]
  },
  {
   "cell_type": "markdown",
   "id": "5c818100-04eb-43bd-ad75-b6d24e578fa8",
   "metadata": {},
   "source": [
    "1.Understanding the Dataset\n",
    "2.Cleaning Dataset for Duplicates\n",
    "3.Selecting Features with Regard to Target Variable Correlation and Temporal Ordering\n",
    "4.Splitting Dataset into Train, Validation, and Test Groups\n",
    "5.Normalizing After Splitting, BUT Before Cross Validation\n",
    "6.Assessing Model Performance with a Healthy Skepticism"
   ]
  },
  {
   "cell_type": "markdown",
   "id": "4ae73378-b5c5-42b2-bf03-0e663e2dd3db",
   "metadata": {},
   "source": [
    "Q5. What is a confusion matrix, and what does it tell you about the performance of a classification model?"
   ]
  },
  {
   "cell_type": "markdown",
   "id": "87139ccf-0107-4cfc-a6bf-17a074eae1f4",
   "metadata": {},
   "source": [
    "A confusion matrix is a table that allows you to visualize the performance of a classification model. You can also use the information in it to calculate measures that can help you determine the usefulness of the model. "
   ]
  },
  {
   "cell_type": "markdown",
   "id": "54c00249-b7d6-4c17-bae1-aedf68de06e8",
   "metadata": {},
   "source": [
    "Q6. Explain the difference between precision and recall in the context of a confusion matrix."
   ]
  },
  {
   "cell_type": "markdown",
   "id": "3281b409-50b3-42ee-93b4-d288ad94681c",
   "metadata": {},
   "source": [
    "1.Precision and recall are metrics to evaluate the performance of a classifier. Although it cannot be used for any regression problem, it can be used to evaluate the performance of any classification problem, whether it be a binary classification problem or a multi-class classification problem.\n",
    "2.Accuracy tells you how many times the ML model was correct overall. Precision is how good the model is at predicting a specific category. Recall tells you how many times the model was able to detect a specific category."
   ]
  },
  {
   "cell_type": "markdown",
   "id": "72d2cd3f-1b63-4b5b-a9c3-4bcb4338682a",
   "metadata": {},
   "source": [
    "Q7. How can you interpret a confusion matrix to determine which types of errors your model is making?"
   ]
  },
  {
   "cell_type": "markdown",
   "id": "a6b2cad8-8cd6-4100-9207-e11a14e2887e",
   "metadata": {},
   "source": [
    "True Positive (TP) \n",
    "\n",
    "The predicted value matches the actual value, or the predicted class matches the actual class.\n",
    "The actual value was positive, and the model predicted a positive value.\n",
    "True Negative (TN) \n",
    "\n",
    "The predicted value matches the actual value, or the predicted class matches the actual class.\n",
    "The actual value was negative, and the model predicted a negative value.\n",
    "False Positive (FP) – Type I Error\n",
    "\n",
    "The predicted value was falsely predicted.\n",
    "The actual value was negative, but the model predicted a positive value.\n",
    "Also known as the type I error.\n",
    "False Negative (FN) – Type II Error\n",
    "\n",
    "The predicted value was falsely predicted.\n",
    "The actual value was positive, but the model predicted a negative value.\n",
    "Also known as the type II error."
   ]
  },
  {
   "attachments": {
    "02ae4025-80f6-4a0d-b900-4e986ca18611.png": {
     "image/png": "[encoded data removed]"
    }
   },
   "cell_type": "markdown",
   "id": "e64a5882-4dae-4129-a4c2-c24c6ca15ab9",
   "metadata": {},
   "source": [
    "![image.png](attachment:02ae4025-80f6-4a0d-b900-4e986ca18611.png)!"
   ]
  },
  {
   "cell_type": "markdown",
   "id": "00f96694-9c68-4335-906d-bb9f16de4591",
   "metadata": {},
   "source": [
    "Q8. What are some common metrics that can be derived from a confusion matrix, and how are they\n",
    "calculated?"
   ]
  },
  {
   "cell_type": "markdown",
   "id": "d5cbdce2-c94d-4e52-a79c-4d50215e8d54",
   "metadata": {},
   "source": [
    "Accuracy:\n",
    "The formula for calculating accuracy, based on the chart above, is (TP+TN)/(TP+FP+FN+TN) or all true positive and true negative cases divided by the number of all cases.\n",
    "Precision:\n",
    "Precision is the measure of true positives over the number of total positives predicted by your model. The formula for precision can be written as: TP/(TP+FP). What this metric allows you to calculate is the rate of which your positive predictions are actually positive.\n",
    "\n",
    "Recall:\n",
    "Recall (a.k.a sensitivity) is the measure of your true positive over the count of actual positive outcomes. The formula for recall can be expressed as: TP/(TP+FN). Using this formula, we can assess how well our model is able to identify the actual true result.\n",
    "\n",
    "F1 Score:\n",
    "The F1 score is the harmonic mean between precision and recall. The formula for the F1 score can be expressed as: 2(p*r)/(p+r) where ‘p’ is precision and ‘r’ is recall. This score can be used as an overall metric that incorporates both precision and recall. The reason we use the harmonic mean as opposed to the regular mean, is that the harmonic mean punishes values that are further apart."
   ]
  },
  {
   "cell_type": "markdown",
   "id": "c92d574e-0a49-4d97-8552-b5db396106a8",
   "metadata": {},
   "source": [
    "Q9. What is the relationship between the accuracy of a model and the values in its confusion matrix?"
   ]
  },
  {
   "cell_type": "markdown",
   "id": "6f3fd8ef-de9a-4a42-934d-94af77b620d3",
   "metadata": {},
   "source": [
    "A confusion matrix is a performance evaluation tool in machine learning, representing the accuracy of a classification model. It displays the number of true positives, true negatives, false positives, and false negatives."
   ]
  },
  {
   "cell_type": "markdown",
   "id": "5aaf2c2d-a1bf-4608-bb00-e7f7601a33ce",
   "metadata": {},
   "source": [
    "Q10. How can you use a confusion matrix to identify potential biases or limitations in your machine learning\n",
    "model?"
   ]
  },
  {
   "cell_type": "markdown",
   "id": "ff221d12-4b77-4f83-a836-faf4f2e077c3",
   "metadata": {},
   "source": [
    "Define the Problem and Metrics: Before you start using a confusion matrix, you should have a clear understanding of the problem you are trying to solve and the metrics you are using to evaluate your model. Common classification metrics include accuracy, precision, recall, F1-score, and the area under the ROC curve (AUC).\n",
    "\n",
    "Generate Predictions: First, you need to use your machine learning model to make predictions on a labeled dataset. These predictions can be binary (e.g., positive/negative) or multiclass (e.g., class labels).\n",
    "\n",
    "Create a Confusion Matrix: With the true labels and the model's predictions, you can create a confusion matrix, which is a 2x2 matrix for binary classification and a larger matrix for multiclass classification. The matrix is typically structured as follows:\n",
    "\n",
    "True Positives (TP): Instances where the model correctly predicted the positive class.\n",
    "False Positives (FP): Instances where the model incorrectly predicted the positive class.\n",
    "True Negatives (TN): Instances where the model correctly predicted the negative class.\n",
    "False Negatives (FN): Instances where the model incorrectly predicted the negative class.\n",
    "Analyze the Confusion Matrix:\n",
    "\n",
    "Bias Detection:\n",
    "\n",
    "Examine the false positive and false negative rates. If your model is making a high number of false positives or false negatives, it could indicate a bias or limitation. Consider the implications of these errors, especially in real-world applications.\n",
    "Class Imbalance: If your dataset has class imbalance (one class has significantly fewer instances than the other), a model might predict the majority class more often. Check if the confusion matrix reflects this imbalance.\n",
    "\n",
    "Threshold Effects: If your model uses a probability threshold for binary classification, you can adjust this threshold to see how it affects the confusion matrix. This can help you understand the trade-off between precision and recall.\n",
    "\n",
    "Disparate Impact Analysis: If you're concerned about demographic or other biases, analyze the confusion matrix separately for different subgroups (e.g., age, gender, race) to detect disparate impact on these groups.\n",
    "\n",
    "Overall Model Performance: Review standard performance metrics (accuracy, precision, recall, F1-score, AUC) to get a quantitative assessment of your model's performance.\n",
    "\n",
    "Iterate and Improve: Based on the insights gained from the confusion matrix analysis, you can iterate on your model and the data. You may need to re-balance the dataset, adjust features, retrain the model, or even consider using bias-mitigation techniques."
   ]
  }
 ],
 "metadata": {
  "kernelspec": {
   "display_name": "Python 3 (ipykernel)",
   "language": "python",
   "name": "python3"
  },
  "language_info": {
   "codemirror_mode": {
    "name": "ipython",
    "version": 3
   },
   "file_extension": ".py",
   "mimetype": "text/x-python",
   "name": "python",
   "nbconvert_exporter": "python",
   "pygments_lexer": "ipython3",
   "version": "3.10.8"
  }
 },
 "nbformat": 4,
 "nbformat_minor": 5
}
