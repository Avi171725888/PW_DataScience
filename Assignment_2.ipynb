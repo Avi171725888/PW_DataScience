{
 "cells": [
  {
   "cell_type": "markdown",
   "id": "0b14785b-eb9a-4dd8-81e4-c96cba39e629",
   "metadata": {},
   "source": [
    "Q1. How do you comment code in Python? What are the different types of comments?"
   ]
  },
  {
   "cell_type": "code",
   "execution_count": 1,
   "id": "ebc65f9e-c636-4417-967a-6e7899f34c4e",
   "metadata": {},
   "outputs": [],
   "source": [
    "#method 1:-using '#' in the first"
   ]
  },
  {
   "cell_type": "code",
   "execution_count": 3,
   "id": "4e52169c-8d00-4f14-b159-f76f6eeb49c0",
   "metadata": {},
   "outputs": [
    {
     "data": {
      "text/plain": [
       "\"Method 2 :-using ''' and ''' will be recognized as a comment in python.python comments are non executable code and does not requiere any space in memory.Comments are simply used to understand the code better! \""
      ]
     },
     "execution_count": 3,
     "metadata": {},
     "output_type": "execute_result"
    }
   ],
   "source": [
    "\"\"\"Method 2 :-using ''' and ''' will be recognized as a comment in python.python comments are non executable code and does not requiere any space in memory.Comments are simply used to understand the code better! \"\"\""
   ]
  },
  {
   "cell_type": "code",
   "execution_count": 22,
   "id": "23c2d917-a8b5-4ec4-8d6e-fd01e0ef62bc",
   "metadata": {},
   "outputs": [],
   "source": [
    "# Method 3 :-using ctrol+/ key together will declare a line or lines as comments:\n",
    "# Ex:\n",
    "#     a=1\n",
    "#     print(\"Hello World\")\n",
    "\n"
   ]
  },
  {
   "cell_type": "markdown",
   "id": "f403a145-52cb-47de-b737-ad77c28d9b4b",
   "metadata": {},
   "source": [
    "Q2. What are variables in Python? How do you declare and assign values to variables?"
   ]
  },
  {
   "cell_type": "markdown",
   "id": "0fa6498f-6249-420c-9233-d3e6d1b3762a",
   "metadata": {},
   "source": [
    "Variable:-Variables are used to store different values inside it.Variable name acts as a reference for the location of the memory.Variables does not need data type to specify in python  as other programming languages\n",
    "such as java,c,c++.\n",
    "\n",
    "We declare a variable using its basic syntax which includes name,assignment operator and its value.\n",
    "Syntax :-\n",
    "    variable_name=value\n",
    "\n",
    "We assign a value to variable using assignment operator '='.\n"
   ]
  },
  {
   "cell_type": "code",
   "execution_count": 5,
   "id": "8c564572-c797-4c21-9e78-ad019665e75e",
   "metadata": {},
   "outputs": [
    {
     "name": "stdout",
     "output_type": "stream",
     "text": [
      "Avendra\n"
     ]
    }
   ],
   "source": [
    "a=\"Avendra\"\n",
    "print(a)"
   ]
  },
  {
   "cell_type": "code",
   "execution_count": 6,
   "id": "27dae10a-1583-4c7a-a27e-ad2f1247002a",
   "metadata": {},
   "outputs": [
    {
     "name": "stdout",
     "output_type": "stream",
     "text": [
      "1\n"
     ]
    }
   ],
   "source": [
    "b=1\n",
    "print(b)"
   ]
  },
  {
   "cell_type": "markdown",
   "id": "cf2df956-1256-4065-b2f4-61d9f67b9e03",
   "metadata": {},
   "source": [
    "Q3. How do you convert one data type to another in Python?"
   ]
  },
  {
   "cell_type": "markdown",
   "id": "e18777fd-d62a-447f-ac89-5c710b387930",
   "metadata": {},
   "source": [
    "We convert data type by using datatype and ().\n",
    "Ex:-To covert integer to string we use str(value)"
   ]
  },
  {
   "cell_type": "code",
   "execution_count": 7,
   "id": "b88d4ccc-7752-49fc-9bdf-3e3c0d82ffe3",
   "metadata": {},
   "outputs": [
    {
     "name": "stdout",
     "output_type": "stream",
     "text": [
      "1\n"
     ]
    }
   ],
   "source": [
    "i=1\n",
    "print(i)"
   ]
  },
  {
   "cell_type": "code",
   "execution_count": 8,
   "id": "153b6814-d8df-4595-9ed1-2e244ddaefb0",
   "metadata": {},
   "outputs": [
    {
     "data": {
      "text/plain": [
       "int"
      ]
     },
     "execution_count": 8,
     "metadata": {},
     "output_type": "execute_result"
    }
   ],
   "source": [
    "type(i)"
   ]
  },
  {
   "cell_type": "code",
   "execution_count": 15,
   "id": "82330010-1956-4633-ba82-99f220dd3249",
   "metadata": {},
   "outputs": [
    {
     "name": "stdout",
     "output_type": "stream",
     "text": [
      "1\n"
     ]
    }
   ],
   "source": [
    "s=str(i)\n",
    "print(s)"
   ]
  },
  {
   "cell_type": "code",
   "execution_count": 13,
   "id": "0e943175-d21a-444e-bb51-79b27385f267",
   "metadata": {},
   "outputs": [
    {
     "data": {
      "text/plain": [
       "str"
      ]
     },
     "execution_count": 13,
     "metadata": {},
     "output_type": "execute_result"
    }
   ],
   "source": [
    "type(s)"
   ]
  },
  {
   "cell_type": "code",
   "execution_count": 17,
   "id": "fb0ebb7f-f6c2-4e8a-b239-0438335cc08b",
   "metadata": {},
   "outputs": [
    {
     "name": "stdout",
     "output_type": "stream",
     "text": [
      "(1, 2, 3)\n"
     ]
    }
   ],
   "source": [
    "t=(1,2,3)\n",
    "print(t)"
   ]
  },
  {
   "cell_type": "code",
   "execution_count": 19,
   "id": "4b147111-c521-4324-a869-e2f250fc8b8f",
   "metadata": {},
   "outputs": [
    {
     "data": {
      "text/plain": [
       "tuple"
      ]
     },
     "execution_count": 19,
     "metadata": {},
     "output_type": "execute_result"
    }
   ],
   "source": [
    "type(t)"
   ]
  },
  {
   "cell_type": "code",
   "execution_count": 20,
   "id": "19b8d470-9728-40b6-b964-58a0e3b74a10",
   "metadata": {},
   "outputs": [
    {
     "name": "stdout",
     "output_type": "stream",
     "text": [
      "[1, 2, 3]\n"
     ]
    }
   ],
   "source": [
    "l=list(t)\n",
    "print(l)"
   ]
  },
  {
   "cell_type": "code",
   "execution_count": 21,
   "id": "570a14b8-da73-487f-909d-f6a24d56fd08",
   "metadata": {},
   "outputs": [
    {
     "data": {
      "text/plain": [
       "list"
      ]
     },
     "execution_count": 21,
     "metadata": {},
     "output_type": "execute_result"
    }
   ],
   "source": [
    "type(l)"
   ]
  },
  {
   "cell_type": "markdown",
   "id": "3f3d55e1-2d99-482d-b87d-4129d2e3a65e",
   "metadata": {},
   "source": [
    "Q4. How do you write and execute a Python script from the command line?"
   ]
  },
  {
   "cell_type": "markdown",
   "id": "3c615b89-f75f-4304-aa97-52e564fde6c3",
   "metadata": {},
   "source": [
    "Step 1:-First create the python script with any name.\n",
    "Ex:-hello.py\n",
    "\n",
    "Step 2:-go to path using cd or typing cmd to the path of file.\n",
    "Ex:-C:\\konrad\\code\\python\\z_testing\n",
    "\n",
    "step 3:-write python followed by the name of python file.\n",
    "Ex:-c:\\konrad\\code\\python\\z_testing>python hello.py"
   ]
  },
  {
   "cell_type": "markdown",
   "id": "6269bd65-05d6-4f66-b600-16898e1430ea",
   "metadata": {},
   "source": [
    "Q5. Given a list my_list = [1, 2, 3, 4, 5], write the code to slice the list and obtain the sub-list [2, 3]."
   ]
  },
  {
   "cell_type": "code",
   "execution_count": 24,
   "id": "1d718d6a-fefa-4f3e-bf0f-0e82e6c10d6d",
   "metadata": {},
   "outputs": [
    {
     "name": "stdout",
     "output_type": "stream",
     "text": [
      "[1, 2, 3, 4, 5]\n"
     ]
    }
   ],
   "source": [
    "mylist=[1,2,3,4,5]\n",
    "print(mylist)"
   ]
  },
  {
   "cell_type": "code",
   "execution_count": 25,
   "id": "8a58b292-d4dd-49e9-9b48-1a715f8e5d27",
   "metadata": {},
   "outputs": [
    {
     "data": {
      "text/plain": [
       "[2, 3]"
      ]
     },
     "execution_count": 25,
     "metadata": {},
     "output_type": "execute_result"
    }
   ],
   "source": [
    "mylist[1:3]"
   ]
  },
  {
   "cell_type": "code",
   "execution_count": null,
   "id": "4c8854bc-20c2-4474-bb81-0d45417ad42c",
   "metadata": {},
   "outputs": [],
   "source": [
    "Q6. What is a complex number in mathematics, and how is it represented in Python?"
   ]
  },
  {
   "cell_type": "markdown",
   "id": "5832c8da-a952-4e20-954e-8c15f6272927",
   "metadata": {},
   "source": [
    "Complex Number:A complex number is a number of the form a + bi, where a and b are real numbers ; This way, a is real part and bi is imaginary part.\n",
    "Ex;-4+4j\n",
    "4 is real part \n",
    "4j is imaginary part"
   ]
  },
  {
   "cell_type": "code",
   "execution_count": 26,
   "id": "9810b09f-57f2-419f-914f-3f462bd1270d",
   "metadata": {},
   "outputs": [],
   "source": [
    "cn=4+3j"
   ]
  },
  {
   "cell_type": "code",
   "execution_count": 27,
   "id": "f89efd14-c9a0-4b95-b545-a32dbe222ef7",
   "metadata": {},
   "outputs": [
    {
     "data": {
      "text/plain": [
       "(4+3j)"
      ]
     },
     "execution_count": 27,
     "metadata": {},
     "output_type": "execute_result"
    }
   ],
   "source": [
    "cn"
   ]
  },
  {
   "cell_type": "code",
   "execution_count": 29,
   "id": "45d16346-97cb-4590-95cb-3786d46ae047",
   "metadata": {},
   "outputs": [
    {
     "data": {
      "text/plain": [
       "complex"
      ]
     },
     "execution_count": 29,
     "metadata": {},
     "output_type": "execute_result"
    }
   ],
   "source": [
    "type(cn)"
   ]
  },
  {
   "cell_type": "markdown",
   "id": "d6db0fc5-df14-435a-8ab6-84a3830c81f5",
   "metadata": {},
   "source": [
    "Q7. What is the correct way to declare a variable named age and assign the value 25 to it?"
   ]
  },
  {
   "cell_type": "markdown",
   "id": "0cb863d1-0d66-4666-93c6-1d96197eff92",
   "metadata": {},
   "source": [
    "We declare a variable using its basic syntax which includes name,assignment operator and its value.\n",
    "Syntax :-\n",
    "    variable_name=value"
   ]
  },
  {
   "cell_type": "code",
   "execution_count": 31,
   "id": "5913775c-1e1b-42d1-a819-c0065f37fd76",
   "metadata": {},
   "outputs": [],
   "source": [
    "age=25"
   ]
  },
  {
   "cell_type": "code",
   "execution_count": 32,
   "id": "c0a41e41-5df8-432a-977d-939bdc55269c",
   "metadata": {},
   "outputs": [
    {
     "name": "stdout",
     "output_type": "stream",
     "text": [
      "25\n"
     ]
    }
   ],
   "source": [
    "print(age)"
   ]
  },
  {
   "cell_type": "markdown",
   "id": "3ac5406c-5c90-4b48-96a7-6c17e373d5af",
   "metadata": {},
   "source": [
    "Q8. Declare a variable named price and assign the value 9.99 to it. What data type does this variable\n",
    "belong to?"
   ]
  },
  {
   "cell_type": "markdown",
   "id": "ad34c9b6-a41a-4967-8c79-8135a3440592",
   "metadata": {},
   "source": [
    "We declare a variable using its basic syntax which includes name,assignment operator and its value.\n",
    "Syntax :-\n",
    "    variable_name=value"
   ]
  },
  {
   "cell_type": "code",
   "execution_count": 33,
   "id": "3799c429-51ae-4978-aa2c-7b74239af9e9",
   "metadata": {},
   "outputs": [],
   "source": [
    "price=9.99"
   ]
  },
  {
   "cell_type": "code",
   "execution_count": 34,
   "id": "5a06c15a-bb65-4f23-885e-8fa9f4c2c06d",
   "metadata": {},
   "outputs": [
    {
     "name": "stdout",
     "output_type": "stream",
     "text": [
      "9.99\n"
     ]
    }
   ],
   "source": [
    "print(price)"
   ]
  },
  {
   "cell_type": "code",
   "execution_count": 35,
   "id": "386f80c0-0b1e-438e-9c7b-a7d6d4878cf4",
   "metadata": {},
   "outputs": [
    {
     "name": "stdout",
     "output_type": "stream",
     "text": [
      "<class 'float'>\n"
     ]
    }
   ],
   "source": [
    "print(type(price))"
   ]
  },
  {
   "cell_type": "markdown",
   "id": "23ab3dda-8a51-4f5d-853c-0fda167e6274",
   "metadata": {},
   "source": [
    "Q9. Create a variable named name and assign your full name to it as a string. How would you print the\n",
    "value of this variable?"
   ]
  },
  {
   "cell_type": "code",
   "execution_count": 36,
   "id": "96567324-f330-4543-bf56-5694aacb3b8f",
   "metadata": {},
   "outputs": [],
   "source": [
    "name=\"Avendra Rahul Dhongadi\""
   ]
  },
  {
   "cell_type": "code",
   "execution_count": 37,
   "id": "a77b2937-7839-43bd-a175-7a1187560ec2",
   "metadata": {},
   "outputs": [
    {
     "name": "stdout",
     "output_type": "stream",
     "text": [
      "Avendra Rahul Dhongadi\n"
     ]
    }
   ],
   "source": [
    "print(name)"
   ]
  },
  {
   "cell_type": "markdown",
   "id": "941bfc7a-0ce4-4237-82df-89e61b57b62c",
   "metadata": {},
   "source": [
    "Q10. Given the string \"Hello, World!\", extract the substring \"World\"."
   ]
  },
  {
   "cell_type": "code",
   "execution_count": 38,
   "id": "698dbb06-7c89-4526-acc7-1253c1ffd5b4",
   "metadata": {},
   "outputs": [
    {
     "name": "stdout",
     "output_type": "stream",
     "text": [
      "Hello, World!\n"
     ]
    }
   ],
   "source": [
    "str=\"Hello, World!\"\n",
    "print(str)"
   ]
  },
  {
   "cell_type": "code",
   "execution_count": 40,
   "id": "0f349a52-bcac-464d-948e-b6c012c7a232",
   "metadata": {},
   "outputs": [
    {
     "name": "stdout",
     "output_type": "stream",
     "text": [
      "World\n"
     ]
    }
   ],
   "source": [
    "print(str[7:12])"
   ]
  },
  {
   "cell_type": "markdown",
   "id": "8edf38fd-a19a-4a1a-a6d9-e7fddc3c912d",
   "metadata": {},
   "source": [
    "Q11. Create a variable named \"is_student\" and assign it a boolean value indicating whether you are\n",
    "currently a student or not."
   ]
  },
  {
   "cell_type": "code",
   "execution_count": 41,
   "id": "f8c0c2f2-6d54-43d7-93a6-e3d3f37ea216",
   "metadata": {},
   "outputs": [
    {
     "name": "stdout",
     "output_type": "stream",
     "text": [
      "True\n"
     ]
    }
   ],
   "source": [
    "is_student=True\n",
    "print(is_student)"
   ]
  },
  {
   "cell_type": "code",
   "execution_count": 45,
   "id": "59443ad5-0e0f-4cd2-85ab-d82c50fbc6b7",
   "metadata": {},
   "outputs": [
    {
     "name": "stdin",
     "output_type": "stream",
     "text": [
      "Are you a student type (True/False): True\n"
     ]
    }
   ],
   "source": [
    "is_student=bool(input(\"Are you a student type (True/False):\"))"
   ]
  },
  {
   "cell_type": "code",
   "execution_count": 46,
   "id": "f0325b97-3ccc-4284-86e0-1ef36dac452b",
   "metadata": {},
   "outputs": [
    {
     "data": {
      "text/plain": [
       "bool"
      ]
     },
     "execution_count": 46,
     "metadata": {},
     "output_type": "execute_result"
    }
   ],
   "source": [
    "type(is_student)"
   ]
  },
  {
   "cell_type": "code",
   "execution_count": null,
   "id": "31f1153d-aeb8-4ce5-871e-3c2b7623b8df",
   "metadata": {},
   "outputs": [],
   "source": []
  }
 ],
 "metadata": {
  "kernelspec": {
   "display_name": "Python 3 (ipykernel)",
   "language": "python",
   "name": "python3"
  },
  "language_info": {
   "codemirror_mode": {
    "name": "ipython",
    "version": 3
   },
   "file_extension": ".py",
   "mimetype": "text/x-python",
   "name": "python",
   "nbconvert_exporter": "python",
   "pygments_lexer": "ipython3",
   "version": "3.10.8"
  }
 },
 "nbformat": 4,
 "nbformat_minor": 5
}
