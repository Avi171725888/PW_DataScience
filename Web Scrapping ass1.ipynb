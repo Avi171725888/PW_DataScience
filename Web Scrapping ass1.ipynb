{
 "cells": [
  {
   "cell_type": "markdown",
   "id": "563bb8f5-bf19-4de9-8170-379bc98dff49",
   "metadata": {},
   "source": [
    "Q1. What is Web Scraping? Why is it Used? Give three areas where Web Scraping is used to get data."
   ]
  },
  {
   "cell_type": "markdown",
   "id": "a453a88c-555e-4d5c-9004-59ea29530e33",
   "metadata": {},
   "source": [
    "Web scraping is the process of using bots to extract content and data from a website.\n",
    "\n",
    "Unlike screen scraping, which only copies pixels displayed onscreen, web scraping extracts underlying HTML code and, with it, data stored in a database. The scraper can then replicate entire website content elsewhere.\n",
    "\n",
    "Web scraping is used in a variety of digital businesses that rely on data harvesting. Legitimate use cases include:\n",
    "1.Search engine bots crawling a site, analyzing its content and then ranking it.\n",
    "2.Price comparison sites deploying bots to auto-fetch prices and product descriptions for allied seller websites.\n",
    "3.Market research companies using scrapers to pull data from forums and social media (e.g., for sentiment analysis).\n"
   ]
  },
  {
   "cell_type": "markdown",
   "id": "cf745b23-3a8b-459f-be99-420391bc66ae",
   "metadata": {},
   "source": [
    "Q2. What are the different methods used for Web Scraping?"
   ]
  },
  {
   "cell_type": "markdown",
   "id": "c5d458cc-9420-43fd-9eaf-ee7dec9be735",
   "metadata": {},
   "source": [
    "As we know, Python is has various applications and there are different libraries for different purposes. In our further demonstration, we will be using the following libraries:\n",
    "\n",
    "1.Selenium:  Selenium is a web testing library. It is used to automate browser activities.\n",
    "2.BeautifulSoup: Beautiful Soup is a Python package for parsing HTML and XML documents. It creates parse trees that is helpful to extract the data easily.\n",
    "3.Pandas: Pandas is a library used for data manipulation and analysis. It is used to extract the data and store it in the desired format. "
   ]
  },
  {
   "cell_type": "markdown",
   "id": "7f3cfa33-72d4-4e63-84e4-4b5b1856634d",
   "metadata": {},
   "source": [
    "Q3. What is Beautiful Soup? Why is it used?"
   ]
  },
  {
   "cell_type": "markdown",
   "id": "d87ed6c5-0839-4228-b26b-5fb8d36a8a26",
   "metadata": {},
   "source": [
    "Beautiful Soup is a Python library that makes it easy to scrape information from web pages. It sits atop an HTML or XML parser and provides Pythonic idioms for iterating, searching, and modifying the parse tree.\n",
    "The Beautiful Soup library helps with isolating titles and links from webpages. It can extract all of the text from  HTML tags, and alter the HTML and in the document with which we’re working."
   ]
  },
  {
   "cell_type": "markdown",
   "id": "482f4107-ebae-4d5c-a92b-0f9a681ec4d2",
   "metadata": {},
   "source": [
    "Q4. Why is flask used in this Web Scraping project?"
   ]
  },
  {
   "cell_type": "markdown",
   "id": "75f9ddfc-ed12-4da8-a649-11390fbe92df",
   "metadata": {},
   "source": [
    "Python’s Flask micro web framework is well-liked and frequently used to create online apps. It offers a straightforward and adaptable method for developing Python-based web applications and APIs (Application Programming Interfaces). Flask is renowned for its straightforward design, which gives developers the freedom to select the elements they desire and customise their apps to meet their needs."
   ]
  },
  {
   "cell_type": "markdown",
   "id": "99211e74-cf5e-458a-810d-a16c87da77dc",
   "metadata": {},
   "source": [
    "Q5. Write the names of AWS services used in this project.Also,Explain the use of service?"
   ]
  },
  {
   "cell_type": "markdown",
   "id": "ea6da3ef-f662-4dfa-9dc2-961b78a718bf",
   "metadata": {},
   "source": [
    "AWS Codepipeline:-AWS CodePipeline is a continuous delivery service you can use to model, visualize, and automate the steps required to release your software. You can quickly model and configure the different stages of a software release process. CodePipeline automates the steps required to release your software changes continuously. For information about pricing for CodePipeline"
   ]
  },
  {
   "cell_type": "markdown",
   "id": "eb4d546b-85d9-4ecf-b1ae-3639c0384cb9",
   "metadata": {},
   "source": [
    "AWS Beanstalk:-AWS  Beanstalk is an easy-to-use service for deploying and scaling web applications and services developed with Java, .NET, PHP, Node.js, Python, Ruby, Go, or Docker on familiar servers such as Apache, Nginx, Passenger, and IIS. Elastic Beanstalk is a complete application management solution, and manages all infrastructure and platform tasks on your behalf.\n",
    "\n",
    "With Beanstalk, you can quickly deploy, manage, and scale applications without the operational burden of managing infrastructure.  Beanstalk reduces management complexity for web applications, making it a good choice for organizations that are new to AWS or wish to deploy a web application as quickly as possible."
   ]
  },
  {
   "cell_type": "code",
   "execution_count": null,
   "id": "7fe274fb-e28b-4b04-96d6-b4e411f19015",
   "metadata": {},
   "outputs": [],
   "source": []
  }
 ],
 "metadata": {
  "kernelspec": {
   "display_name": "Python 3 (ipykernel)",
   "language": "python",
   "name": "python3"
  },
  "language_info": {
   "codemirror_mode": {
    "name": "ipython",
    "version": 3
   },
   "file_extension": ".py",
   "mimetype": "text/x-python",
   "name": "python",
   "nbconvert_exporter": "python",
   "pygments_lexer": "ipython3",
   "version": "3.10.8"
  }
 },
 "nbformat": 4,
 "nbformat_minor": 5
}
