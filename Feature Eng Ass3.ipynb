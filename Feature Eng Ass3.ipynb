{
 "cells": [
  {
   "cell_type": "markdown",
   "id": "d0bb65e3-44d3-40cf-ae63-56068219906b",
   "metadata": {},
   "source": [
    "Q1. What is data encoding? How is it useful in data science?"
   ]
  },
  {
   "cell_type": "markdown",
   "id": "d77b2a95-0021-42da-ad7a-59236f31ee5f",
   "metadata": {},
   "source": [
    "Data encoding is the process of converting data from one form to another, usually for the purpose of transmission, storage, or analysis. Data decoding is the reverse process of converting data back to its original form, usually for the purpose of interpretation or use.\n",
    "\n",
    "Data encoding and decoding play a crucial role in data science, as they act as a bridge between raw data and actionable insights. They enable us to:\n",
    "\n",
    "Prepare data for analysis by transforming it into a suitable format that can be processed by algorithms or models.\n",
    "Engineer features by extracting relevant information from data and creating new variables that can improve the performance or accuracy of analysis.\n",
    "Compress data by reducing its size or complexity without losing its essential information or quality.\n",
    "Protect data by encrypting it or masking it to prevent unauthorized access or disclosure."
   ]
  },
  {
   "cell_type": "markdown",
   "id": "71e05595-fdc5-4c7e-a32f-b4dc9d961fb1",
   "metadata": {},
   "source": [
    "Q2. What is nominal encoding? Provide an example of how you would use it in a real-world scenario."
   ]
  },
  {
   "cell_type": "markdown",
   "id": "445d2f5c-0410-4de9-bb06-bd485ca776ce",
   "metadata": {},
   "source": [
    "When we have a feature where variables are just names and there is no order or rank to this variable's feature.\n",
    "For example: City of person lives in, Gender of person, Marital Status, etc…\n",
    "\n",
    "In the above example, We do not have any order or rank, or sequence. All the variables in the respective feature are equal. We can't give them any orders or ranks. Those features are called Nominal features."
   ]
  },
  {
   "cell_type": "markdown",
   "id": "96fb18f6-f866-4318-aa40-eb7a0393ae28",
   "metadata": {},
   "source": [
    "Q3. In what situations is nominal encoding preferred over one-hot encoding? Provide a practical example."
   ]
  },
  {
   "cell_type": "markdown",
   "id": "e9cb121a-2ba3-4418-ba5b-6c3199a20767",
   "metadata": {},
   "source": [
    "For categorical variables where no ordinal relationship exists, the integer encoding may not be enough, at best, or misleading to the model at worst.\n",
    "\n",
    "Forcing an ordinal relationship via an ordinal encoding and allowing the model to assume a natural ordering between categories may result in poor performance or unexpected results (predictions halfway between categories).\n",
    "\n",
    "In this case, a one-hot encoding can be applied to the ordinal representation. This is where the integer encoded variable is removed and one new binary variable is added for each unique integer value in the variable.\n",
    "n the “color” variable example, there are three categories, and, therefore, three binary variables are needed. A “1” value is placed in the binary variable for the color and “0” values for the other colors.\n",
    "\n",
    "This one-hot encoding transform is available in the scikit-learn Python machine learning library via the OneHotEncoder class.\n",
    "\n",
    "We can demonstrate the usage of the OneHotEncoder on the color categories. First the categories are sorted, in this case alphabetically because they are strings, then binary variables are created for each category in turn. This means blue will be represented as [1, 0, 0] with a “1” in for the first binary variable, then green, then finally red."
   ]
  },
  {
   "cell_type": "markdown",
   "id": "7f556cec-92f9-4464-aa07-0a4c273b5a25",
   "metadata": {},
   "source": [
    "Q4. Suppose you have a dataset containing categorical data with 5 unique values. Which encoding\n",
    "technique would you use to transform this data into a format suitable for machine learning algorithms?\n",
    "Explain why you made this choice."
   ]
  },
  {
   "cell_type": "markdown",
   "id": "b053a2f1-a24b-471a-ac28-4d5d1a9044d3",
   "metadata": {},
   "source": [
    "We will use nomial incoding technique to transform this data nto a format suitable for machine learning algorithms because it will we easilt to train a model with numeric value the categorical"
   ]
  },
  {
   "cell_type": "markdown",
   "id": "434d3751-3fb8-4136-b85b-3d691280d4eb",
   "metadata": {},
   "source": [
    "Q5. In a machine learning project, you have a dataset with 1000 rows and 5 columns. Two of the columns\n",
    "are categorical, and the remaining three columns are numerical. If you were to use nominal encoding to\n",
    "transform the categorical data, how many new columns would be created? Show your calculations."
   ]
  },
  {
   "cell_type": "markdown",
   "id": "6d9b0bae-a466-4805-a018-ebdb970fd9dc",
   "metadata": {},
   "source": [
    "It depends on the number of categories the categorical data has if  both  the categorical columns contains 5 categorical values in total then 5 columns will be created."
   ]
  },
  {
   "cell_type": "markdown",
   "id": "5de9a7ba-15b0-446b-8a50-bdb922405541",
   "metadata": {},
   "source": [
    "Q6. You are working with a dataset containing information about different types of animals, including their\n",
    "species, habitat, and diet. Which encoding technique would you use to transform the categorical data into\n",
    "a format suitable for machine learning algorithms? Justify your answer."
   ]
  },
  {
   "cell_type": "markdown",
   "id": "55332bb3-28ac-4c0a-bcb9-50c3effec668",
   "metadata": {},
   "source": [
    "one hot encoding will be best suited to transform the categorical data into a format suitable for machine learning algorithms"
   ]
  },
  {
   "cell_type": "markdown",
   "id": "908ba759-bfcb-47ad-ba76-e6841268ca6c",
   "metadata": {},
   "source": [
    "Q7.You are working on a project that involves predicting customer churn for a telecommunications\n",
    "company. You have a dataset with 5 features, including the customer's gender, age, contract type,\n",
    "monthly charges, and tenure. Which encoding technique(s) would you use to transform the categorical\n",
    "data into numerical data? Provide a step-by-step explanation of how you would implement the encoding."
   ]
  },
  {
   "cell_type": "markdown",
   "id": "aa85922b-c275-4763-ba83-7be20cc2c50e",
   "metadata": {},
   "source": [
    "one hot encoding will be best suited to transform the categorical data intoa format suitable for machine learning algorithms.\n",
    "Steps:\n",
    "1.import OneHotEncoder eg:-from sklearn.preprocessing import OneHotEncoder\n",
    "2.Create the object of encoder eg:-encoder=OneHotEncoder()\n",
    "3.use the method fit_transform to the encoder object with the column to transform eg:-encoded=encoder.fit_transform(df[[\"color\"]])\n",
    "4.use method toarray() to convert it into array eg:-toarray()\n",
    "5.create a dataFrame using the array"
   ]
  }
 ],
 "metadata": {
  "kernelspec": {
   "display_name": "Python 3 (ipykernel)",
   "language": "python",
   "name": "python3"
  },
  "language_info": {
   "codemirror_mode": {
    "name": "ipython",
    "version": 3
   },
   "file_extension": ".py",
   "mimetype": "text/x-python",
   "name": "python",
   "nbconvert_exporter": "python",
   "pygments_lexer": "ipython3",
   "version": "3.10.8"
  }
 },
 "nbformat": 4,
 "nbformat_minor": 5
}
