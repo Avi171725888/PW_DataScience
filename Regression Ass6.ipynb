{
 "cells": [
  {
   "cell_type": "markdown",
   "id": "ecff36e4-1f9c-45a2-99ea-088707917c0b",
   "metadata": {},
   "source": [
    "Q1. What are the key steps involved in building an end-to-end web application, from development to\n",
    "deployment on the cloud?"
   ]
  },
  {
   "cell_type": "markdown",
   "id": "c2e6b002-de09-4639-84f2-5385ad5db6f4",
   "metadata": {},
   "source": [
    "1.Data collection:-collect the data from various sources as csv,excel,etc\n",
    "2.EXploratory data Analysis:-find missing vlaues and do data analysis on data.\n",
    "3.Feature Engineering:-Find the feature effecting the output and change categorial feature into numerical\n",
    "4.Model training:-select the model for train and test and train model\n",
    "5.Web app:-Do a web application to interact with the user and perform data insersion and storage.\n",
    "6.depolyment:-Deploy the web app to the cloud based server."
   ]
  },
  {
   "cell_type": "markdown",
   "id": "3569838e-59fa-4be5-bbcb-858799036287",
   "metadata": {},
   "source": [
    "Q2. Explain the difference between traditional web hosting and cloud hosting."
   ]
  },
  {
   "cell_type": "markdown",
   "id": "f8611da0-12bd-4ca7-a5db-4c9c93947293",
   "metadata": {},
   "source": [
    "Traditional Hosting:-\n",
    "Traditional hosting comes mainly in two forms, dedicated and shared. With dedicated hosting, a company pays for the complete resources of one or more servers from a service provider. The client has a set amount of dedicated bandwidth, CPU, RAM, and drive space, and the client has full control over the servers resources.\n",
    "\n",
    "With shared hosting, which is more common among small and medium sized businesses, the client pays for a set amount of space (storage) on a single server, and that server’s resources are shared by a number of other websites. It’s a cost-efficient, low-maintenance way to host a website or application, and the hosting company is responsible for managing, maintaining, and updating the units.\n",
    "\n",
    "Traditional hosting, especially shared hosting, has its drawbacks though. Because the resources of a single server are shared among a number of different websites, spikes in traffic to those websites can mean decreased performance for your own. Security breaches and other performance issues on other sites make take yours down as well. And there’s a single point of failure. If the server itself experiences technical problems, everyone hosted on that server will be affected.\n",
    "\n",
    "With shared hosting, you’re also paying for a set amount of storage and processing power. If you have a predictable flow of traffic, this may be a good solution for you. But if your traffic is increasing rapidly, or if you see sudden spikes in traffic due to a new product or feature, you may be constrained the amount of storage you currently have.\n",
    "\n",
    "You will need to adapt by purchasing additional server space to add to your storage space and processing power. But if traffic falls again, you will be paying for resources that you aren’t using."
   ]
  },
  {
   "cell_type": "markdown",
   "id": "2d924e6a-7642-4bca-a6cd-635fae9bb9de",
   "metadata": {},
   "source": [
    "Cloud Hosting\n",
    "Cloud hosting offers a level of scalability that traditional hosting can’t. Cloud hosting companies provide virtual space on an on-demand, as-needed basis. Instead of paying for a set amount of space upfront on a single server, the user pays as they go for what they actually use.\n",
    "\n",
    "With cloud hosting, the load is balanced across a cluster of multiple servers. The information and applications contained on those servers are mirrored across the whole cluster, meaning that if an individual server goes down, there is no lost information or downtime. Because of this redundancy, cloud hosting is much more elastic and resilient. Problems with one website or application are unlikely to affect your bandwidth or performance.\n",
    "\n",
    "Cloud hosting companies provide Infrastructure-as-a-Service (IaaS). They house, run, and maintain all of the necessary hardware, and the customer pays for the resources the use, similar to how we pay for utilities like electricity.\n",
    "\n",
    "IT departments don’t need to invest in in-house server hardware. And customers don’t need to pay for up front for extra storage or processing capacity that they don’t use. Cloud hosting is more quickly scalable than traditional hosting. If an application or website receives more or less traffic, the cloud servers scale up and down automatically. With cloud hosting, there’s no need to manually add or remove server space as there is in shared hosting.\n",
    "\n",
    "Cloud hosting is still a relatively new technology, and many who have experience with traditional hosting are hesitant to move to something different. Shared hosting provides consumers with a convenient, low-entry hosting solution, and many users never experience problems. But if you’re looking for a low-cost, flexible, easily scalable hosting solution, it may be time to move to the cloud."
   ]
  },
  {
   "cell_type": "markdown",
   "id": "fbe094d5-3304-4df4-a2ac-1222fae7eb0b",
   "metadata": {},
   "source": [
    "Q3. How do you choose the right cloud provider for your application deployment, and what factors\n",
    "should you consider?"
   ]
  },
  {
   "cell_type": "markdown",
   "id": "91ad1786-9839-4a4e-abf2-0fa4e27e24d9",
   "metadata": {},
   "source": [
    "Grouped these into 8 sections to help you effectively compare suppliers and select a provider that delivers the value and benefits your organisation expects from the cloud.\n",
    "1.Certifications & Standards\n",
    "2.Technologies & Service Roadmap\n",
    "3.Data Security, Data Governance and Business policies\n",
    "4.Service Dependencies & Partnerships\n",
    "5.Contracts, Commercials & SLAs\n",
    "6.Reliability & Performance\n",
    "7.Migration Support, Vendor Lock in & Exit Planning\n",
    "8.Business health & Company profile"
   ]
  },
  {
   "cell_type": "markdown",
   "id": "5dc793f3-c5fe-4108-bf4e-de0dfb0784da",
   "metadata": {},
   "source": [
    "Q4. How do you design and build a responsive user interface for your web application, and what are\n",
    "some best practices to follow?"
   ]
  },
  {
   "cell_type": "markdown",
   "id": "8851b5ac-a620-4f5b-9eca-a85cf5ec4622",
   "metadata": {},
   "source": [
    "1.Eliminate Friction\n",
    "2.Design for Thumbs\n",
    "3.Take Advantage of Mobile Devices’ Native Hardware\n",
    "4.Make Layouts Fluid/Adaptive by Default\n",
    "5.Don’t Forget About Landscape Orientation\n",
    "6.Remember, Typography Can Be Responsive Too\n",
    "7.Lazy Load Non-vital Images and Videos\n",
    "8.Conditional Loading"
   ]
  },
  {
   "cell_type": "markdown",
   "id": "f913090b-07d2-4880-8d80-512efe23779d",
   "metadata": {},
   "source": [
    "Q5. How do you integrate the machine learning model with the user interface for the Algerian Forest Fires\n",
    "project(which we discussed in class), and what APIs or libraries can you use for this purpose?"
   ]
  },
  {
   "cell_type": "markdown",
   "id": "e43c1a50-e4e7-4991-86a0-f2ba566fac1b",
   "metadata": {},
   "source": [
    " APIs or libraries can you use for this purpose are:-\n",
    " 1.flask\n",
    " 2.numpy\n",
    " 3.matplotlib\n",
    " 4.pandas\n",
    " 5.seaborn\n",
    " 6.pickle"
   ]
  }
 ],
 "metadata": {
  "kernelspec": {
   "display_name": "Python 3 (ipykernel)",
   "language": "python",
   "name": "python3"
  },
  "language_info": {
   "codemirror_mode": {
    "name": "ipython",
    "version": 3
   },
   "file_extension": ".py",
   "mimetype": "text/x-python",
   "name": "python",
   "nbconvert_exporter": "python",
   "pygments_lexer": "ipython3",
   "version": "3.10.8"
  }
 },
 "nbformat": 4,
 "nbformat_minor": 5
}
