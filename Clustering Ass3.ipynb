{
 "cells": [
  {
   "cell_type": "markdown",
   "id": "1f6ee5df-69fc-454a-a6a4-df50d13c9b35",
   "metadata": {},
   "source": [
    "Q1. Explain the basic concept of clustering and give examples of applications where clustering is useful."
   ]
  },
  {
   "cell_type": "markdown",
   "id": "49a2711d-1e52-48d1-a401-0902410f9773",
   "metadata": {},
   "source": [
    "Clustering is the process of making a group of abstract objects into classes of similar objects.\n",
    "\n",
    "Points to Remember\n",
    "\n",
    "1.A cluster of data objects can be treated as one group.\n",
    "\n",
    "2.While doing cluster analysis, we first partition the set of data into groups based on data similarity and then assign the labels to the groups.\n",
    "\n",
    "3.The main advantage of clustering over classification is that, it is adaptable to changes and helps single out useful features that distinguish different groups.\n",
    "\n",
    "Applications of Cluster Analysis\n",
    "1.Clustering analysis is broadly used in many applications such as market research, pattern recognition, data analysis, and image processing.\n",
    "\n",
    "2.Clustering can also help marketers discover distinct groups in their customer base. And they can characterize their customer groups based on the purchasing patterns.\n",
    "\n",
    "3.In the field of biology, it can be used to derive plant and animal taxonomies, categorize genes with similar functionalities and gain insight into structures inherent to populations.\n",
    "\n",
    "4.Clustering also helps in identification of areas of similar land use in an earth observation database. It also helps in the identification of groups of houses in a city according to house type, value, and geographic location.\n",
    "\n",
    "5.Clustering also helps in classifying documents on the web for information discovery.\n",
    "\n",
    "6.Clustering is also used in outlier detection applications such as detection of credit card fraud.\n",
    "\n",
    "7.As a data mining function, cluster analysis serves as a tool to gain insight into the distribution of data to observe characteristics of each cluster."
   ]
  },
  {
   "cell_type": "markdown",
   "id": "25cf0179-e061-4610-b3c0-877d2d5e3cfa",
   "metadata": {},
   "source": [
    "Q2. What is DBSCAN and how does it differ from other clustering algorithms such as k-means and\n",
    "hierarchical clustering?"
   ]
  },
  {
   "cell_type": "markdown",
   "id": "7c7e92ed-562b-40ca-a6e7-a48266441f7b",
   "metadata": {},
   "source": [
    "DBSCAN (Density-Based Spatial Clustering of Applications with Noise) is a clustering algorithm used to identify clusters in a dataset based on the density of data points. It differs from other clustering algorithms like K-means and hierarchical clustering in several ways:\n",
    "\n",
    "DBSCAN:\n",
    "\n",
    "Density-Based Approach:\n",
    "\n",
    "DBSCAN is a density-based clustering algorithm, which means it defines clusters as dense regions of data points separated by sparser regions.\n",
    "It doesn't rely on predefined cluster numbers (k) and can discover clusters of arbitrary shapes and sizes.\n",
    "Noise Handling:\n",
    "\n",
    "DBSCAN can identify and label noisy data points as outliers that do not belong to any cluster.\n",
    "It is robust to outliers and does not force every data point into a cluster.\n",
    "Cluster Shape Flexibility:\n",
    "\n",
    "DBSCAN can detect clusters of various shapes, including irregular and non-convex shapes, which is a limitation of K-means, which assumes spherical clusters.\n",
    "Core Points, Border Points, and Noise:\n",
    "\n",
    "DBSCAN categorizes data points into three types: core points (points in dense regions), border points (points on the border of clusters), and noise points (outliers).\n",
    "Clusters are formed by connecting core points and their reachable neighboring points.\n",
    "Parameter Sensitivity:\n",
    "\n",
    "DBSCAN has two main hyperparameters: \"epsilon\" (ε), which defines the radius around a data point to consider when searching for neighboring points, and \"minPts,\" which specifies the minimum number of data points within ε to define a core point.\n",
    "Tuning these parameters can affect the clustering results, and the appropriate values depend on the dataset.\n",
    "Differences from K-means:\n",
    "\n",
    "K-means:\n",
    "\n",
    "K-means is a partitioning algorithm that requires specifying the number of clusters (k) in advance, which can be challenging.\n",
    "It aims to minimize the sum of squared distances from data points to cluster centroids.\n",
    "DBSCAN:\n",
    "\n",
    "DBSCAN does not require specifying the number of clusters and is better suited for data where the number of clusters is unknown or the clusters have irregular shapes.\n",
    "It identifies clusters based on data density, using core points and their reachable neighbors.\n",
    "Differences from Hierarchical Clustering:\n",
    "\n",
    "Hierarchical Clustering:\n",
    "\n",
    "Hierarchical clustering builds a tree-like structure (dendrogram) by successively merging or splitting clusters based on a distance metric.\n",
    "It provides a hierarchical view of clusters, allowing exploration at various levels of granularity.\n",
    "DBSCAN:\n",
    "\n",
    "DBSCAN does not create a hierarchical structure; it identifies clusters in a single pass through the data.\n",
    "It focuses on defining clusters based on density, whereas hierarchical clustering considers all data points when merging or splitting clusters.\n",
    "In summary, DBSCAN is a density-based clustering algorithm that excels at finding clusters in datasets with irregular shapes and handling noisy data. Its primary parameters, ε and minPts, make it more adaptable to the density characteristics of the data. This makes DBSCAN a valuable alternative to K-means and hierarchical clustering in situations where data distribution and cluster shapes are less well-defined.\n",
    "\n"
   ]
  },
  {
   "cell_type": "markdown",
   "id": "c07e132e-ddba-4652-b877-acda4f91e6d4",
   "metadata": {},
   "source": [
    "Q3. How do you determine the optimal values for the epsilon and minimum points parameters in DBSCAN\n",
    "clustering?"
   ]
  },
  {
   "cell_type": "markdown",
   "id": "7563dd88-7237-4ae4-abfe-2d76c8012abd",
   "metadata": {},
   "source": [
    "Determining the optimal values for the epsilon (ε) and minimum points (minPts) parameters in DBSCAN clustering is essential for obtaining meaningful and effective clustering results. Here's a general approach to determine these parameter values:\n",
    "\n",
    "Visual Inspection:\n",
    "\n",
    "Begin by visualizing your data to get an initial sense of its density distribution and potential clusters. This can help you make an educated guess for the parameters.\n",
    "Select a Range:\n",
    "\n",
    "Start by selecting a range of values for ε and minPts to explore. The range should cover a wide spectrum of possibilities.\n",
    "Grid Search:\n",
    "\n",
    "Perform a grid search over the selected parameter range. This involves running DBSCAN with different combinations of ε and minPts values.\n",
    "Evaluation Metrics:\n",
    "\n",
    "Use evaluation metrics to assess the quality of the clustering results for each parameter combination. Common evaluation metrics for DBSCAN include:\n",
    "Silhouette Score: Measures the quality of the clusters.\n",
    "Davies-Bouldin Index: Measures the average similarity between each cluster and its most similar cluster.\n",
    "Connectivity: Assesses the connectedness of clusters.\n",
    "Noise Percentage: Measures the proportion of noise points (outliers) in the dataset.\n",
    "Visualize Clusters:\n",
    "\n",
    "Plot the clustering results for different parameter combinations to visualize the quality and appropriateness of the clusters.\n",
    "Domain Knowledge:\n",
    "\n",
    "Incorporate domain knowledge or prior information if available. Domain-specific insights may help guide your choice of parameters, especially if you have an understanding of the density characteristics of your data."
   ]
  },
  {
   "cell_type": "markdown",
   "id": "4d1945e8-3aae-4e4d-9140-fad0cd8bcde4",
   "metadata": {},
   "source": [
    "Q4. How does DBSCAN clustering handle outliers in a dataset?"
   ]
  },
  {
   "cell_type": "markdown",
   "id": "1e584b90-5664-4fc7-871d-f7c0a8c9949b",
   "metadata": {},
   "source": [
    "• DBSCAN is a density-based clustering algorithm that can also be used for outlier detection. It is particularly useful for datasets where the outliers are not clearly defined and may be embedded within clusters.\n",
    "\n",
    "• One unique use case of DBSCAN for outlier detection is in fraud detection. For example, if a credit card company wants to identify fraudulent transactions, they could use DBSCAN to cluster transactions based on their similarity and then identify any transactions that fall outside of these clusters as potential outliers.\n",
    "\n",
    "• Another use case of DBSCAN for outlier detection is in anomaly detection for sensor data. For instance, if a manufacturing plant wants to monitor its equipment for any anomalies, it could use DBSCAN to cluster the sensor data and identify any data points that are not part of these clusters as potential outliers.\n",
    "\n",
    "• DBSCAN can also be used for detecting outliers in spatial data. For example, if a city wants to identify areas where crime rates are significantly higher than the surrounding areas, they could use DBSCAN to cluster crime data by location and then identify any locations that fall outside of these clusters as potential outliers.\n",
    "\n",
    "• In addition, DBSCAN can be used for identifying outliers in text data. For instance, if a news website wants to identify articles that are significantly different from the other articles on the website, they could use DBSCAN to cluster the articles based on their content and then identify any articles that fall outside of these clusters as potential outliers."
   ]
  },
  {
   "cell_type": "markdown",
   "id": "7ff28369-2813-4fab-bb1c-3cce72e1e4ca",
   "metadata": {},
   "source": [
    "Q5. How does DBSCAN clustering differ from k-means clustering?"
   ]
  },
  {
   "cell_type": "markdown",
   "id": "eb199df3-0d5f-4779-b08f-69d61ba4dd09",
   "metadata": {},
   "source": [
    "DBSCAN and K-Means are two popular clustering algorithms used in machine learning. While both of these algorithms are used for clustering, they differ in many ways. In this section, we will discuss the differences between DBSCAN and K-Means and when to use each algorithm.\n",
    "\n",
    "Differences between the two algorithms:\n",
    "– DBSCAN is a density-based clustering algorithm, whereas K-Means is a centroid-based clustering algorithm.\n",
    "– DBSCAN can discover clusters of arbitrary shapes, whereas K-Means assumes that the clusters are spherical.\n",
    "– DBSCAN does not require the number of clusters to be specified in advance, whereas K-Means requires the number of clusters to be specified.\n",
    "– DBSCAN is less sensitive to initialization than K-Means.\n",
    "\n",
    "When to use DBSCAN vs. K-Means?\n",
    "– Use DBSCAN when the data has irregular shapes or when there is no prior knowledge about the number of clusters.\n",
    "– Use K-Means when the data has spherical shapes and when the number of clusters is known beforehand.\n",
    "– If you are unsure which algorithm to use, it is always a good idea to try both algorithms and compare their results."
   ]
  },
  {
   "cell_type": "markdown",
   "id": "1f2c3e32-d9c7-448f-9e1d-60f569c7b28b",
   "metadata": {},
   "source": [
    "Q6. Can DBSCAN clustering be applied to datasets with high dimensional feature spaces? If so, what are\n",
    "some potential challenges?"
   ]
  },
  {
   "cell_type": "markdown",
   "id": "9449404f-5f09-45bf-bc3f-4b3a2dcc2fa3",
   "metadata": {},
   "source": [
    "DBSCAN (Density-Based Spatial Clustering of Applications with Noise) is a density-based clustering algorithm that groups together observations that are close to each other in space. The main idea behind DBSCAN is that a cluster should be defined as a dense area of points that is separated from other dense areas of points by areas of lower point density.One of the main challenges of using DBSCAN in high dimensional space is the \"curse of dimensionality.\" This refers to the fact that as the number of dimensions increases, the amount of space in which points can be located increases exponentially. As a result, it becomes much more difficult to find dense areas of points that are separated from other dense areas of points.Another challenge of using DBSCAN in high dimensional space is that the distance metric used to measure the distance between points becomes less meaningful. For example, in two-dimensional space, the Euclidean distance metric is a natural choice, but in high dimensional space, it becomes less meaningful because it gives equal weight to all dimensions.In conclusion, DBSCAN is not well suited for high dimensional data as it becomes increasingly difficult to find dense areas of points that are separated from other dense areas of points, and the distance metric used becomes less meaningful."
   ]
  },
  {
   "cell_type": "markdown",
   "id": "ac6346e1-654f-44bf-b7fb-6c9696d8054f",
   "metadata": {},
   "source": [
    "Q7. How does DBSCAN clustering handle clusters with varying densities?"
   ]
  },
  {
   "cell_type": "markdown",
   "id": "8d38a8fa-9532-47d1-bb6d-0081c3c41054",
   "metadata": {},
   "source": [
    "DBSCAN (Density-Based Spatial Clustering of Applications with Noise) is a robust clustering algorithm when it comes to handling clusters with varying densities. It is particularly well-suited to identifying clusters with different density characteristics within the same dataset. Here's how DBSCAN handles clusters with varying densities:\n",
    "\n",
    "Density-Based Clustering:\n",
    "\n",
    "DBSCAN defines clusters as dense regions of data points separated by regions with lower data density.\n",
    "It distinguishes between three types of data points: core points, border points, and noise points.\n",
    "Core Points:\n",
    "\n",
    "Core points are data points located in high-density regions. To be considered a core point, a data point must have at least \"minPts\" data points (including itself) within a distance of \"ε\" (epsilon) of it.\n",
    "Core points are the center of a cluster and are the seeds from which the clusters are grown.\n",
    "Border Points:\n",
    "\n",
    "Border points are data points that are within ε distance of a core point but do not have enough neighboring data points to be classified as core points themselves.\n",
    "Border points are associated with the cluster of the core point they are connected to, effectively expanding the cluster size.\n",
    "Noise Points:\n",
    "\n",
    "Noise points are data points that do not qualify as core or border points. They are isolated data points that do not belong to any cluster.\n",
    "DBSCAN can effectively identify and label these noise points as outliers.\n",
    "Varying Density Handling:\n",
    "\n",
    "DBSCAN is capable of identifying clusters with varying densities because it uses the concept of local density to determine cluster membership.\n",
    "In regions of high data density, more data points will meet the \"minPts\" requirement, resulting in larger and denser clusters.\n",
    "In regions of lower data density, smaller clusters or isolated data points are formed.\n",
    "Cluster Shapes:\n",
    "\n",
    "DBSCAN can detect clusters of various shapes, including irregularly shaped and non-convex clusters.\n",
    "It does not impose any assumptions about the shape or size of clusters, making it versatile in identifying clusters with varying shapes.\n",
    "Parameter Tuning:\n",
    "\n",
    "DBSCAN's performance in handling varying densities depends on the appropriate selection of the ε (epsilon) and minPts parameters.\n",
    "Choosing ε and minPts requires consideration of the dataset's density characteristics and can be adjusted to capture clusters of different densities."
   ]
  },
  {
   "cell_type": "markdown",
   "id": "caaa0ad3-9b65-4a4c-bf45-50f8d136d3d9",
   "metadata": {},
   "source": [
    "Q8. What are some common evaluation metrics used to assess the quality of DBSCAN clustering results?"
   ]
  },
  {
   "cell_type": "markdown",
   "id": "dd141fa2-887a-43d8-8030-374f99e9c7d1",
   "metadata": {},
   "source": [
    "Evaluate Model Performance — Mean Silhouette Coefficient\n",
    "If the true cluster labels are unknown, as was the case with my data set, the model itself must be used to evaluate performance. An example of this type of evaluation is the Silhouette Coefficient.\n",
    "\n",
    "The Silhouette Coefficient is bounded between 1 and -1. The best value is 1, the worst is -1. A higher score indicates that the model has better defined, more dense clusters. Values close to 0 indicate overlapping clusters, while negative values usually indicate that data points have been assigned to the wrong clusters. A paper about silhouettes can be found here.\n",
    "\n",
    "Two scores are used to calculate the silhouette coefficient:\n",
    "\n",
    "a: The average distance between one data point and all other points in the same cluster\n",
    "b: The average distance between one data point and all other points in the next nearest cluster.\n"
   ]
  },
  {
   "attachments": {
    "df479b16-a610-4c24-93c4-3e9468c81958.png": {
     "image/png": "[encoded data removed]"
    }
   },
   "cell_type": "markdown",
   "id": "dd489b48-3858-44bf-b860-0b8792eb627a",
   "metadata": {},
   "source": [
    "![image.png](attachment:df479b16-a610-4c24-93c4-3e9468c81958.png)"
   ]
  },
  {
   "cell_type": "markdown",
   "id": "7b804984-c7b9-4f43-93a8-76f538163b62",
   "metadata": {},
   "source": [
    "Q9. Can DBSCAN clustering be used for semi-supervised learning tasks?"
   ]
  },
  {
   "cell_type": "markdown",
   "id": "0baaf60a-de83-4414-9dc8-4aaa743c3468",
   "metadata": {},
   "source": [
    "DBSCAN clustering is primarily an unsupervised learning technique used for density-based clustering and anomaly detection. It does not inherently support semi-supervised learning. Semi-supervised learning typically involves utilizing both labeled and unlabeled data to train a model. DBSCAN, in its standard form, does not incorporate labeled data for classification tasks.\n",
    "\n",
    "However, it is possible to use the clusters formed by DBSCAN as a basis for semi-supervised learning tasks. Here's how you might use DBSCAN in a semi-supervised context:\n",
    "\n",
    "Cluster Formation:\n",
    "\n",
    "Apply DBSCAN to your dataset to cluster the unlabeled data points. DBSCAN will identify clusters and label data points as either core points, border points, or noise points.\n",
    "Label Propagation:\n",
    "\n",
    "If you have access to a small amount of labeled data, you can propagate these labels to the data points in the same cluster. For example, you might assign the same label to all core and border points within a cluster.\n",
    "Semi-Supervised Classification:\n",
    "\n",
    "After label propagation, you can use the labeled data points and their corresponding cluster labels to train a classification model. The model can be a simple classifier like k-nearest neighbors (KNN) or a more sophisticated supervised learning algorithm.\n",
    "Prediction:\n",
    "\n",
    "With the trained model, you can make predictions on the remaining unlabeled data points based on their cluster assignments and the labels of core and border points within the same cluster."
   ]
  },
  {
   "cell_type": "markdown",
   "id": "3c6e7ccc-76e8-493b-a3c4-9249a354d8ab",
   "metadata": {},
   "source": [
    "Q10. How does DBSCAN clustering handle datasets with noise or missing values?"
   ]
  },
  {
   "cell_type": "markdown",
   "id": "be899ccc-02ad-414b-9b6c-cbdc998adf22",
   "metadata": {},
   "source": [
    "DBSCAN (Density-Based Spatial Clustering of Applications with Noise) is a clustering algorithm that can handle datasets with noise and missing values to some extent. Here's how DBSCAN deals with such situations:\n",
    "\n",
    "Handling Noise:\n",
    "\n",
    "Noise Identification: DBSCAN is designed to handle noise in the data. It identifies noisy data points as \"noise points\" or \"outliers\" during the clustering process. Noise points do not belong to any cluster.\n",
    "\n",
    "Robust to Noise: DBSCAN's density-based approach allows it to naturally ignore data points that do not fit well into any cluster, making it robust to noise. Noisy points that are not part of any dense cluster are automatically labeled as noise points.\n",
    "\n",
    "Handling Missing Values:\n",
    "\n",
    "Data Imputation: Handling missing values in DBSCAN can be more challenging, as it relies on distance measurements between data points. Missing values can affect these distance calculations.\n",
    "\n",
    "Impute Missing Values: One common approach is to impute missing values before applying DBSCAN. Various imputation methods can be used, such as mean imputation, median imputation, or more advanced techniques like k-nearest neighbors (KNN) imputation.\n",
    "\n",
    "Data Transformation: In some cases, it might be beneficial to transform the data to a format that is less affected by missing values. For example, you can encode categorical variables as binary indicators, and numerical variables can be standardized.\n",
    "\n",
    "Ignoring Missing Data: Depending on the nature of the dataset and the specific problem, you may choose to ignore data points with missing values during the DBSCAN process, considering them as noise points."
   ]
  },
  {
   "cell_type": "markdown",
   "id": "36f7a322-7b2a-4b70-8fa3-04d24294278e",
   "metadata": {},
   "source": [
    "Q11. Implement the DBSCAN algorithm using a python programming language, and apply it to a sample\n",
    "dataset. Discuss the clustering results and interpret the meaning of the obtained clusters."
   ]
  },
  {
   "cell_type": "code",
   "execution_count": 1,
   "id": "a27c0e57-1524-404c-bb37-d2224152d3b2",
   "metadata": {},
   "outputs": [],
   "source": [
    "from sklearn.cluster import DBSCAN\n",
    "from sklearn.datasets import make_moons\n",
    "import matplotlib.pyplot as plt\n",
    "%matplotlib inline"
   ]
  },
  {
   "cell_type": "code",
   "execution_count": 4,
   "id": "93c1ff21-2966-4f48-a2b6-137de69734f3",
   "metadata": {},
   "outputs": [],
   "source": [
    "X,y=make_moons(n_samples=100,noise=0.01)"
   ]
  },
  {
   "cell_type": "code",
   "execution_count": 5,
   "id": "ddc2e90a-42a6-4036-8494-67ac354f6673",
   "metadata": {},
   "outputs": [
    {
     "data": {
      "text/plain": [
       "<matplotlib.collections.PathCollection at 0x7f5349ec18d0>"
      ]
     },
     "execution_count": 5,
     "metadata": {},
     "output_type": "execute_result"
    },
    {
     "data": {
      "image/png": "[encoded data removed]",
      "text/plain": [
       "<Figure size 640x480 with 1 Axes>"
      ]
     },
     "metadata": {},
     "output_type": "display_data"
    }
   ],
   "source": [
    "plt.scatter(X[:,0],X[:,1])"
   ]
  },
  {
   "cell_type": "code",
   "execution_count": 6,
   "id": "62bf0909-30ba-49c2-90c4-c6a8e09ae9ae",
   "metadata": {},
   "outputs": [],
   "source": [
    "from sklearn.preprocessing import StandardScaler\n",
    "scaler=StandardScaler()"
   ]
  },
  {
   "cell_type": "code",
   "execution_count": 7,
   "id": "69ef898d-4090-46fa-a03d-b8d5bb6d1694",
   "metadata": {},
   "outputs": [],
   "source": [
    "X_scaled=scaler.fit_transform(X)"
   ]
  },
  {
   "cell_type": "code",
   "execution_count": 8,
   "id": "198fe4f5-c5b1-4c56-b9d9-8b0a48dcf6f5",
   "metadata": {},
   "outputs": [],
   "source": [
    "dbscan=DBSCAN(eps=0.5)"
   ]
  },
  {
   "cell_type": "code",
   "execution_count": 9,
   "id": "226d6d37-a7b7-4df9-971d-682c51df76b2",
   "metadata": {},
   "outputs": [
    {
     "data": {
      "text/html": [
       "<style>#sk-container-id-1 {color: black;background-color: white;}#sk-container-id-1 pre{padding: 0;}#sk-container-id-1 div.sk-toggleable {background-color: white;}#sk-container-id-1 label.sk-toggleable__label {cursor: pointer;display: block;width: 100%;margin-bottom: 0;padding: 0.3em;box-sizing: border-box;text-align: center;}#sk-container-id-1 label.sk-toggleable__label-arrow:before {content: \"▸\";float: left;margin-right: 0.25em;color: #696969;}#sk-container-id-1 label.sk-toggleable__label-arrow:hover:before {color: black;}#sk-container-id-1 div.sk-estimator:hover label.sk-toggleable__label-arrow:before {color: black;}#sk-container-id-1 div.sk-toggleable__content {max-height: 0;max-width: 0;overflow: hidden;text-align: left;background-color: #f0f8ff;}#sk-container-id-1 div.sk-toggleable__content pre {margin: 0.2em;color: black;border-radius: 0.25em;background-color: #f0f8ff;}#sk-container-id-1 input.sk-toggleable__control:checked~div.sk-toggleable__content {max-height: 200px;max-width: 100%;overflow: auto;}#sk-container-id-1 input.sk-toggleable__control:checked~label.sk-toggleable__label-arrow:before {content: \"▾\";}#sk-container-id-1 div.sk-estimator input.sk-toggleable__control:checked~label.sk-toggleable__label {background-color: #d4ebff;}#sk-container-id-1 div.sk-label input.sk-toggleable__control:checked~label.sk-toggleable__label {background-color: #d4ebff;}#sk-container-id-1 input.sk-hidden--visually {border: 0;clip: rect(1px 1px 1px 1px);clip: rect(1px, 1px, 1px, 1px);height: 1px;margin: -1px;overflow: hidden;padding: 0;position: absolute;width: 1px;}#sk-container-id-1 div.sk-estimator {font-family: monospace;background-color: #f0f8ff;border: 1px dotted black;border-radius: 0.25em;box-sizing: border-box;margin-bottom: 0.5em;}#sk-container-id-1 div.sk-estimator:hover {background-color: #d4ebff;}#sk-container-id-1 div.sk-parallel-item::after {content: \"\";width: 100%;border-bottom: 1px solid gray;flex-grow: 1;}#sk-container-id-1 div.sk-label:hover label.sk-toggleable__label {background-color: #d4ebff;}#sk-container-id-1 div.sk-serial::before {content: \"\";position: absolute;border-left: 1px solid gray;box-sizing: border-box;top: 0;bottom: 0;left: 50%;z-index: 0;}#sk-container-id-1 div.sk-serial {display: flex;flex-direction: column;align-items: center;background-color: white;padding-right: 0.2em;padding-left: 0.2em;position: relative;}#sk-container-id-1 div.sk-item {position: relative;z-index: 1;}#sk-container-id-1 div.sk-parallel {display: flex;align-items: stretch;justify-content: center;background-color: white;position: relative;}#sk-container-id-1 div.sk-item::before, #sk-container-id-1 div.sk-parallel-item::before {content: \"\";position: absolute;border-left: 1px solid gray;box-sizing: border-box;top: 0;bottom: 0;left: 50%;z-index: -1;}#sk-container-id-1 div.sk-parallel-item {display: flex;flex-direction: column;z-index: 1;position: relative;background-color: white;}#sk-container-id-1 div.sk-parallel-item:first-child::after {align-self: flex-end;width: 50%;}#sk-container-id-1 div.sk-parallel-item:last-child::after {align-self: flex-start;width: 50%;}#sk-container-id-1 div.sk-parallel-item:only-child::after {width: 0;}#sk-container-id-1 div.sk-dashed-wrapped {border: 1px dashed gray;margin: 0 0.4em 0.5em 0.4em;box-sizing: border-box;padding-bottom: 0.4em;background-color: white;}#sk-container-id-1 div.sk-label label {font-family: monospace;font-weight: bold;display: inline-block;line-height: 1.2em;}#sk-container-id-1 div.sk-label-container {text-align: center;}#sk-container-id-1 div.sk-container {/* jupyter's `normalize.less` sets `[hidden] { display: none; }` but bootstrap.min.css set `[hidden] { display: none !important; }` so we also need the `!important` here to be able to override the default hidden behavior on the sphinx rendered scikit-learn.org. See: https://github.com/scikit-learn/scikit-learn/issues/21755 */display: inline-block !important;position: relative;}#sk-container-id-1 div.sk-text-repr-fallback {display: none;}</style><div id=\"sk-container-id-1\" class=\"sk-top-container\"><div class=\"sk-text-repr-fallback\"><pre>DBSCAN()</pre><b>In a Jupyter environment, please rerun this cell to show the HTML representation or trust the notebook. <br />On GitHub, the HTML representation is unable to render, please try loading this page with nbviewer.org.</b></div><div class=\"sk-container\" hidden><div class=\"sk-item\"><div class=\"sk-estimator sk-toggleable\"><input class=\"sk-toggleable__control sk-hidden--visually\" id=\"sk-estimator-id-1\" type=\"checkbox\" checked><label for=\"sk-estimator-id-1\" class=\"sk-toggleable__label sk-toggleable__label-arrow\">DBSCAN</label><div class=\"sk-toggleable__content\"><pre>DBSCAN()</pre></div></div></div></div></div>"
      ],
      "text/plain": [
       "DBSCAN()"
      ]
     },
     "execution_count": 9,
     "metadata": {},
     "output_type": "execute_result"
    }
   ],
   "source": [
    "dbscan.fit(X_scaled)"
   ]
  },
  {
   "cell_type": "code",
   "execution_count": 10,
   "id": "a90cde87-4f1f-4e7d-b00b-bda434436e7a",
   "metadata": {},
   "outputs": [
    {
     "data": {
      "text/plain": [
       "array([0, 0, 1, 1, 1, 0, 1, 1, 0, 1, 1, 0, 0, 0, 1, 1, 1, 0, 0, 0, 0, 0,\n",
       "       1, 0, 1, 1, 1, 0, 1, 0, 0, 0, 0, 0, 0, 1, 1, 0, 1, 1, 0, 1, 0, 1,\n",
       "       1, 0, 1, 1, 1, 0, 0, 0, 0, 1, 1, 1, 0, 1, 0, 0, 0, 0, 1, 1, 0, 1,\n",
       "       0, 1, 0, 1, 0, 0, 1, 1, 0, 1, 0, 1, 0, 0, 0, 1, 1, 1, 0, 1, 1, 0,\n",
       "       1, 1, 0, 1, 1, 0, 1, 0, 1, 0, 0, 1])"
      ]
     },
     "execution_count": 10,
     "metadata": {},
     "output_type": "execute_result"
    }
   ],
   "source": [
    "dbscan.labels_"
   ]
  },
  {
   "cell_type": "code",
   "execution_count": 11,
   "id": "bc007e96-cbfc-400e-a57b-0b593f0c1bcd",
   "metadata": {},
   "outputs": [
    {
     "data": {
      "text/plain": [
       "<matplotlib.collections.PathCollection at 0x7f5349d70b20>"
      ]
     },
     "execution_count": 11,
     "metadata": {},
     "output_type": "execute_result"
    },
    {
     "data": {
      "image/png": "[encoded data removed]",
      "text/plain": [
       "<Figure size 640x480 with 1 Axes>"
      ]
     },
     "metadata": {},
     "output_type": "display_data"
    }
   ],
   "source": [
    "plt.scatter(X_scaled[:,0],X_scaled[:,1],c=dbscan.labels_)"
   ]
  }
 ],
 "metadata": {
  "kernelspec": {
   "display_name": "Python 3 (ipykernel)",
   "language": "python",
   "name": "python3"
  },
  "language_info": {
   "codemirror_mode": {
    "name": "ipython",
    "version": 3
   },
   "file_extension": ".py",
   "mimetype": "text/x-python",
   "name": "python",
   "nbconvert_exporter": "python",
   "pygments_lexer": "ipython3",
   "version": "3.10.8"
  }
 },
 "nbformat": 4,
 "nbformat_minor": 5
}
