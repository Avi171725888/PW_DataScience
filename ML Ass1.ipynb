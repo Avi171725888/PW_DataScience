{
 "cells": [
  {
   "cell_type": "markdown",
   "id": "68d58ae3-f45a-434d-b9e1-aaad2f5fe2cd",
   "metadata": {},
   "source": [
    "Q1.Explain thK following with an example?"
   ]
  },
  {
   "cell_type": "markdown",
   "id": "b056b8f8-4426-4632-8600-4e71d1ebd57a",
   "metadata": {},
   "source": [
    "1.Artificial Intelligence:-\n",
    "Artificial intelligence is a field of science concerned with building computers and machines that can reason, learn, and act in such a way that would normally require human intelligence or that involves data whose scale exceeds what humans can analyze. \n",
    "AI is a broad field that encompasses many different disciplines, including computer science, data analytics and statistics, hardware and software engineering, linguistics, neuroscience, and even philosophy and psychology. \n",
    "On an operational level for business use, AI is a set of technologies that are based primarily on machine learning and deep learning, used for data analytics, predictions and forecasting, object categorization, natural language processing, recommendations, intelligent data retrieval, and more.\n",
    "ARTIFICIAL INTELLIGENCE EXAMPLES:-\n",
    "Manufacturing robots\n",
    "Self-driving cars"
   ]
  },
  {
   "cell_type": "markdown",
   "id": "9c4eea7a-d92a-4d25-b6ee-3568061adb1b",
   "metadata": {},
   "source": [
    "2.Machine Learning:-\n",
    "Machine learning is a branch of artificial intelligence (AI) and computer science which focuses on the use of data and algorithms to imitate the way that humans learn, gradually improving its accuracy.\n",
    "EXAMPLES:-\n",
    "Facial recognition.\n",
    "Product recommendations."
   ]
  },
  {
   "cell_type": "markdown",
   "id": "d03b1e16-40fc-4b07-9087-35ae6a9daf25",
   "metadata": {},
   "source": [
    "3.Deep Learning"
   ]
  },
  {
   "cell_type": "markdown",
   "id": "2ba561a1-9a5a-4d30-85a3-e0991a21a19f",
   "metadata": {},
   "source": [
    "Deep learning is a machine learning technique that teaches computers to do what comes naturally to humans: learn by example. Deep learning is a key technology behind driverless cars, enabling them to recognize a stop sign, or to distinguish a pedestrian from a lamppost. It is the key to voice control in consumer devices like phones, tablets, TVs, and hands-free speakers. Deep learning is getting lots of attention lately and for good reason. It’s achieving results that were not possible before.\n",
    "Examples:-\n",
    "1.Automated Driving\n",
    "2.Virtual assistants\n"
   ]
  },
  {
   "cell_type": "markdown",
   "id": "83335367-f0bf-475a-834a-940ff53b0a72",
   "metadata": {},
   "source": [
    "Q2.What  is supervised learning?list some examples of supervised learning? "
   ]
  },
  {
   "cell_type": "markdown",
   "id": "7104593c-d827-464a-b56a-38126ac85a99",
   "metadata": {},
   "source": [
    "Supervised learning is a type of machine learning in which a computer algorithm learns to make predictions or decisions based on labeled data. Labeled data is made up of previously known input variables (also known as features) and output variables (also known as labels).\n",
    "Examples:-\n",
    "1.Email Filtering\n",
    "2.Credit Scoring\n",
    "3.Voice Recognition"
   ]
  },
  {
   "cell_type": "markdown",
   "id": "dc44c2ee-48fe-4d02-a8bb-c3e5efc03704",
   "metadata": {},
   "source": [
    "Q3.What  is unsupervised learning?list some examples of unsupervised learning? "
   ]
  },
  {
   "cell_type": "markdown",
   "id": "8ad0792b-22b4-48c9-9d49-7760776ad213",
   "metadata": {},
   "source": [
    "Unsupervised learning is when it can provide a set of unlabelled data, which it is required to analyze and find patterns inside. The examples are dimension reduction and clustering. The training is supported to the machine with the group of data that has not been labeled, classified, or categorized, and the algorithm required to facilitate on that data without some supervision. The objective of unsupervised learning is to restructure the input record into new features or a set of objects with same patterns.\n",
    "Examples:-\n",
    "Organize computing clusters − The geographic areas of servers is determined on the basis of clustering of web requests received from a specific area of the world. The local server will include only the data frequently created by people of that region.\n",
    "Social network analysis − Social network analysis is conducted to make clusters of friends depends on the frequency of connection between them. Such analysis reveals the links between the users of some social networking website."
   ]
  },
  {
   "cell_type": "markdown",
   "id": "5cc583ff-8f4f-4bd0-8a13-2526402dada5",
   "metadata": {},
   "source": [
    "Q4.What is the difference between AI, ML, DL, and DS?"
   ]
  },
  {
   "cell_type": "markdown",
   "id": "87def5f6-80c7-45fb-9a8b-2308c64eb7ca",
   "metadata": {},
   "source": [
    "1.Texhnology:-Uses decision trees, logic, and statistical data to mimic human intelligence\n",
    "2.Computational Requirements:-Requires higher computational power to make machines acquire human-level intelligence\n",
    "3.Problem Solving Pattern:-Chooses algorithms basis the complexity of the problem, contributing toward cost and time saving\n",
    "4.Data Dependency:-\tRequires a lot of data to work on and obtain results\n",
    "5.Functionality:-It is a broader segment focusing mainly on intelligent behavior rather than accuracy"
   ]
  },
  {
   "cell_type": "markdown",
   "id": "8ce9f706-61a3-4476-9003-30ccd7cdef25",
   "metadata": {},
   "source": [
    "Q5.What are the main differences between supervised, unsupervised, and semi-supervised learning?"
   ]
  },
  {
   "cell_type": "markdown",
   "id": "a2ae0efe-27fe-42f8-bce2-13a05879b855",
   "metadata": {},
   "source": [
    "1.Supervised Learning:-\n",
    "Labeled dataset is a set of data with predictors (input variables) and output (response/target variables). Supervised learning is where you have such a dataset, and you are searching for the best representative function that link or map predictors to relevant target. With availability of response variables, we are able to compare prediction and actual label, and hence modification applied to reduce misprediction and improve model.\n",
    "2.Unsupervised Learning:-\n",
    "When we have unlabeled data, we are handling unsupervised learning problem. We are clueless whether we are clustering the data points/ tuples correctly. Therefore, challenge for unsupervised learning will be deciding point to stop learning and evaluation of model built. We are not working to do any prediction here, as ‘machine’ is not taught how to predict. Instead, we are exploring and reporting underlying insights and structure of data. Three typical areas applying unsupervised learning is clustering, dimensionality reduction and association analysis.\n",
    "3.Semi-Supervised Learning:-\n",
    "This kind of learning lies in between supervised and unsupervised. It has mixture of labeled and unlabeled data with larger proportion for latter. Data available today is mostly of this form, as it is costly, time consuming, and requires expertise to get a huge data labeled. When such data is given, unsupervised learning technique is used and followed by supervised learning. Data is divided into clusters and missing labels are predicted. It is assumed that the data points in same cluster posing same or similar label, basic way to get the labels is by voting or average value among data falling in same cluster."
   ]
  },
  {
   "cell_type": "markdown",
   "id": "c208dfdb-3c9e-4d67-afe8-f919f233a917",
   "metadata": {},
   "source": [
    "Q6.What is train, test and validation split? Explain thK importance of each term?"
   ]
  },
  {
   "cell_type": "markdown",
   "id": "de6ed4e1-e0d1-4d18-a7c1-74e4c1ce26e9",
   "metadata": {},
   "source": [
    "1.The Training DataSet:-\n",
    "It is the set of data that is used to train and make the model learn the hidden features/patterns in the data.\n",
    "In each epoch, the same training data is fed to the neural network architecture repeatedly, and the model continues to learn the features of the data.The training set should have a diversified set of inputs so that the model is trained in all scenarios and can predict any unseen data sample that may appear in the future.\n",
    "The Training Set\n",
    "It is the set of data that is used to train and make the model learn the hidden features/patterns in the data.\n",
    "In each epoch, the same training data is fed to the neural network architecture repeatedly, and the model continues to learn the features of the data.The training set should have a diversified set of inputs so that the model is trained in all scenarios and can predict any unseen data sample that may appear in the future.\n",
    "2.The Validation DataSet:-\n",
    "The validation set is a set of data, separate from the training set, that is used to validate our model performance during training.This validation process gives information that helps us tune the model’s hyperparameters and configurations accordingly. It is like a critic telling us whether the training is moving in the right direction or not.\n",
    "3.The Test DataSet:-\n",
    "The test set is a separate set of data used to test the model after completing the training.It provides an unbiased final model performance metric in terms of accuracy, precision, etc. To put it simply, it answers the question of \"How well does the model perform?\""
   ]
  },
  {
   "cell_type": "markdown",
   "id": "3769b53a-c02f-433e-b91c-b4075cc30584",
   "metadata": {},
   "source": [
    "Q7.How can unsupervised learning be used in anomaly detection?"
   ]
  },
  {
   "cell_type": "markdown",
   "id": "df9b6595-6492-48cd-9cac-3c39a1e19d53",
   "metadata": {},
   "source": [
    "Anomaly Detection is the technique of identifying rare events or observations which can raise suspicions by being statistically different from the rest of the observations. Such “anomalous” behaviour typically translates to some kind of a problem like a credit card fraud, failing machine in a server, a cyber attack, etc."
   ]
  },
  {
   "cell_type": "markdown",
   "id": "c0613a23-936b-470f-a19f-237a8414b73f",
   "metadata": {},
   "source": [
    "Q8.List down some commonly used supervised learning algorithms and unsupervised learning\n",
    "algorithms?"
   ]
  },
  {
   "cell_type": "markdown",
   "id": "5700ab75-6af0-4e7c-b0ed-544daeff84fb",
   "metadata": {},
   "source": [
    "The popular applications of Supervised Learning:\n",
    "1.Predictive analytics (house prices, stock exchange prices, etc.)\n",
    "2.Text recognition\n",
    "3.Spam detection\n",
    "4.Customer sentiment analysis\n",
    "5.Object detection (e.g. face detection)\n",
    "Unsupervised Learning algorithms:\n",
    "1.K-means clustering.\n",
    "2.KNN (k-nearest neighbors)\n",
    "3.Hierarchal clustering.\n",
    "4.Anomaly detection."
   ]
  }
 ],
 "metadata": {
  "kernelspec": {
   "display_name": "Python 3 (ipykernel)",
   "language": "python",
   "name": "python3"
  },
  "language_info": {
   "codemirror_mode": {
    "name": "ipython",
    "version": 3
   },
   "file_extension": ".py",
   "mimetype": "text/x-python",
   "name": "python",
   "nbconvert_exporter": "python",
   "pygments_lexer": "ipython3",
   "version": "3.10.8"
  }
 },
 "nbformat": 4,
 "nbformat_minor": 5
}
