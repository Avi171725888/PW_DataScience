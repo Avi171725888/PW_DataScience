{
 "cells": [
  {
   "cell_type": "markdown",
   "id": "99230ecd-73c7-45e5-81c2-56ee91d6df22",
   "metadata": {},
   "source": [
    "Q1. What is an ensemble technique in machine learning?"
   ]
  },
  {
   "cell_type": "markdown",
   "id": "9d5960d4-b6ff-417e-9039-b77ed73295ce",
   "metadata": {},
   "source": [
    "If you are a beginner who wants to understand in detail what is ensemble, or if you want to refresh your knowledge about variance and bias, the comprehensive article below will give you an in-depth idea of ensemble learning, ensemble methods in machine learning, ensemble algorithm, as well as critical ensemble techniques, such as boosting and bagging. But before digging deep into the what, why, and how of ensemble, let's first take a look at some real-world examples that will simplify the concepts that are at the core of ensemble learning.\n",
    "\n",
    "Example 1: If you are planning to buy an air-conditioner, would you enter a showroom and buy the air-conditioner that the salesperson shows you? The answer is probably no. In this day and age, you are likely to ask your friends, family, and colleagues for an opinion, do research on various portals about different models, and visit a few review sites before making a purchase decision. In a nutshell, you would not come to a conclusion directly. Instead, you would try to make a more informed decision after considering diverse opinions and reviews. In the case of ensemble learning, the same principle applies. Now let's see what ensemble means."
   ]
  },
  {
   "cell_type": "markdown",
   "id": "888f8414-c9ef-4958-928e-39595dcdb3bb",
   "metadata": {},
   "source": [
    "Q2. Why are ensemble techniques used in machine learning?"
   ]
  },
  {
   "cell_type": "markdown",
   "id": "1dcf8283-0e15-4999-910c-ce547a91be85",
   "metadata": {},
   "source": [
    "Bagging, boosting and stacking are the three most popular ensemble learning techniques. Each of these techniques offers a unique approach to improving predictive accuracy. Each technique is used for a different purpose, with the use of each depending on varying factors. Although each technique is different, many of us find it hard to distinguish between them. Knowing when or why we should use each technique is difficult."
   ]
  },
  {
   "cell_type": "markdown",
   "id": "37bb0180-d647-4a23-970f-fb65cf2052b2",
   "metadata": {},
   "source": [
    "Q3. What is bagging?"
   ]
  },
  {
   "cell_type": "markdown",
   "id": "47e04398-1016-4c0f-be70-9761e5563e97",
   "metadata": {},
   "source": [
    "We use bagging for combining weak learners of high variance. Bagging aims to produce a model with lower variance than the individual weak models. These weak learners are homogenous, meaning they are of the same type.\n",
    "\n",
    "Bagging is also known as Bootstrap aggregating. It consists of two steps: bootstrapping and aggregation."
   ]
  },
  {
   "cell_type": "markdown",
   "id": "648baad0-2ee3-4079-9a90-a361f468efb8",
   "metadata": {},
   "source": [
    "Q4. What is boosting?"
   ]
  },
  {
   "cell_type": "markdown",
   "id": "ced26a30-93be-4c96-b0e6-6eba15f255b6",
   "metadata": {},
   "source": [
    "Boosting involves sequentially training weak learners. Here, each subsequent learner improves the errors of previous learners in the sequence. A sample of data is first taken from the initial dataset. This sample is used to train the first model, and the model makes its prediction. The samples can either be correctly or incorrectly predicted. The samples that are wrongly predicted are reused for training the next model. In this way, subsequent models can improve on the errors of previous models"
   ]
  },
  {
   "cell_type": "markdown",
   "id": "40dc06cb-1e79-4884-a009-752e24b7ea4a",
   "metadata": {},
   "source": [
    "Q5. What are the benefits of using ensemble techniques?"
   ]
  },
  {
   "cell_type": "markdown",
   "id": "6c5c27fe-d918-4798-8ce9-8425372cd40e",
   "metadata": {},
   "source": [
    "Ensemble methods offer several advantages over single models, such as improved accuracy and performance, especially for complex and noisy problems. They can also reduce the risk of overfitting and underfitting by balancing the trade-off between bias and variance, and by using different subsets and features of the data. Furthermore, ensemble methods can handle different types of data and tasks, such as classification, regression, clustering, and anomaly detection, by using different types of base models and aggregation methods. Additionally, they can provide more confidence and reliability by measuring the diversity and agreement of the base models, and by providing confidence intervals and error estimates for the predictions."
   ]
  },
  {
   "cell_type": "markdown",
   "id": "d15b5456-60bc-4ddd-931f-9fe003225623",
   "metadata": {},
   "source": [
    "Q6. Are ensemble techniques always better than individual models?"
   ]
  },
  {
   "cell_type": "markdown",
   "id": "3404f2a0-3bc8-4fd0-a946-1fe3611f76b5",
   "metadata": {},
   "source": [
    "There is no absolute guarantee a ensemble model performs better than an individual model, but if you build many of those, and your individual classifier is weak. Your overall performance should be better than an individual model."
   ]
  },
  {
   "cell_type": "markdown",
   "id": "2e3ce968-2553-443b-ae73-7cd510acdef6",
   "metadata": {},
   "source": [
    "Q7. How is the confidence interval calculated using bootstrap?"
   ]
  },
  {
   "cell_type": "markdown",
   "id": "5433f26a-8815-41a5-b7ad-2a502dfad6f4",
   "metadata": {},
   "source": [
    "In statistics, a confidence interval is a range of values that is used to estimate a population parameter, such as a mean, median, or variance, along with a level of confidence that the true parameter falls within that range. Bootstrap is a resampling technique used to estimate the sampling distribution of a statistic and, in turn, to calculate confidence intervals. Here's how you can calculate a confidence interval using bootstrap:\n",
    "\n",
    "Data Resampling: Start with your original sample data, and create a large number of bootstrap samples by randomly sampling with replacement. Each bootstrap sample should have the same size as the original data.\n",
    "\n",
    "Calculate Statistic: For each of the bootstrap samples, compute the statistic of interest. This could be the mean, median, standard deviation, or any other statistic you want to estimate.\n",
    "\n",
    "Create a Sampling Distribution: After calculating the statistic for each bootstrap sample, you will have a distribution of the statistic. This distribution approximates the sampling distribution of the statistic.\n",
    "\n",
    "Quantiles: Calculate the desired quantiles from the sampling distribution. The quantiles you choose depend on the level of confidence you want for your interval. For example, for a 95% confidence interval, you would typically calculate the 2.5th and 97.5th percentiles of the sampling distribution.\n",
    "\n",
    "Confidence Interval: The quantiles obtained in step 4 represent the lower and upper bounds of the confidence interval. You can use them to estimate the population parameter."
   ]
  },
  {
   "cell_type": "markdown",
   "id": "5ebda166-9501-46c4-84c6-e7d57300676b",
   "metadata": {},
   "source": [
    "Q8. How does bootstrap work and What are the steps involved in bootstrap?"
   ]
  },
  {
   "cell_type": "markdown",
   "id": "f89274f1-6a41-4752-9705-cd2727114b63",
   "metadata": {},
   "source": [
    "This procedure of using the bootstrap method to estimate the skill of the model can be summarized as follows:\n",
    "1.Choose a number of bootstrap samples to perform\n",
    "2.Choose a sample size\n",
    "3.For each bootstrap sample\n",
    "4.Draw a sample with replacement with the chosen size\n",
    "5.Fit a model on the data sample\n",
    "6.Estimate the skill of the model on the out-of-bag sample.\n",
    "7.Calculate the mean of the sample of model skill estimates."
   ]
  },
  {
   "cell_type": "markdown",
   "id": "bcb29866-e6b2-445e-bdd1-1b3c0b2ca623",
   "metadata": {},
   "source": [
    "Q9. A researcher wants to estimate the mean height of a population of trees. They measure the height of a\n",
    "sample of 50 trees and obtain a mean height of 15 meters and a standard deviation of 2 meters. Use\n",
    "bootstrap to estimate the 95% confidence interval for the population mean height."
   ]
  },
  {
   "cell_type": "code",
   "execution_count": 2,
   "id": "b42c8c5d-ebb2-476b-b4ab-06d4cc2103ca",
   "metadata": {},
   "outputs": [
    {
     "name": "stdout",
     "output_type": "stream",
     "text": [
      "95% Confidence Interval: (14.23, 15.80)\n"
     ]
    }
   ],
   "source": [
    "import numpy as np\n",
    "\n",
    "# Sample data\n",
    "sample_mean = 15\n",
    "sample_std = 2\n",
    "sample_size = 50\n",
    "\n",
    "# Number of resamples\n",
    "num_resamples = 10000\n",
    "\n",
    "# Create an array to store the resample means\n",
    "resample_means = np.zeros(num_resamples)\n",
    "\n",
    "# Perform the bootstrap\n",
    "for i in range(num_resamples):\n",
    "    # Generate a resample by sampling with replacement\n",
    "    resample = np.random.choice(np.random.normal(sample_mean, sample_std, sample_size), sample_size, replace=True)\n",
    "    \n",
    "    # Calculate the mean of the resample\n",
    "    resample_means[i] = np.mean(resample)\n",
    "\n",
    "# Calculate the 95% confidence interval\n",
    "lower_bound = np.percentile(resample_means, 2.5)\n",
    "upper_bound = np.percentile(resample_means, 97.5)\n",
    "\n",
    "print(\"95% Confidence Interval: ({:.2f}, {:.2f})\".format(lower_bound, upper_bound))"
   ]
  },
  {
   "cell_type": "code",
   "execution_count": null,
   "id": "11a307f4-47d2-4f74-972d-831927754d07",
   "metadata": {},
   "outputs": [],
   "source": []
  }
 ],
 "metadata": {
  "kernelspec": {
   "display_name": "Python 3 (ipykernel)",
   "language": "python",
   "name": "python3"
  },
  "language_info": {
   "codemirror_mode": {
    "name": "ipython",
    "version": 3
   },
   "file_extension": ".py",
   "mimetype": "text/x-python",
   "name": "python",
   "nbconvert_exporter": "python",
   "pygments_lexer": "ipython3",
   "version": "3.10.8"
  }
 },
 "nbformat": 4,
 "nbformat_minor": 5
}
