{
 "cells": [
  {
   "cell_type": "markdown",
   "id": "e182b15d-5803-4a54-b130-f886a7ab53d1",
   "metadata": {},
   "source": [
    "Q1. What is a database? Differentiate between SQL and NoSQL databases."
   ]
  },
  {
   "cell_type": "markdown",
   "id": "6cd34c4b-a29e-4639-99ea-6b8df20a52b0",
   "metadata": {},
   "source": [
    "Diferences between Sql and NoSql are as follows:-\n",
    "1.SQL databases are relational, and NoSQL databases are non-relational.\n",
    "2.SQL databases use structured query language (SQL) and have a predefined schema. NoSQL databases have dynamic schemas for unstructured data.\n",
    "3.SQL databases are vertically scalable, while NoSQL databases are horizontally scalable.\n",
    "4.SQL databases are table-based, while NoSQL databases are document, key-value, graph, or wide-column stores.\n",
    "5.SQL databases are better for multi-row transactions, while NoSQL is better for unstructured data like documents or JSON."
   ]
  },
  {
   "cell_type": "markdown",
   "id": "6f11dbad-431b-4188-a7b6-2be3ea8f3851",
   "metadata": {},
   "source": [
    "Q2. What is DDL? Explain why CREATE, DROP, ALTER, and TRUNCATE are used with an example."
   ]
  },
  {
   "cell_type": "markdown",
   "id": "80fac096-f101-42cd-84f2-1beace6fd34c",
   "metadata": {},
   "source": [
    "Data Definition Language(DDL) is a subset of SQL and a part of DBMS(Database Management System). DDL consist of Commands to commands like CREATE, ALTER, TRUNCATE and DROP. These commands are used to create or modify the tables in SQL."
   ]
  },
  {
   "cell_type": "markdown",
   "id": "5e7e937c-af57-4701-91a3-67454b2653de",
   "metadata": {},
   "source": [
    "1.CREATE :\n",
    "This command is used to create a new table in SQL. The user has to give information like table name, column names, and their datatypes.\n",
    "EX:-\n",
    "CREATE TABLE Student_info\n",
    "(\n",
    "College_Id number(2),\n",
    "College_name varchar(30),\n",
    "Branch varchar(10)\n",
    ");"
   ]
  },
  {
   "cell_type": "markdown",
   "id": "74874fdf-9d31-4ef4-acab-c56480209cfb",
   "metadata": {},
   "source": [
    "2.DROP :\n",
    "This command is used to remove an existing table along with its structure from the Database.\n",
    "EX:-DROP TABLE Student_info;"
   ]
  },
  {
   "cell_type": "markdown",
   "id": "f2cd7119-9b8f-4036-8efd-a02210254477",
   "metadata": {},
   "source": [
    "3.ALTER :\n",
    "This command is used to add, delete or change columns in the existing table. The user needs to know the existing table name and can do add, delete or modify tasks easily.\n",
    "EX:-ALTER TABLE Student_info\n",
    "ADD CGPA number;"
   ]
  },
  {
   "cell_type": "markdown",
   "id": "06236d94-1137-4e8c-8f8f-d1c84efef66c",
   "metadata": {},
   "source": [
    "4.TRUNCATE :\n",
    "This command is used to remove all rows from the table, but the structure of the table still exists.\n",
    "EX:-TRUNCATE TABLE Student_info;"
   ]
  },
  {
   "cell_type": "markdown",
   "id": "452e4a08-6466-43c6-98c7-86a8b58b0deb",
   "metadata": {},
   "source": [
    "Q3. What is DML? Explain INSERT, UPDATE, and DELETE with an example."
   ]
  },
  {
   "cell_type": "markdown",
   "id": "aa2027c0-4e4b-40df-a3c3-0b13647ecbc7",
   "metadata": {},
   "source": [
    "It performs interpret-only data queries. It is used in a database schema to recall and manipulate the information. DML It is a dialect which is used to select, insert, delete and update data in a database. Data Manipulation Language (DML) commands are as follows:"
   ]
  },
  {
   "cell_type": "markdown",
   "id": "abe7c623-0434-4484-8973-c9315eab13f7",
   "metadata": {},
   "source": [
    "1.INSERT Command:-\n",
    "This command is used to enter the information or values into a row. We can connect one or more records to a single table within a repository using this instruction. This is often used to connect an unused tag to the documents.\n",
    "EX:-INSERT INTO students ('stu_id' int, 'stu_name' varchar(20), 'city' varchar(20))\n",
    "VALUES ('1', 'Nirmit', 'Gorakhpur');"
   ]
  },
  {
   "cell_type": "markdown",
   "id": "c766a6dc-4a5d-4229-9c0d-606869918825",
   "metadata": {},
   "source": [
    "2.UPDATE Command\n",
    "This command is used to alter existing table records. Within a table, it modifies data from one or more records. This command is used to alter the data which is already present in a table.\n",
    "EX:-UPDATE students\n",
    "SET due_fees = 20000\n",
    "WHERE stu_name = 'Mini'; "
   ]
  },
  {
   "cell_type": "markdown",
   "id": "c9dbc220-b1dc-4416-bbdc-357265279473",
   "metadata": {},
   "source": [
    "3.DELETE Command\n",
    "It deletes all archives from a table. This command is used to erase some or all of the previous table’s records. If we do not specify the ‘WHERE’ condition then all the rows would be erased or deleted.\n",
    "EX:-DELETE FROM students\n",
    "WHERE stu_id = '001';"
   ]
  },
  {
   "cell_type": "markdown",
   "id": "b0e72e84-7b48-4321-bc71-e364dd202f15",
   "metadata": {},
   "source": [
    "Q4. What is DQL? Explain SELECT with an example.\n"
   ]
  },
  {
   "cell_type": "markdown",
   "id": "7265c097-035d-4dc2-8c6c-0751e03bf2fa",
   "metadata": {},
   "source": [
    "DQL is a portion of a SQL statement that allows you to get and organise data from a database. You can use the SELECT command to extract data from a database in order to perform actions on it. It is the same as the projection operation in relational algebra. The result of a SELECT statement on a table or collection of tables is compiled into a new temporary table, which is subsequently displayed or received by a program, i.e. a front-end."
   ]
  },
  {
   "cell_type": "markdown",
   "id": "8f33612f-4992-4251-92dc-631330c86e6a",
   "metadata": {},
   "source": [
    "SELECT Statement in SQL:-\n",
    "To fetch the entire table or all the fields in the table:\n",
    "EX:- SELECT * FROM table_name; \n",
    "\n",
    " — asterisks represent all attributes of the table\n",
    "SELECT CustomerName, LastName FROM Customer;"
   ]
  },
  {
   "cell_type": "markdown",
   "id": "6360e8e7-c2ab-4424-8aa3-446b70850c56",
   "metadata": {},
   "source": [
    "Q5. Explain Primary Key and Foreign Key."
   ]
  },
  {
   "cell_type": "markdown",
   "id": "f814c813-3411-4145-aac1-98ad620ef2c2",
   "metadata": {},
   "source": [
    "Primary Key:-\n",
    "A primary key is used to ensure that data in the specific column is unique. A column cannot have NULL values. It is either an existing table column or a column that is specifically generated by the database according to a defined sequence. \n",
    "Example: STUD_NO, as well as STUD_PHONE both, are candidate keys for relation STUDENT but STUD_NO can be chosen as the primary key (only one out of many candidate keys)\n"
   ]
  },
  {
   "cell_type": "markdown",
   "id": "efebead6-dab5-400f-b55b-a9a0a87c1b4d",
   "metadata": {},
   "source": [
    "Foreign Key:-\n",
    "A foreign key is a column or group of columns in a relational database table that provides a link between data in two tables. It is a column (or columns) that references a column (most often the primary key) of another table. \n",
    "\n",
    "Example: STUD_NO in STUDENT_COURSE is a foreign key to STUD_NO in STUDENT relation."
   ]
  },
  {
   "cell_type": "markdown",
   "id": "3996ccfb-0a79-4135-b171-9d2cd1416ebf",
   "metadata": {},
   "source": [
    "Q6. Write a python code to connect MySQL to python. Explain the cursor() and execute() method."
   ]
  },
  {
   "cell_type": "raw",
   "id": "7e8c9ba9-f2fd-45bb-b283-1ec3bd5221f4",
   "metadata": {},
   "source": [
    "import mysql.connector"
   ]
  },
  {
   "cell_type": "raw",
   "id": "72331945-89f2-401d-a039-654271030b8f",
   "metadata": {},
   "source": [
    "my_db=mysql.connector.connect(host=\"localhost\",user=\"abc\",password=\"password\")"
   ]
  },
  {
   "cell_type": "markdown",
   "id": "1e35cc3f-1e97-4d97-988c-5377d2b313f9",
   "metadata": {},
   "source": [
    "cursor():-The MySQLCursor of mysql-connector-python (and similar libraries) is used to execute statements to communicate with the MySQL database.\n",
    "\n",
    "Using the methods of it you can execute SQL statements, fetch data from the result sets, call procedures.\n",
    "\n",
    "You can create Cursor object using the cursor() method of the Connection object/class.\n",
    "mycursor=my_db.cursor()"
   ]
  },
  {
   "cell_type": "raw",
   "id": "5ebdefed-a0be-4043-88f4-fd289afa433c",
   "metadata": {},
   "source": [
    "execute():-This method executes the given database operation (query or command). The parameters found in the tuple or dictionary params are bound to the variables in the operation. Specify variables using %s or %(name)s parameter style (that is, using format or pyformat style). execute() returns an iterator if multi is True.\n",
    "mycursor.execute(\"SHOW DATABASE\")"
   ]
  },
  {
   "cell_type": "markdown",
   "id": "47f899e3-afc4-4cbf-a984-4c756573cbba",
   "metadata": {},
   "source": [
    "Q7. Give the order of execution of SQL clauses in an SQL query."
   ]
  },
  {
   "cell_type": "raw",
   "id": "0d75f29e-e153-4b12-833a-9ae2e3d3e376",
   "metadata": {},
   "source": [
    "1. FROM and JOINs:-\n",
    "The FROM clause, and subsequent JOINs are first executed to determine the total working set of data that is being queried. This includes subqueries in this clause, and can cause temporary tables to be created under the hood containing all the columns and rows of the tables being joined.\n",
    "\n",
    "2. WHERE:-\n",
    "Once we have the total working set of data, the first-pass WHERE constraints are applied to the individual rows, and rows that do not satisfy the constraint are discarded. Each of the constraints can only access columns directly from the tables requested in the FROM clause. Aliases in the SELECT part of the query are not accessible in most databases since they may include expressions dependent on parts of the query that have not yet executed.\n",
    "\n",
    "3. GROUP BY:-\n",
    "The remaining rows after the WHERE constraints are applied are then grouped based on common values in the column specified in the GROUP BY clause. As a result of the grouping, there will only be as many rows as there are unique values in that column. Implicitly, this means that you should only need to use this when you have aggregate functions in your query.\n",
    "\n",
    "4. HAVING:-\n",
    "If the query has a GROUP BY clause, then the constraints in the HAVING clause are then applied to the grouped rows, discard the grouped rows that don't satisfy the constraint. Like the WHERE clause, aliases are also not accessible from this step in most databases.\n",
    "\n",
    "5. SELECT:-\n",
    "Any expressions in the SELECT part of the query are finally computed.\n",
    "\n",
    "6. DISTINCT:-\n",
    "Of the remaining rows, rows with duplicate values in the column marked as DISTINCT will be discarded.\n",
    "\n",
    "7. ORDER BY:-\n",
    "If an order is specified by the ORDER BY clause, the rows are then sorted by the specified data in either ascending or descending order. Since all the expressions in the SELECT part of the query have been computed, you can reference aliases in this clause.\n",
    "\n",
    "8. LIMIT / OFFSET:-\n",
    "Finally, the rows that fall outside the range specified by the LIMIT and OFFSET are discarded, leaving the final set of rows to be returned from the query."
   ]
  },
  {
   "cell_type": "code",
   "execution_count": null,
   "id": "2af4d264-f510-4512-ac59-33ba10313f2d",
   "metadata": {},
   "outputs": [],
   "source": []
  }
 ],
 "metadata": {
  "kernelspec": {
   "display_name": "Python 3 (ipykernel)",
   "language": "python",
   "name": "python3"
  },
  "language_info": {
   "codemirror_mode": {
    "name": "ipython",
    "version": 3
   },
   "file_extension": ".py",
   "mimetype": "text/x-python",
   "name": "python",
   "nbconvert_exporter": "python",
   "pygments_lexer": "ipython3",
   "version": "3.10.8"
  }
 },
 "nbformat": 4,
 "nbformat_minor": 5
}
