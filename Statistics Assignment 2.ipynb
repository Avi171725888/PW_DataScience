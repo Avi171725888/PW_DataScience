{
 "cells": [
  {
   "cell_type": "markdown",
   "id": "da5afb7b-f885-4ca7-94c2-c28e9a9aed44",
   "metadata": {},
   "source": [
    "Q1. What are the three measures of central tendency?"
   ]
  },
  {
   "cell_type": "markdown",
   "id": "c869bf02-d66f-4478-af20-fc7533531fa8",
   "metadata": {},
   "source": [
    "Measures of central tendency help you find the middle, or the average, of a dataset. The 3 most common measures of central tendency are the mode, median, and mean.\n",
    "Mode: the most frequent value.\n",
    "Median: the middle number in an ordered dataset.\n",
    "Mean: the sum of all values divided by the total number of values.\n",
    "In addition to central tendency, the variability and distribution of your dataset is important to understand when performing descriptive statistics."
   ]
  },
  {
   "cell_type": "markdown",
   "id": "e3f6f40f-f810-433e-a7ad-a80a561b3b7d",
   "metadata": {},
   "source": [
    "Q2. What is the difference between the mean, median, and mode? How are they used to measure the\n",
    "central tendency of a dataset?"
   ]
  },
  {
   "cell_type": "markdown",
   "id": "8205f912-843a-4724-a098-d75825ed55b8",
   "metadata": {},
   "source": [
    "Mean:-\t\n",
    "1.The average taken for a set of numbers is called a mean.\n",
    "2.Add all of the numbers together and divide the sum by the total number of values.\n",
    "3.The result is the mean or average score.\n",
    "4.Example: To find the average of the four numbers 2, 4, 6, and 8, we need to add the number first.2 + 4 + 6+ 8 = 20\n",
    "Divide the sum by the total number of numbers, i. e 4.\n",
    "20/4 = 5 is the average or mean\n",
    "\n",
    "Median:-\n",
    "1.The middle value in the data set is called the Median.\n",
    "2.Place all the given numbers in an ascending order\n",
    "3.The next step is to find the middle number on the list. It is called the median.\n",
    "4.Example: 4, 2, 8, 10, 19.Arrange the numbers in ascending order. i .e., 2, 4, 8, 10, 19.\n",
    "As the total numbers are 5, so the middle number 8 is the median here.\n",
    "\n",
    "Mode:-\n",
    "1.The number that occurs the most in a given list of numbers is called a mode.\n",
    "2.It shows the frequency of occurrence.\n",
    "3.We can have more than one mode or no mode at all.\n",
    "4.Example: 3, 3, 5, 6, 7, 7, 8, 1, 1, 1, 4, 5, 6.Find the frequency of each number.\n",
    "For number 3, it’s 2. For 5, it’s 2. For 6, it’s 2. For 7, it’s 2. For 8, it’s one. For 1, it’s 3. For 4, it’s 1.\n",
    "The number with the highest frequency is the mode. Hence, the mode of the given sequence of numbers is 1."
   ]
  },
  {
   "cell_type": "markdown",
   "id": "2da5f8f0-739e-4dba-a144-f841e5c85f03",
   "metadata": {},
   "source": [
    "Q3. Measure the three measures of central tendency for the given height data:[178,177,176,177,178.2,178,175,179,180,175,178.9,176.2,177,172.5,178,176.5]"
   ]
  },
  {
   "cell_type": "code",
   "execution_count": 3,
   "id": "3ad2690f-5b90-4b3e-b93e-0416fa13a70f",
   "metadata": {},
   "outputs": [],
   "source": [
    "import numpy as np"
   ]
  },
  {
   "cell_type": "code",
   "execution_count": 2,
   "id": "60754333-f6e4-4bf4-b901-0395e7262a9b",
   "metadata": {},
   "outputs": [],
   "source": [
    "heights=[178,177,176,177,178.2,178,175,179,180,175,178.9,176.2,177,172.5,178,176.5]"
   ]
  },
  {
   "cell_type": "code",
   "execution_count": 3,
   "id": "fd89c4fc-be57-4357-9dd2-07532db96650",
   "metadata": {},
   "outputs": [
    {
     "data": {
      "text/plain": [
       "177.01875"
      ]
     },
     "execution_count": 3,
     "metadata": {},
     "output_type": "execute_result"
    }
   ],
   "source": [
    "np.mean(heights)"
   ]
  },
  {
   "cell_type": "code",
   "execution_count": 4,
   "id": "11b7c0e7-7dcb-48a3-ad22-706021edcc19",
   "metadata": {},
   "outputs": [
    {
     "data": {
      "text/plain": [
       "177.0"
      ]
     },
     "execution_count": 4,
     "metadata": {},
     "output_type": "execute_result"
    }
   ],
   "source": [
    "np.median(heights)"
   ]
  },
  {
   "cell_type": "code",
   "execution_count": 6,
   "id": "ec8fd2c3-f3ca-4ce0-bf76-d8d21b399199",
   "metadata": {},
   "outputs": [
    {
     "name": "stderr",
     "output_type": "stream",
     "text": [
      "/tmp/ipykernel_378/2713150148.py:2: FutureWarning: Unlike other reduction functions (e.g. `skew`, `kurtosis`), the default behavior of `mode` typically preserves the axis it acts along. In SciPy 1.11.0, this behavior will change: the default value of `keepdims` will become False, the `axis` over which the statistic is taken will be eliminated, and the value None will no longer be accepted. Set `keepdims` to True or False to avoid this warning.\n",
      "  stats.mode(heights)\n"
     ]
    },
    {
     "data": {
      "text/plain": [
       "ModeResult(mode=array([177.]), count=array([3]))"
      ]
     },
     "execution_count": 6,
     "metadata": {},
     "output_type": "execute_result"
    }
   ],
   "source": [
    "from scipy import stats\n",
    "stats.mode(heights)"
   ]
  },
  {
   "cell_type": "markdown",
   "id": "5d8fdf48-a413-4d94-856d-9e767ba07d32",
   "metadata": {},
   "source": [
    "Q4. Find the standard deviation for the given data:\n",
    "[178,177,176,177,178.2,178,175,179,180,175,178.9,176.2,177,172.5,178,176.5]"
   ]
  },
  {
   "cell_type": "code",
   "execution_count": 7,
   "id": "2074199c-55ee-439d-9ef0-a04e9da22649",
   "metadata": {},
   "outputs": [],
   "source": [
    "data=[178,177,176,177,178.2,178,175,179,180,175,178.9,176.2,177,172.5,178,176.5]"
   ]
  },
  {
   "cell_type": "code",
   "execution_count": 8,
   "id": "84c2bfc4-2b48-4dbf-8d6f-339215d18b26",
   "metadata": {},
   "outputs": [
    {
     "data": {
      "text/plain": [
       "1.7885814036548633"
      ]
     },
     "execution_count": 8,
     "metadata": {},
     "output_type": "execute_result"
    }
   ],
   "source": [
    "np.std(data)"
   ]
  },
  {
   "cell_type": "markdown",
   "id": "7fc1ee40-61ea-4783-ac06-77f0c69a92dc",
   "metadata": {},
   "source": [
    "Q5. How are measures of dispersion such as range, variance, and standard deviation used to describe\n",
    "the spread of a dataset? Provide an example."
   ]
  },
  {
   "cell_type": "markdown",
   "id": "21c98200-e77c-4e04-80c9-ca016c3d06ff",
   "metadata": {},
   "source": [
    "Measures of Dispersion\n",
    "The measures of dispersion contain almost the same unit as the quantity being measured. There are many Measures of Dispersion found that help us to get more insights into the data: \n",
    "1.Range \n",
    "2.Variance \n",
    "3.Standard Deviation \n",
    "4.Skewness \n",
    "5.IQR  \n",
    "Range:-\n",
    "Range is the measure of the difference between the largest and smallest value of the data variability. The range is the simplest form of Measures of Dispersion\n",
    "Example: 1,2,3,4,5,6,7 \n",
    "Range = Highest value – Lowest value \n",
    "  = ( 7 – 1 ) = 6 \n",
    "Variance (σ2):-\n",
    "In simple terms, the variance can be calculated by obtaining the sum of the squared distance of each term in the distribution from the Mean, and then dividing this by the total number of the terms in the distribution.It basically shows how far a number, for example, a student’s mark in an exam, is from the Mean of the entire class.\n",
    "Standard Deviation:-\n",
    "Standard Deviation can be represented as the square root of Variance. To find the standard deviation of any data, you need to find the variance first. Standard Deviation is considered the best measure of dispersion.Standard Deviation = √σ "
   ]
  },
  {
   "cell_type": "markdown",
   "id": "c7c2b4c9-900b-45b0-9e49-ef2880e20788",
   "metadata": {},
   "source": [
    "Q6. What is a Venn diagram?"
   ]
  },
  {
   "cell_type": "markdown",
   "id": "d2c739f5-a62e-412f-9bec-424b4588e8ab",
   "metadata": {},
   "source": [
    "Venn diagrams are visual representations of mathematical sets—or collections of numbers or things—that are studied using a branch of logic called set theory. Set theory is one of the foundational systems for mathematics, and it helped to develop our modern understanding of infinity and real numbers.Researchers and mathematicians have developed a language and system of notation around set theory. If you want to get in on their secrets, you'll want to become familiar with these Venn diagram symbols."
   ]
  },
  {
   "cell_type": "markdown",
   "id": "a0a65378-b41b-44dd-8866-90cec4e581bb",
   "metadata": {},
   "source": [
    "Q7. For the two given sets A = (2,3,4,5,6,7) & B = (0,2,6,8,10). Find:"
   ]
  },
  {
   "cell_type": "code",
   "execution_count": 14,
   "id": "1d35d9fe-3bc0-4224-83a1-69e7d09e87d7",
   "metadata": {},
   "outputs": [],
   "source": [
    "A={2,3,4,5,6,7}\n",
    "B={0,2,6,8,10}"
   ]
  },
  {
   "cell_type": "markdown",
   "id": "eb242cfb-14e2-4c2d-88cc-d60d19c0966b",
   "metadata": {},
   "source": [
    "(i) A ⋂ B"
   ]
  },
  {
   "cell_type": "code",
   "execution_count": 15,
   "id": "c7722c64-d898-41c6-9f20-11f975fb9a39",
   "metadata": {},
   "outputs": [
    {
     "data": {
      "text/plain": [
       "{2, 6}"
      ]
     },
     "execution_count": 15,
     "metadata": {},
     "output_type": "execute_result"
    }
   ],
   "source": [
    "A.intersection(B)"
   ]
  },
  {
   "cell_type": "markdown",
   "id": "6dee4982-5c92-437e-b26e-8a7a3ad0d019",
   "metadata": {},
   "source": [
    "(ii) A ⋃ B"
   ]
  },
  {
   "cell_type": "code",
   "execution_count": 16,
   "id": "d127015a-d5ca-4636-99fc-2992bf8bef77",
   "metadata": {},
   "outputs": [
    {
     "data": {
      "text/plain": [
       "{0, 2, 3, 4, 5, 6, 7, 8, 10}"
      ]
     },
     "execution_count": 16,
     "metadata": {},
     "output_type": "execute_result"
    }
   ],
   "source": [
    "A.union(B)"
   ]
  },
  {
   "cell_type": "markdown",
   "id": "92cccda5-b37b-4e3a-8104-cde29e41c05e",
   "metadata": {},
   "source": [
    "Q8. What do you understand about skewness in data?"
   ]
  },
  {
   "cell_type": "markdown",
   "id": "c9ee5711-ab6c-48d9-a335-5ab9d4b7fa45",
   "metadata": {},
   "source": [
    "Skewed data is data that creates an asymmetrical, skewed curve on a graph. In statistics, the graph of a data set with normal distribution is symmetrical and shaped like a bell. However, skewed data has a \"tail\" on either side of the graph. The two most common types of skew are:\n",
    "Negative skew: A data set with a negative skew has a tail on the negative side of the graph, meaning the graph is skewed to the left.\n",
    "Positive skew: A data set with a positive skew has a tail on the positive side of the graph, meaning the graph is skewed to the right.\n",
    "Positive skew example:-\n",
    "One example of positively skewed data could be a typical income data set. If you draw a curve of a sample population's income on a graph, the curve is likely to be skewed to the right, or positively skewed. This would occur if most people have average incomes, and a smaller number of people have high incomes. The people with high incomes would be the outliers in the data set that skew the curve toward the right side of the graph."
   ]
  },
  {
   "cell_type": "markdown",
   "id": "468b946f-43b9-4f55-80ac-c0a05bd48ebf",
   "metadata": {},
   "source": [
    "Q9. If a data is right skewed then what will be the position of median with respect to mean?"
   ]
  },
  {
   "cell_type": "markdown",
   "id": "058a5740-95d6-4263-8f3a-4af82aea5b67",
   "metadata": {},
   "source": [
    "When the distribution is skewed to the right, the mean is often greater than the median. In symmetric distributions, we expect the mean and median to be approximately equal in value. This is an important connection between the shape of the distribution and the relationship of the mean and median."
   ]
  },
  {
   "cell_type": "markdown",
   "id": "d18c7536-a01f-4fca-823a-4d5f07e0c8b0",
   "metadata": {},
   "source": [
    "Q10. Explain the difference between covariance and correlation. How are these measures used in\n",
    "statistical analysis?"
   ]
  },
  {
   "cell_type": "markdown",
   "id": "aa1ebde8-ce9d-4155-941b-9d5bec978dca",
   "metadata": {},
   "source": [
    "Covariance:-\n",
    "1.Covariance is an indicator of the extent to which 2 random variables are dependent on each other. A higher number denotes higher dependency.\n",
    "2.The value of covariance lies in the range of -∞ and +∞.\n",
    "3.Change in scale Affects covariance\n",
    "4.Unit free measure No\n",
    "Correlation:-\n",
    "1.Correlation is a statistical measure that indicates how strongly two variables are related.\n",
    "2.Correlation is limited to values between the range -1 and +1\n",
    "3.Change in scale Does not affect the correlation\n",
    "4.Unit free measure Yes\n",
    "Covariance is an indicator of how two random variables change concerning each other. Correlation, on the other hand, measures the strength of this relationship."
   ]
  },
  {
   "cell_type": "markdown",
   "id": "75d5fb25-dc6b-44c0-885b-ac26974501b5",
   "metadata": {},
   "source": [
    "Q11. What is the formula for calculating the sample mean? Provide an example calculation for a\n",
    "dataset."
   ]
  },
  {
   "cell_type": "markdown",
   "id": "af7ae191-5ae3-4e37-8bc2-e3ff369726a7",
   "metadata": {},
   "source": [
    "The sample mean formula is: x̄= (xi)/n It is easier than you believe if that sounds complex. Remember the formula in basic math to find an average."
   ]
  },
  {
   "cell_type": "code",
   "execution_count": 20,
   "id": "848a61a6-4cf2-4099-90f5-7ad40682bc98",
   "metadata": {},
   "outputs": [],
   "source": [
    "import seaborn as sns"
   ]
  },
  {
   "cell_type": "code",
   "execution_count": 18,
   "id": "6ea296de-dea9-40db-8522-c88201aca68e",
   "metadata": {},
   "outputs": [],
   "source": [
    "df=sns.load_dataset(\"tips\")"
   ]
  },
  {
   "cell_type": "code",
   "execution_count": 19,
   "id": "6537a93a-e3a0-422b-ad2a-fa615a228b11",
   "metadata": {},
   "outputs": [
    {
     "data": {
      "text/html": [
       "<div>\n",
       "<style scoped>\n",
       "    .dataframe tbody tr th:only-of-type {\n",
       "        vertical-align: middle;\n",
       "    }\n",
       "\n",
       "    .dataframe tbody tr th {\n",
       "        vertical-align: top;\n",
       "    }\n",
       "\n",
       "    .dataframe thead th {\n",
       "        text-align: right;\n",
       "    }\n",
       "</style>\n",
       "<table border=\"1\" class=\"dataframe\">\n",
       "  <thead>\n",
       "    <tr style=\"text-align: right;\">\n",
       "      <th></th>\n",
       "      <th>total_bill</th>\n",
       "      <th>tip</th>\n",
       "      <th>sex</th>\n",
       "      <th>smoker</th>\n",
       "      <th>day</th>\n",
       "      <th>time</th>\n",
       "      <th>size</th>\n",
       "    </tr>\n",
       "  </thead>\n",
       "  <tbody>\n",
       "    <tr>\n",
       "      <th>0</th>\n",
       "      <td>16.99</td>\n",
       "      <td>1.01</td>\n",
       "      <td>Female</td>\n",
       "      <td>No</td>\n",
       "      <td>Sun</td>\n",
       "      <td>Dinner</td>\n",
       "      <td>2</td>\n",
       "    </tr>\n",
       "    <tr>\n",
       "      <th>1</th>\n",
       "      <td>10.34</td>\n",
       "      <td>1.66</td>\n",
       "      <td>Male</td>\n",
       "      <td>No</td>\n",
       "      <td>Sun</td>\n",
       "      <td>Dinner</td>\n",
       "      <td>3</td>\n",
       "    </tr>\n",
       "    <tr>\n",
       "      <th>2</th>\n",
       "      <td>21.01</td>\n",
       "      <td>3.50</td>\n",
       "      <td>Male</td>\n",
       "      <td>No</td>\n",
       "      <td>Sun</td>\n",
       "      <td>Dinner</td>\n",
       "      <td>3</td>\n",
       "    </tr>\n",
       "    <tr>\n",
       "      <th>3</th>\n",
       "      <td>23.68</td>\n",
       "      <td>3.31</td>\n",
       "      <td>Male</td>\n",
       "      <td>No</td>\n",
       "      <td>Sun</td>\n",
       "      <td>Dinner</td>\n",
       "      <td>2</td>\n",
       "    </tr>\n",
       "    <tr>\n",
       "      <th>4</th>\n",
       "      <td>24.59</td>\n",
       "      <td>3.61</td>\n",
       "      <td>Female</td>\n",
       "      <td>No</td>\n",
       "      <td>Sun</td>\n",
       "      <td>Dinner</td>\n",
       "      <td>4</td>\n",
       "    </tr>\n",
       "  </tbody>\n",
       "</table>\n",
       "</div>"
      ],
      "text/plain": [
       "   total_bill   tip     sex smoker  day    time  size\n",
       "0       16.99  1.01  Female     No  Sun  Dinner     2\n",
       "1       10.34  1.66    Male     No  Sun  Dinner     3\n",
       "2       21.01  3.50    Male     No  Sun  Dinner     3\n",
       "3       23.68  3.31    Male     No  Sun  Dinner     2\n",
       "4       24.59  3.61  Female     No  Sun  Dinner     4"
      ]
     },
     "execution_count": 19,
     "metadata": {},
     "output_type": "execute_result"
    }
   ],
   "source": [
    "df.head()"
   ]
  },
  {
   "cell_type": "code",
   "execution_count": 21,
   "id": "b682b8df-fdf6-44ed-a46a-03c4396a94b2",
   "metadata": {},
   "outputs": [
    {
     "data": {
      "text/plain": [
       "2.99827868852459"
      ]
     },
     "execution_count": 21,
     "metadata": {},
     "output_type": "execute_result"
    }
   ],
   "source": [
    "np.mean(df[\"tip\"])"
   ]
  },
  {
   "cell_type": "markdown",
   "id": "ba9c7ad2-0419-49c2-84e0-c09c036d6316",
   "metadata": {},
   "source": [
    "Q12. For a normal distribution data what is the relationship between its measure of central tendency?"
   ]
  },
  {
   "cell_type": "markdown",
   "id": "455d1c0f-3853-495c-81e4-765b6fb7dff5",
   "metadata": {},
   "source": [
    "Mean:-The arithmetic mean of a dataset (which is different from the geometric mean) is the sum of all values divided by the total number of values. It’s the most commonly used measure of central tendency because all values are used in the calculation.\n",
    "median  of even dataset:-\n",
    "For an even-numbered dataset, find the two values in the middle of the dataset: the values at the \\dfrac{n}{2} and (\\dfrac{n}{2})+1 positions. Then, find their mean.\n",
    "median for odd dataset;-\n",
    "For an odd-numbered dataset, find the value that lies at the \\dfrac{(n+1)}{2} position, where n is the number of values in the dataset.\n",
    "Mode:-\n",
    "The mode is the most frequently occurring value in the dataset. It’s possible to have no mode, one mode, or more than one mode.\n",
    "To find the mode, sort your dataset numerically or categorically and select the response that occurs most frequently."
   ]
  },
  {
   "cell_type": "markdown",
   "id": "b25c541f-2b41-4c57-869d-d1fa3fc38b08",
   "metadata": {},
   "source": [
    "Q13. How is covariance different from correlation?"
   ]
  },
  {
   "cell_type": "markdown",
   "id": "c10ddd3e-2308-40d0-b773-e99abb091ecc",
   "metadata": {},
   "source": [
    "Put simply, both covariance and correlation measure the relationship and the dependency between two variables. Covariance indicates the direction of the linear relationship between variables while correlation measures both the strength and direction of the linear relationship between two variables. Correlation is a function of the covariance. \n",
    "What sets these two concepts apart is the fact that correlation values are standardized whereas covariance values are not. \n",
    "You can obtain the correlation coefficient of two variables by dividing the covariance of these variables by the product of the standard deviations of the same values.\n",
    "Don’t forget that standard deviation measures the absolute variability of a data set’s distribution. When you divide the covariance values by the standard deviation, it essentially scales the value down to a limited range of -1 to +1. This is precisely the range of the correlation values."
   ]
  },
  {
   "cell_type": "markdown",
   "id": "c16a6304-857e-4330-802d-7a6821805c56",
   "metadata": {},
   "source": [
    "Q14. How do outliers affect measures of central tendency and dispersion? Provide an example.?"
   ]
  },
  {
   "cell_type": "markdown",
   "id": "3e835b34-9895-4100-b27e-ee1207faf24f",
   "metadata": {},
   "source": [
    "When a outlier is present it can effect the shape of the graph, if we have outliers to the right of the graph. These outliers are causing the mean to increase, but if we have outliers to the left of the graph these outliers are dragging down the mean. This causes a conflict because the mean no longer provides a good representation of the data, alternatively we would much rather use the median. The median on the other hand is less likely to be affect by outliers."
   ]
  },
  {
   "cell_type": "code",
   "execution_count": 1,
   "id": "15a4c76b-0bae-4529-9eee-90987e59e44d",
   "metadata": {},
   "outputs": [],
   "source": [
    "lis=[1,2,3,4]"
   ]
  },
  {
   "cell_type": "code",
   "execution_count": 4,
   "id": "51065458-0408-4acd-801b-7fdba563dd8d",
   "metadata": {},
   "outputs": [
    {
     "data": {
      "text/plain": [
       "2.5"
      ]
     },
     "execution_count": 4,
     "metadata": {},
     "output_type": "execute_result"
    }
   ],
   "source": [
    "np.mean(lis)"
   ]
  },
  {
   "cell_type": "code",
   "execution_count": 5,
   "id": "e0a82f2f-0463-447b-b263-de5ac5aec769",
   "metadata": {},
   "outputs": [],
   "source": [
    "#outlier is 200\n",
    "lis.append(200)"
   ]
  },
  {
   "cell_type": "code",
   "execution_count": 6,
   "id": "8d97eb3f-b4e1-42e5-911a-824daad23fe8",
   "metadata": {},
   "outputs": [
    {
     "data": {
      "text/plain": [
       "42.0"
      ]
     },
     "execution_count": 6,
     "metadata": {},
     "output_type": "execute_result"
    }
   ],
   "source": [
    "np.mean(lis)"
   ]
  },
  {
   "cell_type": "markdown",
   "id": "6df2f059-395a-4d14-a0c7-5e274cf7246b",
   "metadata": {},
   "source": [
    "Hence,as you can se above because of 200 the mean increased from 2.5 to 42.0 directly."
   ]
  }
 ],
 "metadata": {
  "kernelspec": {
   "display_name": "Python 3 (ipykernel)",
   "language": "python",
   "name": "python3"
  },
  "language_info": {
   "codemirror_mode": {
    "name": "ipython",
    "version": 3
   },
   "file_extension": ".py",
   "mimetype": "text/x-python",
   "name": "python",
   "nbconvert_exporter": "python",
   "pygments_lexer": "ipython3",
   "version": "3.10.8"
  }
 },
 "nbformat": 4,
 "nbformat_minor": 5
}
