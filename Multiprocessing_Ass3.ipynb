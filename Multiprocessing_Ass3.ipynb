{
 "cells": [
  {
   "cell_type": "raw",
   "id": "bcdaf5b6-d398-47be-93c3-1f1e69613b8d",
   "metadata": {},
   "source": [
    "Q1. What is multiprocessing in python? Why is it useful?"
   ]
  },
  {
   "cell_type": "raw",
   "id": "f7c3b2e3-9db9-4293-8b57-80cacb8d2c13",
   "metadata": {},
   "source": [
    "A multiprocessing system can be represented as:\n",
    "1.A system with more than a single central processor.\n",
    "2.A multi-core processor, i.e., a single computing unit with multiple independent core processing units.\n",
    "In multiprocessing, the system can divide and assign tasks to different processors hence multiprocessing is useful to perform multiple tasks at a time.\n"
   ]
  },
  {
   "cell_type": "markdown",
   "id": "e51c6712-6375-4ac7-a642-fe0944049327",
   "metadata": {},
   "source": [
    "Q2. What are the differences between multiprocessing and multithreading?"
   ]
  },
  {
   "cell_type": "markdown",
   "id": "4a6e8601-f709-4f75-8a6e-3dd6a982ecbc",
   "metadata": {},
   "source": [
    "1.Multiprocessing uses two or more CPUs to increase computing power, whereas multithreading uses a single process with multiple code segments to increase computing power.\n",
    "2.Multithreading focuses on generating computing threads from a single process, whereas multiprocessing increases computing power by adding CPUs.\n",
    "3.Multiprocessing is used to create a more reliable system, whereas multithreading is used to create threads that run parallel to each other.\n",
    "4.Multithreading is quick to create and requires few resources, whereas multiprocessing requires a significant amount of time and specific resources to create.\n",
    "5.Multiprocessing executes many processes simultaneously, whereas multithreading executes many threads simultaneously.\n",
    "6.Multithreading uses a common address space for all the threads, whereas multiprocessing creates a separate address space for each process."
   ]
  },
  {
   "cell_type": "markdown",
   "id": "335391f1-6916-40ab-a9e3-74e9454d3851",
   "metadata": {},
   "source": [
    "Q3. Write a python code to create a process using the multiprocessing module?"
   ]
  },
  {
   "cell_type": "code",
   "execution_count": 2,
   "id": "e5c6f83d-dd1a-465d-b333-d01dad446f2a",
   "metadata": {},
   "outputs": [],
   "source": [
    "import multiprocessing"
   ]
  },
  {
   "cell_type": "code",
   "execution_count": 12,
   "id": "69d96dcc-de25-4620-9598-ba01be5b8b0b",
   "metadata": {},
   "outputs": [],
   "source": [
    "def multi():\n",
    "    print(\"This is first multiprocessing program\")"
   ]
  },
  {
   "cell_type": "code",
   "execution_count": 52,
   "id": "89102719-3f27-43ec-a166-413244789c69",
   "metadata": {},
   "outputs": [
    {
     "name": "stdout",
     "output_type": "stream",
     "text": [
      "This is first multiprocessing program\n"
     ]
    }
   ],
   "source": [
    "if __name__==\"__main__\":\n",
    "    m=multiprocessing.Process(target=multi)\n",
    "    m.start()\n",
    "    m.join()"
   ]
  },
  {
   "cell_type": "raw",
   "id": "ff2bff17-9de1-4ed2-bd86-9ac19b479fb3",
   "metadata": {},
   "source": [
    "Q4. What is a multiprocessing pool in python? Why is it used?"
   ]
  },
  {
   "cell_type": "raw",
   "id": "d98fa1a3-fc52-41aa-90d9-b768948914e6",
   "metadata": {},
   "source": [
    "The Python Multiprocessing Pool class allows you to create and manage process pools in Python.Although the Multiprocessing Pool has been available in Python for a long time, it is not widely used, perhaps because of misunderstandings of the capabilities and limitations of Processes and Threads in Python.A process pool is a programming pattern for automatically managing a pool of worker processes.\n",
    "EX:-pool of cube numbers"
   ]
  },
  {
   "cell_type": "code",
   "execution_count": 23,
   "id": "45693157-ab85-47cc-a6ae-1d65a0817bd6",
   "metadata": {},
   "outputs": [],
   "source": [
    "def cube(n):\n",
    "    return n**3"
   ]
  },
  {
   "cell_type": "code",
   "execution_count": 25,
   "id": "78944679-c813-4305-96bf-1aec2401d7dc",
   "metadata": {},
   "outputs": [
    {
     "name": "stdout",
     "output_type": "stream",
     "text": [
      "[1, 8, 27, 64, 125, 216, 343, 512, 729, 1000]\n"
     ]
    }
   ],
   "source": [
    "if __name__==\"__main__\":\n",
    "    with multiprocessing.Pool(processes=4) as pool:\n",
    "        out=pool.map(cube,[1,2,3,4,5,6,7,8,9,10])\n",
    "        print(out)\n",
    "        "
   ]
  },
  {
   "cell_type": "raw",
   "id": "888bf840-f596-4442-b551-e7e6bf64eeb5",
   "metadata": {},
   "source": [
    "Q5. How can we create a pool of worker processes in python using the multiprocessing module?"
   ]
  },
  {
   "cell_type": "code",
   "execution_count": 27,
   "id": "9f3d7d05-4e7e-42d8-b3d4-3c643090cfea",
   "metadata": {},
   "outputs": [],
   "source": [
    "#crete a worker pool of 4 process\n",
    "pool = multiprocessing.pool.Pool(processes=4)"
   ]
  },
  {
   "cell_type": "raw",
   "id": "0326d50e-7e43-4c44-b0f7-7d53c64a7bb2",
   "metadata": {},
   "source": [
    "Q6. Write a python program to create 4 processes, each process should print a different number using the multiprocessing module in python."
   ]
  },
  {
   "cell_type": "code",
   "execution_count": 47,
   "id": "10736b19-e9f4-4800-8044-3847cff28b8e",
   "metadata": {},
   "outputs": [],
   "source": [
    "def printNum(s,n):\n",
    "    for i in range(s,n):\n",
    "        print(i)"
   ]
  },
  {
   "cell_type": "code",
   "execution_count": 51,
   "id": "10d56da7-d151-427e-9df1-c29a3923ec4e",
   "metadata": {},
   "outputs": [
    {
     "name": "stdout",
     "output_type": "stream",
     "text": [
      "0\n",
      "1\n",
      "2\n",
      "3\n",
      "4\n",
      "5\n",
      "6\n",
      "7\n",
      "8\n",
      "9\n",
      "10\n"
     ]
    }
   ],
   "source": [
    "if __name__==\"__main__\":\n",
    "    m1=multiprocessing.Process(target=printNum,args=(0,2))\n",
    "    m2=multiprocessing.Process(target=printNum,args=(2,5))\n",
    "    m3=multiprocessing.Process(target=printNum,args=(5,8))\n",
    "    m4=multiprocessing.Process(target=printNum,args=(8,11))\n",
    "    m1.start()\n",
    "    m1.join()\n",
    "    m2.start()\n",
    "    m2.join()\n",
    "    m3.start()\n",
    "    m3.join()\n",
    "    m4.start()\n",
    "    m4.join()"
   ]
  },
  {
   "cell_type": "code",
   "execution_count": null,
   "id": "e1a11199-6098-41d5-b918-8d9b8c9de35e",
   "metadata": {},
   "outputs": [],
   "source": []
  }
 ],
 "metadata": {
  "kernelspec": {
   "display_name": "Python 3 (ipykernel)",
   "language": "python",
   "name": "python3"
  },
  "language_info": {
   "codemirror_mode": {
    "name": "ipython",
    "version": 3
   },
   "file_extension": ".py",
   "mimetype": "text/x-python",
   "name": "python",
   "nbconvert_exporter": "python",
   "pygments_lexer": "ipython3",
   "version": "3.10.8"
  }
 },
 "nbformat": 4,
 "nbformat_minor": 5
}
