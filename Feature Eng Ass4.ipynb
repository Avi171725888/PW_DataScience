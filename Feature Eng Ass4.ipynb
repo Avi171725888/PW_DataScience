{
 "cells": [
  {
   "cell_type": "markdown",
   "id": "80febafd-3b5a-404b-97a7-489e3617e4a8",
   "metadata": {},
   "source": [
    "Q1. What is the difference between Ordinal Encoding and Label Encoding? Provide an example of when you\n",
    "might choose one over the other."
   ]
  },
  {
   "cell_type": "markdown",
   "id": "6fb6f6b7-3e4a-4037-83f1-345a331f4723",
   "metadata": {},
   "source": [
    "As for differences in OrdinalEncoder and LabelEncoder implementation, the accepted answer mentions the shape of the data:\n",
    "\n",
    "OrdinalEncoder is for 2D data with the shape (n_samples, n_features)\n",
    "LabelEncoder is for 1D data with the shape (n_samples,)\n",
    "Maybe that's why the top-voted answer suggests OrdinalEncoder is for the \"features\" (often a 2D array), whereas LabelEncoder is for the \"target variable\" (often a 1D array).\n",
    "\n",
    "That's also why a OrdinalEncoder would get an error if trying to fit on 1D data: OrdinalEncoder().fit(['a','b'])\n",
    "Another difference between the encoders is the name of their learned parameter;\n",
    "\n",
    "LabelEncoder learns classes_\n",
    "OrdinalEncoder learns categories_"
   ]
  },
  {
   "cell_type": "markdown",
   "id": "dfec62c7-12ac-4fdf-ab18-ad9354cd924c",
   "metadata": {},
   "source": [
    "Q2. Explain how Target Guided Ordinal Encoding works and provide an example of when you might use it in\n",
    "a machine learning project."
   ]
  },
  {
   "cell_type": "markdown",
   "id": "30219f0d-2a88-4fb0-9909-4b61c7693e88",
   "metadata": {},
   "source": [
    "Target-guided ordinal encoding is a technique used to encode categorical variables for machine learning models. This encoding technique is particularly useful when the target variable is ordinal, meaning that it has a natural order, such as low, medium, and high.\n",
    "Target-guided ordinal encoding involves replacing the categories in the categorical variable with ordinal numbers that are based on the relationship between the category and the target variable. The encoding process involves sorting the categories based on the mean of the target variable for each category and then assigning a numerical value to each category based on its rank.\n",
    "Let’s say we have a dataset that contains information about employees at a company. One of the variables in the dataset is “job level”, which is a categorical variable with four categories: junior, intermediate, senior, and executive. The target variable in this case is the employee’s salary.\n",
    "To encode the “job level” variable using target-guided ordinal encoding, we would first calculate the mean salary for each job level category. Let’s say the mean salaries are as follows:\n",
    "Junior: $40,000\n",
    "Intermediate: $60,000\n",
    "Senior: $80,000\n",
    "Executive: $120,000\n",
    "Next, we would sort the job levels based on their mean salaries, from lowest to highest. Then, we would assign ordinal numbers to each job level based on their rank:\n",
    "\n",
    "Junior: 1\n",
    "Intermediate: 2\n",
    "Senior: 3\n",
    "Executive: 4\n",
    "Now, we have encoded the “job level” variable using target-guided ordinal encoding, and we can use these ordinal numbers as input features in a machine learning model to predict employee salaries. This encoding technique takes into account the relationship between the job level categories and the target variable, which can help improve the accuracy of the model"
   ]
  },
  {
   "cell_type": "markdown",
   "id": "deb355c9-f8b1-43ee-a9b0-1b6b4480ea11",
   "metadata": {},
   "source": [
    "Q3. Define covariance and explain why it is important in statistical analysis. How is covariance calculated?"
   ]
  },
  {
   "cell_type": "markdown",
   "id": "a6c07751-df96-40bf-b9ed-176c1c608e59",
   "metadata": {},
   "source": [
    "Covariance is a measure of the relationship between two random variables and to what extent, they change together. Or we can say, in other words, it defines the changes between the two variables, such that change in one variable is equal to change in another variable. This is the property of a function of maintaining its form when the variables are linearly transformed. Covariance is measured in units, which are calculated by multiplying the units of the two variables."
   ]
  },
  {
   "cell_type": "markdown",
   "id": "3b28339d-3dcf-49d0-9a48-373075c2e560",
   "metadata": {},
   "source": [
    "Q4. For a dataset with the following categorical variables: Color (red, green, blue), Size (small, medium,\n",
    "large), and Material (wood, metal, plastic), perform label encoding using Python's scikit-learn library.\n",
    "Show your code and explain the output."
   ]
  },
  {
   "cell_type": "code",
   "execution_count": 1,
   "id": "3c195ece-cfd4-4d4d-af80-307e3a0829ca",
   "metadata": {},
   "outputs": [],
   "source": [
    "import pandas as pd"
   ]
  },
  {
   "cell_type": "code",
   "execution_count": 2,
   "id": "4429a32b-0d26-48a6-9c9f-33ca8609e5a6",
   "metadata": {},
   "outputs": [],
   "source": [
    "df=pd.DataFrame({\n",
    "    \"color\":['red','green','blue'],\n",
    "    \"size\":['small','medium','large'],\n",
    "    'material':['wood','metal','plastic']\n",
    "    \n",
    "})"
   ]
  },
  {
   "cell_type": "code",
   "execution_count": 3,
   "id": "bfebb0d6-36ab-4e16-bc4c-5764374688a5",
   "metadata": {},
   "outputs": [],
   "source": [
    "from sklearn.preprocessing import LabelEncoder"
   ]
  },
  {
   "cell_type": "code",
   "execution_count": 4,
   "id": "1c122033-9f18-4f4d-9183-f6384969c6ce",
   "metadata": {},
   "outputs": [],
   "source": [
    "encoder=LabelEncoder()"
   ]
  },
  {
   "cell_type": "code",
   "execution_count": 8,
   "id": "e4af0eb6-4486-418d-8c2b-3fce19e831b3",
   "metadata": {},
   "outputs": [
    {
     "data": {
      "text/plain": [
       "array([2, 1, 0])"
      ]
     },
     "execution_count": 8,
     "metadata": {},
     "output_type": "execute_result"
    }
   ],
   "source": [
    "encoder.fit_transform(df[\"color\"])"
   ]
  },
  {
   "cell_type": "code",
   "execution_count": 9,
   "id": "ac367f17-de20-491e-baf2-7f32acc0ec04",
   "metadata": {},
   "outputs": [
    {
     "data": {
      "text/plain": [
       "array([2, 1, 0])"
      ]
     },
     "execution_count": 9,
     "metadata": {},
     "output_type": "execute_result"
    }
   ],
   "source": [
    "encoder.fit_transform(df[\"size\"])"
   ]
  },
  {
   "cell_type": "code",
   "execution_count": 10,
   "id": "2b48a877-4ddb-4d99-83ce-ff02253e80d6",
   "metadata": {},
   "outputs": [
    {
     "data": {
      "text/plain": [
       "array([2, 0, 1])"
      ]
     },
     "execution_count": 10,
     "metadata": {},
     "output_type": "execute_result"
    }
   ],
   "source": [
    "encoder.fit_transform(df[\"material\"])"
   ]
  },
  {
   "cell_type": "markdown",
   "id": "95e48370-7e30-4fbd-becd-836dc1c4dabe",
   "metadata": {},
   "source": [
    "Q5. Calculate the covariance matrix for the following variables in a dataset: Age, Income, and Education\n",
    "level. Interpret the results."
   ]
  },
  {
   "cell_type": "code",
   "execution_count": 15,
   "id": "f4759695-6f7d-4d40-af2b-56b06ece1059",
   "metadata": {},
   "outputs": [],
   "source": [
    "df1=pd.DataFrame({\n",
    "    \"Age\":[23,24,25,26],\n",
    "    \"Income\":[4000,5000,6000,7000],\n",
    "    \"education\":[\"btech\",\"masters\",\"masters\",\"phd\"]\n",
    "})"
   ]
  },
  {
   "cell_type": "code",
   "execution_count": 16,
   "id": "4b9b311f-d33c-4545-a19d-6d16d78cc0fd",
   "metadata": {},
   "outputs": [],
   "source": [
    "from sklearn.preprocessing import OneHotEncoder"
   ]
  },
  {
   "cell_type": "code",
   "execution_count": 17,
   "id": "05f4fe27-ae15-4cd2-9da0-eb97caa8b35c",
   "metadata": {},
   "outputs": [],
   "source": [
    "encoder=OneHotEncoder()"
   ]
  },
  {
   "cell_type": "code",
   "execution_count": 19,
   "id": "8f6437dd-4fe6-4e08-9f4e-cae01957b62f",
   "metadata": {},
   "outputs": [],
   "source": [
    "encoded=encoder.fit_transform(df1[[\"education\"]])"
   ]
  },
  {
   "cell_type": "code",
   "execution_count": 20,
   "id": "3870e6b7-f286-4d91-8fc8-db4382b92576",
   "metadata": {},
   "outputs": [],
   "source": [
    "encoded_df=pd.DataFrame(encoded.toarray(),columns=encoder.get_feature_names_out())"
   ]
  },
  {
   "cell_type": "code",
   "execution_count": 21,
   "id": "712a569c-aa4f-4020-a409-317eca0809b6",
   "metadata": {},
   "outputs": [
    {
     "data": {
      "text/html": [
       "<div>\n",
       "<style scoped>\n",
       "    .dataframe tbody tr th:only-of-type {\n",
       "        vertical-align: middle;\n",
       "    }\n",
       "\n",
       "    .dataframe tbody tr th {\n",
       "        vertical-align: top;\n",
       "    }\n",
       "\n",
       "    .dataframe thead th {\n",
       "        text-align: right;\n",
       "    }\n",
       "</style>\n",
       "<table border=\"1\" class=\"dataframe\">\n",
       "  <thead>\n",
       "    <tr style=\"text-align: right;\">\n",
       "      <th></th>\n",
       "      <th>education_btech</th>\n",
       "      <th>education_masters</th>\n",
       "      <th>education_phd</th>\n",
       "    </tr>\n",
       "  </thead>\n",
       "  <tbody>\n",
       "    <tr>\n",
       "      <th>0</th>\n",
       "      <td>1.0</td>\n",
       "      <td>0.0</td>\n",
       "      <td>0.0</td>\n",
       "    </tr>\n",
       "    <tr>\n",
       "      <th>1</th>\n",
       "      <td>0.0</td>\n",
       "      <td>1.0</td>\n",
       "      <td>0.0</td>\n",
       "    </tr>\n",
       "    <tr>\n",
       "      <th>2</th>\n",
       "      <td>0.0</td>\n",
       "      <td>1.0</td>\n",
       "      <td>0.0</td>\n",
       "    </tr>\n",
       "    <tr>\n",
       "      <th>3</th>\n",
       "      <td>0.0</td>\n",
       "      <td>0.0</td>\n",
       "      <td>1.0</td>\n",
       "    </tr>\n",
       "  </tbody>\n",
       "</table>\n",
       "</div>"
      ],
      "text/plain": [
       "   education_btech  education_masters  education_phd\n",
       "0              1.0                0.0            0.0\n",
       "1              0.0                1.0            0.0\n",
       "2              0.0                1.0            0.0\n",
       "3              0.0                0.0            1.0"
      ]
     },
     "execution_count": 21,
     "metadata": {},
     "output_type": "execute_result"
    }
   ],
   "source": [
    "encoded_df"
   ]
  },
  {
   "cell_type": "code",
   "execution_count": 22,
   "id": "2f8ac684-5780-43d2-956a-9689f96502a3",
   "metadata": {},
   "outputs": [
    {
     "data": {
      "text/html": [
       "<div>\n",
       "<style scoped>\n",
       "    .dataframe tbody tr th:only-of-type {\n",
       "        vertical-align: middle;\n",
       "    }\n",
       "\n",
       "    .dataframe tbody tr th {\n",
       "        vertical-align: top;\n",
       "    }\n",
       "\n",
       "    .dataframe thead th {\n",
       "        text-align: right;\n",
       "    }\n",
       "</style>\n",
       "<table border=\"1\" class=\"dataframe\">\n",
       "  <thead>\n",
       "    <tr style=\"text-align: right;\">\n",
       "      <th></th>\n",
       "      <th>Age</th>\n",
       "      <th>Income</th>\n",
       "      <th>education</th>\n",
       "      <th>education_btech</th>\n",
       "      <th>education_masters</th>\n",
       "      <th>education_phd</th>\n",
       "    </tr>\n",
       "  </thead>\n",
       "  <tbody>\n",
       "    <tr>\n",
       "      <th>0</th>\n",
       "      <td>23</td>\n",
       "      <td>4000</td>\n",
       "      <td>btech</td>\n",
       "      <td>1.0</td>\n",
       "      <td>0.0</td>\n",
       "      <td>0.0</td>\n",
       "    </tr>\n",
       "    <tr>\n",
       "      <th>1</th>\n",
       "      <td>24</td>\n",
       "      <td>5000</td>\n",
       "      <td>masters</td>\n",
       "      <td>0.0</td>\n",
       "      <td>1.0</td>\n",
       "      <td>0.0</td>\n",
       "    </tr>\n",
       "    <tr>\n",
       "      <th>2</th>\n",
       "      <td>25</td>\n",
       "      <td>6000</td>\n",
       "      <td>masters</td>\n",
       "      <td>0.0</td>\n",
       "      <td>1.0</td>\n",
       "      <td>0.0</td>\n",
       "    </tr>\n",
       "    <tr>\n",
       "      <th>3</th>\n",
       "      <td>26</td>\n",
       "      <td>7000</td>\n",
       "      <td>phd</td>\n",
       "      <td>0.0</td>\n",
       "      <td>0.0</td>\n",
       "      <td>1.0</td>\n",
       "    </tr>\n",
       "  </tbody>\n",
       "</table>\n",
       "</div>"
      ],
      "text/plain": [
       "   Age  Income education  education_btech  education_masters  education_phd\n",
       "0   23    4000     btech              1.0                0.0            0.0\n",
       "1   24    5000   masters              0.0                1.0            0.0\n",
       "2   25    6000   masters              0.0                1.0            0.0\n",
       "3   26    7000       phd              0.0                0.0            1.0"
      ]
     },
     "execution_count": 22,
     "metadata": {},
     "output_type": "execute_result"
    }
   ],
   "source": [
    "pd.concat([df1,encoded_df],axis=1)"
   ]
  },
  {
   "cell_type": "markdown",
   "id": "6585d132-05c0-4f05-9a51-fe0f546c75a1",
   "metadata": {},
   "source": [
    "Q6. You are working on a machine learning project with a dataset containing several categorical\n",
    "variables, including \"Gender\" (Male/Female), \"Education Level\" (High School/Bachelor's/Master's/PhD),\n",
    "and \"Employment Status\" (Unemployed/Part-Time/Full-Time). Which encoding method would you use for\n",
    "each variable, and why?"
   ]
  },
  {
   "cell_type": "code",
   "execution_count": null,
   "id": "3e142995-6f1a-48e6-8f0b-2370ed442142",
   "metadata": {},
   "outputs": [],
   "source": [
    "gender:-Nomial One encoding\n",
    "education level:-Label  encoding\n",
    "Employment status:-ordinal Encoding"
   ]
  },
  {
   "cell_type": "markdown",
   "id": "644de14f-e09c-4bb5-80e3-c5b00605de69",
   "metadata": {},
   "source": [
    "Q7. You are analyzing a dataset with two continuous variables, \"Temperature\" and \"Humidity\", and two\n",
    "categorical variables, \"Weather Condition\" (Sunny/Cloudy/Rainy) and \"Wind Direction\" (North/South/\n",
    "East/West). Calculate the covariance between each pair of variables and interpret the results."
   ]
  },
  {
   "cell_type": "code",
   "execution_count": 2,
   "id": "87b1ac76-f3f8-4ed8-8ff5-32be3c8bc718",
   "metadata": {},
   "outputs": [],
   "source": [
    "df1=pd.DataFrame({\n",
    "    \"Tempearture\":[26,28,10,11,56],\n",
    "    \"humidity\":[22,24,7,9,35],\n",
    "    \"Weatther Condition\":[\"Rainy\",\"Cloudy\",\"Rainy\",\"Cloudy\",\"Sunny\"],\n",
    "    \"Wind Direction\":[\"North\",\"South\",\"north\",\"East\",\"West\"]\n",
    "})"
   ]
  },
  {
   "cell_type": "code",
   "execution_count": 3,
   "id": "f5a7e1f2-7eaf-4bc5-803c-923397bf7710",
   "metadata": {},
   "outputs": [
    {
     "name": "stderr",
     "output_type": "stream",
     "text": [
      "/tmp/ipykernel_400/3142585312.py:1: FutureWarning: The default value of numeric_only in DataFrame.cov is deprecated. In a future version, it will default to False. Select only valid columns or specify the value of numeric_only to silence this warning.\n",
      "  df1.cov()\n"
     ]
    },
    {
     "data": {
      "text/html": [
       "<div>\n",
       "<style scoped>\n",
       "    .dataframe tbody tr th:only-of-type {\n",
       "        vertical-align: middle;\n",
       "    }\n",
       "\n",
       "    .dataframe tbody tr th {\n",
       "        vertical-align: top;\n",
       "    }\n",
       "\n",
       "    .dataframe thead th {\n",
       "        text-align: right;\n",
       "    }\n",
       "</style>\n",
       "<table border=\"1\" class=\"dataframe\">\n",
       "  <thead>\n",
       "    <tr style=\"text-align: right;\">\n",
       "      <th></th>\n",
       "      <th>Tempearture</th>\n",
       "      <th>humidity</th>\n",
       "    </tr>\n",
       "  </thead>\n",
       "  <tbody>\n",
       "    <tr>\n",
       "      <th>Tempearture</th>\n",
       "      <td>346.2</td>\n",
       "      <td>207.9</td>\n",
       "    </tr>\n",
       "    <tr>\n",
       "      <th>humidity</th>\n",
       "      <td>207.9</td>\n",
       "      <td>133.3</td>\n",
       "    </tr>\n",
       "  </tbody>\n",
       "</table>\n",
       "</div>"
      ],
      "text/plain": [
       "             Tempearture  humidity\n",
       "Tempearture        346.2     207.9\n",
       "humidity           207.9     133.3"
      ]
     },
     "execution_count": 3,
     "metadata": {},
     "output_type": "execute_result"
    }
   ],
   "source": [
    "df1.cov()"
   ]
  },
  {
   "cell_type": "code",
   "execution_count": 4,
   "id": "36834dd5-b092-4c3c-916e-3d1d244672e8",
   "metadata": {},
   "outputs": [
    {
     "name": "stderr",
     "output_type": "stream",
     "text": [
      "/tmp/ipykernel_400/473017434.py:1: FutureWarning: The default value of numeric_only in DataFrame.corr is deprecated. In a future version, it will default to False. Select only valid columns or specify the value of numeric_only to silence this warning.\n",
      "  df1.corr()\n"
     ]
    },
    {
     "data": {
      "text/html": [
       "<div>\n",
       "<style scoped>\n",
       "    .dataframe tbody tr th:only-of-type {\n",
       "        vertical-align: middle;\n",
       "    }\n",
       "\n",
       "    .dataframe tbody tr th {\n",
       "        vertical-align: top;\n",
       "    }\n",
       "\n",
       "    .dataframe thead th {\n",
       "        text-align: right;\n",
       "    }\n",
       "</style>\n",
       "<table border=\"1\" class=\"dataframe\">\n",
       "  <thead>\n",
       "    <tr style=\"text-align: right;\">\n",
       "      <th></th>\n",
       "      <th>Tempearture</th>\n",
       "      <th>humidity</th>\n",
       "    </tr>\n",
       "  </thead>\n",
       "  <tbody>\n",
       "    <tr>\n",
       "      <th>Tempearture</th>\n",
       "      <td>1.000000</td>\n",
       "      <td>0.967778</td>\n",
       "    </tr>\n",
       "    <tr>\n",
       "      <th>humidity</th>\n",
       "      <td>0.967778</td>\n",
       "      <td>1.000000</td>\n",
       "    </tr>\n",
       "  </tbody>\n",
       "</table>\n",
       "</div>"
      ],
      "text/plain": [
       "             Tempearture  humidity\n",
       "Tempearture     1.000000  0.967778\n",
       "humidity        0.967778  1.000000"
      ]
     },
     "execution_count": 4,
     "metadata": {},
     "output_type": "execute_result"
    }
   ],
   "source": [
    "df1.corr()"
   ]
  },
  {
   "cell_type": "code",
   "execution_count": null,
   "id": "ef499136-44cd-45c0-940b-d87bb9be050c",
   "metadata": {},
   "outputs": [],
   "source": []
  }
 ],
 "metadata": {
  "kernelspec": {
   "display_name": "Python 3 (ipykernel)",
   "language": "python",
   "name": "python3"
  },
  "language_info": {
   "codemirror_mode": {
    "name": "ipython",
    "version": 3
   },
   "file_extension": ".py",
   "mimetype": "text/x-python",
   "name": "python",
   "nbconvert_exporter": "python",
   "pygments_lexer": "ipython3",
   "version": "3.10.8"
  }
 },
 "nbformat": 4,
 "nbformat_minor": 5
}
