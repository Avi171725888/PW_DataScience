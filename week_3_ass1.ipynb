{
 "cells": [
  {
   "cell_type": "markdown",
   "id": "85b9d841-b4d3-4b31-9df2-2e8e0934f2d5",
   "metadata": {},
   "source": [
    "Q1. Which keyword is used to create a function? Create a function to return a list of odd numbers in the\n",
    "range of 1 to 25."
   ]
  },
  {
   "cell_type": "markdown",
   "id": "23eb7519-51a9-4711-9ca0-2b435ffeedc6",
   "metadata": {},
   "source": [
    "To create a function we use def keyword in python.\n",
    "Syntax:-\n",
    "    def function_name(arguments)\n",
    "        return if any"
   ]
  },
  {
   "cell_type": "code",
   "execution_count": 12,
   "id": "a08ea5c2-9cd9-473c-9606-ba4498c8d98e",
   "metadata": {},
   "outputs": [],
   "source": [
    "def odd_list():\n",
    "    lis=[]\n",
    "    for i in range(1,26):\n",
    "        if i%2!=0:\n",
    "            lis.append(i)\n",
    "    return lis\n",
    "    "
   ]
  },
  {
   "cell_type": "code",
   "execution_count": 13,
   "id": "871c2e97-ffc5-423a-9e6a-7c29e384827b",
   "metadata": {},
   "outputs": [
    {
     "data": {
      "text/plain": [
       "[1, 3, 5, 7, 9, 11, 13, 15, 17, 19, 21, 23, 25]"
      ]
     },
     "execution_count": 13,
     "metadata": {},
     "output_type": "execute_result"
    }
   ],
   "source": [
    "odd_list()"
   ]
  },
  {
   "cell_type": "markdown",
   "id": "47110c3a-1ea1-49e1-b0c3-75205e5f385c",
   "metadata": {},
   "source": [
    "Q2. Why *args and **kwargs is used in some functions? Create a function each for *args and **kwargs\n",
    "to demonstrate their use."
   ]
  },
  {
   "cell_type": "markdown",
   "id": "6b996dc0-9f1b-40a0-bf23-e026a335d45f",
   "metadata": {},
   "source": [
    "*args:-*args allows us to pass a variable number of non-keyword arguments to a Python function.we should use an asterisk ( * ) before the parameter name to pass a variable number of arguments.\n",
    "        *args are used to take unlimited arguments to function and further used to calculate something."
   ]
  },
  {
   "cell_type": "markdown",
   "id": "93208647-0eea-4a2c-8a78-4f3f87802533",
   "metadata": {},
   "source": [
    "**kwargs:-allows us to pass a variable number of keyword arguments to a Python function.In the function, we use the double-asterisk ( ** ) before the parameter name to denote this type of argument.\n",
    "        **kwargs are used to pass unlimited keywords to the function and further used for our purpose "
   ]
  },
  {
   "cell_type": "code",
   "execution_count": 26,
   "id": "5f7fbd49-bd22-49b6-9425-5d528d7168c4",
   "metadata": {},
   "outputs": [],
   "source": [
    "#code for addition of numbers with args\n",
    "def add(*args):\n",
    "    sum=0\n",
    "    for i in args:\n",
    "        sum=sum+i\n",
    "    return sum"
   ]
  },
  {
   "cell_type": "code",
   "execution_count": 27,
   "id": "6d6bc37c-62c5-496c-9887-467957006d0c",
   "metadata": {},
   "outputs": [
    {
     "data": {
      "text/plain": [
       "9"
      ]
     },
     "execution_count": 27,
     "metadata": {},
     "output_type": "execute_result"
    }
   ],
   "source": [
    "add(2,3,4)"
   ]
  },
  {
   "cell_type": "code",
   "execution_count": 37,
   "id": "641131de-ec10-4a2a-a278-0d0c817da2a1",
   "metadata": {},
   "outputs": [],
   "source": [
    "#this code will print the capital and country with kwargs \n",
    "def cou_capital(**kwargs):\n",
    "    country=kwargs[\"country\"]\n",
    "    capital=kwargs[\"capital\"]\n",
    "    print(f\"{country[0]} capital is {capital[0]}\")\n",
    "    print(f\"{country[1]} capital is {capital[1]}\")"
   ]
  },
  {
   "cell_type": "code",
   "execution_count": 38,
   "id": "8f6e2480-5b74-42f0-b900-330cc035458a",
   "metadata": {},
   "outputs": [
    {
     "name": "stdout",
     "output_type": "stream",
     "text": [
      "india capital is delhi\n",
      "pakistan capital is karachi\n"
     ]
    }
   ],
   "source": [
    "cou_capital(country=[\"india\",\"pakistan\"],capital=[\"delhi\",\"karachi\"])"
   ]
  },
  {
   "cell_type": "markdown",
   "id": "3d9b65c0-f59c-4ff0-af40-ef0309423c35",
   "metadata": {},
   "source": [
    "Q3. What is an iterator in python? Name the method used to initialise the iterator object and the method\n",
    "used for iteration. Use these methods to print the first five elements of the given list [2, 4, 6, 8, 10, 12, 14,\n",
    "16, 18, 20]."
   ]
  },
  {
   "cell_type": "markdown",
   "id": "caf8dbd9-992a-4f27-8848-85ce6c2ed0f0",
   "metadata": {},
   "source": [
    "iterator:-iterator is an object that allows you to iterate over collections of data, such as lists, tuples, dictionaries, and sets which are knwon as iterable.\n",
    "    Iter() method is used to initialize the iterator object.\n",
    "    next() method is used for iteration"
   ]
  },
  {
   "cell_type": "code",
   "execution_count": 39,
   "id": "5fb682ee-a57e-4edf-b513-1603678ac136",
   "metadata": {},
   "outputs": [],
   "source": [
    "l=[2, 4, 6, 8, 10, 12, 14,16, 18, 20]"
   ]
  },
  {
   "cell_type": "code",
   "execution_count": 40,
   "id": "a0f4268b-e8b7-4750-9946-95715ddd5a78",
   "metadata": {},
   "outputs": [],
   "source": [
    "l1=iter(l)"
   ]
  },
  {
   "cell_type": "code",
   "execution_count": 41,
   "id": "76547f64-24b4-4f8f-8e5e-37403f147bcb",
   "metadata": {},
   "outputs": [
    {
     "data": {
      "text/plain": [
       "2"
      ]
     },
     "execution_count": 41,
     "metadata": {},
     "output_type": "execute_result"
    }
   ],
   "source": [
    "next(l1)"
   ]
  },
  {
   "cell_type": "code",
   "execution_count": 42,
   "id": "0cbcb79d-2808-4799-8125-a8a8a0a49e30",
   "metadata": {},
   "outputs": [
    {
     "data": {
      "text/plain": [
       "4"
      ]
     },
     "execution_count": 42,
     "metadata": {},
     "output_type": "execute_result"
    }
   ],
   "source": [
    "next(l1)\n"
   ]
  },
  {
   "cell_type": "code",
   "execution_count": 43,
   "id": "9e44bac4-14a8-43be-8d34-9a54329e63cd",
   "metadata": {},
   "outputs": [
    {
     "data": {
      "text/plain": [
       "6"
      ]
     },
     "execution_count": 43,
     "metadata": {},
     "output_type": "execute_result"
    }
   ],
   "source": [
    "next(l1)"
   ]
  },
  {
   "cell_type": "code",
   "execution_count": 44,
   "id": "251fb748-ba48-4451-ae4c-33595f2bd9ba",
   "metadata": {},
   "outputs": [
    {
     "data": {
      "text/plain": [
       "8"
      ]
     },
     "execution_count": 44,
     "metadata": {},
     "output_type": "execute_result"
    }
   ],
   "source": [
    "next(l1)"
   ]
  },
  {
   "cell_type": "code",
   "execution_count": 45,
   "id": "1de55cc3-3444-46ca-b935-511e0fc19a7f",
   "metadata": {},
   "outputs": [
    {
     "data": {
      "text/plain": [
       "10"
      ]
     },
     "execution_count": 45,
     "metadata": {},
     "output_type": "execute_result"
    }
   ],
   "source": [
    "next(l1)"
   ]
  },
  {
   "cell_type": "markdown",
   "id": "d71768c9-9e81-44c4-a9b9-c54e9c624e9b",
   "metadata": {},
   "source": [
    "Q4. What is a generator function in python? Why yield keyword is used? Give an example of a generator\n",
    "function."
   ]
  },
  {
   "cell_type": "markdown",
   "id": "22e46dba-6f87-4fc0-8c9c-6836107bf69f",
   "metadata": {},
   "source": [
    "Generator function:-A generator is a function that returns an iterator that produces a sequence of values when iterated over. Generators are useful when we want to produce a large sequence of values, but                     we don't want to store all of them in memory at once.\n",
    "yield=The yield keyword in Python controls the flow of a generator function."
   ]
  },
  {
   "cell_type": "code",
   "execution_count": 68,
   "id": "55fb001b-9cc2-4246-a514-a190b3b83d72",
   "metadata": {},
   "outputs": [],
   "source": [
    "def increment(n):\n",
    "    sum=0;\n",
    "    while sum<n:\n",
    "        sum=sum+1\n",
    "        yield sum"
   ]
  },
  {
   "cell_type": "code",
   "execution_count": 70,
   "id": "1d459bbc-956b-4dc6-bec2-bc7fe6e196f6",
   "metadata": {},
   "outputs": [],
   "source": [
    "f=increment(30)"
   ]
  },
  {
   "cell_type": "code",
   "execution_count": 72,
   "id": "ba0d3d5e-65ef-4176-9847-b27557a6bc8d",
   "metadata": {},
   "outputs": [
    {
     "data": {
      "text/plain": [
       "1"
      ]
     },
     "execution_count": 72,
     "metadata": {},
     "output_type": "execute_result"
    }
   ],
   "source": [
    "next(f)"
   ]
  },
  {
   "cell_type": "code",
   "execution_count": 73,
   "id": "e9c01c78-9366-45dd-b752-a95e083e7a3b",
   "metadata": {},
   "outputs": [
    {
     "data": {
      "text/plain": [
       "2"
      ]
     },
     "execution_count": 73,
     "metadata": {},
     "output_type": "execute_result"
    }
   ],
   "source": [
    "next(f)\n"
   ]
  },
  {
   "cell_type": "code",
   "execution_count": 74,
   "id": "52d936bb-e5e1-4998-b25a-8e3c5749a13e",
   "metadata": {},
   "outputs": [
    {
     "data": {
      "text/plain": [
       "3"
      ]
     },
     "execution_count": 74,
     "metadata": {},
     "output_type": "execute_result"
    }
   ],
   "source": [
    "next(f)"
   ]
  },
  {
   "cell_type": "code",
   "execution_count": 75,
   "id": "79d22594-ec38-4f2c-aa67-96c7a7359543",
   "metadata": {},
   "outputs": [
    {
     "data": {
      "text/plain": [
       "4"
      ]
     },
     "execution_count": 75,
     "metadata": {},
     "output_type": "execute_result"
    }
   ],
   "source": [
    "next(f)"
   ]
  },
  {
   "cell_type": "code",
   "execution_count": 76,
   "id": "9416cb64-7fb2-4c37-94ab-647f7c350b4f",
   "metadata": {},
   "outputs": [
    {
     "name": "stdout",
     "output_type": "stream",
     "text": [
      "5\n",
      "6\n",
      "7\n",
      "8\n",
      "9\n",
      "10\n",
      "11\n",
      "12\n",
      "13\n",
      "14\n",
      "15\n",
      "16\n",
      "17\n",
      "18\n",
      "19\n",
      "20\n",
      "21\n",
      "22\n",
      "23\n",
      "24\n",
      "25\n",
      "26\n",
      "27\n",
      "28\n",
      "29\n",
      "30\n"
     ]
    }
   ],
   "source": [
    "for i in f:\n",
    "    print(i)"
   ]
  },
  {
   "cell_type": "markdown",
   "id": "95bd5df7-82ff-47a9-8e4a-633842d122e7",
   "metadata": {},
   "source": [
    "Q5. Create a generator function for prime numbers less than 1000. Use the next() method to print the\n",
    "first 20 prime numbers."
   ]
  },
  {
   "cell_type": "code",
   "execution_count": 80,
   "id": "f687ac7b-e5c5-4b60-aa6e-f566424ad18a",
   "metadata": {},
   "outputs": [],
   "source": [
    "def prime(n):\n",
    "    for i in  range(2,n):\n",
    "        flag=1\n",
    "        for j in range(2,i):\n",
    "            if i%j==0:\n",
    "                flag=0\n",
    "        if flag:\n",
    "            yield i"
   ]
  },
  {
   "cell_type": "code",
   "execution_count": 81,
   "id": "65c2b281-fb62-43dc-b2ad-c056cf5f507f",
   "metadata": {},
   "outputs": [],
   "source": [
    "f=prime(1000)"
   ]
  },
  {
   "cell_type": "code",
   "execution_count": 83,
   "id": "c79c06af-25f9-4e41-83d8-54181b2fd57e",
   "metadata": {},
   "outputs": [
    {
     "data": {
      "text/plain": [
       "2"
      ]
     },
     "execution_count": 83,
     "metadata": {},
     "output_type": "execute_result"
    }
   ],
   "source": [
    "next(f)"
   ]
  },
  {
   "cell_type": "code",
   "execution_count": 84,
   "id": "cabb79ba-610e-49e1-97f4-5b218e0ca1fe",
   "metadata": {},
   "outputs": [
    {
     "data": {
      "text/plain": [
       "3"
      ]
     },
     "execution_count": 84,
     "metadata": {},
     "output_type": "execute_result"
    }
   ],
   "source": [
    "next(f)"
   ]
  },
  {
   "cell_type": "code",
   "execution_count": 85,
   "id": "b7151386-c5b5-4c09-8458-c7b6c5095d54",
   "metadata": {},
   "outputs": [
    {
     "data": {
      "text/plain": [
       "5"
      ]
     },
     "execution_count": 85,
     "metadata": {},
     "output_type": "execute_result"
    }
   ],
   "source": [
    "next(f)"
   ]
  },
  {
   "cell_type": "code",
   "execution_count": 86,
   "id": "0724ecfd-08ff-4ac0-a696-5bb0b6bd555e",
   "metadata": {},
   "outputs": [
    {
     "data": {
      "text/plain": [
       "7"
      ]
     },
     "execution_count": 86,
     "metadata": {},
     "output_type": "execute_result"
    }
   ],
   "source": [
    "next(f)"
   ]
  },
  {
   "cell_type": "code",
   "execution_count": 87,
   "id": "7121d8f4-b107-4d3a-a3b0-f98bd38228b1",
   "metadata": {},
   "outputs": [
    {
     "data": {
      "text/plain": [
       "11"
      ]
     },
     "execution_count": 87,
     "metadata": {},
     "output_type": "execute_result"
    }
   ],
   "source": [
    "next(f)\n"
   ]
  },
  {
   "cell_type": "code",
   "execution_count": 88,
   "id": "962fe82d-a3a1-41a6-9e5b-e1f46231cc2a",
   "metadata": {},
   "outputs": [
    {
     "data": {
      "text/plain": [
       "13"
      ]
     },
     "execution_count": 88,
     "metadata": {},
     "output_type": "execute_result"
    }
   ],
   "source": [
    "next(f)"
   ]
  },
  {
   "cell_type": "code",
   "execution_count": 89,
   "id": "e46c9037-a3d9-4086-90fe-57e5512584f7",
   "metadata": {},
   "outputs": [
    {
     "data": {
      "text/plain": [
       "17"
      ]
     },
     "execution_count": 89,
     "metadata": {},
     "output_type": "execute_result"
    }
   ],
   "source": [
    "next(f)"
   ]
  },
  {
   "cell_type": "code",
   "execution_count": 90,
   "id": "9b9e8fe8-c5db-4a04-9c29-aff277df33f1",
   "metadata": {},
   "outputs": [
    {
     "data": {
      "text/plain": [
       "19"
      ]
     },
     "execution_count": 90,
     "metadata": {},
     "output_type": "execute_result"
    }
   ],
   "source": [
    "next(f)"
   ]
  },
  {
   "cell_type": "code",
   "execution_count": 91,
   "id": "20734be7-27a9-43b3-b589-4ab054ab6d20",
   "metadata": {},
   "outputs": [
    {
     "data": {
      "text/plain": [
       "23"
      ]
     },
     "execution_count": 91,
     "metadata": {},
     "output_type": "execute_result"
    }
   ],
   "source": [
    "next(f)"
   ]
  },
  {
   "cell_type": "code",
   "execution_count": 92,
   "id": "0e3253a3-e0fb-4eaa-82e2-4ca258323b8d",
   "metadata": {},
   "outputs": [
    {
     "data": {
      "text/plain": [
       "29"
      ]
     },
     "execution_count": 92,
     "metadata": {},
     "output_type": "execute_result"
    }
   ],
   "source": [
    "next(f)"
   ]
  },
  {
   "cell_type": "code",
   "execution_count": 93,
   "id": "73842ff8-9416-43d0-a103-bdd157484f67",
   "metadata": {},
   "outputs": [
    {
     "data": {
      "text/plain": [
       "31"
      ]
     },
     "execution_count": 93,
     "metadata": {},
     "output_type": "execute_result"
    }
   ],
   "source": [
    "next(f)"
   ]
  },
  {
   "cell_type": "code",
   "execution_count": 94,
   "id": "cb9966a0-c2b1-434c-a68b-cf7e30da9df9",
   "metadata": {},
   "outputs": [
    {
     "data": {
      "text/plain": [
       "37"
      ]
     },
     "execution_count": 94,
     "metadata": {},
     "output_type": "execute_result"
    }
   ],
   "source": [
    "next(f)"
   ]
  },
  {
   "cell_type": "code",
   "execution_count": 95,
   "id": "78bf0976-d708-4b85-bcc8-be074c8f48a6",
   "metadata": {},
   "outputs": [
    {
     "data": {
      "text/plain": [
       "41"
      ]
     },
     "execution_count": 95,
     "metadata": {},
     "output_type": "execute_result"
    }
   ],
   "source": [
    "next(f)"
   ]
  },
  {
   "cell_type": "code",
   "execution_count": 96,
   "id": "d0467f13-cc9c-43d4-b379-f539b45abd50",
   "metadata": {},
   "outputs": [
    {
     "data": {
      "text/plain": [
       "43"
      ]
     },
     "execution_count": 96,
     "metadata": {},
     "output_type": "execute_result"
    }
   ],
   "source": [
    "next(f)"
   ]
  },
  {
   "cell_type": "code",
   "execution_count": 97,
   "id": "e82d4525-18b8-4fd1-b5ec-47814fdea842",
   "metadata": {},
   "outputs": [
    {
     "data": {
      "text/plain": [
       "47"
      ]
     },
     "execution_count": 97,
     "metadata": {},
     "output_type": "execute_result"
    }
   ],
   "source": [
    "next(f)"
   ]
  },
  {
   "cell_type": "code",
   "execution_count": 98,
   "id": "b848aef9-77b3-4939-b0d7-2aa81595864e",
   "metadata": {},
   "outputs": [
    {
     "data": {
      "text/plain": [
       "53"
      ]
     },
     "execution_count": 98,
     "metadata": {},
     "output_type": "execute_result"
    }
   ],
   "source": [
    "next(f)"
   ]
  },
  {
   "cell_type": "code",
   "execution_count": 99,
   "id": "251b6f13-cf4f-4ba6-8779-f2105de72a38",
   "metadata": {},
   "outputs": [
    {
     "data": {
      "text/plain": [
       "59"
      ]
     },
     "execution_count": 99,
     "metadata": {},
     "output_type": "execute_result"
    }
   ],
   "source": [
    "next(f)"
   ]
  },
  {
   "cell_type": "code",
   "execution_count": 100,
   "id": "6a593470-8894-4f46-95f6-a6dc2553ab60",
   "metadata": {},
   "outputs": [
    {
     "data": {
      "text/plain": [
       "61"
      ]
     },
     "execution_count": 100,
     "metadata": {},
     "output_type": "execute_result"
    }
   ],
   "source": [
    "next(f)"
   ]
  },
  {
   "cell_type": "code",
   "execution_count": 101,
   "id": "0733731a-42f0-4df2-9a5e-6640031a5050",
   "metadata": {},
   "outputs": [
    {
     "data": {
      "text/plain": [
       "67"
      ]
     },
     "execution_count": 101,
     "metadata": {},
     "output_type": "execute_result"
    }
   ],
   "source": [
    "next(f)"
   ]
  },
  {
   "cell_type": "code",
   "execution_count": 102,
   "id": "57c54005-e994-48ca-b950-4e50dacc355e",
   "metadata": {},
   "outputs": [
    {
     "data": {
      "text/plain": [
       "71"
      ]
     },
     "execution_count": 102,
     "metadata": {},
     "output_type": "execute_result"
    }
   ],
   "source": [
    "next(f)\n"
   ]
  },
  {
   "cell_type": "markdown",
   "id": "922ca008-3c92-4da5-93b6-62bc8f105451",
   "metadata": {},
   "source": [
    "Q6. Write a python program to print the first 10 Fibonacci numbers using a while loop."
   ]
  },
  {
   "cell_type": "code",
   "execution_count": 13,
   "id": "72953fb2-4d1d-498c-834d-cd17284bba82",
   "metadata": {},
   "outputs": [],
   "source": [
    "def fib(n):\n",
    "    a=0\n",
    "    b=1\n",
    "    num=0\n",
    "    while(num<n):\n",
    "        print(a)\n",
    "        nth=a+b\n",
    "        a=b\n",
    "        b=nth\n",
    "        num+=1\n"
   ]
  },
  {
   "cell_type": "code",
   "execution_count": 14,
   "id": "95af1b11-007e-464d-93c0-67099a616a2e",
   "metadata": {},
   "outputs": [
    {
     "name": "stdout",
     "output_type": "stream",
     "text": [
      "0\n",
      "1\n",
      "1\n",
      "2\n",
      "3\n",
      "5\n",
      "8\n",
      "13\n",
      "21\n",
      "34\n"
     ]
    }
   ],
   "source": [
    "fib(10)"
   ]
  },
  {
   "cell_type": "markdown",
   "id": "fed5ec67-2b71-458d-bd65-bddc2af47216",
   "metadata": {},
   "source": [
    "Q7. Write a List Comprehension to iterate through the given string: ‘pwskills’.\n",
    "Expected output: ['p', 'w', 's', 'k', 'i', 'l', 'l', 's']"
   ]
  },
  {
   "cell_type": "code",
   "execution_count": 15,
   "id": "e4d2d8b7-b5b9-45b1-81bd-86b0243b5741",
   "metadata": {},
   "outputs": [],
   "source": [
    "s=\"pwskills\""
   ]
  },
  {
   "cell_type": "code",
   "execution_count": 18,
   "id": "e3d016b0-5aba-40c6-ace1-3e6ba7938ad6",
   "metadata": {},
   "outputs": [],
   "source": [
    "l1=[i for i in s]"
   ]
  },
  {
   "cell_type": "code",
   "execution_count": 19,
   "id": "f71477df-49a9-4a25-bd3a-f876d6746937",
   "metadata": {},
   "outputs": [
    {
     "data": {
      "text/plain": [
       "['p', 'w', 's', 'k', 'i', 'l', 'l', 's']"
      ]
     },
     "execution_count": 19,
     "metadata": {},
     "output_type": "execute_result"
    }
   ],
   "source": [
    "l1"
   ]
  },
  {
   "cell_type": "markdown",
   "id": "40c0cd23-7857-49c8-8b94-f79ccc7ff7cd",
   "metadata": {},
   "source": [
    "Q9. Write a code to print odd numbers from 1 to 100 using list comprehension.\n",
    "Note: Use a list comprehension to create a list from 1 to 100 and use another List comprehension to filter\n",
    "out odd numbers."
   ]
  },
  {
   "cell_type": "code",
   "execution_count": 42,
   "id": "56271cfc-0069-45b2-b949-292c60d22b04",
   "metadata": {},
   "outputs": [],
   "source": [
    "def palindrome(num):\n",
    "    str1=str(num)\n",
    "    str2=str1[::-1]\n",
    "    print(str1)\n",
    "    print(str2)\n",
    "    if str1==str2:\n",
    "        print(\"The given number is palindrome!\")\n",
    "    else:\n",
    "        print(\"The given number is not a palindrome!\")"
   ]
  },
  {
   "cell_type": "code",
   "execution_count": 31,
   "id": "50cc5929-b0c2-4130-bd4b-d94b62cd619d",
   "metadata": {},
   "outputs": [
    {
     "name": "stdout",
     "output_type": "stream",
     "text": [
      "23\n",
      "32\n",
      "The given number is not a palindrome!\n"
     ]
    }
   ],
   "source": [
    "palindrome(23)"
   ]
  },
  {
   "cell_type": "code",
   "execution_count": 32,
   "id": "aca5a382-6309-41f4-9db2-4b5526ba23eb",
   "metadata": {},
   "outputs": [
    {
     "name": "stdout",
     "output_type": "stream",
     "text": [
      "101\n",
      "101\n",
      "The given number is palindrome!\n"
     ]
    }
   ],
   "source": [
    "palindrome(101)"
   ]
  },
  {
   "cell_type": "markdown",
   "id": "40c61f14-f9ef-4019-8e39-f3a6e174f29a",
   "metadata": {},
   "source": [
    "Q8. Write a python program to check whether a given number is Palindrome or not using a while loop."
   ]
  },
  {
   "cell_type": "code",
   "execution_count": 33,
   "id": "1b7f83a6-0db5-4713-aff6-4a6323160771",
   "metadata": {},
   "outputs": [],
   "source": [
    "l2=[i for i in  range(1,101)]"
   ]
  },
  {
   "cell_type": "code",
   "execution_count": 34,
   "id": "5355b90f-da2c-469d-82c2-7488ee6eeb59",
   "metadata": {},
   "outputs": [
    {
     "name": "stdout",
     "output_type": "stream",
     "text": [
      "[1, 2, 3, 4, 5, 6, 7, 8, 9, 10, 11, 12, 13, 14, 15, 16, 17, 18, 19, 20, 21, 22, 23, 24, 25, 26, 27, 28, 29, 30, 31, 32, 33, 34, 35, 36, 37, 38, 39, 40, 41, 42, 43, 44, 45, 46, 47, 48, 49, 50, 51, 52, 53, 54, 55, 56, 57, 58, 59, 60, 61, 62, 63, 64, 65, 66, 67, 68, 69, 70, 71, 72, 73, 74, 75, 76, 77, 78, 79, 80, 81, 82, 83, 84, 85, 86, 87, 88, 89, 90, 91, 92, 93, 94, 95, 96, 97, 98, 99, 100]\n"
     ]
    }
   ],
   "source": [
    "print(l2)"
   ]
  },
  {
   "cell_type": "markdown",
   "id": "1bc2f7bf-3917-41a7-8acc-07e94e79276c",
   "metadata": {},
   "source": [
    "I don't understand what to do to use filter function or list comprehension so i solve it with both."
   ]
  },
  {
   "cell_type": "code",
   "execution_count": 40,
   "id": "e087909e-ea85-403b-bb4e-d89cf3e2eae4",
   "metadata": {},
   "outputs": [],
   "source": [
    "#Method 1:-\n",
    "l3=[i for i in l2 if i%2!=0]"
   ]
  },
  {
   "cell_type": "code",
   "execution_count": 41,
   "id": "f2c1ab15-cf79-499c-9f04-79e28515200c",
   "metadata": {},
   "outputs": [
    {
     "name": "stdout",
     "output_type": "stream",
     "text": [
      "[1, 3, 5, 7, 9, 11, 13, 15, 17, 19, 21, 23, 25, 27, 29, 31, 33, 35, 37, 39, 41, 43, 45, 47, 49, 51, 53, 55, 57, 59, 61, 63, 65, 67, 69, 71, 73, 75, 77, 79, 81, 83, 85, 87, 89, 91, 93, 95, 97, 99]\n"
     ]
    }
   ],
   "source": [
    "print(l3)"
   ]
  },
  {
   "cell_type": "code",
   "execution_count": 43,
   "id": "72389a92-2d75-487c-9409-24d73a5e0f9e",
   "metadata": {},
   "outputs": [],
   "source": [
    "#Method 2:-\n",
    "l3=list(filter(lambda x:x%2!=0,l2))"
   ]
  },
  {
   "cell_type": "code",
   "execution_count": 44,
   "id": "da9acf61-0972-424b-8656-83d1c1f275b5",
   "metadata": {},
   "outputs": [
    {
     "name": "stdout",
     "output_type": "stream",
     "text": [
      "[1, 3, 5, 7, 9, 11, 13, 15, 17, 19, 21, 23, 25, 27, 29, 31, 33, 35, 37, 39, 41, 43, 45, 47, 49, 51, 53, 55, 57, 59, 61, 63, 65, 67, 69, 71, 73, 75, 77, 79, 81, 83, 85, 87, 89, 91, 93, 95, 97, 99]\n"
     ]
    }
   ],
   "source": [
    "print(l3)"
   ]
  },
  {
   "cell_type": "code",
   "execution_count": null,
   "id": "24edb270-e84b-4003-b603-e7c9747e14dd",
   "metadata": {},
   "outputs": [],
   "source": []
  }
 ],
 "metadata": {
  "kernelspec": {
   "display_name": "Python 3 (ipykernel)",
   "language": "python",
   "name": "python3"
  },
  "language_info": {
   "codemirror_mode": {
    "name": "ipython",
    "version": 3
   },
   "file_extension": ".py",
   "mimetype": "text/x-python",
   "name": "python",
   "nbconvert_exporter": "python",
   "pygments_lexer": "ipython3",
   "version": "3.10.8"
  }
 },
 "nbformat": 4,
 "nbformat_minor": 5
}
