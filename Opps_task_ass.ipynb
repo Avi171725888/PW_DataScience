{
 "cells": [
  {
   "cell_type": "markdown",
   "id": "6c53c76d-b1e6-4b7d-8a0b-241ab09a7594",
   "metadata": {},
   "source": [
    "Q1, Create a vehicle class with an init method having instance variables as name_of_vehicle, max_speed\n",
    "and average_of_vehicle."
   ]
  },
  {
   "cell_type": "code",
   "execution_count": 5,
   "id": "ed59b747-fa55-41c1-b4b6-5515fec58034",
   "metadata": {},
   "outputs": [],
   "source": [
    "class vehicle:\n",
    "    def __init__(self,name_of_vehicle,max_speed,average_of_vehicle):\n",
    "        self.name=name_of_vehicle\n",
    "        self.max_speed=max_speed\n",
    "        self.average_of_vehicle=average_of_vehicle\n",
    "    def vehicle_details(self):\n",
    "        return self.name,self.max_speed,self.average_of_vehicle"
   ]
  },
  {
   "cell_type": "code",
   "execution_count": 6,
   "id": "aef0d42d-73eb-4026-a5e4-c3598384e441",
   "metadata": {},
   "outputs": [],
   "source": [
    "v=vehicle(\"bmw\",200,5)"
   ]
  },
  {
   "cell_type": "code",
   "execution_count": 7,
   "id": "9df38fcb-f2db-44e0-b892-5a8c2d080a2e",
   "metadata": {},
   "outputs": [
    {
     "data": {
      "text/plain": [
       "('bmw', 200, 5)"
      ]
     },
     "execution_count": 7,
     "metadata": {},
     "output_type": "execute_result"
    }
   ],
   "source": [
    "v.vehicle_details()"
   ]
  },
  {
   "cell_type": "markdown",
   "id": "9b21558e-0184-4e99-b77a-7d44103cb377",
   "metadata": {},
   "source": [
    "Q2. Create a child class car from the vehicle class created in Que 1, which will inherit the vehicle class.\n",
    "Create a method named seating_capacity which takes capacity as an argument and returns the name of\n",
    "the vehicle and its seating capacity."
   ]
  },
  {
   "cell_type": "code",
   "execution_count": 16,
   "id": "cffca153-263f-4b59-94b4-1275a844fa90",
   "metadata": {},
   "outputs": [],
   "source": [
    "class child(vehicle):\n",
    "    def seating_capacity(self,capacity):\n",
    "            self.capacity=capacity\n",
    "            return self.name,self.capacity"
   ]
  },
  {
   "cell_type": "code",
   "execution_count": 17,
   "id": "31833f80-b5b3-4406-812f-98b953b3e44a",
   "metadata": {},
   "outputs": [],
   "source": [
    "c=child(\"audi\",220,7)"
   ]
  },
  {
   "cell_type": "code",
   "execution_count": 18,
   "id": "f2547383-4e89-4199-8132-2685461624ab",
   "metadata": {},
   "outputs": [
    {
     "data": {
      "text/plain": [
       "('audi', 4)"
      ]
     },
     "execution_count": 18,
     "metadata": {},
     "output_type": "execute_result"
    }
   ],
   "source": [
    "c.seating_capacity(4)"
   ]
  },
  {
   "cell_type": "markdown",
   "id": "88c9b069-5611-47e2-96fc-486a7bbe6f60",
   "metadata": {},
   "source": [
    "Q3. What is multiple inheritance? Write a python code to demonstrate multiple inheritance."
   ]
  },
  {
   "cell_type": "markdown",
   "id": "e88ec10e-5cf4-4b5c-9a27-8c2088c206fe",
   "metadata": {},
   "source": [
    "When a class is derived from more than one base class it is called multiple Inheritance. The derived class inherits all the features of the base case."
   ]
  },
  {
   "cell_type": "code",
   "execution_count": 19,
   "id": "d1744aa6-9d39-49e0-9361-586fe342da14",
   "metadata": {},
   "outputs": [],
   "source": [
    "class Father:\n",
    "    def height(self):\n",
    "        print(\"Child gets height from his father\")"
   ]
  },
  {
   "cell_type": "code",
   "execution_count": 20,
   "id": "6a8a62f6-b38a-4475-ace1-9717dae09413",
   "metadata": {},
   "outputs": [],
   "source": [
    "class Mother:\n",
    "    def smart(self):\n",
    "        print(\"Child gets smartness from his mother\")"
   ]
  },
  {
   "cell_type": "code",
   "execution_count": 21,
   "id": "8dda7b4f-0804-401b-8aae-b51aae96c262",
   "metadata": {},
   "outputs": [],
   "source": [
    "class Child(Father,Mother):\n",
    "    pass"
   ]
  },
  {
   "cell_type": "code",
   "execution_count": 22,
   "id": "bf8198c4-c96d-4990-a8a5-5c1c4f4b826e",
   "metadata": {},
   "outputs": [],
   "source": [
    "child=Child()"
   ]
  },
  {
   "cell_type": "code",
   "execution_count": 23,
   "id": "a40bacda-ff11-4646-869b-3f861db15b28",
   "metadata": {},
   "outputs": [
    {
     "name": "stdout",
     "output_type": "stream",
     "text": [
      "Child gets height from his father\n"
     ]
    }
   ],
   "source": [
    "child.height()"
   ]
  },
  {
   "cell_type": "code",
   "execution_count": 24,
   "id": "84ed94f0-9cd3-43bb-80ed-3462ef2c1b0d",
   "metadata": {},
   "outputs": [
    {
     "name": "stdout",
     "output_type": "stream",
     "text": [
      "Child gets smartness from his mother\n"
     ]
    }
   ],
   "source": [
    "child.smart()"
   ]
  },
  {
   "cell_type": "code",
   "execution_count": null,
   "id": "bb64ce90-8332-49a0-9950-b893effb9944",
   "metadata": {},
   "outputs": [],
   "source": [
    "Q4. What are getter and setter in python? Create a class and create a getter and a setter method in this\n",
    "class."
   ]
  },
  {
   "cell_type": "markdown",
   "id": "b4f35478-a697-4c11-a600-a2af9304ce93",
   "metadata": {},
   "source": [
    "When we want to hide the data from class to user then we use getter and setter methods.Getter is used to get data members values of class.Setter is used to set values to data members of class"
   ]
  },
  {
   "cell_type": "code",
   "execution_count": 45,
   "id": "a857319f-9163-43a6-9cc6-08dc40cd26cb",
   "metadata": {},
   "outputs": [],
   "source": [
    "class test:\n",
    "    def __init__(self,id,name):\n",
    "        self.__id=id\n",
    "        self.__name=name\n",
    "    \n",
    "    def set_id(self,id):\n",
    "        self.__id=id\n",
    "        \n",
    "    def set_name(self,name):\n",
    "        self.__name=name\n",
    "    \n",
    "    def get_id(self):\n",
    "        return self.__id\n",
    "\n",
    "    def get__name(self):\n",
    "        return self.__name"
   ]
  },
  {
   "cell_type": "code",
   "execution_count": 46,
   "id": "efb8d1fe-29b9-4df1-90ed-1b4f3044baaf",
   "metadata": {},
   "outputs": [],
   "source": [
    "t=test(1,\"avendra\")"
   ]
  },
  {
   "cell_type": "code",
   "execution_count": 47,
   "id": "b9bf3bbb-bd6d-4196-bd55-8c77039780f2",
   "metadata": {},
   "outputs": [
    {
     "data": {
      "text/plain": [
       "1"
      ]
     },
     "execution_count": 47,
     "metadata": {},
     "output_type": "execute_result"
    }
   ],
   "source": [
    "t.get_id()"
   ]
  },
  {
   "cell_type": "code",
   "execution_count": 48,
   "id": "1c3c9ccd-1efe-4273-a2d5-1933ba252f2f",
   "metadata": {},
   "outputs": [
    {
     "data": {
      "text/plain": [
       "'avendra'"
      ]
     },
     "execution_count": 48,
     "metadata": {},
     "output_type": "execute_result"
    }
   ],
   "source": [
    "t.get__name()"
   ]
  },
  {
   "cell_type": "code",
   "execution_count": 49,
   "id": "08a950a0-bdb9-4639-8ff7-1b84786619f3",
   "metadata": {},
   "outputs": [],
   "source": [
    "t.set_id(101)"
   ]
  },
  {
   "cell_type": "code",
   "execution_count": 50,
   "id": "fe3d015a-fdcb-49ce-9238-fcf2821b5542",
   "metadata": {},
   "outputs": [
    {
     "data": {
      "text/plain": [
       "101"
      ]
     },
     "execution_count": 50,
     "metadata": {},
     "output_type": "execute_result"
    }
   ],
   "source": [
    "t.get_id()"
   ]
  },
  {
   "cell_type": "code",
   "execution_count": 51,
   "id": "eec25c7a-5cf2-4300-844c-96fcbde8a716",
   "metadata": {},
   "outputs": [],
   "source": [
    "t.set_name(\"rohan\")"
   ]
  },
  {
   "cell_type": "code",
   "execution_count": 52,
   "id": "9fe64ca0-dcc1-4dce-9d85-fc13648e0bde",
   "metadata": {},
   "outputs": [
    {
     "data": {
      "text/plain": [
       "'rohan'"
      ]
     },
     "execution_count": 52,
     "metadata": {},
     "output_type": "execute_result"
    }
   ],
   "source": [
    "t.get__name()"
   ]
  },
  {
   "cell_type": "markdown",
   "id": "302cdc76-1502-4518-9591-46a07c41706e",
   "metadata": {},
   "source": [
    "Q5.What is method overriding in python? Write a python code to demonstrate method overriding."
   ]
  },
  {
   "cell_type": "markdown",
   "id": "c2f23d81-d830-40cd-9d44-d1ee07d8299c",
   "metadata": {},
   "source": [
    "Method overriding is an ability of any object-oriented programming language that allows a subclass or child class to provide a specific implementation of a method that is already provided by one of its super-classes or parent classes.Keeping same name but to different opeartions are known as method overriding"
   ]
  },
  {
   "cell_type": "code",
   "execution_count": 61,
   "id": "6ed99c60-cd96-499f-8486-7c0b35fa5eda",
   "metadata": {},
   "outputs": [],
   "source": [
    "class class1:\n",
    "    def arthematic(self,a,b):\n",
    "        return a+b"
   ]
  },
  {
   "cell_type": "code",
   "execution_count": 62,
   "id": "fe2d5a2d-7c6d-46cc-ac5e-4531568644b8",
   "metadata": {},
   "outputs": [],
   "source": [
    "class class2(class1):\n",
    "    def arthematic(self,a,b):\n",
    "        return a-b"
   ]
  },
  {
   "cell_type": "code",
   "execution_count": 63,
   "id": "2896fe37-b1bd-4779-8998-f65f1d1e0052",
   "metadata": {},
   "outputs": [],
   "source": [
    "c1=class1()"
   ]
  },
  {
   "cell_type": "code",
   "execution_count": 64,
   "id": "df5f6a21-f8d8-46a4-a22f-4a3f6e307ee6",
   "metadata": {},
   "outputs": [
    {
     "data": {
      "text/plain": [
       "7"
      ]
     },
     "execution_count": 64,
     "metadata": {},
     "output_type": "execute_result"
    }
   ],
   "source": [
    "c1.arthematic(3,4)"
   ]
  },
  {
   "cell_type": "code",
   "execution_count": 65,
   "id": "4df91f77-4a1e-47d3-a416-39fc87b28031",
   "metadata": {},
   "outputs": [],
   "source": [
    "c2=class2()"
   ]
  },
  {
   "cell_type": "code",
   "execution_count": 66,
   "id": "15b75c49-e44d-4afc-b430-39bf2c22018b",
   "metadata": {},
   "outputs": [
    {
     "data": {
      "text/plain": [
       "4"
      ]
     },
     "execution_count": 66,
     "metadata": {},
     "output_type": "execute_result"
    }
   ],
   "source": [
    "c2.arthematic(6,2)"
   ]
  },
  {
   "cell_type": "code",
   "execution_count": null,
   "id": "b0439694-65ae-453c-b8f6-3a5ccdbc33bf",
   "metadata": {},
   "outputs": [],
   "source": []
  }
 ],
 "metadata": {
  "kernelspec": {
   "display_name": "Python 3 (ipykernel)",
   "language": "python",
   "name": "python3"
  },
  "language_info": {
   "codemirror_mode": {
    "name": "ipython",
    "version": 3
   },
   "file_extension": ".py",
   "mimetype": "text/x-python",
   "name": "python",
   "nbconvert_exporter": "python",
   "pygments_lexer": "ipython3",
   "version": "3.10.8"
  }
 },
 "nbformat": 4,
 "nbformat_minor": 5
}
