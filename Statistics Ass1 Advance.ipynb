{
 "cells": [
  {
   "cell_type": "markdown",
   "id": "db66f242-cba1-4f46-9780-8e742470cdce",
   "metadata": {},
   "source": [
    "Q1: What are the Probability Mass Function (PMF) and Probability Density Function (PDF)? Explain with\n",
    "an example."
   ]
  },
  {
   "cell_type": "markdown",
   "id": "5a11b27a-29e7-46ba-ba75-91036f367eb6",
   "metadata": {},
   "source": [
    "The Probability Mass Function (PMF) is also called a probability function or frequency function which characterizes the distribution of a discrete random variable. Let X be a discrete random variable of a function, then the probability mass function of a random variable X is given by\n",
    "Px (x) = P( X=x ), For all x belongs to the range of X"
   ]
  },
  {
   "cell_type": "markdown",
   "id": "db6d1c21-8eda-4902-b2e5-8a8c2b035da7",
   "metadata": {},
   "source": [
    "The probability mass function is usually the primary component of defining a discrete probability distribution, but it differs from the probability density function (PDF) where it produces distinct outcomes.\n",
    "EX:-\n",
    "Probability mass function plays an important role in statistics. It defines the probabilities for the given discrete random variable. It integrates the variable for the given random number which is equal to the probability for the random variable."
   ]
  },
  {
   "cell_type": "markdown",
   "id": "86a4730c-a27b-4f90-bb76-4ccdce7fd5d9",
   "metadata": {},
   "source": [
    "Q2: What is Cumulative Density Function (CDF)? Explain with an example. Why CDF is used?"
   ]
  },
  {
   "cell_type": "markdown",
   "id": "621f091a-d5f6-44ff-9319-e256df15a7b0",
   "metadata": {},
   "source": [
    "The Cumulative Distribution Function (CDF), of a real-valued random variable X, evaluated at x, is the probability function that X will take a value less than or equal to x. It is used to describe the probability distribution of random variables in a table. And with the help of these data, we can easily create a CDF plot in an excel sheet.\n",
    "Consider a simple example for CDF which is given by rolling a fair six-sided die, where X is the random variable\n",
    "\n",
    "We know that the probability of getting an outcome by rolling a six-sided die is given as:\n",
    "\n",
    "Probability of getting 1 = P(X≤ 1 ) = 1 / 6\n",
    "\n",
    "Probability of getting 2 = P(X≤ 2 ) = 2 / 6\n",
    "\n",
    "Probability of getting 3 = P(X≤ 3 ) = 3 / 6\n",
    "\n",
    "Probability of getting 4 = P(X≤ 4 ) = 4 / 6\n",
    "\n",
    "Probability of getting 5 = P(X≤ 5 ) = 5 / 6\n",
    "\n",
    "Probability of getting 6 = P(X≤ 6 ) = 6 / 6 = 1"
   ]
  },
  {
   "cell_type": "markdown",
   "id": "a5e2c291-f6d2-4edd-acbf-d8fbc8d2e4a7",
   "metadata": {},
   "source": [
    "Q3: What are some examples of situations where the normal distribution might be used as a model?\n",
    "Explain how the parameters of the normal distribution relate to the shape of the distribution."
   ]
  },
  {
   "cell_type": "markdown",
   "id": "6f28428c-b210-45e8-8202-6453b10967a1",
   "metadata": {},
   "source": [
    "1.Height\n",
    "2.Rolling A Dice\n",
    "3.Tossing A Coin\n",
    "4.IQ\n",
    "5.Technical Stock Market\n",
    "6.Blood Pressure\n",
    "7.Shoe Size\n",
    "8.Birth Weight\n",
    "9.Student’s Average Report\n",
    "The two main parameters of a (normal) distribution are the mean and standard deviation. The parameters determine the shape and probabilities of the distribution. The shape of the distribution changes as the parameter values change."
   ]
  },
  {
   "cell_type": "markdown",
   "id": "149e1fe7-9791-4441-bb0e-f18d4a4d1d59",
   "metadata": {},
   "source": [
    "Q4: Explain the importance of Normal Distribution. Give a few real-life examples of Normal\n",
    "Distribution."
   ]
  },
  {
   "cell_type": "markdown",
   "id": "a884c54b-8f52-43fd-832a-0f8d264995a3",
   "metadata": {},
   "source": [
    "Examples:-\n",
    "1.Height\n",
    "2.Rolling A Dice\n",
    "3.Tossing A Coin\n",
    "4.IQ\n",
    "5.Technical Stock Market\n",
    "6.Blood Pressure\n",
    "7.Shoe Size\n",
    "8.Birth Weight\n",
    "9.Student’s Average Report"
   ]
  },
  {
   "cell_type": "markdown",
   "id": "bbb7b715-5b15-459f-9541-c724fecd8019",
   "metadata": {},
   "source": [
    "Q5: What is Bernaulli Distribution? Give an Example. What is the difference between Bernoulli\n",
    "Distribution and Binomial Distribution?"
   ]
  },
  {
   "cell_type": "markdown",
   "id": "3d52dde0-f915-48a5-8ff3-cc28b80b572f",
   "metadata": {},
   "source": [
    "This distribution deals with the data which only has 1 trial & only 2 possible outcomes. Anything other than that will not fall under the Bernoulli Distribution category.\\\n",
    "For the real-life example, let’s consider the situation of passing or failing an exam. Let’s assume the probability to pass the exam is 95%, therefore the probability to fail will be 5%.\n",
    "In this case, if the event to pass the exam is considered, then the Bernoulli event will contain the probability of passing the exam. Similarly, it goes for failing the exam.\n",
    "Difference between Bernoulli Distribution and Binomial Distribution:-\n",
    "1.Bernoulli deals with the outcome of the single trial of the event, whereas Binomial deals with the outcome of the multiple trials of the single event.\n",
    "2.Bernoulli is used when the outcome of an event is required for only one time, whereas the Binomial is used when the outcome of an event is required multiple times."
   ]
  },
  {
   "cell_type": "markdown",
   "id": "52deb51b-8183-46f1-a727-e468fe483b60",
   "metadata": {},
   "source": [
    "Q6. Consider a dataset with a mean of 50 and a standard deviation of 10. If we assume that the dataset\n",
    "is normally distributed, what is the probability that a randomly selected observation will be greater\n",
    "than 60? Use the appropriate formula and show your calculations."
   ]
  },
  {
   "cell_type": "code",
   "execution_count": 1,
   "id": "0dbccd60-7c54-4d93-bb6e-f157d5e9e543",
   "metadata": {},
   "outputs": [],
   "source": [
    "z=(60-50)/10"
   ]
  },
  {
   "cell_type": "code",
   "execution_count": 4,
   "id": "5294b018-1099-4f17-b62a-d593fa09e693",
   "metadata": {},
   "outputs": [
    {
     "data": {
      "text/plain": [
       "1.0"
      ]
     },
     "execution_count": 4,
     "metadata": {},
     "output_type": "execute_result"
    }
   ],
   "source": [
    "z"
   ]
  },
  {
   "cell_type": "markdown",
   "id": "1be5ee66-487f-40e6-9b10-7b497db4c4d4",
   "metadata": {},
   "source": [
    "0.84134 "
   ]
  },
  {
   "cell_type": "markdown",
   "id": "72d864d7-ab85-4581-a4e5-c9f5c50e5380",
   "metadata": {},
   "source": [
    "84%"
   ]
  },
  {
   "cell_type": "markdown",
   "id": "5b4fcc08-3e5d-49ca-8647-71c4da48d77b",
   "metadata": {},
   "source": [
    "Q7: Explain uniform Distribution with an example."
   ]
  },
  {
   "cell_type": "markdown",
   "id": "10803b4a-6d8b-4fca-902d-0ecf392d857e",
   "metadata": {},
   "source": [
    "In statistics, uniform distribution refers to a type of probability distribution in which all outcomes are equally likely. A deck of cards has within it uniform distributions because the likelihood of drawing a heart, a club, a diamond, or a spade is equally likely. A coin also has a uniform distribution because the probability of getting either heads or tails in a coin toss is the same.\n",
    "\n",
    "The uniform distribution can be visualized as a straight horizontal line, so for a coin flip returning a head or tail, both have a probability p = 0.50 and would be depicted by a line from the y-axis at 0.50."
   ]
  },
  {
   "cell_type": "markdown",
   "id": "85bb8aa7-b47d-4007-bdf3-832d6bbe3553",
   "metadata": {},
   "source": [
    "Q8: What is the z score? State the importance of the z score."
   ]
  },
  {
   "cell_type": "markdown",
   "id": "3c316166-498c-4162-917e-9375600efb70",
   "metadata": {},
   "source": [
    "A measure of how many standard deviations below or above the population mean a raw score is called z score. It will be positive if the value lies above the mean and negative if it lies below the mean. It is also known as standard score. It indicates how many standard deviations an entity is, from the mean. In order to use a z-score, the mean μ and also the population standard deviation σ should be known. A z score helps to calculate the probability of a score occurring within a standard normal distribution. It also enables us to compare two scores that are from different samples. A table for the values of ϕ, indicating the values of the cumulative distribution function of the normal distribution is termed as a z score table.\n",
    "\n",
    "Formula\n",
    "The equation is given by z = (x – μ)/ σ.\n",
    "\n",
    "μ = mean\n",
    "\n",
    "σ = standard deviation\n",
    "\n",
    "x = test value\n",
    "\n",
    "When we have multiple samples and want to describe the standard deviation of those sample means, we use the following formula:\n",
    "\n",
    "z = (x – μ)/ (σ/√n)"
   ]
  },
  {
   "cell_type": "markdown",
   "id": "f09ee92a-77a8-4146-af3e-5d0639e90b0e",
   "metadata": {},
   "source": [
    "Q9: What is Central Limit Theorem? State the significance of the Central Limit Theorem."
   ]
  },
  {
   "cell_type": "markdown",
   "id": "e2782793-0757-491a-9fb4-babd2ae42886",
   "metadata": {},
   "source": [
    "The CLT is a statistical theory that states that - if you take a sufficiently large sample size from a population with a finite level of variance, the mean of all samples from that population will be roughly equal to the population mean.\n",
    "\n",
    "Consider there are 15 sections in class X, and each section has 50 students. Our task is to calculate the average marks of students in class X. \n",
    "\n",
    "The standard approach will be to calculate the average simply:\n",
    "\n",
    "Calculate the total marks of all the students in Class X\n",
    "Add all the marks\n",
    "Divide the total marks by the total number of students\n",
    "Significance of Central Limit Theorem\n",
    "The CLT has several applications. Look at the places where you can use it.\n",
    "\n",
    "Political/election polling is a great example of how you can use CLT. These polls are used to estimate the number of people who support a specific candidate. You may have seen these results with confidence intervals on news channels. The CLT aids in this calculation.\n",
    "You use the CLT in various census fields to calculate various population details, such as family income, electricity consumption, individual salaries, and so on."
   ]
  },
  {
   "cell_type": "markdown",
   "id": "fc7342bb-2898-4e6f-88cc-ddc08e6ca622",
   "metadata": {},
   "source": [
    "Q10: State the assumptions of the Central Limit Theorem."
   ]
  },
  {
   "cell_type": "markdown",
   "id": "4698252b-0517-4676-8fa9-c40d86d71b18",
   "metadata": {},
   "source": [
    "Before we move on further, it is important to understand the assumptions behind CLT:\n",
    "\n",
    "The data must adhere to the randomization rule. It needs to be sampled at random.\n",
    "The samples should be unrelated to one another. One sample should not impact the others.\n",
    "When taking samples without replacement, the sample size should not exceed 10% of the population.\n",
    "When the population is symmetric, a sample size of 30 is generally considered reasonable. "
   ]
  },
  {
   "cell_type": "markdown",
   "id": "3ebec6a7-3d7c-4339-b427-c07a80b24442",
   "metadata": {},
   "source": []
  }
 ],
 "metadata": {
  "kernelspec": {
   "display_name": "Python 3 (ipykernel)",
   "language": "python",
   "name": "python3"
  },
  "language_info": {
   "codemirror_mode": {
    "name": "ipython",
    "version": 3
   },
   "file_extension": ".py",
   "mimetype": "text/x-python",
   "name": "python",
   "nbconvert_exporter": "python",
   "pygments_lexer": "ipython3",
   "version": "3.10.8"
  }
 },
 "nbformat": 4,
 "nbformat_minor": 5
}
