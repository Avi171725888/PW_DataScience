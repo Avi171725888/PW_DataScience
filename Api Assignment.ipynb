{
 "cells": [
  {
   "cell_type": "markdown",
   "id": "300d5f24-27ab-4a65-9b78-305a8faee6dc",
   "metadata": {},
   "source": [
    "Q1. What is an API? Give an example, where an API is used in real life."
   ]
  },
  {
   "cell_type": "markdown",
   "id": "fc2e9c83-a771-463c-8953-655e1a812096",
   "metadata": {},
   "source": [
    "An API is the interface that allows two independent software components to exchange information. An API acts as an intermediary between internal software functions and external ones, creating an exchange of information so seamless that it often goes unnoticed by the end user.\n",
    "Some real time examples of Api:\n",
    "1.Sharing flight information between airlines and travel sites.\n",
    "2.Using Google Maps in a rideshare app.\n",
    "3.Building chatbots in a messaging service.\n"
   ]
  },
  {
   "cell_type": "markdown",
   "id": "bc226b1e-9596-4996-a8c6-c06b21cba5ef",
   "metadata": {},
   "source": [
    "Q2. Give advantages and disadvantages of using API."
   ]
  },
  {
   "cell_type": "markdown",
   "id": "8b25c41b-f287-40ad-804c-e963bcdd6b9d",
   "metadata": {},
   "source": [
    "Advantages of API:\n",
    "1.Increased Interoperability: API solutions enable different software systems to communicate with each other, regardless of their programming language or platform. This enhances the interoperability between systems, allowing for the exchange of data and functionality.\n",
    "2.Improved Efficiency: API driven infrastructures enable developers to reuse code and functionality from existing software systems, saving time and reducing the amount of code that needs to be written from scratch.\n",
    "3.Better User Experience: APIs can enable third-party developers to create applications that integrate with existing software systems, providing a better user experience and increased functionality.\n",
    "4.Increased Flexibility: APIs provide developers with greater flexibility, enabling them to choose the best programming languages and frameworks for their needs.\n",
    "5.New Revenue Streams: APIs can enable companies to create new revenue streams by providing third-party developers with access to their software systems."
   ]
  },
  {
   "cell_type": "markdown",
   "id": "8adc152c-9b7c-4152-9fc0-03e2738724ab",
   "metadata": {},
   "source": [
    "Disadvantages of API:\n",
    "1.Security Concerns: API infrastructures can be vulnerable to security breaches, such as SQL injection attacks and cross-site scripting (XSS) attacks, making it crucial to implement security measures to protect against these threats\n",
    "2.Complexity: APIs can be complex, requiring a significant amount of development effort to implement and maintain.\n",
    "3.Compatibility Issues: APIs can have compatibility issues between different versions of the same software system or between different systems, which can lead to errors and system failures.\n",
    "4.Dependency on Third-Party Developers: APIs rely on third-party developers to create applications that integrate with the software system. This can create dependencies that are outside of the control of the company that owns the software system\n",
    "5.Governance and Management: APIs require proper governance and management to ensure they are being used correctly and consistently across different applications and systems."
   ]
  },
  {
   "cell_type": "markdown",
   "id": "6efbe9b1-42ac-465d-b18e-4d4c85b38269",
   "metadata": {},
   "source": [
    "Q3. What is a Web API? Differentiate between API and Web API."
   ]
  },
  {
   "cell_type": "markdown",
   "id": "cddee566-ff4a-42cc-9652-f39df1600f22",
   "metadata": {},
   "source": [
    "Web API:-APIs are application interfaces, implying that one application can communicate with another application in a standardized manner.API is used for any style of communicati.It has a light-weight architecture furthermore, useful for gadgets which have constrained transmission capacity like smart phones.It provides support for the HTTP/s protocol: URL Request/Response Headers, and so on.\n",
    "\n",
    "Differnce between Api and Web Api:-\n",
    "1.A web API is a software that allows for the creation of apps and tools by external developers and A API procedure call (RPC) is a mechanism for invoking a function on a remote computer.\n",
    "2.Web API does this by providing a set of functions and methods that can be called remotely over HTTP and HTTPS\n",
    "and in API function to be invoked is encoded in an arbitrary format, often by means of some encoding scheme."
   ]
  },
  {
   "cell_type": "markdown",
   "id": "6b23fa40-96b0-4aa8-98a8-e5e6816963c3",
   "metadata": {},
   "source": [
    "Q4. Explain REST and SOAP Architecture. Mention shortcomings of SOAP."
   ]
  },
  {
   "cell_type": "markdown",
   "id": "c58f9285-6d4d-4891-9b8f-35db2a9e788d",
   "metadata": {},
   "source": [
    "REST:-\n",
    "REST stands for REpresentational State Transfer and API stands for Application Program Interface. REST is a software architectural style that defines the set of rules to be used for creating web services. Web services which follow the REST architectural style are known as RESTful web services. It allows requesting systems to access and manipulate web resources by using a uniform and predefined set of rules. Interaction in REST based systems happen through Internet’s Hypertext Transfer Protocol (HTTP).\n",
    "\n",
    "1.Uniform Interface\n",
    "2.Stateless\n",
    "3.Cacheable\n",
    "4.Client-Server\n",
    "5.Layered System\n",
    "6.Code on Demand\n",
    "\n",
    "There are four guidelines principle of Uniform Interface are:\n",
    "1.Resource-Based: Individual resources are identified in requests. For example: API/users.\n",
    "Manipulation of Resources Through Representations: Client has representation of resource and it contains enough information to modify or delete the resource on the server, provided it has permission to do so. Example: Usually user get a user id when user request for a list of users and then use that id to delete or modify that particular user.\n",
    "2.Self-descriptive Messages: Each message includes enough information to describe how to process the message so that server can easily analyses the request.\n",
    "3.Hypermedia as the Engine of Application State (HATEOAS): It need to include links for each response so that client can discover other resources easily.\n",
    "SOAP:-\n",
    "he SOAP web services architecture is based on interactions between three components: a service provider, a service requester, and an optional service registry.\n",
    "\n",
    "1.The service provider\n",
    "2.The collection of software that provides a web service.\n",
    "3.The application program\n",
    "4.The middleware\n",
    "5.The platform on which they run\n",
    "6.The service requester\n",
    "7.The collection of software that is responsible for requesting a web service from a service provider.\n",
    "8.The application program\n",
    "9.The middleware\n",
    "10.The platform on which they run\n",
    "11.The service registry\n",
    "The service registry is a central location where service providers can publish their service descriptions and where service requesters can find those service descriptions.\n",
    "The registry is an optional component of the web services architecture because service requesters and providers can communicate without it in many situations. For example, the organization that provides a service can distribute the service description directly to the users of the service in a number of ways, including offering the service as a download from an FTP site.\n",
    "\n",
    "Using a service registry offers a number of advantages to both the requester and provider; for example, using the IBM® WebSphere® Service Registry and Repository (WSRR) can help the requester to find services more quickly and can help the provider to enforce version control of the services being offered.\n",
    "\n",
    "CICS® provides direct support for implementing service requester and service provider components. However, you need additional software to deploy a service registry in CICS. If you use the IBM WebSphere Service Registry and Repository (WSRR), CICS provides support for WSRR through the web services assistant. Alternatively, you can deploy a service registry on another platform.\n"
   ]
  },
  {
   "cell_type": "markdown",
   "id": "2eceaa00-dd2b-423f-a607-160fb1822059",
   "metadata": {},
   "source": [
    "Q5. Differentiate between REST and SOAP."
   ]
  },
  {
   "cell_type": "markdown",
   "id": "1554bdce-ba81-4ae3-ab75-49728ede2570",
   "metadata": {},
   "source": [
    "Design:-\n",
    "The SOAP API exposes functions or operations, while REST APIs are data-driven. For example, consider an application with employee data that other applications can manipulate. The application's SOAP API could expose a function called CreateEmployee. To create an employee, you would specify the function name in your SOAP message when sending a request.\n",
    "\n",
    "However, the application's REST API could expose a URL called /employees, and a POST request to that URL would create a new employee record.\n",
    "\n",
    "Flexibility:-\n",
    "SOAP APIs are rigid and only allow XML messaging between applications. The application server also has to maintain the state of each client. This means it has to remember all previous requests when processing a new request.\n",
    "\n",
    "REST is more flexible and allows applications to transfer data as plain text, HTML, XML, and JSON. REST is also stateless, so the REST API treats every new request independently of previous requests.\n",
    "\n",
    "Performance:-\n",
    "SOAP messages are larger and more complex, which makes them slower to transmit and process. This can increase page load times.\n",
    "\n",
    "REST is faster and more efficient than SOAP due to the smaller message sizes of REST. REST responses are also cacheable, so the server can store frequently accessed data in a cache for even shorter page load times.\n",
    "\n",
    "Scalability:-\n",
    "The SOAP protocol requires applications to store the state between requests, which increases bandwidth and memory requirements. As a result, it makes applications expensive and challenging to scale.\n",
    "\n",
    "Unlike SOAP, REST permits stateless and layered architecture, which makes it more scalable. For example, the application server can pass the request to other servers or allow an intermediary (like a content delivery network) to handle it.\n",
    "\n",
    "Security:-\n",
    "SOAP requires an additional layer of WS-Security to work with HTTPS. WS-Security uses additional header content to ensure only the designated process in the specified server reads the SOAP message content. This adds communication overheads and negatively impacts performance.\n",
    "\n",
    "REST supports HTTPS without additional overheads.\n",
    "\n",
    "Reliability:-\n",
    "SOAP has error handling logic built into it, and it provides more reliability. On the other hand, REST requires you to try again in case of communication failures, and it’s less reliable."
   ]
  },
  {
   "cell_type": "code",
   "execution_count": null,
   "id": "67f7c8ce-6f32-4895-84b1-258ffb98bf22",
   "metadata": {},
   "outputs": [],
   "source": []
  }
 ],
 "metadata": {
  "kernelspec": {
   "display_name": "Python 3 (ipykernel)",
   "language": "python",
   "name": "python3"
  },
  "language_info": {
   "codemirror_mode": {
    "name": "ipython",
    "version": 3
   },
   "file_extension": ".py",
   "mimetype": "text/x-python",
   "name": "python",
   "nbconvert_exporter": "python",
   "pygments_lexer": "ipython3",
   "version": "3.10.8"
  }
 },
 "nbformat": 4,
 "nbformat_minor": 5
}
