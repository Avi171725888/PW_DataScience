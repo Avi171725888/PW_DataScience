{
 "cells": [
  {
   "cell_type": "markdown",
   "id": "b95a9dc1-05d4-4016-a815-5e209170a7a3",
   "metadata": {},
   "source": [
    "Q1. Create a Pandas Series that contains the following data: 4, 8, 15, 16, 23, and 42. Then, print the series."
   ]
  },
  {
   "cell_type": "code",
   "execution_count": 1,
   "id": "b19fffd0-e8c6-4686-afb9-dbb361e64dc9",
   "metadata": {},
   "outputs": [],
   "source": [
    "import pandas as pd"
   ]
  },
  {
   "cell_type": "code",
   "execution_count": 2,
   "id": "a8dbcde7-33fa-4816-abeb-6c05a1e36a09",
   "metadata": {},
   "outputs": [],
   "source": [
    "series=pd.Series([4,8,15,16,23,42])"
   ]
  },
  {
   "cell_type": "code",
   "execution_count": 3,
   "id": "91bfb191-3673-4a2c-af10-a727d3d0ab37",
   "metadata": {},
   "outputs": [
    {
     "data": {
      "text/plain": [
       "0     4\n",
       "1     8\n",
       "2    15\n",
       "3    16\n",
       "4    23\n",
       "5    42\n",
       "dtype: int64"
      ]
     },
     "execution_count": 3,
     "metadata": {},
     "output_type": "execute_result"
    }
   ],
   "source": [
    "series"
   ]
  },
  {
   "cell_type": "code",
   "execution_count": 4,
   "id": "c0c12bb7-65d3-4981-8b99-c6020a975590",
   "metadata": {},
   "outputs": [
    {
     "data": {
      "text/plain": [
       "pandas.core.series.Series"
      ]
     },
     "execution_count": 4,
     "metadata": {},
     "output_type": "execute_result"
    }
   ],
   "source": [
    "type(series)"
   ]
  },
  {
   "cell_type": "markdown",
   "id": "61543d90-1efa-48d9-8c83-435e1d53df2f",
   "metadata": {},
   "source": [
    "Q2. Create a variable of list type containing 10 elements in it, and apply pandas.Series function on the\n",
    "variable print it."
   ]
  },
  {
   "cell_type": "code",
   "execution_count": 5,
   "id": "4ee0e366-626a-4ad0-9beb-c625030c3693",
   "metadata": {},
   "outputs": [],
   "source": [
    "l=[1,2,3,4,5,6,7,8,9,10]\n"
   ]
  },
  {
   "cell_type": "code",
   "execution_count": 6,
   "id": "77098c6e-20e0-4f14-8bbe-7c9718001f25",
   "metadata": {},
   "outputs": [],
   "source": [
    "list_series=pd.Series(l)"
   ]
  },
  {
   "cell_type": "code",
   "execution_count": 7,
   "id": "372714a6-324d-4183-8d68-4ca2ec6e0bf8",
   "metadata": {},
   "outputs": [
    {
     "name": "stdout",
     "output_type": "stream",
     "text": [
      "0     1\n",
      "1     2\n",
      "2     3\n",
      "3     4\n",
      "4     5\n",
      "5     6\n",
      "6     7\n",
      "7     8\n",
      "8     9\n",
      "9    10\n",
      "dtype: int64\n"
     ]
    }
   ],
   "source": [
    "print(list_series)"
   ]
  },
  {
   "cell_type": "code",
   "execution_count": 8,
   "id": "b0256a19-56b7-4086-bf3a-132a32c6b3d5",
   "metadata": {},
   "outputs": [
    {
     "data": {
      "text/plain": [
       "pandas.core.series.Series"
      ]
     },
     "execution_count": 8,
     "metadata": {},
     "output_type": "execute_result"
    }
   ],
   "source": [
    "type(list_series)"
   ]
  },
  {
   "cell_type": "markdown",
   "id": "2ea0a358-020c-4b4d-9f14-b4dfc2e1db9c",
   "metadata": {},
   "source": [
    "Q3.Create a Pandas DataFrame that contains the following data?"
   ]
  },
  {
   "cell_type": "code",
   "execution_count": 11,
   "id": "87f3a744-d5c7-451d-8a6e-9c2c68af074a",
   "metadata": {},
   "outputs": [],
   "source": [
    "data=[[\"Alice\",25,\"Female\"],[\"Bob\",30,\"Male\"],[\"Claire\",27,\"Female\"]]"
   ]
  },
  {
   "cell_type": "code",
   "execution_count": 12,
   "id": "05462c19-a891-4e06-85d7-1e45eae445fe",
   "metadata": {},
   "outputs": [],
   "source": [
    "df=pd.DataFrame(data=data,columns=[\"Name\",\"Age\",\"Gender\"])"
   ]
  },
  {
   "cell_type": "code",
   "execution_count": 13,
   "id": "a39189ab-43d6-4d2f-a6e9-f97a61f0134f",
   "metadata": {},
   "outputs": [
    {
     "data": {
      "text/html": [
       "<div>\n",
       "<style scoped>\n",
       "    .dataframe tbody tr th:only-of-type {\n",
       "        vertical-align: middle;\n",
       "    }\n",
       "\n",
       "    .dataframe tbody tr th {\n",
       "        vertical-align: top;\n",
       "    }\n",
       "\n",
       "    .dataframe thead th {\n",
       "        text-align: right;\n",
       "    }\n",
       "</style>\n",
       "<table border=\"1\" class=\"dataframe\">\n",
       "  <thead>\n",
       "    <tr style=\"text-align: right;\">\n",
       "      <th></th>\n",
       "      <th>Name</th>\n",
       "      <th>Age</th>\n",
       "      <th>Gender</th>\n",
       "    </tr>\n",
       "  </thead>\n",
       "  <tbody>\n",
       "    <tr>\n",
       "      <th>0</th>\n",
       "      <td>Alice</td>\n",
       "      <td>25</td>\n",
       "      <td>Female</td>\n",
       "    </tr>\n",
       "    <tr>\n",
       "      <th>1</th>\n",
       "      <td>Bob</td>\n",
       "      <td>30</td>\n",
       "      <td>Male</td>\n",
       "    </tr>\n",
       "    <tr>\n",
       "      <th>2</th>\n",
       "      <td>Claire</td>\n",
       "      <td>27</td>\n",
       "      <td>Female</td>\n",
       "    </tr>\n",
       "  </tbody>\n",
       "</table>\n",
       "</div>"
      ],
      "text/plain": [
       "     Name  Age  Gender\n",
       "0   Alice   25  Female\n",
       "1     Bob   30    Male\n",
       "2  Claire   27  Female"
      ]
     },
     "execution_count": 13,
     "metadata": {},
     "output_type": "execute_result"
    }
   ],
   "source": [
    "df"
   ]
  },
  {
   "cell_type": "markdown",
   "id": "6277a883-f7e9-4de7-864d-c5529ed5d5b8",
   "metadata": {},
   "source": [
    "Q4. What is ‘DataFrame’ in pandas and how is it different from pandas.series? Explain with an example."
   ]
  },
  {
   "cell_type": "markdown",
   "id": "1f1b5f76-2743-4f55-9ba1-4252f6cac290",
   "metadata": {},
   "source": [
    "Pandas Series:-\n",
    "1.One-dimensional\n",
    "2.Homogenous – Series elements must be of the same data type\n",
    "3.Size-immutable – Once created, the size of a Series object cannot be changed.\n"
   ]
  },
  {
   "cell_type": "markdown",
   "id": "969bc63f-d764-46dc-a252-391b3479e33b",
   "metadata": {},
   "source": [
    "Pandas DataFrame:-\n",
    "1.Two-dimensional\n",
    "2.Heterogenous – DataFrame elements can have different data types.\n",
    "3.Size-mutable – Elements can be dropped or added in an existing DataFrame."
   ]
  },
  {
   "cell_type": "markdown",
   "id": "37aa045e-e9d0-42fb-a842-40232d66520e",
   "metadata": {},
   "source": [
    "Q5. What are some common functions you can use to manipulate data in a Pandas DataFrame? Can\n",
    "you give an example of when you might use one of these functions?"
   ]
  },
  {
   "cell_type": "markdown",
   "id": "58751b6a-1ccc-4e9d-9146-d231eef041b0",
   "metadata": {},
   "source": [
    "There are  functions like . shape, . info() and . corr() which output the shape of the table, information on rows and columns, and correlation between numerical columns."
   ]
  },
  {
   "cell_type": "code",
   "execution_count": 15,
   "id": "4bd8005a-c511-49d3-be0e-ca14a1333429",
   "metadata": {},
   "outputs": [
    {
     "data": {
      "text/plain": [
       "(3, 3)"
      ]
     },
     "execution_count": 15,
     "metadata": {},
     "output_type": "execute_result"
    }
   ],
   "source": [
    "#EX:-getting the shape of the previos dataframe\n",
    "df.shape"
   ]
  },
  {
   "cell_type": "markdown",
   "id": "d9235f36-90ee-462e-9474-d49a22338e4c",
   "metadata": {},
   "source": [
    "Q6. Which of the following is mutable in nature Series, DataFrame, Panel?"
   ]
  },
  {
   "cell_type": "markdown",
   "id": "0b845329-fd2e-4d15-a661-7ca0a279a0bf",
   "metadata": {},
   "source": [
    "All the Three Series,DataFrame and Panel are Mutable in nature."
   ]
  },
  {
   "cell_type": "markdown",
   "id": "e6a34470-9d02-4e96-b974-af6e47eb1870",
   "metadata": {},
   "source": [
    "Q7. Create a DataFrame using multiple Series. Explain with an example."
   ]
  },
  {
   "cell_type": "markdown",
   "id": "ec0f1792-29dc-48d7-a55d-f56976055c6e",
   "metadata": {},
   "source": [
    "First Create series and store them in dictionary as per the name of Key representing the label of Dataframe.Use\n",
    "concat method to create a DataFrame using multiple Series"
   ]
  },
  {
   "cell_type": "code",
   "execution_count": 23,
   "id": "932fccb5-a450-4508-a247-e9ab2aedf63e",
   "metadata": {},
   "outputs": [],
   "source": [
    "series_1=pd.Series(data=[1,2,3,4],name=\"Roll_no\")"
   ]
  },
  {
   "cell_type": "code",
   "execution_count": 24,
   "id": "3602fde7-b64f-485c-8e88-2032fb789ff4",
   "metadata": {},
   "outputs": [
    {
     "data": {
      "text/plain": [
       "0    1\n",
       "1    2\n",
       "2    3\n",
       "3    4\n",
       "Name: Roll_no, dtype: int64"
      ]
     },
     "execution_count": 24,
     "metadata": {},
     "output_type": "execute_result"
    }
   ],
   "source": [
    "series_1"
   ]
  },
  {
   "cell_type": "code",
   "execution_count": 25,
   "id": "cad7f963-d05f-4664-96b9-4c6aa322fbf5",
   "metadata": {},
   "outputs": [],
   "source": [
    "series_2=pd.Series(data=[\"Avi\",\"Sudh\",\"Ravi\",\"Viraj\"])"
   ]
  },
  {
   "cell_type": "code",
   "execution_count": 29,
   "id": "566646d7-0260-4662-a19d-b26877ca5944",
   "metadata": {},
   "outputs": [],
   "source": [
    "data1={\"Name\":series_2,\"Roll_no\":series_1}"
   ]
  },
  {
   "cell_type": "code",
   "execution_count": 27,
   "id": "eddc1c0e-d7d9-4c2f-99c3-d88320c1288e",
   "metadata": {},
   "outputs": [
    {
     "data": {
      "text/plain": [
       "0      Avi\n",
       "1     Sudh\n",
       "2     Ravi\n",
       "3    Viraj\n",
       "dtype: object"
      ]
     },
     "execution_count": 27,
     "metadata": {},
     "output_type": "execute_result"
    }
   ],
   "source": [
    "series_2"
   ]
  },
  {
   "cell_type": "code",
   "execution_count": 32,
   "id": "083e9064-52b8-4f41-89fb-6fa868daf32b",
   "metadata": {},
   "outputs": [],
   "source": [
    "df1=pd.concat(data1,axis=1)"
   ]
  },
  {
   "cell_type": "code",
   "execution_count": 33,
   "id": "310844dd-f6af-4221-ac9e-05d4a34bcbaa",
   "metadata": {},
   "outputs": [
    {
     "data": {
      "text/html": [
       "<div>\n",
       "<style scoped>\n",
       "    .dataframe tbody tr th:only-of-type {\n",
       "        vertical-align: middle;\n",
       "    }\n",
       "\n",
       "    .dataframe tbody tr th {\n",
       "        vertical-align: top;\n",
       "    }\n",
       "\n",
       "    .dataframe thead th {\n",
       "        text-align: right;\n",
       "    }\n",
       "</style>\n",
       "<table border=\"1\" class=\"dataframe\">\n",
       "  <thead>\n",
       "    <tr style=\"text-align: right;\">\n",
       "      <th></th>\n",
       "      <th>Name</th>\n",
       "      <th>Roll_no</th>\n",
       "    </tr>\n",
       "  </thead>\n",
       "  <tbody>\n",
       "    <tr>\n",
       "      <th>0</th>\n",
       "      <td>Avi</td>\n",
       "      <td>1</td>\n",
       "    </tr>\n",
       "    <tr>\n",
       "      <th>1</th>\n",
       "      <td>Sudh</td>\n",
       "      <td>2</td>\n",
       "    </tr>\n",
       "    <tr>\n",
       "      <th>2</th>\n",
       "      <td>Ravi</td>\n",
       "      <td>3</td>\n",
       "    </tr>\n",
       "    <tr>\n",
       "      <th>3</th>\n",
       "      <td>Viraj</td>\n",
       "      <td>4</td>\n",
       "    </tr>\n",
       "  </tbody>\n",
       "</table>\n",
       "</div>"
      ],
      "text/plain": [
       "    Name  Roll_no\n",
       "0    Avi        1\n",
       "1   Sudh        2\n",
       "2   Ravi        3\n",
       "3  Viraj        4"
      ]
     },
     "execution_count": 33,
     "metadata": {},
     "output_type": "execute_result"
    }
   ],
   "source": [
    "df1"
   ]
  },
  {
   "cell_type": "code",
   "execution_count": null,
   "id": "3d9ffa6f-91b8-4470-af0b-291875ff31c8",
   "metadata": {},
   "outputs": [],
   "source": []
  },
  {
   "cell_type": "code",
   "execution_count": null,
   "id": "9221494e-d33c-4354-ba05-05de414422c8",
   "metadata": {},
   "outputs": [],
   "source": []
  }
 ],
 "metadata": {
  "kernelspec": {
   "display_name": "Python 3 (ipykernel)",
   "language": "python",
   "name": "python3"
  },
  "language_info": {
   "codemirror_mode": {
    "name": "ipython",
    "version": 3
   },
   "file_extension": ".py",
   "mimetype": "text/x-python",
   "name": "python",
   "nbconvert_exporter": "python",
   "pygments_lexer": "ipython3",
   "version": "3.10.8"
  }
 },
 "nbformat": 4,
 "nbformat_minor": 5
}
