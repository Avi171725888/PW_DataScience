{
 "cells": [
  {
   "cell_type": "markdown",
   "id": "119a0af8-58ed-4d29-ae91-65260af52092",
   "metadata": {},
   "source": [
    "Q1. What is an Exception in pthon? Write the difference,beetween Exceptions and syntax errors?"
   ]
  },
  {
   "cell_type": "markdown",
   "id": "ea79d3c0-feb8-437b-aed5-45ef247b8043",
   "metadata": {},
   "source": [
    "Exception:-An exception is an event, which occurs during the execution of a program that disrupts the normal flow of the program's instructions.Exception is simply and error which is occur do to syntax or some logical error in program while executing the code."
   ]
  },
  {
   "cell_type": "markdown",
   "id": "50fdb939-805a-488b-b6c0-60f2bfb50504",
   "metadata": {},
   "source": [
    "Exception can me any error as ErrorPointError,FloatingPointError,FileNotFoundError thrown while compiling program but syantax error is error due to some missing '=',';','[]',etc"
   ]
  },
  {
   "cell_type": "markdown",
   "id": "4f46499b-6492-4b73-b244-3ea73df1c1ce",
   "metadata": {},
   "source": [
    "Q2. What happens when an exception is not handled? Explin with an example?"
   ]
  },
  {
   "cell_type": "markdown",
   "id": "07aab71a-7cd9-49a8-a649-48588ffdb339",
   "metadata": {},
   "source": [
    "If the exception is not handled then the specific related error is thrown by the compiler to the user\n",
    "ex:-As you can see below exception is not handled"
   ]
  },
  {
   "cell_type": "code",
   "execution_count": 5,
   "id": "7adce9ad-ff54-4c18-9ac3-9c357adb1a3a",
   "metadata": {},
   "outputs": [
    {
     "name": "stdout",
     "output_type": "stream",
     "text": [
      "Error is thrown\n"
     ]
    },
    {
     "ename": "ZeroDivisionError",
     "evalue": "division by zero",
     "output_type": "error",
     "traceback": [
      "\u001b[0;31m---------------------------------------------------------------------------\u001b[0m",
      "\u001b[0;31mZeroDivisionError\u001b[0m                         Traceback (most recent call last)",
      "Cell \u001b[0;32mIn[5], line 2\u001b[0m\n\u001b[1;32m      1\u001b[0m \u001b[38;5;28;01mtry\u001b[39;00m:\n\u001b[0;32m----> 2\u001b[0m     a\u001b[38;5;241m=\u001b[39m\u001b[38;5;241;43m2\u001b[39;49m\u001b[38;5;241;43m/\u001b[39;49m\u001b[38;5;241;43m0\u001b[39;49m\n\u001b[1;32m      3\u001b[0m \u001b[38;5;28;01mfinally\u001b[39;00m:\n\u001b[1;32m      4\u001b[0m     \u001b[38;5;28mprint\u001b[39m(\u001b[38;5;124m\"\u001b[39m\u001b[38;5;124mError is thrown\u001b[39m\u001b[38;5;124m\"\u001b[39m)\n",
      "\u001b[0;31mZeroDivisionError\u001b[0m: division by zero"
     ]
    }
   ],
   "source": [
    "try:\n",
    "    a=2/0\n",
    "finally:\n",
    "    print(\"Error is thrown\")"
   ]
  },
  {
   "cell_type": "markdown",
   "id": "1e08814c-c46a-4cce-af74-183c9e977903",
   "metadata": {},
   "source": [
    "Q3.Which python statements are used to catch and handled exceptions?Explain with an example?"
   ]
  },
  {
   "cell_type": "markdown",
   "id": "be45b67d-bb82-4ee4-84d9-ba9cb01e3089",
   "metadata": {},
   "source": [
    "Except block is used to handled and catch exception is python.Except block is always used together with try block.if any exception is encountered in try block then the specific except block will run.\n",
    "Ex:As shown below as error is occured in try block then it is handled in except block"
   ]
  },
  {
   "cell_type": "code",
   "execution_count": 6,
   "id": "24d18f52-8499-457b-902e-4854f72f5fb7",
   "metadata": {},
   "outputs": [
    {
     "name": "stdout",
     "output_type": "stream",
     "text": [
      "The exception is handled\n"
     ]
    }
   ],
   "source": [
    "try:\n",
    "    a=2/0\n",
    "except ZeroDivisionError as e:\n",
    "    print(\"The exception is handled\")"
   ]
  },
  {
   "cell_type": "markdown",
   "id": "8128746c-35de-41e6-80bf-85bfc9aa3fd3",
   "metadata": {},
   "source": [
    "Q4.Explain with example?"
   ]
  },
  {
   "cell_type": "markdown",
   "id": "9154cef4-8786-4f34-9993-6ea6047f75c4",
   "metadata": {},
   "source": [
    "1.try and else:-Try will execute the code and if there is no error then else block will execute\n",
    "Ex:-"
   ]
  },
  {
   "cell_type": "code",
   "execution_count": 8,
   "id": "b4e6b00a-76d1-4d6b-bc20-09c89dd5f735",
   "metadata": {},
   "outputs": [
    {
     "name": "stdout",
     "output_type": "stream",
     "text": [
      "this is try block\n",
      "this is else block\n"
     ]
    }
   ],
   "source": [
    "try:\n",
    "    print(\"this is try block\")\n",
    "except:\n",
    "    print(\"this is except block\")\n",
    "else:\n",
    "    print(\"this is else block\")\n"
   ]
  },
  {
   "cell_type": "markdown",
   "id": "f6a6ad6c-ffb5-4207-ac29-fc776471d00b",
   "metadata": {},
   "source": [
    "2.finally:Finally block will always execute after try block or except block if there is error or no error in the code"
   ]
  },
  {
   "cell_type": "code",
   "execution_count": 10,
   "id": "19952f0a-fd02-452d-b408-f41fc487f55d",
   "metadata": {},
   "outputs": [
    {
     "name": "stdout",
     "output_type": "stream",
     "text": [
      "this is try block\n",
      "this is finally block\n"
     ]
    }
   ],
   "source": [
    "#finally with try block\n",
    "try:\n",
    "    print(\"this is try block\")\n",
    "except:\n",
    "    print(\"this is except block\")\n",
    "finally:\n",
    "    print(\"this is finally block\")\n"
   ]
  },
  {
   "cell_type": "code",
   "execution_count": 11,
   "id": "4224fd68-6049-4806-887b-89d4e97c22c8",
   "metadata": {},
   "outputs": [
    {
     "name": "stdout",
     "output_type": "stream",
     "text": [
      "this is except block\n",
      "this is finally block\n"
     ]
    }
   ],
   "source": [
    "#finally with except block\n",
    "try:\n",
    "    a=3/0\n",
    "    print(\"this is try block\")\n",
    "except:\n",
    "    print(\"this is except block\")\n",
    "finally:\n",
    "    print(\"this is finally block\")"
   ]
  },
  {
   "cell_type": "markdown",
   "id": "7e35ca47-bfb2-434d-9f25-0bf86fa19f73",
   "metadata": {},
   "source": [
    "3.rasie:-raise keyword is used to throw user define exception or custom exception to the user."
   ]
  },
  {
   "cell_type": "code",
   "execution_count": 21,
   "id": "06f269d5-7ef3-4a59-ab80-e07a4b31479b",
   "metadata": {},
   "outputs": [],
   "source": [
    "class PasswordCheck(Exception):\n",
    "    def __init__(self,msg):\n",
    "        self.msg=msg"
   ]
  },
  {
   "cell_type": "code",
   "execution_count": 22,
   "id": "a59e6a5d-35fd-4917-942a-43cbbfb8acb1",
   "metadata": {},
   "outputs": [],
   "source": [
    "def passwordValidate(passwo):\n",
    "    if len(passwo)<8:\n",
    "        raise PasswordCheck(\"Password must have more than 8 characters!\")\n",
    "    else:\n",
    "        print(\"Good! Password\")"
   ]
  },
  {
   "cell_type": "code",
   "execution_count": 23,
   "id": "4a8f0b3c-6c8b-4590-96bc-bfcb8680f21a",
   "metadata": {},
   "outputs": [
    {
     "name": "stdin",
     "output_type": "stream",
     "text": [
      "Enter the password: qwe\n"
     ]
    },
    {
     "name": "stdout",
     "output_type": "stream",
     "text": [
      "Password must have more than 8 characters!\n"
     ]
    }
   ],
   "source": [
    "try:\n",
    "    password=input(\"Enter the password:\")\n",
    "    passwordValidate(password)\n",
    "except PasswordCheck as e:\n",
    "    print(e)"
   ]
  },
  {
   "cell_type": "markdown",
   "id": "6e21ad98-db7c-4e0a-9871-3a1711fa215b",
   "metadata": {},
   "source": [
    "What are custom Exceptions in python?Why do we need custom exceptions?Explain with example?"
   ]
  },
  {
   "cell_type": "markdown",
   "id": "020fe249-3b5f-4149-8c03-5049ec68c6a4",
   "metadata": {},
   "source": [
    "Custom exceptions simply means user defined exceptions or error raised by the user.\n",
    "We need custom exceptions to handle code in user's way of accepting input And throw errors according to the programmer.\n",
    "Ex:-This will check the person is eligible for driver's lisence"
   ]
  },
  {
   "cell_type": "code",
   "execution_count": 1,
   "id": "018634cc-e8d9-4152-887b-96bb375ab895",
   "metadata": {},
   "outputs": [],
   "source": [
    "class LisenceCheck(Exception):\n",
    "    def __init__(self,msg):\n",
    "        self.msg=msg"
   ]
  },
  {
   "cell_type": "code",
   "execution_count": 4,
   "id": "a38d1b9d-f253-4a4f-9136-004016a7334a",
   "metadata": {},
   "outputs": [],
   "source": [
    "def DriverLisence(age):\n",
    "    if age<=18:\n",
    "        raise LisenceCheck(\"Minimum age should be 18\")\n",
    "    else:\n",
    "        print(\"You will get driving's lisence\")"
   ]
  },
  {
   "cell_type": "code",
   "execution_count": 5,
   "id": "25fe380d-60a7-4f6b-a62e-80712bcdc8b0",
   "metadata": {},
   "outputs": [
    {
     "name": "stdin",
     "output_type": "stream",
     "text": [
      "Enter the age: 6\n"
     ]
    },
    {
     "name": "stdout",
     "output_type": "stream",
     "text": [
      "Minimum age should be 18\n"
     ]
    }
   ],
   "source": [
    "try:\n",
    "    age=int(input(\"Enter the age:\"))\n",
    "    DriverLisence(age)\n",
    "except LisenceCheck as e:\n",
    "    print(e)"
   ]
  },
  {
   "cell_type": "markdown",
   "id": "c4547e71-9271-441b-8ed2-b945adec0ca1",
   "metadata": {},
   "source": [
    "Create a custom exception class.Use this class to handle exception?"
   ]
  },
  {
   "cell_type": "code",
   "execution_count": 6,
   "id": "5b8b40cb-8f5a-4ffa-9b04-d77ebcb85fb1",
   "metadata": {},
   "outputs": [],
   "source": [
    "class LisenceCheck(Exception):\n",
    "    def __init__(self,msg):\n",
    "        self.msg=msg"
   ]
  },
  {
   "cell_type": "code",
   "execution_count": 7,
   "id": "35463624-3c93-417a-ab2e-db7e50fcb50f",
   "metadata": {},
   "outputs": [],
   "source": [
    "def DriverLisence(age):\n",
    "    if age<=18:\n",
    "        raise LisenceCheck(\"Minimum age should be 18\")\n",
    "    else:\n",
    "        print(\"You will get driving's lisence\")"
   ]
  },
  {
   "cell_type": "code",
   "execution_count": 9,
   "id": "71981412-86b0-4c93-8dad-4086b366a68e",
   "metadata": {},
   "outputs": [
    {
     "name": "stdin",
     "output_type": "stream",
     "text": [
      "Enter the age: 4\n"
     ]
    },
    {
     "name": "stdout",
     "output_type": "stream",
     "text": [
      "Minimum age should be 18\n"
     ]
    }
   ],
   "source": [
    "try:\n",
    "    age=int(input(\"Enter the age:\"))\n",
    "    DriverLisence(age)\n",
    "except LisenceCheck as e:\n",
    "    print(e)"
   ]
  },
  {
   "cell_type": "code",
   "execution_count": null,
   "id": "a58dd255-fcc8-4a0f-aca5-a2d16904787b",
   "metadata": {},
   "outputs": [],
   "source": []
  }
 ],
 "metadata": {
  "kernelspec": {
   "display_name": "Python 3 (ipykernel)",
   "language": "python",
   "name": "python3"
  },
  "language_info": {
   "codemirror_mode": {
    "name": "ipython",
    "version": 3
   },
   "file_extension": ".py",
   "mimetype": "text/x-python",
   "name": "python",
   "nbconvert_exporter": "python",
   "pygments_lexer": "ipython3",
   "version": "3.10.8"
  }
 },
 "nbformat": 4,
 "nbformat_minor": 5
}
