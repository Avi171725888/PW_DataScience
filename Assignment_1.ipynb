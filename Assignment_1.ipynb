{
 "cells": [
  {
   "cell_type": "markdown",
   "id": "9f87d0f8-9886-483f-b89f-f4626f79b071",
   "metadata": {},
   "source": [
    "Q1. Create one variable containing following type of data:\n",
    "(i) string\n",
    "(ii) list\n",
    "(iii) float\n",
    "(iv) tuple"
   ]
  },
  {
   "cell_type": "code",
   "execution_count": 2,
   "id": "e87284ce-c11b-4bf8-a07e-5fcfb7be85af",
   "metadata": {},
   "outputs": [
    {
     "name": "stdout",
     "output_type": "stream",
     "text": [
      "avendra\n",
      "[1, 2, 3, 'avi', True, 3.77]\n",
      "453.667\n",
      "(1, 23, 4.567)\n"
     ]
    }
   ],
   "source": [
    "a=\"avendra\"\n",
    "b=[1,2,3,\"avi\",True,3.77]\n",
    "c=453.667\n",
    "d=(1,23,4.567)\n",
    "print(a)\n",
    "print(b)\n",
    "print(c)\n",
    "print(d)\n"
   ]
  },
  {
   "cell_type": "markdown",
   "id": "2c761e50-fd92-4e50-b995-13dec8ba38f6",
   "metadata": {},
   "source": [
    "Q2. Given are some following variables containing data:\n",
    "(i) var1 = ‘ ‘\n",
    "(ii) var2 = ‘[ DS , ML , Python]’\n",
    "(iii) var3 = [ ‘DS’ , ’ML’ , ‘Python’ ]\n",
    "(iv) var4 = 1.\n",
    "What will be the data type of the above given variable."
   ]
  },
  {
   "cell_type": "code",
   "execution_count": 3,
   "id": "4dcbcd9a-fd76-4467-ae87-2090cf320be6",
   "metadata": {},
   "outputs": [
    {
     "name": "stdout",
     "output_type": "stream",
     "text": [
      "<class 'str'>\n",
      "<class 'str'>\n",
      "<class 'list'>\n",
      "<class 'int'>\n"
     ]
    }
   ],
   "source": [
    "var1=' '\n",
    "var2='[DS,ML,Python]'\n",
    "var3=['DS','ML','Python']\n",
    "var4=1\n",
    "\n",
    "print(type(var1))\n",
    "\n",
    "print(type(var2))\n",
    "\n",
    "print(type(var3))\n",
    "\n",
    "print(type(var4))"
   ]
  },
  {
   "cell_type": "markdown",
   "id": "9ed247f6-b246-42c5-b001-d1d6f7263f6a",
   "metadata": {},
   "source": [
    "Q3. Explain the use of the following operators using an example:\n",
    "(i) /\n",
    "(ii) %\n",
    "(iii) //\n",
    "(iv) **"
   ]
  },
  {
   "cell_type": "code",
   "execution_count": 9,
   "id": "8bee74f5-4569-4875-9378-16c369445b32",
   "metadata": {},
   "outputs": [
    {
     "name": "stdout",
     "output_type": "stream",
     "text": [
      "4 is divided by 2\n"
     ]
    }
   ],
   "source": [
    "#Divide operator Example\n",
    "a=2\n",
    "b=4\n",
    "if(b/a==2):\n",
    "    print(f\"{b} is divided by {a}\")"
   ]
  },
  {
   "cell_type": "code",
   "execution_count": 11,
   "id": "f2cc821e-49e0-4cf6-98a6-eaa60f45604e",
   "metadata": {},
   "outputs": [
    {
     "name": "stdout",
     "output_type": "stream",
     "text": [
      "4 Modulo 2 is 0\n"
     ]
    }
   ],
   "source": [
    "#Modulo operator Example\n",
    "if(b%a==0):\n",
    "    print(f\"{b} Modulo {a} is 0\")"
   ]
  },
  {
   "cell_type": "code",
   "execution_count": 13,
   "id": "687e9fb7-d2be-4e86-9dae-787ff6b0298a",
   "metadata": {},
   "outputs": [
    {
     "name": "stdout",
     "output_type": "stream",
     "text": [
      "4 floor division 2 is 2\n"
     ]
    }
   ],
   "source": [
    "#floor division Example\n",
    "if(b//a==2):\n",
    "    print(f\"{b} floor division {a} is 2\")"
   ]
  },
  {
   "cell_type": "code",
   "execution_count": 15,
   "id": "d375fc97-4e27-4e82-b4fa-6053dbb0c6a7",
   "metadata": {},
   "outputs": [
    {
     "name": "stdout",
     "output_type": "stream",
     "text": [
      "2's power is 8\n"
     ]
    }
   ],
   "source": [
    "#power operator Example\n",
    "if(2**3==8):\n",
    "    print(\"2's power is 8\")"
   ]
  },
  {
   "cell_type": "markdown",
   "id": "2ff6c0a5-1497-4bc0-83ce-135e7e234341",
   "metadata": {},
   "source": [
    "Q4. Create a list of length 10 of your choice containing multiple types of data. Using for loop print the\n",
    "element and its data type."
   ]
  },
  {
   "cell_type": "code",
   "execution_count": 16,
   "id": "1eb71da4-a652-43b7-83de-ae22998ecf3d",
   "metadata": {},
   "outputs": [
    {
     "name": "stdout",
     "output_type": "stream",
     "text": [
      "10\n"
     ]
    }
   ],
   "source": [
    "l=[1,2,3,True,4.55,\"Avendra\",\"avi\",3.44,4+3j,3/4]\n",
    "print(len(l))"
   ]
  },
  {
   "cell_type": "code",
   "execution_count": 17,
   "id": "623a016f-69c3-48df-a435-dbc1544fda4e",
   "metadata": {},
   "outputs": [
    {
     "name": "stdout",
     "output_type": "stream",
     "text": [
      "1\n",
      "<class 'int'>\n",
      "2\n",
      "<class 'int'>\n",
      "3\n",
      "<class 'int'>\n",
      "True\n",
      "<class 'bool'>\n",
      "4.55\n",
      "<class 'float'>\n",
      "Avendra\n",
      "<class 'str'>\n",
      "avi\n",
      "<class 'str'>\n",
      "3.44\n",
      "<class 'float'>\n",
      "(4+3j)\n",
      "<class 'complex'>\n",
      "0.75\n",
      "<class 'float'>\n"
     ]
    }
   ],
   "source": [
    "for i in l:\n",
    "    print(i)\n",
    "    print(type(i))"
   ]
  },
  {
   "cell_type": "markdown",
   "id": "2b542793-c874-4466-b660-ce88038b9923",
   "metadata": {},
   "source": [
    "Q5. Using a while loop, verify if the number A is purely divisible by number B and if so then how many\n",
    "times it can be divisible."
   ]
  },
  {
   "cell_type": "code",
   "execution_count": 45,
   "id": "25d4ab6e-9889-4499-ac07-660b36797d2b",
   "metadata": {},
   "outputs": [
    {
     "name": "stdin",
     "output_type": "stream",
     "text": [
      "Enter the value of A: 24\n",
      "Enter te value of B: 2\n"
     ]
    }
   ],
   "source": [
    "a=int(input(\"Enter the value of A:\"))\n",
    "b=int(input(\"Enter te value of B:\"))"
   ]
  },
  {
   "cell_type": "code",
   "execution_count": 47,
   "id": "ea9752a2-3021-427c-8769-1dfda7245a7b",
   "metadata": {},
   "outputs": [
    {
     "name": "stdout",
     "output_type": "stream",
     "text": [
      "Time : 1\n"
     ]
    }
   ],
   "source": [
    "i=0\n",
    "while(a%b==0):\n",
    "        i=i+1\n",
    "        print(f\"Time : {i}\")\n",
    "        break"
   ]
  },
  {
   "cell_type": "markdown",
   "id": "e97901ed-7938-47bd-a2bb-8de8bb5c6deb",
   "metadata": {},
   "source": [
    "Q6. Create a list containing 25 int type data. Using for loop and if-else condition print if the element is\n",
    "divisible by 3 or not."
   ]
  },
  {
   "cell_type": "code",
   "execution_count": 50,
   "id": "46dd725e-9f1f-40b8-acb7-055fc32dcb20",
   "metadata": {},
   "outputs": [
    {
     "name": "stdout",
     "output_type": "stream",
     "text": [
      "3 is divisible by 3\n",
      "6 is divisible by 3\n",
      "9 is divisible by 3\n",
      "12 is divisible by 3\n",
      "15 is divisible by 3\n",
      "18 is divisible by 3\n",
      "21 is divisible by 3\n",
      "24 is divisible by 3\n"
     ]
    }
   ],
   "source": [
    "li=[1,2,3,4,5,6,7,8,9,10,11,12,13,14,15,16,17,18,19,20,21,22,23,24,25]\n",
    "\n",
    "for i in li:\n",
    "    if i%3==0:\n",
    "        print(f\"{i} is divisible by 3\")"
   ]
  },
  {
   "cell_type": "code",
   "execution_count": null,
   "id": "3bee7889-14c5-45eb-9650-dd35218305cc",
   "metadata": {},
   "outputs": [],
   "source": [
    "Q7. What do you understand about mutable and immutable data types? Give examples for both showing\n",
    "this property."
   ]
  },
  {
   "cell_type": "code",
   "execution_count": 51,
   "id": "1fcde500-7adf-47a0-8ccf-764570e7192a",
   "metadata": {},
   "outputs": [
    {
     "ename": "SyntaxError",
     "evalue": "unterminated string literal (detected at line 3) (3620650080.py, line 3)",
     "output_type": "error",
     "traceback": [
      "\u001b[0;36m  Cell \u001b[0;32mIn[51], line 3\u001b[0;36m\u001b[0m\n\u001b[0;31m    s[1]=\"b\u001b[0m\n\u001b[0m         ^\u001b[0m\n\u001b[0;31mSyntaxError\u001b[0m\u001b[0;31m:\u001b[0m unterminated string literal (detected at line 3)\n"
     ]
    }
   ],
   "source": [
    "#string immutable:-we cannot change the element of string (update) using '=' operator\n",
    "s=\"avi\"\n",
    "s[1]=\"b"
   ]
  },
  {
   "cell_type": "code",
   "execution_count": 52,
   "id": "8edad20f-0ccc-41ab-98d1-37f277496893",
   "metadata": {},
   "outputs": [],
   "source": [
    "#list mutable:-we can change the elements of list (update) using '=' operator\n",
    "l1=[1,2,3,\"avi\",True,2.3434]\n"
   ]
  },
  {
   "cell_type": "code",
   "execution_count": 54,
   "id": "6579a30b-35e9-4485-a700-b86ceb94940a",
   "metadata": {},
   "outputs": [
    {
     "data": {
      "text/plain": [
       "[1, 2, 3, 'avi', True, 2.3434]"
      ]
     },
     "execution_count": 54,
     "metadata": {},
     "output_type": "execute_result"
    }
   ],
   "source": [
    "l1\n"
   ]
  },
  {
   "cell_type": "code",
   "execution_count": 58,
   "id": "b34820fb-4f65-43f9-8a44-04cc6fcf1407",
   "metadata": {},
   "outputs": [],
   "source": [
    "l1[3]=\"Avendra\""
   ]
  },
  {
   "cell_type": "code",
   "execution_count": 59,
   "id": "fd2c69c6-d513-454e-8675-8f85bea678ab",
   "metadata": {},
   "outputs": [
    {
     "data": {
      "text/plain": [
       "[1, 2, 3, 'Avendra', True, 2.3434]"
      ]
     },
     "execution_count": 59,
     "metadata": {},
     "output_type": "execute_result"
    }
   ],
   "source": [
    "l1"
   ]
  },
  {
   "cell_type": "code",
   "execution_count": null,
   "id": "6d297c6d-490a-4b0c-bb16-c9b07202cb2b",
   "metadata": {},
   "outputs": [],
   "source": []
  },
  {
   "cell_type": "code",
   "execution_count": null,
   "id": "155f0e2e-1d0c-4e98-be3b-d63a75fccc75",
   "metadata": {},
   "outputs": [],
   "source": []
  }
 ],
 "metadata": {
  "kernelspec": {
   "display_name": "Python 3 (ipykernel)",
   "language": "python",
   "name": "python3"
  },
  "language_info": {
   "codemirror_mode": {
    "name": "ipython",
    "version": 3
   },
   "file_extension": ".py",
   "mimetype": "text/x-python",
   "name": "python",
   "nbconvert_exporter": "python",
   "pygments_lexer": "ipython3",
   "version": "3.10.8"
  }
 },
 "nbformat": 4,
 "nbformat_minor": 5
}
