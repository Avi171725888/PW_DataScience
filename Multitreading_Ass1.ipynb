{
 "cells": [
  {
   "cell_type": "markdown",
   "id": "380f29cb-c303-4461-a551-3f06bef05fa7",
   "metadata": {},
   "source": [
    "Q1.What is multithreading in python? Why is it used? Name the module used to handle threads in python?"
   ]
  },
  {
   "cell_type": "markdown",
   "id": "538acf4f-f935-4899-8305-6ad0d9696465",
   "metadata": {},
   "source": [
    "Multithreading:-Multithreading is defined as the ability of a processor to execute multiple threads concurrently. In a simple, single-core CPU, it is achieved using frequent switching between threads.Python threading allows you to have different parts of your program run concurrently and can simplify your design.Modile threading is used to handle threads in python."
   ]
  },
  {
   "cell_type": "markdown",
   "id": "802bd043-9d96-4797-89a2-db927013de11",
   "metadata": {},
   "source": [
    "Q2.Why threading module used? Write the use of the following functions?\n",
    "Python threadig is used to run different parts of progarm concurrently and can simplify your design."
   ]
  },
  {
   "cell_type": "markdown",
   "id": "d73a27ca-4899-4d22-a3c4-84fab804a224",
   "metadata": {},
   "source": [
    "1.activeCount():-In Python, the method threading.active_co unt() from the threading module is used to count the currently active or running threads.\n",
    "Syntax:-threading.active_count()"
   ]
  },
  {
   "cell_type": "markdown",
   "id": "e5cdc20c-9e01-4003-8690-0e0cfab2a724",
   "metadata": {},
   "source": [
    "2.currentThread():-Returns the number of thread objects in the caller's thread control.\n",
    "Syntax:-threading.currentThread()"
   ]
  },
  {
   "cell_type": "markdown",
   "id": "1035ea10-aa64-4b4d-a7a6-2909919e40f9",
   "metadata": {},
   "source": [
    "3.threading.enumerate():-Returns a list of all thread objects that are currently active.\n",
    "Syntax:-threading.enumerate()"
   ]
  },
  {
   "cell_type": "markdown",
   "id": "ed317f2a-9de3-4425-b8b8-f58b317962f9",
   "metadata": {},
   "source": [
    "Q3.Explain the following functions?"
   ]
  },
  {
   "cell_type": "markdown",
   "id": "40915a35-f4ad-4317-9153-c210946b5736",
   "metadata": {},
   "source": [
    "1.run() − The run() method is the entry point for a thread."
   ]
  },
  {
   "cell_type": "markdown",
   "id": "69adc18a-5f70-4234-aeed-76c72db2a6cf",
   "metadata": {},
   "source": [
    "2.start() − The start() method starts a thread by calling the run method."
   ]
  },
  {
   "cell_type": "markdown",
   "id": "c318608c-ae0d-4abf-9ad9-85bb7d51a52b",
   "metadata": {},
   "source": [
    "3.join() − The join() waits for threads to terminate."
   ]
  },
  {
   "cell_type": "markdown",
   "id": "132e2f51-d2cf-4fa3-9da5-2d297c788a73",
   "metadata": {},
   "source": [
    "4.isAlive() − The isAlive() method checks whether a thread is still executing."
   ]
  },
  {
   "cell_type": "markdown",
   "id": "47848e78-178f-4c1f-b1d3-8cc46c52d40d",
   "metadata": {},
   "source": [
    "Q4.Write a python program to create two threads. Thread one must print the list of squares and thread\n",
    "two must print the list of cubes?"
   ]
  },
  {
   "cell_type": "code",
   "execution_count": 1,
   "id": "91780497-b308-423b-9c68-719a1a681f9c",
   "metadata": {},
   "outputs": [],
   "source": [
    "import threading"
   ]
  },
  {
   "cell_type": "code",
   "execution_count": 20,
   "id": "c650d9c3-67d3-40d1-8e4e-713ed0a6d287",
   "metadata": {},
   "outputs": [],
   "source": [
    "def sq(num):\n",
    "    squ=num*num\n",
    "    print(f\"Square of {num} is %d\"%squ)\n",
    "def cub(num):\n",
    "    cube=num*num*num\n",
    "    print(f\"Square of {num} is %d\"%cube)"
   ]
  },
  {
   "cell_type": "code",
   "execution_count": 21,
   "id": "826d0397-c6da-40f7-8e33-5ed887426ef8",
   "metadata": {},
   "outputs": [],
   "source": [
    "th_list=[threading.Thread(target=sq,args=(i,)) for i in range(11)]\n",
    "cub_list=[threading.Thread(target=cub,args=(i,)) for i in range(11)]"
   ]
  },
  {
   "cell_type": "code",
   "execution_count": 18,
   "id": "f67f1733-3c89-4186-aaf3-0814f9bb86d2",
   "metadata": {},
   "outputs": [
    {
     "data": {
      "text/plain": [
       "[<Thread(Thread-35 (sq), initial)>,\n",
       " <Thread(Thread-36 (sq), initial)>,\n",
       " <Thread(Thread-37 (sq), initial)>,\n",
       " <Thread(Thread-38 (sq), initial)>,\n",
       " <Thread(Thread-39 (sq), initial)>,\n",
       " <Thread(Thread-40 (sq), initial)>,\n",
       " <Thread(Thread-41 (sq), initial)>,\n",
       " <Thread(Thread-42 (sq), initial)>,\n",
       " <Thread(Thread-43 (sq), initial)>,\n",
       " <Thread(Thread-44 (sq), initial)>,\n",
       " <Thread(Thread-45 (sq), initial)>]"
      ]
     },
     "execution_count": 18,
     "metadata": {},
     "output_type": "execute_result"
    }
   ],
   "source": [
    "th_list"
   ]
  },
  {
   "cell_type": "code",
   "execution_count": 22,
   "id": "96da6a11-8bf9-4fd1-8cc4-72d5807cfdb7",
   "metadata": {},
   "outputs": [
    {
     "data": {
      "text/plain": [
       "[<Thread(Thread-57 (cub), initial)>,\n",
       " <Thread(Thread-58 (cub), initial)>,\n",
       " <Thread(Thread-59 (cub), initial)>,\n",
       " <Thread(Thread-60 (cub), initial)>,\n",
       " <Thread(Thread-61 (cub), initial)>,\n",
       " <Thread(Thread-62 (cub), initial)>,\n",
       " <Thread(Thread-63 (cub), initial)>,\n",
       " <Thread(Thread-64 (cub), initial)>,\n",
       " <Thread(Thread-65 (cub), initial)>,\n",
       " <Thread(Thread-66 (cub), initial)>,\n",
       " <Thread(Thread-67 (cub), initial)>]"
      ]
     },
     "execution_count": 22,
     "metadata": {},
     "output_type": "execute_result"
    }
   ],
   "source": [
    "cub_list"
   ]
  },
  {
   "cell_type": "code",
   "execution_count": 19,
   "id": "948e95f2-556b-461a-9b1b-5904aa88d99e",
   "metadata": {},
   "outputs": [
    {
     "name": "stdout",
     "output_type": "stream",
     "text": [
      "Square of 0 is 0\n",
      "Square of 1 is 1\n",
      "Square of 2 is 4\n",
      "Square of 3 is 9\n",
      "Square of 4 is 16\n",
      "Square of 5 is 25\n",
      "Square of 6 is 36\n",
      "Square of 7 is 49\n",
      "Square of 8 is 64\n",
      "Square of 9 is 81\n",
      "Square of 10 is 100\n"
     ]
    }
   ],
   "source": [
    "for t in th_list:\n",
    "    t.start()"
   ]
  },
  {
   "cell_type": "code",
   "execution_count": 23,
   "id": "ba357199-d9c7-4215-95ce-7006513e7c65",
   "metadata": {},
   "outputs": [
    {
     "name": "stdout",
     "output_type": "stream",
     "text": [
      "Square of 0 is 0\n",
      "Square of 1 is 1\n",
      "Square of 2 is 8\n",
      "Square of 3 is 27\n",
      "Square of 4 is 64\n",
      "Square of 5 is 125\n",
      "Square of 6 is 216\n",
      "Square of 7 is 343\n",
      "Square of 8 is 512\n",
      "Square of 9 is 729\n",
      "Square of 10 is 1000\n"
     ]
    }
   ],
   "source": [
    "for t in cub_list:\n",
    "    t.start()"
   ]
  },
  {
   "cell_type": "markdown",
   "id": "c30d68bf-58fa-4b1a-ab42-fb6e61f005a0",
   "metadata": {},
   "source": [
    "Q5. State advantages and disadvantages of multithreading?"
   ]
  },
  {
   "cell_type": "markdown",
   "id": "3e25dcc6-b269-4a19-9fb3-6f163b7e70ad",
   "metadata": {},
   "source": [
    "Advantages of Multithreading:-\n",
    "1.Enhanced performance by decreased development time\n",
    "2.Simplified and streamlined program coding\n",
    "3.Improvised GUI responsiveness\n",
    "4.Simultaneous and parallelized occurrence of tasks\n",
    "5.Better use of cache storage by utilization of resources\n",
    "6.Decreased cost of maintenance\n",
    "7.Better use of CPU resource"
   ]
  },
  {
   "cell_type": "markdown",
   "id": "56934783-52c7-481b-9bb0-14a47a488d66",
   "metadata": {},
   "source": [
    "Disadvantages of Multitreading:-\n",
    "1.Complex debugging and testing processes\n",
    "2.Overhead switching of context\n",
    "3.Increased potential for deadlock occurrence\n",
    "4.Increased difficulty level in writing a program\n",
    "5.Unpredictable results"
   ]
  },
  {
   "cell_type": "markdown",
   "id": "34fd6626-d6c8-41a4-94f2-ee7b4a83788b",
   "metadata": {},
   "source": [
    "Q6. Explain deadlocks and race conditions?"
   ]
  },
  {
   "cell_type": "markdown",
   "id": "ee42e6d9-9b3c-4324-8dec-b33a3c973696",
   "metadata": {},
   "source": [
    "1.Deadlocks:-When two processes are waiting for each other directly or indirectly, it is called deadlock.\n",
    "This usually occurs when two processes are waiting for shared resources acquired by others."
   ]
  },
  {
   "cell_type": "markdown",
   "id": "61ebdb56-f843-4c24-a98a-89ee95781c7d",
   "metadata": {},
   "source": [
    "2.Race Condition:-Race conditions are just one of the hazards or risks presented by the use of multi-threading in Java just like deadlock in Java. Race conditions occur when two threads operate on the same object without proper synchronization and their operation interleaves on each other."
   ]
  }
 ],
 "metadata": {
  "kernelspec": {
   "display_name": "Python 3 (ipykernel)",
   "language": "python",
   "name": "python3"
  },
  "language_info": {
   "codemirror_mode": {
    "name": "ipython",
    "version": 3
   },
   "file_extension": ".py",
   "mimetype": "text/x-python",
   "name": "python",
   "nbconvert_exporter": "python",
   "pygments_lexer": "ipython3",
   "version": "3.10.8"
  }
 },
 "nbformat": 4,
 "nbformat_minor": 5
}
