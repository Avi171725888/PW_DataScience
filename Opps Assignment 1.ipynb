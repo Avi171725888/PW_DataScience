{
 "cells": [
  {
   "cell_type": "markdown",
   "id": "08e806a0-71d5-48e4-a9dd-ae5e12a2cbf1",
   "metadata": {},
   "source": [
    "Q1. Explain Class and Object with respect to Object-Oriented Programming. Give a suitable example."
   ]
  },
  {
   "cell_type": "markdown",
   "id": "e76c58a3-6134-445d-8f18-b7a1e5795f2f",
   "metadata": {},
   "source": [
    "Class-A class is a user-defined blueprint or prototype from which objects are created. Classes provide a means of bundling data and functionality together.Class contains members of class and methods which defines the class.\n",
    "We use the class keyword to create a class in Python. For example,"
   ]
  },
  {
   "cell_type": "code",
   "execution_count": 4,
   "id": "6a95d807-3971-4046-9140-c2e1e3dc6e89",
   "metadata": {},
   "outputs": [],
   "source": [
    "class pwskills:\n",
    "    def __init__(self,name,email):\n",
    "        self.name=name\n",
    "        self.email=email"
   ]
  },
  {
   "cell_type": "markdown",
   "id": "61ad6eca-9555-46c0-a30a-060f9b8613cc",
   "metadata": {},
   "source": [
    "Object:-An object is called an instance of a class. For example, suppose pwskills is a class then we can create objects like stu1, stu2, etc from the class."
   ]
  },
  {
   "cell_type": "code",
   "execution_count": 5,
   "id": "6d16a57e-63c2-4cc5-ad39-0368226adf55",
   "metadata": {},
   "outputs": [],
   "source": [
    "stu1=pwskills(\"avi\",\"avi@gmail.com\")"
   ]
  },
  {
   "cell_type": "code",
   "execution_count": 6,
   "id": "e537191e-cb1c-4e32-b950-c0e1de87d929",
   "metadata": {},
   "outputs": [
    {
     "data": {
      "text/plain": [
       "'avi'"
      ]
     },
     "execution_count": 6,
     "metadata": {},
     "output_type": "execute_result"
    }
   ],
   "source": [
    "stu1.name"
   ]
  },
  {
   "cell_type": "code",
   "execution_count": 7,
   "id": "35d990b1-f859-43ff-aa72-50311c1917e6",
   "metadata": {},
   "outputs": [
    {
     "data": {
      "text/plain": [
       "'avi@gmail.com'"
      ]
     },
     "execution_count": 7,
     "metadata": {},
     "output_type": "execute_result"
    }
   ],
   "source": [
    "stu1.email"
   ]
  },
  {
   "cell_type": "markdown",
   "id": "e8bf6ab6-42f4-48eb-896a-b8f18c5b461a",
   "metadata": {},
   "source": [
    "Q2. Name the four pillars of OOPs."
   ]
  },
  {
   "cell_type": "markdown",
   "id": "206ab11d-c550-4a3e-a5de-8a66f4113eea",
   "metadata": {},
   "source": [
    "There are four pillars:\n",
    "\n",
    "1.Encapsulation\n",
    "2.Inheritance\n",
    "3.Polymorphism\n",
    "4.Abstraction\n"
   ]
  },
  {
   "cell_type": "markdown",
   "id": "79e06e32-6084-4aff-8fa7-dd019cc38ad0",
   "metadata": {},
   "source": [
    "Q3. Explain why the __init__() function is used. Give a suitable example?"
   ]
  },
  {
   "cell_type": "markdown",
   "id": "357a4dd5-2003-4824-a3ec-8b3819afb2f2",
   "metadata": {},
   "source": [
    "init function in python is sued to initialize the class members.__init__ is used to assign the values to the members/variables of the class.__init__ is an dunder function of python."
   ]
  },
  {
   "cell_type": "code",
   "execution_count": 9,
   "id": "fcf2cc14-51d4-44c3-a073-24fc88cc1447",
   "metadata": {},
   "outputs": [],
   "source": [
    "class pwskills2:\n",
    "    def __init__(self,name,email):\n",
    "        self.name=name\n",
    "        self.email=email"
   ]
  },
  {
   "cell_type": "code",
   "execution_count": 10,
   "id": "94b1127f-0df7-42d2-8842-00241c32e3ea",
   "metadata": {},
   "outputs": [],
   "source": [
    "stu2=pwskills2(\"sudh\",\"sudh@gmail.com\")"
   ]
  },
  {
   "cell_type": "code",
   "execution_count": 11,
   "id": "78b1436e-4199-410f-99bd-0284ba22f9cc",
   "metadata": {},
   "outputs": [
    {
     "data": {
      "text/plain": [
       "'sudh'"
      ]
     },
     "execution_count": 11,
     "metadata": {},
     "output_type": "execute_result"
    }
   ],
   "source": [
    "stu2.name"
   ]
  },
  {
   "cell_type": "code",
   "execution_count": 13,
   "id": "d8155244-c3d3-40b7-b2af-76099acdbc19",
   "metadata": {},
   "outputs": [
    {
     "data": {
      "text/plain": [
       "'sudh@gmail.com'"
      ]
     },
     "execution_count": 13,
     "metadata": {},
     "output_type": "execute_result"
    }
   ],
   "source": [
    "stu2.email"
   ]
  },
  {
   "cell_type": "markdown",
   "id": "306645be-09f2-45c3-ad98-c212703a46d2",
   "metadata": {},
   "source": [
    "Q4. What is inheritance? Give an example for each type of inheritance."
   ]
  },
  {
   "cell_type": "markdown",
   "id": "136ab5ea-db47-4b5e-9ba2-5a874a58518f",
   "metadata": {},
   "source": [
    "nheritance is a mechanism in which one class acquires the property of another class. For example, a child inherits the traits of his/her parents.\n",
    "Types of Inheritance:-\n",
    "1.Single Level\n",
    "2.Multi level\n",
    "3.Multiple Inheritance\n",
    "4.hybrid Inheritance\n",
    "5.Hierarchical Inheritance"
   ]
  },
  {
   "cell_type": "code",
   "execution_count": 14,
   "id": "50450b6d-430a-4b3a-8af3-6b619b0d83e0",
   "metadata": {},
   "outputs": [],
   "source": [
    "#Single level Inheritance\n",
    "class Parent:\n",
    "    def test(self):\n",
    "        return \"This is parent class\"\n",
    "\n",
    "class Child(Parent):\n",
    "    pass\n",
    "    "
   ]
  },
  {
   "cell_type": "code",
   "execution_count": 15,
   "id": "a3fd53a1-5d6b-4120-b8a9-6abfac33f619",
   "metadata": {},
   "outputs": [],
   "source": [
    "c=Child()"
   ]
  },
  {
   "cell_type": "code",
   "execution_count": 16,
   "id": "b1aed901-cd16-4a95-bc07-959a5d66fa31",
   "metadata": {},
   "outputs": [
    {
     "data": {
      "text/plain": [
       "'This is parent class'"
      ]
     },
     "execution_count": 16,
     "metadata": {},
     "output_type": "execute_result"
    }
   ],
   "source": [
    "c.test()"
   ]
  },
  {
   "cell_type": "code",
   "execution_count": 18,
   "id": "2cdf7a8c-3838-4d42-8137-f4e0ba528a95",
   "metadata": {},
   "outputs": [],
   "source": [
    "#Multi level Inheritacne\n",
    "class Parent:\n",
    "    def test(self):\n",
    "        return \"This is Parent class\"\n",
    "    \n",
    "class Child(Parent):\n",
    "    def test1(self):\n",
    "        return \"This is Child1 class\"\n",
    "class GrandChild(Child):\n",
    "    def test2(self):\n",
    "        return \"This is grand child class\""
   ]
  },
  {
   "cell_type": "code",
   "execution_count": 19,
   "id": "3be1c1ab-24f1-4016-901c-f54d9c215583",
   "metadata": {},
   "outputs": [],
   "source": [
    "grand=GrandChild()"
   ]
  },
  {
   "cell_type": "code",
   "execution_count": 20,
   "id": "4419429c-c4c7-478e-ad8d-a502fc9e4a46",
   "metadata": {},
   "outputs": [
    {
     "data": {
      "text/plain": [
       "'This is Parent class'"
      ]
     },
     "execution_count": 20,
     "metadata": {},
     "output_type": "execute_result"
    }
   ],
   "source": [
    "grand.test()"
   ]
  },
  {
   "cell_type": "code",
   "execution_count": 21,
   "id": "805334b1-57d6-4489-8fb0-5e7858b15484",
   "metadata": {},
   "outputs": [
    {
     "data": {
      "text/plain": [
       "'This is Child1 class'"
      ]
     },
     "execution_count": 21,
     "metadata": {},
     "output_type": "execute_result"
    }
   ],
   "source": [
    "grand.test1()"
   ]
  },
  {
   "cell_type": "code",
   "execution_count": 22,
   "id": "2b438934-3c9e-4eac-94bf-4f742f4899d6",
   "metadata": {},
   "outputs": [
    {
     "data": {
      "text/plain": [
       "'This is grand child class'"
      ]
     },
     "execution_count": 22,
     "metadata": {},
     "output_type": "execute_result"
    }
   ],
   "source": [
    "grand.test2()"
   ]
  },
  {
   "cell_type": "code",
   "execution_count": 23,
   "id": "a6eb4fcd-bb71-4ade-9a86-6bb16051c0b8",
   "metadata": {},
   "outputs": [],
   "source": [
    "#Multiple Inheritance\n",
    "class Father:\n",
    "    def test(self):\n",
    "        return \"This is father class\"\n",
    "class Mother:\n",
    "    def test1(self):\n",
    "        return \"This is mother class\"\n",
    "class Child(Father,Mother):\n",
    "    pass"
   ]
  },
  {
   "cell_type": "code",
   "execution_count": 24,
   "id": "fd490e78-d83d-454d-9cd7-50183d2aa601",
   "metadata": {},
   "outputs": [],
   "source": [
    "child=Child()"
   ]
  },
  {
   "cell_type": "code",
   "execution_count": 25,
   "id": "540d28b4-c7e8-4977-8d14-127c3dcf6c57",
   "metadata": {},
   "outputs": [
    {
     "data": {
      "text/plain": [
       "'This is father class'"
      ]
     },
     "execution_count": 25,
     "metadata": {},
     "output_type": "execute_result"
    }
   ],
   "source": [
    "child.test()"
   ]
  },
  {
   "cell_type": "code",
   "execution_count": 26,
   "id": "77476894-247f-4001-85f6-a1faf3e27ec8",
   "metadata": {},
   "outputs": [
    {
     "data": {
      "text/plain": [
       "'This is mother class'"
      ]
     },
     "execution_count": 26,
     "metadata": {},
     "output_type": "execute_result"
    }
   ],
   "source": [
    "child.test1()"
   ]
  },
  {
   "cell_type": "code",
   "execution_count": 38,
   "id": "7e8b2f3f-61de-4aaa-bd6c-47845104a550",
   "metadata": {},
   "outputs": [],
   "source": [
    "#hybrid Inheritance\n",
    "class GrandFather:\n",
    "    def test(self):\n",
    "        return \"This is grand father class\"\n",
    "class Child1(GrandFather):\n",
    "    def test1(self):\n",
    "        return \"This is Child1 class\"\n",
    "class Child2(GrandFather):\n",
    "    def test2(self):\n",
    "        return \"This is Child2 class\"\n",
    "\n",
    "class GrandChild(Child1,Child2):\n",
    "    pass"
   ]
  },
  {
   "cell_type": "code",
   "execution_count": 39,
   "id": "70bba71d-e69f-4b32-9e7b-f22b6b18e94e",
   "metadata": {},
   "outputs": [],
   "source": [
    "child1=GrandChild()"
   ]
  },
  {
   "cell_type": "code",
   "execution_count": 40,
   "id": "fa3cb5ac-48d1-4f3a-a921-f1260d67d345",
   "metadata": {},
   "outputs": [
    {
     "data": {
      "text/plain": [
       "'This is grand father class'"
      ]
     },
     "execution_count": 40,
     "metadata": {},
     "output_type": "execute_result"
    }
   ],
   "source": [
    "child1.test()"
   ]
  },
  {
   "cell_type": "code",
   "execution_count": 41,
   "id": "2b58f435-0635-4515-9a3f-827933296502",
   "metadata": {},
   "outputs": [
    {
     "data": {
      "text/plain": [
       "'This is Child1 class'"
      ]
     },
     "execution_count": 41,
     "metadata": {},
     "output_type": "execute_result"
    }
   ],
   "source": [
    "child1.test1()"
   ]
  },
  {
   "cell_type": "code",
   "execution_count": 42,
   "id": "0bacf8a3-89b5-4441-bb4f-02a90905aa4f",
   "metadata": {},
   "outputs": [
    {
     "data": {
      "text/plain": [
       "'This is Child2 class'"
      ]
     },
     "execution_count": 42,
     "metadata": {},
     "output_type": "execute_result"
    }
   ],
   "source": [
    "child1.test2()"
   ]
  },
  {
   "cell_type": "code",
   "execution_count": 44,
   "id": "5a76c175-c7ca-4d35-b608-9bae9948a976",
   "metadata": {},
   "outputs": [],
   "source": [
    "#Hierarchical Inheritance: \n",
    "class GrandFather:\n",
    "    def test(self):\n",
    "        return \"This is grand father class\"\n",
    "class Child1(GrandFather):\n",
    "    def test1(self):\n",
    "        return \"This is Child1 class\"\n",
    "class Child2(GrandFather):\n",
    "    def test2(self):\n",
    "        return \"This is Child2 class\""
   ]
  },
  {
   "cell_type": "code",
   "execution_count": 45,
   "id": "1f06733a-c529-4dad-99a5-f8b76c3ef9a6",
   "metadata": {},
   "outputs": [],
   "source": [
    "ch1=Child1()\n"
   ]
  },
  {
   "cell_type": "code",
   "execution_count": 46,
   "id": "cf24502b-02d7-4382-9285-d2b628eb67ca",
   "metadata": {},
   "outputs": [
    {
     "data": {
      "text/plain": [
       "'This is grand father class'"
      ]
     },
     "execution_count": 46,
     "metadata": {},
     "output_type": "execute_result"
    }
   ],
   "source": [
    "ch1.test()"
   ]
  },
  {
   "cell_type": "code",
   "execution_count": 47,
   "id": "5dddd3d7-5d14-409a-ae27-64263e4ce3e3",
   "metadata": {},
   "outputs": [
    {
     "data": {
      "text/plain": [
       "'This is Child1 class'"
      ]
     },
     "execution_count": 47,
     "metadata": {},
     "output_type": "execute_result"
    }
   ],
   "source": [
    "ch1.test1()"
   ]
  },
  {
   "cell_type": "code",
   "execution_count": 48,
   "id": "ce6f61d0-c98c-40d0-9794-eb147bf2ed6f",
   "metadata": {},
   "outputs": [],
   "source": [
    "ch2=Child2()"
   ]
  },
  {
   "cell_type": "code",
   "execution_count": 49,
   "id": "67889ea2-768b-4b41-a1d8-085d3af0c49b",
   "metadata": {},
   "outputs": [
    {
     "data": {
      "text/plain": [
       "'This is grand father class'"
      ]
     },
     "execution_count": 49,
     "metadata": {},
     "output_type": "execute_result"
    }
   ],
   "source": [
    "ch2.test()"
   ]
  },
  {
   "cell_type": "code",
   "execution_count": 50,
   "id": "3efbfc8a-52d0-439a-b50e-e4e5bd12ee53",
   "metadata": {},
   "outputs": [
    {
     "data": {
      "text/plain": [
       "'This is Child2 class'"
      ]
     },
     "execution_count": 50,
     "metadata": {},
     "output_type": "execute_result"
    }
   ],
   "source": [
    "ch2.test2()"
   ]
  },
  {
   "cell_type": "code",
   "execution_count": null,
   "id": "2d123a70-d8a0-4ce7-bdac-61d3db3903ed",
   "metadata": {},
   "outputs": [],
   "source": []
  }
 ],
 "metadata": {
  "kernelspec": {
   "display_name": "Python 3 (ipykernel)",
   "language": "python",
   "name": "python3"
  },
  "language_info": {
   "codemirror_mode": {
    "name": "ipython",
    "version": 3
   },
   "file_extension": ".py",
   "mimetype": "text/x-python",
   "name": "python",
   "nbconvert_exporter": "python",
   "pygments_lexer": "ipython3",
   "version": "3.10.8"
  }
 },
 "nbformat": 4,
 "nbformat_minor": 5
}
