{
 "cells": [
  {
   "cell_type": "markdown",
   "id": "89f5ad42-68d1-4580-95a4-a27b98f49f51",
   "metadata": {},
   "source": [
    "Q1. What is Abstraction in OOps? Explain with an example."
   ]
  },
  {
   "cell_type": "markdown",
   "id": "0768ff7c-05cb-48c9-9e6d-9541e4aedf51",
   "metadata": {},
   "source": [
    "Abstraction in python is defined as a process of handling complexity by hiding unnecessary information from the user. This is one of the core concepts of object-oriented programming (OOP) languages. That enables the user to implement even more complex logic on top of the provided abstraction without understanding or even thinking about all the hidden background/back-end complexity.\n",
    "Ex:-"
   ]
  },
  {
   "cell_type": "code",
   "execution_count": 7,
   "id": "4797e930-b89b-4714-8657-d70f8fae6fd3",
   "metadata": {},
   "outputs": [],
   "source": [
    "import abc\n",
    "class Animal:\n",
    "    @abc.abstractmethod\n",
    "    def sound(self):\n",
    "        pass\n",
    "    @abc.abstractmethod\n",
    "    def breed(self):\n",
    "        pass\n"
   ]
  },
  {
   "cell_type": "code",
   "execution_count": 12,
   "id": "614dc39b-3c4f-4994-80fd-68b0703b0de4",
   "metadata": {},
   "outputs": [],
   "source": [
    "class Dog(Animal):\n",
    "    def sound(self):\n",
    "        return \"Dog Barks!\"\n",
    "class Cat(Animal):\n",
    "    def breed(self):\n",
    "        return \"Cat is persian!\""
   ]
  },
  {
   "cell_type": "code",
   "execution_count": 13,
   "id": "e2409ac0-c4e6-4c0f-9d53-76ea5ec053a8",
   "metadata": {},
   "outputs": [],
   "source": [
    "dog=Dog()"
   ]
  },
  {
   "cell_type": "code",
   "execution_count": 14,
   "id": "de444e13-636a-4524-a907-dcd898ee9f88",
   "metadata": {},
   "outputs": [
    {
     "data": {
      "text/plain": [
       "'Dog Barks!'"
      ]
     },
     "execution_count": 14,
     "metadata": {},
     "output_type": "execute_result"
    }
   ],
   "source": [
    "dog.sound()"
   ]
  },
  {
   "cell_type": "code",
   "execution_count": 15,
   "id": "91277c36-ac9f-40d0-8bfa-d92c7307ea33",
   "metadata": {},
   "outputs": [],
   "source": [
    "cat=Cat()"
   ]
  },
  {
   "cell_type": "code",
   "execution_count": 16,
   "id": "13be0283-41de-420a-86c3-6ac33c217160",
   "metadata": {},
   "outputs": [
    {
     "data": {
      "text/plain": [
       "'Cat is persian!'"
      ]
     },
     "execution_count": 16,
     "metadata": {},
     "output_type": "execute_result"
    }
   ],
   "source": [
    "cat.breed()"
   ]
  },
  {
   "cell_type": "markdown",
   "id": "e089fb93-9268-4dd4-80b0-2eb09a2f4005",
   "metadata": {},
   "source": [
    "Q2. Differentiate between Abstraction and Encapsulation. Explain with an example."
   ]
  },
  {
   "cell_type": "markdown",
   "id": "3e0909e2-5d70-4c9e-9649-0fc306ec8cd6",
   "metadata": {},
   "source": [
    "1.Abstraction is hiding the details and implementation of the code.Encapsulation is hiding the data and controlling the visibility of the code.\n",
    "2.Abstraction is a design level process.Encapsulation is an implementation level process.\n",
    "3.Abstraction is concerned about what a class instance can do, instead of the implementation of the class.Encapsulation helps in data binding and control over maintaining the transparency of the data.\n",
    "Ex:-\n"
   ]
  },
  {
   "cell_type": "code",
   "execution_count": 18,
   "id": "6097a330-e345-46b0-b341-ebc73264ba16",
   "metadata": {},
   "outputs": [],
   "source": [
    "class Car:\n",
    "    @abc.abstractmethod\n",
    "    def top_speed(self):\n",
    "        pass\n",
    "class Maruti(Car):\n",
    "    def __init__(self,speed,model):\n",
    "        self.__speed=speed\n",
    "        self.__model=model\n",
    "    def top_speed(self):\n",
    "        return f\"{self.__model} has a top speed of {self.__speed}\""
   ]
  },
  {
   "cell_type": "code",
   "execution_count": 20,
   "id": "0b595138-66fc-459f-9aae-619a5f49a0bf",
   "metadata": {},
   "outputs": [],
   "source": [
    "alto=Maruti(120,\"alto\")"
   ]
  },
  {
   "cell_type": "code",
   "execution_count": 21,
   "id": "06123cdd-1723-43d7-8b67-c200ce02fe56",
   "metadata": {},
   "outputs": [
    {
     "data": {
      "text/plain": [
       "'alto has a top speed of 120'"
      ]
     },
     "execution_count": 21,
     "metadata": {},
     "output_type": "execute_result"
    }
   ],
   "source": [
    "alto.top_speed()"
   ]
  },
  {
   "cell_type": "markdown",
   "id": "8956ccdc-a715-44f7-a0f7-002fc62a7298",
   "metadata": {},
   "source": [
    "From above example we can conclude that encapsulation is used to store private data members of class which are not accessable by class instance and abstraction is used to store abstract methods of class whose definetion is provided by child class and which are not accessable from instance directly"
   ]
  },
  {
   "cell_type": "markdown",
   "id": "2894fb52-9133-4192-bad6-9b2d61218a89",
   "metadata": {},
   "source": [
    "Q3. What is abc module in python? Why is it used?"
   ]
  },
  {
   "cell_type": "markdown",
   "id": "228c9b56-212b-413a-8afb-142b8589009a",
   "metadata": {},
   "source": [
    "The 'abc' module in Python library provides the infrastructure for defining custom abstract base classes. 'abc' works by marking methods of the base class as abstract. This is done by @absttractmethod decorator.\n",
    "It provides various methods and decorators for abstract class and methods"
   ]
  },
  {
   "cell_type": "code",
   "execution_count": null,
   "id": "430f4b9b-8187-43f3-988f-df2725eb4ceb",
   "metadata": {},
   "outputs": [],
   "source": [
    "Q4. How can we achieve data abstraction?"
   ]
  },
  {
   "cell_type": "markdown",
   "id": "e536e880-5d01-4d3a-bed5-cf3b17fe9369",
   "metadata": {},
   "source": [
    "We can archieve data abstraction by keeping data abstract and providing body as per the user request classes."
   ]
  },
  {
   "cell_type": "code",
   "execution_count": 31,
   "id": "daaaec45-7102-4d9c-859e-4f9cfb12fea8",
   "metadata": {},
   "outputs": [],
   "source": [
    "import abc\n",
    "class Bird:\n",
    "    @abc.abstractmethod\n",
    "    def sound(self):\n",
    "        pass\n",
    "\n",
    "class Duck(Bird):\n",
    "    def sound(self):\n",
    "        return \"Duck Quack\"\n",
    "class Crows(Animal):\n",
    "    def sound(self):\n",
    "        return \"Crows Cow!\""
   ]
  },
  {
   "cell_type": "code",
   "execution_count": 32,
   "id": "6d6c234e-de1a-4709-b5a0-95981625f0fc",
   "metadata": {},
   "outputs": [],
   "source": [
    "duck=Duck()"
   ]
  },
  {
   "cell_type": "code",
   "execution_count": 33,
   "id": "91c25afb-8941-4bc9-96be-aa9523dd9b70",
   "metadata": {},
   "outputs": [
    {
     "data": {
      "text/plain": [
       "'Duck Quack'"
      ]
     },
     "execution_count": 33,
     "metadata": {},
     "output_type": "execute_result"
    }
   ],
   "source": [
    "duck.sound()"
   ]
  },
  {
   "cell_type": "code",
   "execution_count": 34,
   "id": "59ee95b1-c300-4d0b-8181-d69c45518737",
   "metadata": {},
   "outputs": [],
   "source": [
    "crow=Crows()"
   ]
  },
  {
   "cell_type": "code",
   "execution_count": 37,
   "id": "203a6a60-dc2d-432e-9f19-0dd587cab87a",
   "metadata": {},
   "outputs": [
    {
     "data": {
      "text/plain": [
       "'Crows Cow!'"
      ]
     },
     "execution_count": 37,
     "metadata": {},
     "output_type": "execute_result"
    }
   ],
   "source": [
    "crow.sound()"
   ]
  },
  {
   "cell_type": "code",
   "execution_count": null,
   "id": "d95f989d-d7f3-407f-bb97-cc8b3e5872c7",
   "metadata": {},
   "outputs": [],
   "source": [
    "Q5. Can we create an instance of an abstract class? Explain your answer."
   ]
  },
  {
   "cell_type": "code",
   "execution_count": 38,
   "id": "abcb6035-a9f8-4e3b-a13a-b35e736fc74b",
   "metadata": {},
   "outputs": [],
   "source": [
    "class Animal:\n",
    "    @abc.abstractmethod\n",
    "    def sound(self):\n",
    "        pass"
   ]
  },
  {
   "cell_type": "code",
   "execution_count": 39,
   "id": "fbce4c11-9bb6-460c-9e3f-7b3ba9e1ad71",
   "metadata": {},
   "outputs": [],
   "source": [
    "animal=Animal()"
   ]
  },
  {
   "cell_type": "code",
   "execution_count": 40,
   "id": "99e275c3-82ae-4b7d-8487-29d5b05c0734",
   "metadata": {},
   "outputs": [],
   "source": [
    "animal.sound()"
   ]
  },
  {
   "cell_type": "markdown",
   "id": "6b11b3a4-bf98-44ad-9f46-2241e89a6058",
   "metadata": {},
   "source": [
    "An abstract class is a class, but not one you can create objects from directly. Its purpose is to define how other classes should look like and we can create a object of abstract class in python"
   ]
  }
 ],
 "metadata": {
  "kernelspec": {
   "display_name": "Python 3 (ipykernel)",
   "language": "python",
   "name": "python3"
  },
  "language_info": {
   "codemirror_mode": {
    "name": "ipython",
    "version": 3
   },
   "file_extension": ".py",
   "mimetype": "text/x-python",
   "name": "python",
   "nbconvert_exporter": "python",
   "pygments_lexer": "ipython3",
   "version": "3.10.8"
  }
 },
 "nbformat": 4,
 "nbformat_minor": 5
}
