{
 "cells": [
  {
   "cell_type": "markdown",
   "id": "6473a31b-b219-46e8-835a-7bd7373fe9be",
   "metadata": {},
   "source": [
    "Q1. What is Gradient Boosting Regression?"
   ]
  },
  {
   "cell_type": "markdown",
   "id": "29281e8e-f34a-49eb-af06-203761c3879d",
   "metadata": {},
   "source": [
    "Gradient boosting is a machine learning technique used in regression tasks, among others. It gives a prediction model in the form of an ensemble of weak prediction models, i.e., models that make very few assumptions about the data, which are typically simple decision trees.When a decision tree is the weak learner, the resulting algorithm is called gradient-boosted trees; it usually outperforms random forest. A gradient-boosted trees model is built in a stage-wise fashion as in other boosting methods, but it generalizes the other methods by allowing optimization of an arbitrary differentiable loss function."
   ]
  },
  {
   "cell_type": "markdown",
   "id": "e67b1e2b-2d88-45ae-8621-d9ccd9de5a96",
   "metadata": {},
   "source": [
    "Q2. Implement a simple gradient boosting algorithm from scratch using Python and NumPy. Use a\n",
    "simple regression problem as an example and train the model on a small dataset. Evaluate the model's\n",
    "performance using metrics such as mean squared error and R-squared."
   ]
  },
  {
   "cell_type": "code",
   "execution_count": 2,
   "id": "b7c67e0d-6b00-4ae8-ac39-51a07f149b3b",
   "metadata": {},
   "outputs": [],
   "source": [
    "import pandas as pd\n",
    "import numpy as np\n",
    "from sklearn.datasets import load_iris"
   ]
  },
  {
   "cell_type": "code",
   "execution_count": 3,
   "id": "644cd487-fd9a-4f61-a184-b8edede29fab",
   "metadata": {},
   "outputs": [],
   "source": [
    "dataset=load_iris()"
   ]
  },
  {
   "cell_type": "code",
   "execution_count": 4,
   "id": "c0955bed-5f98-481b-832d-a929367cdece",
   "metadata": {},
   "outputs": [],
   "source": [
    "df=pd.DataFrame(data=dataset.data,columns=dataset.feature_names)"
   ]
  },
  {
   "cell_type": "code",
   "execution_count": 5,
   "id": "0f836ccc-b9d3-4a6f-ab45-f4e1ca37fe02",
   "metadata": {},
   "outputs": [
    {
     "data": {
      "text/html": [
       "<div>\n",
       "<style scoped>\n",
       "    .dataframe tbody tr th:only-of-type {\n",
       "        vertical-align: middle;\n",
       "    }\n",
       "\n",
       "    .dataframe tbody tr th {\n",
       "        vertical-align: top;\n",
       "    }\n",
       "\n",
       "    .dataframe thead th {\n",
       "        text-align: right;\n",
       "    }\n",
       "</style>\n",
       "<table border=\"1\" class=\"dataframe\">\n",
       "  <thead>\n",
       "    <tr style=\"text-align: right;\">\n",
       "      <th></th>\n",
       "      <th>sepal length (cm)</th>\n",
       "      <th>sepal width (cm)</th>\n",
       "      <th>petal length (cm)</th>\n",
       "      <th>petal width (cm)</th>\n",
       "    </tr>\n",
       "  </thead>\n",
       "  <tbody>\n",
       "    <tr>\n",
       "      <th>0</th>\n",
       "      <td>5.1</td>\n",
       "      <td>3.5</td>\n",
       "      <td>1.4</td>\n",
       "      <td>0.2</td>\n",
       "    </tr>\n",
       "    <tr>\n",
       "      <th>1</th>\n",
       "      <td>4.9</td>\n",
       "      <td>3.0</td>\n",
       "      <td>1.4</td>\n",
       "      <td>0.2</td>\n",
       "    </tr>\n",
       "    <tr>\n",
       "      <th>2</th>\n",
       "      <td>4.7</td>\n",
       "      <td>3.2</td>\n",
       "      <td>1.3</td>\n",
       "      <td>0.2</td>\n",
       "    </tr>\n",
       "    <tr>\n",
       "      <th>3</th>\n",
       "      <td>4.6</td>\n",
       "      <td>3.1</td>\n",
       "      <td>1.5</td>\n",
       "      <td>0.2</td>\n",
       "    </tr>\n",
       "    <tr>\n",
       "      <th>4</th>\n",
       "      <td>5.0</td>\n",
       "      <td>3.6</td>\n",
       "      <td>1.4</td>\n",
       "      <td>0.2</td>\n",
       "    </tr>\n",
       "  </tbody>\n",
       "</table>\n",
       "</div>"
      ],
      "text/plain": [
       "   sepal length (cm)  sepal width (cm)  petal length (cm)  petal width (cm)\n",
       "0                5.1               3.5                1.4               0.2\n",
       "1                4.9               3.0                1.4               0.2\n",
       "2                4.7               3.2                1.3               0.2\n",
       "3                4.6               3.1                1.5               0.2\n",
       "4                5.0               3.6                1.4               0.2"
      ]
     },
     "execution_count": 5,
     "metadata": {},
     "output_type": "execute_result"
    }
   ],
   "source": [
    "df.head()"
   ]
  },
  {
   "cell_type": "code",
   "execution_count": 7,
   "id": "3b38d46b-0895-44ae-88a5-fab6f2cb1465",
   "metadata": {},
   "outputs": [],
   "source": [
    "X=df\n",
    "y=dataset.target"
   ]
  },
  {
   "cell_type": "code",
   "execution_count": 11,
   "id": "1d4b06e9-ec63-4692-a438-f346bdcb3cfb",
   "metadata": {},
   "outputs": [],
   "source": [
    "from sklearn.model_selection import train_test_split\n",
    "X_train,X_test,y_train,y_test=train_test_split(X,y,random_state=42,test_size=0.25)"
   ]
  },
  {
   "cell_type": "code",
   "execution_count": 12,
   "id": "e2ac3ccf-a67e-49e4-a8f6-6660bc742c71",
   "metadata": {},
   "outputs": [],
   "source": [
    "from sklearn.ensemble import GradientBoostingRegressor"
   ]
  },
  {
   "cell_type": "code",
   "execution_count": 13,
   "id": "f4a0bd73-b9be-4d6d-9093-5b3beee7be27",
   "metadata": {},
   "outputs": [],
   "source": [
    "gradient=GradientBoostingRegressor()"
   ]
  },
  {
   "cell_type": "code",
   "execution_count": 14,
   "id": "ea90182d-9fc2-48ed-b195-cc1b2f7d51ed",
   "metadata": {},
   "outputs": [
    {
     "data": {
      "text/html": [
       "<style>#sk-container-id-1 {color: black;background-color: white;}#sk-container-id-1 pre{padding: 0;}#sk-container-id-1 div.sk-toggleable {background-color: white;}#sk-container-id-1 label.sk-toggleable__label {cursor: pointer;display: block;width: 100%;margin-bottom: 0;padding: 0.3em;box-sizing: border-box;text-align: center;}#sk-container-id-1 label.sk-toggleable__label-arrow:before {content: \"▸\";float: left;margin-right: 0.25em;color: #696969;}#sk-container-id-1 label.sk-toggleable__label-arrow:hover:before {color: black;}#sk-container-id-1 div.sk-estimator:hover label.sk-toggleable__label-arrow:before {color: black;}#sk-container-id-1 div.sk-toggleable__content {max-height: 0;max-width: 0;overflow: hidden;text-align: left;background-color: #f0f8ff;}#sk-container-id-1 div.sk-toggleable__content pre {margin: 0.2em;color: black;border-radius: 0.25em;background-color: #f0f8ff;}#sk-container-id-1 input.sk-toggleable__control:checked~div.sk-toggleable__content {max-height: 200px;max-width: 100%;overflow: auto;}#sk-container-id-1 input.sk-toggleable__control:checked~label.sk-toggleable__label-arrow:before {content: \"▾\";}#sk-container-id-1 div.sk-estimator input.sk-toggleable__control:checked~label.sk-toggleable__label {background-color: #d4ebff;}#sk-container-id-1 div.sk-label input.sk-toggleable__control:checked~label.sk-toggleable__label {background-color: #d4ebff;}#sk-container-id-1 input.sk-hidden--visually {border: 0;clip: rect(1px 1px 1px 1px);clip: rect(1px, 1px, 1px, 1px);height: 1px;margin: -1px;overflow: hidden;padding: 0;position: absolute;width: 1px;}#sk-container-id-1 div.sk-estimator {font-family: monospace;background-color: #f0f8ff;border: 1px dotted black;border-radius: 0.25em;box-sizing: border-box;margin-bottom: 0.5em;}#sk-container-id-1 div.sk-estimator:hover {background-color: #d4ebff;}#sk-container-id-1 div.sk-parallel-item::after {content: \"\";width: 100%;border-bottom: 1px solid gray;flex-grow: 1;}#sk-container-id-1 div.sk-label:hover label.sk-toggleable__label {background-color: #d4ebff;}#sk-container-id-1 div.sk-serial::before {content: \"\";position: absolute;border-left: 1px solid gray;box-sizing: border-box;top: 0;bottom: 0;left: 50%;z-index: 0;}#sk-container-id-1 div.sk-serial {display: flex;flex-direction: column;align-items: center;background-color: white;padding-right: 0.2em;padding-left: 0.2em;position: relative;}#sk-container-id-1 div.sk-item {position: relative;z-index: 1;}#sk-container-id-1 div.sk-parallel {display: flex;align-items: stretch;justify-content: center;background-color: white;position: relative;}#sk-container-id-1 div.sk-item::before, #sk-container-id-1 div.sk-parallel-item::before {content: \"\";position: absolute;border-left: 1px solid gray;box-sizing: border-box;top: 0;bottom: 0;left: 50%;z-index: -1;}#sk-container-id-1 div.sk-parallel-item {display: flex;flex-direction: column;z-index: 1;position: relative;background-color: white;}#sk-container-id-1 div.sk-parallel-item:first-child::after {align-self: flex-end;width: 50%;}#sk-container-id-1 div.sk-parallel-item:last-child::after {align-self: flex-start;width: 50%;}#sk-container-id-1 div.sk-parallel-item:only-child::after {width: 0;}#sk-container-id-1 div.sk-dashed-wrapped {border: 1px dashed gray;margin: 0 0.4em 0.5em 0.4em;box-sizing: border-box;padding-bottom: 0.4em;background-color: white;}#sk-container-id-1 div.sk-label label {font-family: monospace;font-weight: bold;display: inline-block;line-height: 1.2em;}#sk-container-id-1 div.sk-label-container {text-align: center;}#sk-container-id-1 div.sk-container {/* jupyter's `normalize.less` sets `[hidden] { display: none; }` but bootstrap.min.css set `[hidden] { display: none !important; }` so we also need the `!important` here to be able to override the default hidden behavior on the sphinx rendered scikit-learn.org. See: https://github.com/scikit-learn/scikit-learn/issues/21755 */display: inline-block !important;position: relative;}#sk-container-id-1 div.sk-text-repr-fallback {display: none;}</style><div id=\"sk-container-id-1\" class=\"sk-top-container\"><div class=\"sk-text-repr-fallback\"><pre>GradientBoostingRegressor()</pre><b>In a Jupyter environment, please rerun this cell to show the HTML representation or trust the notebook. <br />On GitHub, the HTML representation is unable to render, please try loading this page with nbviewer.org.</b></div><div class=\"sk-container\" hidden><div class=\"sk-item\"><div class=\"sk-estimator sk-toggleable\"><input class=\"sk-toggleable__control sk-hidden--visually\" id=\"sk-estimator-id-1\" type=\"checkbox\" checked><label for=\"sk-estimator-id-1\" class=\"sk-toggleable__label sk-toggleable__label-arrow\">GradientBoostingRegressor</label><div class=\"sk-toggleable__content\"><pre>GradientBoostingRegressor()</pre></div></div></div></div></div>"
      ],
      "text/plain": [
       "GradientBoostingRegressor()"
      ]
     },
     "execution_count": 14,
     "metadata": {},
     "output_type": "execute_result"
    }
   ],
   "source": [
    "gradient.fit(X_train,y_train)"
   ]
  },
  {
   "cell_type": "code",
   "execution_count": 16,
   "id": "012e87ec-d047-4454-819e-0e17cba71ccc",
   "metadata": {},
   "outputs": [],
   "source": [
    "y_pred=gradient.predict(X_test)"
   ]
  },
  {
   "cell_type": "code",
   "execution_count": 17,
   "id": "0a70e58b-177a-478d-a5d8-c260d99a5a82",
   "metadata": {},
   "outputs": [],
   "source": [
    "from sklearn.metrics import mean_squared_error,r2_score"
   ]
  },
  {
   "cell_type": "code",
   "execution_count": 19,
   "id": "4c301721-7b79-4436-8c10-ad7d4d80d65a",
   "metadata": {},
   "outputs": [
    {
     "name": "stdout",
     "output_type": "stream",
     "text": [
      "0.0035692524268991187\n",
      "0.9949321528963202\n"
     ]
    }
   ],
   "source": [
    "print(mean_squared_error(y_test,y_pred))\n",
    "print(r2_score(y_test,y_pred))"
   ]
  },
  {
   "cell_type": "markdown",
   "id": "cabc49a5-676d-4dcd-97d4-3a8540bda23a",
   "metadata": {},
   "source": [
    "Q3. Experiment with different hyperparameters such as learning rate, number of trees, and tree depth to\n",
    "optimise the performance of the model. Use grid search or random search to find the best\n",
    "hyperparameters"
   ]
  },
  {
   "cell_type": "code",
   "execution_count": 20,
   "id": "07194fba-5785-4843-8c7d-dbe70cda41d3",
   "metadata": {},
   "outputs": [],
   "source": [
    "from sklearn.model_selection import GridSearchCV"
   ]
  },
  {
   "cell_type": "code",
   "execution_count": 21,
   "id": "6b159295-d7d3-48dd-8288-e4ce258ea023",
   "metadata": {},
   "outputs": [],
   "source": [
    "parameters={\n",
    "    \"learning_rate\":[0.01,0.1,1,0.001],\n",
    "    \"n_estimators\":[100,200,300],\n",
    "    \"max_depth\":[5,10,15]\n",
    "}"
   ]
  },
  {
   "cell_type": "code",
   "execution_count": 22,
   "id": "192af556-1301-407b-a582-800829e4f505",
   "metadata": {},
   "outputs": [],
   "source": [
    "grid=GridSearchCV(estimator=gradient,param_grid=parameters,cv=3,verbose=3)"
   ]
  },
  {
   "cell_type": "code",
   "execution_count": 23,
   "id": "f3472b21-4d9f-4d3d-ac2b-f4efe013eee0",
   "metadata": {},
   "outputs": [
    {
     "name": "stdout",
     "output_type": "stream",
     "text": [
      "Fitting 3 folds for each of 36 candidates, totalling 108 fits\n",
      "[CV 1/3] END learning_rate=0.01, max_depth=5, n_estimators=100;, score=0.796 total time=   0.1s\n",
      "[CV 2/3] END learning_rate=0.01, max_depth=5, n_estimators=100;, score=0.780 total time=   0.1s\n",
      "[CV 3/3] END learning_rate=0.01, max_depth=5, n_estimators=100;, score=0.770 total time=   0.1s\n",
      "[CV 1/3] END learning_rate=0.01, max_depth=5, n_estimators=200;, score=0.900 total time=   0.1s\n",
      "[CV 2/3] END learning_rate=0.01, max_depth=5, n_estimators=200;, score=0.851 total time=   0.1s\n",
      "[CV 3/3] END learning_rate=0.01, max_depth=5, n_estimators=200;, score=0.888 total time=   0.1s\n",
      "[CV 1/3] END learning_rate=0.01, max_depth=5, n_estimators=300;, score=0.922 total time=   0.2s\n",
      "[CV 2/3] END learning_rate=0.01, max_depth=5, n_estimators=300;, score=0.849 total time=   0.2s\n",
      "[CV 3/3] END learning_rate=0.01, max_depth=5, n_estimators=300;, score=0.905 total time=   0.2s\n",
      "[CV 1/3] END learning_rate=0.01, max_depth=10, n_estimators=100;, score=0.791 total time=   0.1s\n",
      "[CV 2/3] END learning_rate=0.01, max_depth=10, n_estimators=100;, score=0.780 total time=   0.1s\n",
      "[CV 3/3] END learning_rate=0.01, max_depth=10, n_estimators=100;, score=0.770 total time=   0.1s\n",
      "[CV 1/3] END learning_rate=0.01, max_depth=10, n_estimators=200;, score=0.893 total time=   0.1s\n",
      "[CV 2/3] END learning_rate=0.01, max_depth=10, n_estimators=200;, score=0.851 total time=   0.1s\n",
      "[CV 3/3] END learning_rate=0.01, max_depth=10, n_estimators=200;, score=0.888 total time=   0.1s\n",
      "[CV 1/3] END learning_rate=0.01, max_depth=10, n_estimators=300;, score=0.914 total time=   0.2s\n",
      "[CV 2/3] END learning_rate=0.01, max_depth=10, n_estimators=300;, score=0.849 total time=   0.2s\n",
      "[CV 3/3] END learning_rate=0.01, max_depth=10, n_estimators=300;, score=0.905 total time=   0.2s\n",
      "[CV 1/3] END learning_rate=0.01, max_depth=15, n_estimators=100;, score=0.793 total time=   0.1s\n",
      "[CV 2/3] END learning_rate=0.01, max_depth=15, n_estimators=100;, score=0.780 total time=   0.1s\n",
      "[CV 3/3] END learning_rate=0.01, max_depth=15, n_estimators=100;, score=0.770 total time=   0.1s\n",
      "[CV 1/3] END learning_rate=0.01, max_depth=15, n_estimators=200;, score=0.903 total time=   0.1s\n",
      "[CV 2/3] END learning_rate=0.01, max_depth=15, n_estimators=200;, score=0.851 total time=   0.1s\n",
      "[CV 3/3] END learning_rate=0.01, max_depth=15, n_estimators=200;, score=0.888 total time=   0.1s\n",
      "[CV 1/3] END learning_rate=0.01, max_depth=15, n_estimators=300;, score=0.915 total time=   0.2s\n",
      "[CV 2/3] END learning_rate=0.01, max_depth=15, n_estimators=300;, score=0.849 total time=   0.2s\n",
      "[CV 3/3] END learning_rate=0.01, max_depth=15, n_estimators=300;, score=0.905 total time=   0.2s\n",
      "[CV 1/3] END learning_rate=0.1, max_depth=5, n_estimators=100;, score=0.912 total time=   0.1s\n",
      "[CV 2/3] END learning_rate=0.1, max_depth=5, n_estimators=100;, score=0.840 total time=   0.1s\n",
      "[CV 3/3] END learning_rate=0.1, max_depth=5, n_estimators=100;, score=0.908 total time=   0.1s\n",
      "[CV 1/3] END learning_rate=0.1, max_depth=5, n_estimators=200;, score=0.907 total time=   0.1s\n",
      "[CV 2/3] END learning_rate=0.1, max_depth=5, n_estimators=200;, score=0.840 total time=   0.1s\n",
      "[CV 3/3] END learning_rate=0.1, max_depth=5, n_estimators=200;, score=0.908 total time=   0.1s\n",
      "[CV 1/3] END learning_rate=0.1, max_depth=5, n_estimators=300;, score=0.921 total time=   0.2s\n",
      "[CV 2/3] END learning_rate=0.1, max_depth=5, n_estimators=300;, score=0.840 total time=   0.2s\n",
      "[CV 3/3] END learning_rate=0.1, max_depth=5, n_estimators=300;, score=0.908 total time=   0.2s\n",
      "[CV 1/3] END learning_rate=0.1, max_depth=10, n_estimators=100;, score=0.911 total time=   0.1s\n",
      "[CV 2/3] END learning_rate=0.1, max_depth=10, n_estimators=100;, score=0.840 total time=   0.1s\n",
      "[CV 3/3] END learning_rate=0.1, max_depth=10, n_estimators=100;, score=0.908 total time=   0.1s\n",
      "[CV 1/3] END learning_rate=0.1, max_depth=10, n_estimators=200;, score=0.933 total time=   0.1s\n",
      "[CV 2/3] END learning_rate=0.1, max_depth=10, n_estimators=200;, score=0.840 total time=   0.1s\n",
      "[CV 3/3] END learning_rate=0.1, max_depth=10, n_estimators=200;, score=0.908 total time=   0.1s\n",
      "[CV 1/3] END learning_rate=0.1, max_depth=10, n_estimators=300;, score=0.924 total time=   0.2s\n",
      "[CV 2/3] END learning_rate=0.1, max_depth=10, n_estimators=300;, score=0.840 total time=   0.2s\n",
      "[CV 3/3] END learning_rate=0.1, max_depth=10, n_estimators=300;, score=0.908 total time=   0.2s\n",
      "[CV 1/3] END learning_rate=0.1, max_depth=15, n_estimators=100;, score=0.923 total time=   0.1s\n",
      "[CV 2/3] END learning_rate=0.1, max_depth=15, n_estimators=100;, score=0.840 total time=   0.1s\n",
      "[CV 3/3] END learning_rate=0.1, max_depth=15, n_estimators=100;, score=0.908 total time=   0.1s\n",
      "[CV 1/3] END learning_rate=0.1, max_depth=15, n_estimators=200;, score=0.895 total time=   0.1s\n",
      "[CV 2/3] END learning_rate=0.1, max_depth=15, n_estimators=200;, score=0.840 total time=   0.1s\n",
      "[CV 3/3] END learning_rate=0.1, max_depth=15, n_estimators=200;, score=0.908 total time=   0.1s\n",
      "[CV 1/3] END learning_rate=0.1, max_depth=15, n_estimators=300;, score=0.907 total time=   0.2s\n",
      "[CV 2/3] END learning_rate=0.1, max_depth=15, n_estimators=300;, score=0.840 total time=   0.2s\n",
      "[CV 3/3] END learning_rate=0.1, max_depth=15, n_estimators=300;, score=0.908 total time=   0.2s\n",
      "[CV 1/3] END learning_rate=1, max_depth=5, n_estimators=100;, score=0.798 total time=   0.1s\n",
      "[CV 2/3] END learning_rate=1, max_depth=5, n_estimators=100;, score=0.840 total time=   0.1s\n",
      "[CV 3/3] END learning_rate=1, max_depth=5, n_estimators=100;, score=0.908 total time=   0.1s\n",
      "[CV 1/3] END learning_rate=1, max_depth=5, n_estimators=200;, score=0.869 total time=   0.1s\n",
      "[CV 2/3] END learning_rate=1, max_depth=5, n_estimators=200;, score=0.840 total time=   0.1s\n",
      "[CV 3/3] END learning_rate=1, max_depth=5, n_estimators=200;, score=0.908 total time=   0.1s\n",
      "[CV 1/3] END learning_rate=1, max_depth=5, n_estimators=300;, score=0.869 total time=   0.2s\n",
      "[CV 2/3] END learning_rate=1, max_depth=5, n_estimators=300;, score=0.840 total time=   0.1s\n",
      "[CV 3/3] END learning_rate=1, max_depth=5, n_estimators=300;, score=0.908 total time=   0.2s\n",
      "[CV 1/3] END learning_rate=1, max_depth=10, n_estimators=100;, score=0.879 total time=   0.1s\n",
      "[CV 2/3] END learning_rate=1, max_depth=10, n_estimators=100;, score=0.840 total time=   0.1s\n",
      "[CV 3/3] END learning_rate=1, max_depth=10, n_estimators=100;, score=0.908 total time=   0.1s\n",
      "[CV 1/3] END learning_rate=1, max_depth=10, n_estimators=200;, score=0.838 total time=   0.1s\n",
      "[CV 2/3] END learning_rate=1, max_depth=10, n_estimators=200;, score=0.840 total time=   0.1s\n",
      "[CV 3/3] END learning_rate=1, max_depth=10, n_estimators=200;, score=0.908 total time=   0.1s\n",
      "[CV 1/3] END learning_rate=1, max_depth=10, n_estimators=300;, score=0.838 total time=   0.2s\n",
      "[CV 2/3] END learning_rate=1, max_depth=10, n_estimators=300;, score=0.840 total time=   0.2s\n",
      "[CV 3/3] END learning_rate=1, max_depth=10, n_estimators=300;, score=0.908 total time=   0.2s\n",
      "[CV 1/3] END learning_rate=1, max_depth=15, n_estimators=100;, score=0.879 total time=   0.1s\n",
      "[CV 2/3] END learning_rate=1, max_depth=15, n_estimators=100;, score=0.840 total time=   0.1s\n",
      "[CV 3/3] END learning_rate=1, max_depth=15, n_estimators=100;, score=0.908 total time=   0.1s\n",
      "[CV 1/3] END learning_rate=1, max_depth=15, n_estimators=200;, score=0.879 total time=   0.1s\n",
      "[CV 2/3] END learning_rate=1, max_depth=15, n_estimators=200;, score=0.840 total time=   0.1s\n",
      "[CV 3/3] END learning_rate=1, max_depth=15, n_estimators=200;, score=0.908 total time=   0.1s\n",
      "[CV 1/3] END learning_rate=1, max_depth=15, n_estimators=300;, score=0.879 total time=   0.2s\n",
      "[CV 2/3] END learning_rate=1, max_depth=15, n_estimators=300;, score=0.840 total time=   0.2s\n",
      "[CV 3/3] END learning_rate=1, max_depth=15, n_estimators=300;, score=0.908 total time=   0.1s\n",
      "[CV 1/3] END learning_rate=0.001, max_depth=5, n_estimators=100;, score=0.135 total time=   0.1s\n",
      "[CV 2/3] END learning_rate=0.001, max_depth=5, n_estimators=100;, score=0.164 total time=   0.1s\n",
      "[CV 3/3] END learning_rate=0.001, max_depth=5, n_estimators=100;, score=0.082 total time=   0.1s\n",
      "[CV 1/3] END learning_rate=0.001, max_depth=5, n_estimators=200;, score=0.276 total time=   0.1s\n",
      "[CV 2/3] END learning_rate=0.001, max_depth=5, n_estimators=200;, score=0.305 total time=   0.1s\n",
      "[CV 3/3] END learning_rate=0.001, max_depth=5, n_estimators=200;, score=0.231 total time=   0.1s\n",
      "[CV 1/3] END learning_rate=0.001, max_depth=5, n_estimators=300;, score=0.393 total time=   0.2s\n",
      "[CV 2/3] END learning_rate=0.001, max_depth=5, n_estimators=300;, score=0.418 total time=   0.2s\n",
      "[CV 3/3] END learning_rate=0.001, max_depth=5, n_estimators=300;, score=0.353 total time=   0.2s\n",
      "[CV 1/3] END learning_rate=0.001, max_depth=10, n_estimators=100;, score=0.135 total time=   0.1s\n",
      "[CV 2/3] END learning_rate=0.001, max_depth=10, n_estimators=100;, score=0.164 total time=   0.1s\n",
      "[CV 3/3] END learning_rate=0.001, max_depth=10, n_estimators=100;, score=0.082 total time=   0.1s\n",
      "[CV 1/3] END learning_rate=0.001, max_depth=10, n_estimators=200;, score=0.280 total time=   0.1s\n",
      "[CV 2/3] END learning_rate=0.001, max_depth=10, n_estimators=200;, score=0.305 total time=   0.1s\n",
      "[CV 3/3] END learning_rate=0.001, max_depth=10, n_estimators=200;, score=0.231 total time=   0.1s\n",
      "[CV 1/3] END learning_rate=0.001, max_depth=10, n_estimators=300;, score=0.396 total time=   0.2s\n",
      "[CV 2/3] END learning_rate=0.001, max_depth=10, n_estimators=300;, score=0.418 total time=   0.2s\n",
      "[CV 3/3] END learning_rate=0.001, max_depth=10, n_estimators=300;, score=0.353 total time=   0.2s\n",
      "[CV 1/3] END learning_rate=0.001, max_depth=15, n_estimators=100;, score=0.136 total time=   0.1s\n",
      "[CV 2/3] END learning_rate=0.001, max_depth=15, n_estimators=100;, score=0.164 total time=   0.1s\n",
      "[CV 3/3] END learning_rate=0.001, max_depth=15, n_estimators=100;, score=0.082 total time=   0.1s\n",
      "[CV 1/3] END learning_rate=0.001, max_depth=15, n_estimators=200;, score=0.279 total time=   0.1s\n",
      "[CV 2/3] END learning_rate=0.001, max_depth=15, n_estimators=200;, score=0.305 total time=   0.1s\n",
      "[CV 3/3] END learning_rate=0.001, max_depth=15, n_estimators=200;, score=0.231 total time=   0.1s\n",
      "[CV 1/3] END learning_rate=0.001, max_depth=15, n_estimators=300;, score=0.396 total time=   0.2s\n",
      "[CV 2/3] END learning_rate=0.001, max_depth=15, n_estimators=300;, score=0.418 total time=   0.2s\n",
      "[CV 3/3] END learning_rate=0.001, max_depth=15, n_estimators=300;, score=0.353 total time=   0.2s\n"
     ]
    },
    {
     "data": {
      "text/html": [
       "<style>#sk-container-id-2 {color: black;background-color: white;}#sk-container-id-2 pre{padding: 0;}#sk-container-id-2 div.sk-toggleable {background-color: white;}#sk-container-id-2 label.sk-toggleable__label {cursor: pointer;display: block;width: 100%;margin-bottom: 0;padding: 0.3em;box-sizing: border-box;text-align: center;}#sk-container-id-2 label.sk-toggleable__label-arrow:before {content: \"▸\";float: left;margin-right: 0.25em;color: #696969;}#sk-container-id-2 label.sk-toggleable__label-arrow:hover:before {color: black;}#sk-container-id-2 div.sk-estimator:hover label.sk-toggleable__label-arrow:before {color: black;}#sk-container-id-2 div.sk-toggleable__content {max-height: 0;max-width: 0;overflow: hidden;text-align: left;background-color: #f0f8ff;}#sk-container-id-2 div.sk-toggleable__content pre {margin: 0.2em;color: black;border-radius: 0.25em;background-color: #f0f8ff;}#sk-container-id-2 input.sk-toggleable__control:checked~div.sk-toggleable__content {max-height: 200px;max-width: 100%;overflow: auto;}#sk-container-id-2 input.sk-toggleable__control:checked~label.sk-toggleable__label-arrow:before {content: \"▾\";}#sk-container-id-2 div.sk-estimator input.sk-toggleable__control:checked~label.sk-toggleable__label {background-color: #d4ebff;}#sk-container-id-2 div.sk-label input.sk-toggleable__control:checked~label.sk-toggleable__label {background-color: #d4ebff;}#sk-container-id-2 input.sk-hidden--visually {border: 0;clip: rect(1px 1px 1px 1px);clip: rect(1px, 1px, 1px, 1px);height: 1px;margin: -1px;overflow: hidden;padding: 0;position: absolute;width: 1px;}#sk-container-id-2 div.sk-estimator {font-family: monospace;background-color: #f0f8ff;border: 1px dotted black;border-radius: 0.25em;box-sizing: border-box;margin-bottom: 0.5em;}#sk-container-id-2 div.sk-estimator:hover {background-color: #d4ebff;}#sk-container-id-2 div.sk-parallel-item::after {content: \"\";width: 100%;border-bottom: 1px solid gray;flex-grow: 1;}#sk-container-id-2 div.sk-label:hover label.sk-toggleable__label {background-color: #d4ebff;}#sk-container-id-2 div.sk-serial::before {content: \"\";position: absolute;border-left: 1px solid gray;box-sizing: border-box;top: 0;bottom: 0;left: 50%;z-index: 0;}#sk-container-id-2 div.sk-serial {display: flex;flex-direction: column;align-items: center;background-color: white;padding-right: 0.2em;padding-left: 0.2em;position: relative;}#sk-container-id-2 div.sk-item {position: relative;z-index: 1;}#sk-container-id-2 div.sk-parallel {display: flex;align-items: stretch;justify-content: center;background-color: white;position: relative;}#sk-container-id-2 div.sk-item::before, #sk-container-id-2 div.sk-parallel-item::before {content: \"\";position: absolute;border-left: 1px solid gray;box-sizing: border-box;top: 0;bottom: 0;left: 50%;z-index: -1;}#sk-container-id-2 div.sk-parallel-item {display: flex;flex-direction: column;z-index: 1;position: relative;background-color: white;}#sk-container-id-2 div.sk-parallel-item:first-child::after {align-self: flex-end;width: 50%;}#sk-container-id-2 div.sk-parallel-item:last-child::after {align-self: flex-start;width: 50%;}#sk-container-id-2 div.sk-parallel-item:only-child::after {width: 0;}#sk-container-id-2 div.sk-dashed-wrapped {border: 1px dashed gray;margin: 0 0.4em 0.5em 0.4em;box-sizing: border-box;padding-bottom: 0.4em;background-color: white;}#sk-container-id-2 div.sk-label label {font-family: monospace;font-weight: bold;display: inline-block;line-height: 1.2em;}#sk-container-id-2 div.sk-label-container {text-align: center;}#sk-container-id-2 div.sk-container {/* jupyter's `normalize.less` sets `[hidden] { display: none; }` but bootstrap.min.css set `[hidden] { display: none !important; }` so we also need the `!important` here to be able to override the default hidden behavior on the sphinx rendered scikit-learn.org. See: https://github.com/scikit-learn/scikit-learn/issues/21755 */display: inline-block !important;position: relative;}#sk-container-id-2 div.sk-text-repr-fallback {display: none;}</style><div id=\"sk-container-id-2\" class=\"sk-top-container\"><div class=\"sk-text-repr-fallback\"><pre>GridSearchCV(cv=3, estimator=GradientBoostingRegressor(),\n",
       "             param_grid={&#x27;learning_rate&#x27;: [0.01, 0.1, 1, 0.001],\n",
       "                         &#x27;max_depth&#x27;: [5, 10, 15],\n",
       "                         &#x27;n_estimators&#x27;: [100, 200, 300]},\n",
       "             verbose=3)</pre><b>In a Jupyter environment, please rerun this cell to show the HTML representation or trust the notebook. <br />On GitHub, the HTML representation is unable to render, please try loading this page with nbviewer.org.</b></div><div class=\"sk-container\" hidden><div class=\"sk-item sk-dashed-wrapped\"><div class=\"sk-label-container\"><div class=\"sk-label sk-toggleable\"><input class=\"sk-toggleable__control sk-hidden--visually\" id=\"sk-estimator-id-2\" type=\"checkbox\" ><label for=\"sk-estimator-id-2\" class=\"sk-toggleable__label sk-toggleable__label-arrow\">GridSearchCV</label><div class=\"sk-toggleable__content\"><pre>GridSearchCV(cv=3, estimator=GradientBoostingRegressor(),\n",
       "             param_grid={&#x27;learning_rate&#x27;: [0.01, 0.1, 1, 0.001],\n",
       "                         &#x27;max_depth&#x27;: [5, 10, 15],\n",
       "                         &#x27;n_estimators&#x27;: [100, 200, 300]},\n",
       "             verbose=3)</pre></div></div></div><div class=\"sk-parallel\"><div class=\"sk-parallel-item\"><div class=\"sk-item\"><div class=\"sk-label-container\"><div class=\"sk-label sk-toggleable\"><input class=\"sk-toggleable__control sk-hidden--visually\" id=\"sk-estimator-id-3\" type=\"checkbox\" ><label for=\"sk-estimator-id-3\" class=\"sk-toggleable__label sk-toggleable__label-arrow\">estimator: GradientBoostingRegressor</label><div class=\"sk-toggleable__content\"><pre>GradientBoostingRegressor()</pre></div></div></div><div class=\"sk-serial\"><div class=\"sk-item\"><div class=\"sk-estimator sk-toggleable\"><input class=\"sk-toggleable__control sk-hidden--visually\" id=\"sk-estimator-id-4\" type=\"checkbox\" ><label for=\"sk-estimator-id-4\" class=\"sk-toggleable__label sk-toggleable__label-arrow\">GradientBoostingRegressor</label><div class=\"sk-toggleable__content\"><pre>GradientBoostingRegressor()</pre></div></div></div></div></div></div></div></div></div></div>"
      ],
      "text/plain": [
       "GridSearchCV(cv=3, estimator=GradientBoostingRegressor(),\n",
       "             param_grid={'learning_rate': [0.01, 0.1, 1, 0.001],\n",
       "                         'max_depth': [5, 10, 15],\n",
       "                         'n_estimators': [100, 200, 300]},\n",
       "             verbose=3)"
      ]
     },
     "execution_count": 23,
     "metadata": {},
     "output_type": "execute_result"
    }
   ],
   "source": [
    "grid.fit(X_train,y_train)"
   ]
  },
  {
   "cell_type": "code",
   "execution_count": 24,
   "id": "8230d345-8921-41c1-9e1c-39ff22292ae5",
   "metadata": {},
   "outputs": [],
   "source": [
    "y_pred=grid.predict(X_test)"
   ]
  },
  {
   "cell_type": "code",
   "execution_count": 25,
   "id": "931c7c95-0221-42f3-81d3-258f7ea1196f",
   "metadata": {},
   "outputs": [
    {
     "name": "stdout",
     "output_type": "stream",
     "text": [
      "1.6812422787480622e-16\n",
      "0.9999999999999998\n"
     ]
    }
   ],
   "source": [
    "print(mean_squared_error(y_test,y_pred))\n",
    "print(r2_score(y_test,y_pred))"
   ]
  },
  {
   "cell_type": "markdown",
   "id": "e62cde63-8f94-49dd-a8d9-b4f068202107",
   "metadata": {},
   "source": [
    "Q4. What is a weak learner in Gradient Boosting?"
   ]
  },
  {
   "cell_type": "markdown",
   "id": "a7d02ca1-55ea-47e9-bc98-f86944e9ac73",
   "metadata": {},
   "source": [
    "All the models we’ve learned so far are Strong Learners — models with the goal of doing as well as possible on the classification or regression task they are given. The term Weak Learner refers to simple models that do only slightly better than random chance. Boosting algorithms start with a single weak learner (tree methods are overwhelmingly used here), but technically, any model will do. Boosting works as follows:\n",
    "\n",
    "1.Train a single weak learner\n",
    "2.Figure out which examples the weak learner got wrong\n",
    "3.Build another weak learner that focuses on the areas the first weak learner got wrong\n",
    "4.Continue this process until a predetermined stopping condition is met, such as until a set number of weak learners have been created, or the model’s performance has plateaued"
   ]
  },
  {
   "cell_type": "markdown",
   "id": "c05c0404-d851-4caf-81b7-d679d8aac4d8",
   "metadata": {},
   "source": [
    "Q5. What is the intuition behind the Gradient Boosting algorithm?"
   ]
  },
  {
   "cell_type": "markdown",
   "id": "27c803f6-cec0-473d-857f-01a91bf50109",
   "metadata": {},
   "source": [
    "The main intuition behind the algorithm is that the best possible next model, when combined with previous models, minimizes the overall prediction error. The key idea is to set the target outcomes for this next model to minimize the error. Let’s understand this with an example of data for the regression problem."
   ]
  },
  {
   "cell_type": "markdown",
   "id": "e55baa6a-a731-4a2b-babe-77b974ac61a1",
   "metadata": {},
   "source": [
    "Q6. How does Gradient Boosting algorithm build an ensemble of weak learners?"
   ]
  },
  {
   "cell_type": "markdown",
   "id": "ad612b94-ffc1-48df-979a-9f6deef3ccdc",
   "metadata": {},
   "source": [
    "The gradient-boosting regressor works by iteratively building an ensemble of weak learners, where each subsequent weak learner is trained to correct the mistakes made by the previous ones. The predictions from all weak learners are combined to make the final prediction."
   ]
  },
  {
   "cell_type": "markdown",
   "id": "5516ab98-f876-4e73-84f2-f8a8f8eed615",
   "metadata": {},
   "source": [
    "Q7. What are the steps involved in constructing the mathematical intuition of Gradient Boosting\n",
    "algorithm?"
   ]
  },
  {
   "cell_type": "markdown",
   "id": "7d0d4a69-0d10-4273-aea2-feeb0ab96fe4",
   "metadata": {},
   "source": [
    "Step 1: Calculate the average/mean of the target variable.\n",
    "Step 2: Calculate the residuals for each sample.\n",
    "Step 3: Construct a decision tree. We build a tree with the goal of predicting the Residuals.\n",
    "Step 4: Predict the target label using all the trees within the ensemble.\n",
    "Compute the new residuals\n",
    "Step 6: Repeat steps 3 to 5 until the number of iterations matches the number specified by the hyper parameter(numbers of estimators)\n",
    "Step 7: Once trained, use all of the trees in the ensemble to make a final prediction as to value of the target variable. The final prediction will be equal to the mean we computed in Step 1 plus all the residuals predicted by the trees that make up the forest multiplied by the learning rate."
   ]
  }
 ],
 "metadata": {
  "kernelspec": {
   "display_name": "Python 3 (ipykernel)",
   "language": "python",
   "name": "python3"
  },
  "language_info": {
   "codemirror_mode": {
    "name": "ipython",
    "version": 3
   },
   "file_extension": ".py",
   "mimetype": "text/x-python",
   "name": "python",
   "nbconvert_exporter": "python",
   "pygments_lexer": "ipython3",
   "version": "3.10.8"
  }
 },
 "nbformat": 4,
 "nbformat_minor": 5
}
